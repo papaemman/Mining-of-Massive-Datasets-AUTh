{
 "cells": [
  {
   "cell_type": "markdown",
   "id": "joint-batch",
   "metadata": {},
   "source": [
    "# Exploratory Data Analysis of graph data"
   ]
  },
  {
   "cell_type": "markdown",
   "id": "chinese-terrorism",
   "metadata": {},
   "source": [
    "**Libraries**\n",
    "\n",
    "1. NetworkX: https://networkx.org/\n",
    "2. scikit-network: https://scikit-network.readthedocs.io/en/latest/"
   ]
  },
  {
   "cell_type": "code",
   "execution_count": 1,
   "id": "horizontal-royal",
   "metadata": {},
   "outputs": [],
   "source": [
    "# Load modules\n",
    "import numpy as np\n",
    "import pandas as pd\n",
    "\n",
    "import matplotlib.pyplot as plt\n",
    "import seaborn as sns\n",
    "sns.set(rc={'figure.figsize':(13,6)})\n",
    "\n",
    "import networkx as nx"
   ]
  },
  {
   "cell_type": "code",
   "execution_count": 2,
   "id": "industrial-wound",
   "metadata": {},
   "outputs": [
    {
     "name": "stdout",
     "output_type": "stream",
     "text": [
      "collins.csv\n",
      "ex.csv\n",
      "ex_header.csv\n",
      "gemsec_facebook_dataset\n"
     ]
    }
   ],
   "source": [
    "%%bash\n",
    "cd ../input\n",
    "ls"
   ]
  },
  {
   "cell_type": "code",
   "execution_count": 3,
   "id": "quantitative-beast",
   "metadata": {},
   "outputs": [],
   "source": [
    "# TODO\n",
    "# - Create synthetic datasets or Find an undirected graph\n",
    "# - Plot graph, degrees distribution, edge prob distributions\n",
    "# - Find central nodes"
   ]
  },
  {
   "cell_type": "markdown",
   "id": "obvious-webmaster",
   "metadata": {},
   "source": [
    "## Datasets"
   ]
  },
  {
   "cell_type": "markdown",
   "id": "basic-center",
   "metadata": {},
   "source": [
    "You are free to use any **probabilistic graph** available. A small dataset will be given. However, since not many\n",
    "real-life probabilistic networks are publicly available, you may work use synthetic datasets as follows: you\n",
    "may take any undirected network and simply assign probabilities to the edges by using a probability\n",
    "distribution such as uniform, normal, power-law, etc.\n",
    "\n",
    "Two excellent repositories for graph data are:\n",
    "1. http://snap.stanford.edu/data/index.html\n",
    "2. http://networkrepository.com/"
   ]
  },
  {
   "cell_type": "markdown",
   "id": "fancy-canal",
   "metadata": {},
   "source": [
    "**Graph Embedding with Self Clustering: Facebook** \n",
    "\n",
    "http://snap.stanford.edu/data/gemsec-Facebook.html"
   ]
  },
  {
   "cell_type": "markdown",
   "id": "popular-mother",
   "metadata": {},
   "source": [
    "# Collins"
   ]
  },
  {
   "cell_type": "code",
   "execution_count": 5,
   "id": "recent-delay",
   "metadata": {},
   "outputs": [],
   "source": [
    "# Load datasets\n",
    "collins_df = pd.read_csv(\"../input/collins.csv\",header=None)"
   ]
  },
  {
   "cell_type": "code",
   "execution_count": 6,
   "id": "apparent-conservation",
   "metadata": {},
   "outputs": [],
   "source": [
    "collins_df.columns = [\"src\",\"dst\", \"probability\"]"
   ]
  },
  {
   "cell_type": "code",
   "execution_count": 7,
   "id": "median-injection",
   "metadata": {},
   "outputs": [
    {
     "data": {
      "text/html": [
       "<div>\n",
       "<style scoped>\n",
       "    .dataframe tbody tr th:only-of-type {\n",
       "        vertical-align: middle;\n",
       "    }\n",
       "\n",
       "    .dataframe tbody tr th {\n",
       "        vertical-align: top;\n",
       "    }\n",
       "\n",
       "    .dataframe thead th {\n",
       "        text-align: right;\n",
       "    }\n",
       "</style>\n",
       "<table border=\"1\" class=\"dataframe\">\n",
       "  <thead>\n",
       "    <tr style=\"text-align: right;\">\n",
       "      <th></th>\n",
       "      <th>src</th>\n",
       "      <th>dst</th>\n",
       "      <th>probability</th>\n",
       "    </tr>\n",
       "  </thead>\n",
       "  <tbody>\n",
       "    <tr>\n",
       "      <th>0</th>\n",
       "      <td>0</td>\n",
       "      <td>1</td>\n",
       "      <td>0.983749</td>\n",
       "    </tr>\n",
       "    <tr>\n",
       "      <th>1</th>\n",
       "      <td>0</td>\n",
       "      <td>2</td>\n",
       "      <td>0.983363</td>\n",
       "    </tr>\n",
       "    <tr>\n",
       "      <th>2</th>\n",
       "      <td>0</td>\n",
       "      <td>3</td>\n",
       "      <td>0.952126</td>\n",
       "    </tr>\n",
       "    <tr>\n",
       "      <th>3</th>\n",
       "      <td>0</td>\n",
       "      <td>4</td>\n",
       "      <td>0.990000</td>\n",
       "    </tr>\n",
       "    <tr>\n",
       "      <th>4</th>\n",
       "      <td>0</td>\n",
       "      <td>5</td>\n",
       "      <td>0.948626</td>\n",
       "    </tr>\n",
       "    <tr>\n",
       "      <th>5</th>\n",
       "      <td>6</td>\n",
       "      <td>7</td>\n",
       "      <td>0.896235</td>\n",
       "    </tr>\n",
       "  </tbody>\n",
       "</table>\n",
       "</div>"
      ],
      "text/plain": [
       "   src  dst  probability\n",
       "0    0    1     0.983749\n",
       "1    0    2     0.983363\n",
       "2    0    3     0.952126\n",
       "3    0    4     0.990000\n",
       "4    0    5     0.948626\n",
       "5    6    7     0.896235"
      ]
     },
     "execution_count": 7,
     "metadata": {},
     "output_type": "execute_result"
    }
   ],
   "source": [
    "collins_df.head(6)"
   ]
  },
  {
   "cell_type": "code",
   "execution_count": 8,
   "id": "personalized-violence",
   "metadata": {},
   "outputs": [
    {
     "data": {
      "text/plain": [
       "(9074, 3)"
      ]
     },
     "execution_count": 8,
     "metadata": {},
     "output_type": "execute_result"
    }
   ],
   "source": [
    "collins_df.shape"
   ]
  },
  {
   "cell_type": "code",
   "execution_count": 9,
   "id": "welsh-yukon",
   "metadata": {},
   "outputs": [
    {
     "data": {
      "image/png": "[encoded data removed]",
      "text/plain": [
       "<Figure size 936x432 with 1 Axes>"
      ]
     },
     "metadata": {},
     "output_type": "display_data"
    }
   ],
   "source": [
    "collins_df[\"probability\"].plot.hist(title=\"Edge Probabilities distribution\", bins=100, xlim=[0,1]);"
   ]
  },
  {
   "cell_type": "code",
   "execution_count": 11,
   "id": "driven-helmet",
   "metadata": {},
   "outputs": [],
   "source": [
    "# Create graph\n",
    "G = nx.from_pandas_edgelist(df=collins_df, source='src', target='dst', edge_attr=\"probability\")"
   ]
  },
  {
   "cell_type": "code",
   "execution_count": 12,
   "id": "collect-reynolds",
   "metadata": {},
   "outputs": [
    {
     "name": "stdout",
     "output_type": "stream",
     "text": [
      " Number of nodes: 1622\n",
      " Number of edges: 9074\n",
      " Is directed?: False\n"
     ]
    }
   ],
   "source": [
    "# Print graph properties\n",
    "print(f\" Number of nodes: {G.number_of_nodes()}\")\n",
    "print(f\" Number of edges: {G.number_of_edges()}\")\n",
    "print(f\" Is directed?: {G.is_directed()}\")"
   ]
  },
  {
   "cell_type": "code",
   "execution_count": 13,
   "id": "native-ability",
   "metadata": {
    "scrolled": true
   },
   "outputs": [],
   "source": [
    "# list(G.nodes)"
   ]
  },
  {
   "cell_type": "code",
   "execution_count": 14,
   "id": "hindu-soundtrack",
   "metadata": {},
   "outputs": [
    {
     "data": {
      "image/png": "[encoded data removed]",
      "text/plain": [
       "<Figure size 936x432 with 1 Axes>"
      ]
     },
     "metadata": {},
     "output_type": "display_data"
    }
   ],
   "source": [
    "# Plot degree distribution\n",
    "plt.hist(dict(G.degree()).values(), bins=100)\n",
    "plt.title(\"Degrees distribution\");"
   ]
  },
  {
   "cell_type": "code",
   "execution_count": 16,
   "id": "dangerous-lloyd",
   "metadata": {},
   "outputs": [],
   "source": [
    "# Plot graph\n",
    "# nx.draw(G)"
   ]
  },
  {
   "cell_type": "code",
   "execution_count": 18,
   "id": "challenging-lesson",
   "metadata": {},
   "outputs": [],
   "source": [
    "# nx.draw_spring(G, node_size=100, node_color=\"#00C98D\", with_labels=False)"
   ]
  },
  {
   "cell_type": "markdown",
   "id": "finished-legend",
   "metadata": {},
   "source": [
    "# Facebook datasets"
   ]
  },
  {
   "cell_type": "code",
   "execution_count": 36,
   "id": "exposed-header",
   "metadata": {},
   "outputs": [],
   "source": [
    "import numpy as np"
   ]
  },
  {
   "cell_type": "code",
   "execution_count": 37,
   "id": "secondary-project",
   "metadata": {},
   "outputs": [],
   "source": [
    "# Load datasets\n",
    "artist_edges_df = pd.read_csv(\"../input/gemsec_facebook_dataset/artist_edges.csv\")"
   ]
  },
  {
   "cell_type": "code",
   "execution_count": 38,
   "id": "nasty-stationery",
   "metadata": {
    "scrolled": true
   },
   "outputs": [
    {
     "data": {
      "text/html": [
       "<div>\n",
       "<style scoped>\n",
       "    .dataframe tbody tr th:only-of-type {\n",
       "        vertical-align: middle;\n",
       "    }\n",
       "\n",
       "    .dataframe tbody tr th {\n",
       "        vertical-align: top;\n",
       "    }\n",
       "\n",
       "    .dataframe thead th {\n",
       "        text-align: right;\n",
       "    }\n",
       "</style>\n",
       "<table border=\"1\" class=\"dataframe\">\n",
       "  <thead>\n",
       "    <tr style=\"text-align: right;\">\n",
       "      <th></th>\n",
       "      <th>node_1</th>\n",
       "      <th>node_2</th>\n",
       "    </tr>\n",
       "  </thead>\n",
       "  <tbody>\n",
       "    <tr>\n",
       "      <th>0</th>\n",
       "      <td>0</td>\n",
       "      <td>1794</td>\n",
       "    </tr>\n",
       "    <tr>\n",
       "      <th>1</th>\n",
       "      <td>0</td>\n",
       "      <td>3102</td>\n",
       "    </tr>\n",
       "    <tr>\n",
       "      <th>2</th>\n",
       "      <td>0</td>\n",
       "      <td>16645</td>\n",
       "    </tr>\n",
       "    <tr>\n",
       "      <th>3</th>\n",
       "      <td>0</td>\n",
       "      <td>23490</td>\n",
       "    </tr>\n",
       "    <tr>\n",
       "      <th>4</th>\n",
       "      <td>0</td>\n",
       "      <td>42128</td>\n",
       "    </tr>\n",
       "  </tbody>\n",
       "</table>\n",
       "</div>"
      ],
      "text/plain": [
       "   node_1  node_2\n",
       "0       0    1794\n",
       "1       0    3102\n",
       "2       0   16645\n",
       "3       0   23490\n",
       "4       0   42128"
      ]
     },
     "execution_count": 38,
     "metadata": {},
     "output_type": "execute_result"
    }
   ],
   "source": [
    "artist_edges_df.head()"
   ]
  },
  {
   "cell_type": "code",
   "execution_count": 39,
   "id": "touched-fortune",
   "metadata": {},
   "outputs": [
    {
     "data": {
      "text/plain": [
       "(819306, 2)"
      ]
     },
     "execution_count": 39,
     "metadata": {},
     "output_type": "execute_result"
    }
   ],
   "source": [
    "# Number of edges\n",
    "artist_edges_df.shape"
   ]
  },
  {
   "cell_type": "code",
   "execution_count": 40,
   "id": "friendly-slovak",
   "metadata": {},
   "outputs": [
    {
     "data": {
      "text/plain": [
       "50515"
      ]
     },
     "execution_count": 40,
     "metadata": {},
     "output_type": "execute_result"
    }
   ],
   "source": [
    "# Number of nodes\n",
    "len(np.unique(np.hstack([artist_edges_df[\"node_1\"].values, artist_edges_df[\"node_2\"].values])))"
   ]
  },
  {
   "cell_type": "markdown",
   "id": "reasonable-evening",
   "metadata": {},
   "source": [
    "**Artist Dataset**\n",
    "- Number of edges : 50,515\n",
    "- Number of nodes : 819,306"
   ]
  },
  {
   "cell_type": "markdown",
   "id": "canadian-matrix",
   "metadata": {},
   "source": [
    "**Probability distributions**\n",
    "\n",
    "1. Uniform\n",
    "2. Normal\n",
    "3. Power-Law"
   ]
  },
  {
   "cell_type": "code",
   "execution_count": 41,
   "id": "internal-supplier",
   "metadata": {},
   "outputs": [
    {
     "name": "stdout",
     "output_type": "stream",
     "text": [
      "Before: (819306, 2)\n",
      "After: (819090, 2)\n"
     ]
    }
   ],
   "source": [
    "# Drop self loops\n",
    "print(\"Before:\", artist_edges_df.shape)\n",
    "artist_edges_df = artist_edges_df[artist_edges_df[\"node_1\"] != artist_edges_df[\"node_2\"]]\n",
    "print(\"After:\", artist_edges_df.shape)"
   ]
  },
  {
   "cell_type": "code",
   "execution_count": 42,
   "id": "weighted-expense",
   "metadata": {},
   "outputs": [
    {
     "data": {
      "text/html": [
       "<div>\n",
       "<style scoped>\n",
       "    .dataframe tbody tr th:only-of-type {\n",
       "        vertical-align: middle;\n",
       "    }\n",
       "\n",
       "    .dataframe tbody tr th {\n",
       "        vertical-align: top;\n",
       "    }\n",
       "\n",
       "    .dataframe thead th {\n",
       "        text-align: right;\n",
       "    }\n",
       "</style>\n",
       "<table border=\"1\" class=\"dataframe\">\n",
       "  <thead>\n",
       "    <tr style=\"text-align: right;\">\n",
       "      <th></th>\n",
       "      <th>node_1</th>\n",
       "      <th>node_2</th>\n",
       "    </tr>\n",
       "  </thead>\n",
       "  <tbody>\n",
       "    <tr>\n",
       "      <th>351808</th>\n",
       "      <td>11760</td>\n",
       "      <td>33016</td>\n",
       "    </tr>\n",
       "    <tr>\n",
       "      <th>351809</th>\n",
       "      <td>11760</td>\n",
       "      <td>759</td>\n",
       "    </tr>\n",
       "    <tr>\n",
       "      <th>351810</th>\n",
       "      <td>11760</td>\n",
       "      <td>47537</td>\n",
       "    </tr>\n",
       "    <tr>\n",
       "      <th>351811</th>\n",
       "      <td>11760</td>\n",
       "      <td>24773</td>\n",
       "    </tr>\n",
       "    <tr>\n",
       "      <th>351812</th>\n",
       "      <td>11760</td>\n",
       "      <td>49623</td>\n",
       "    </tr>\n",
       "    <tr>\n",
       "      <th>351813</th>\n",
       "      <td>11760</td>\n",
       "      <td>18040</td>\n",
       "    </tr>\n",
       "    <tr>\n",
       "      <th>351814</th>\n",
       "      <td>11760</td>\n",
       "      <td>36712</td>\n",
       "    </tr>\n",
       "    <tr>\n",
       "      <th>351816</th>\n",
       "      <td>11760</td>\n",
       "      <td>19419</td>\n",
       "    </tr>\n",
       "    <tr>\n",
       "      <th>351817</th>\n",
       "      <td>11760</td>\n",
       "      <td>47472</td>\n",
       "    </tr>\n",
       "  </tbody>\n",
       "</table>\n",
       "</div>"
      ],
      "text/plain": [
       "        node_1  node_2\n",
       "351808   11760   33016\n",
       "351809   11760     759\n",
       "351810   11760   47537\n",
       "351811   11760   24773\n",
       "351812   11760   49623\n",
       "351813   11760   18040\n",
       "351814   11760   36712\n",
       "351816   11760   19419\n",
       "351817   11760   47472"
      ]
     },
     "execution_count": 42,
     "metadata": {},
     "output_type": "execute_result"
    }
   ],
   "source": [
    "artist_edges_df[artist_edges_df[\"node_1\"]==11760]"
   ]
  },
  {
   "cell_type": "code",
   "execution_count": 43,
   "id": "golden-discharge",
   "metadata": {},
   "outputs": [],
   "source": [
    "## 1. Uniform\n",
    "artist_edges_df[\"probability\"] = np.random.uniform(0,1, size=len(artist_edges_df))"
   ]
  },
  {
   "cell_type": "code",
   "execution_count": 44,
   "id": "abandoned-finger",
   "metadata": {},
   "outputs": [
    {
     "data": {
      "image/png": "[encoded data removed]",
      "text/plain": [
       "<Figure size 432x288 with 1 Axes>"
      ]
     },
     "metadata": {
      "needs_background": "light"
     },
     "output_type": "display_data"
    }
   ],
   "source": [
    "(artist_edges_df[\"probability\"]\n",
    " .plot\n",
    " .hist(title=\"Edge Probabilities distribution (Uniform)\", bins=100, xlim=[0,1]));"
   ]
  },
  {
   "cell_type": "code",
   "execution_count": 45,
   "id": "adolescent-russell",
   "metadata": {},
   "outputs": [],
   "source": [
    "# Save dataset\n",
    "artist_edges_df.to_csv(\"../input/artists_uniform.csv\", index=False, header=False)"
   ]
  },
  {
   "cell_type": "code",
   "execution_count": 46,
   "id": "laden-fundamental",
   "metadata": {},
   "outputs": [],
   "source": [
    "## 2. Normal\n",
    "probs = np.random.normal(0.5, 0.10, size=len(artist_edges_df))\n",
    "probs[probs<0]=0\n",
    "probs[probs>1]=0\n",
    "\n",
    "artist_edges_df[\"probability\"] = probs"
   ]
  },
  {
   "cell_type": "code",
   "execution_count": 47,
   "id": "operating-testing",
   "metadata": {},
   "outputs": [
    {
     "data": {
      "image/png": "[encoded data removed]",
      "text/plain": [
       "<Figure size 432x288 with 1 Axes>"
      ]
     },
     "metadata": {
      "needs_background": "light"
     },
     "output_type": "display_data"
    }
   ],
   "source": [
    "(artist_edges_df[\"probability\"]\n",
    " .plot\n",
    " .hist(title=\"Edge Probabilities distribution (Normal)\", bins=100, xlim=[0,1]));"
   ]
  },
  {
   "cell_type": "code",
   "execution_count": 48,
   "id": "dangerous-cigarette",
   "metadata": {},
   "outputs": [],
   "source": [
    "# Save dataset\n",
    "artist_edges_df.to_csv(\"../input/artists_normal.csv\", index=False, header=False)"
   ]
  },
  {
   "cell_type": "code",
   "execution_count": 49,
   "id": "promotional-lunch",
   "metadata": {},
   "outputs": [],
   "source": [
    "## 3. Power Law\n",
    "probs = np.random.power(0.7, size=len(artist_edges_df))\n",
    "probs[probs<0]=0\n",
    "probs[probs>1]=0\n",
    "\n",
    "artist_edges_df[\"probability\"] = probs"
   ]
  },
  {
   "cell_type": "code",
   "execution_count": 50,
   "id": "blank-tours",
   "metadata": {},
   "outputs": [
    {
     "data": {
      "image/png": "[encoded data removed]",
      "text/plain": [
       "<Figure size 432x288 with 1 Axes>"
      ]
     },
     "metadata": {
      "needs_background": "light"
     },
     "output_type": "display_data"
    }
   ],
   "source": [
    "(artist_edges_df[\"probability\"]\n",
    " .plot\n",
    " .hist(title=\"Edge Probabilities distribution (Power Law)\", bins=100, xlim=[0,1]));"
   ]
  },
  {
   "cell_type": "code",
   "execution_count": 51,
   "id": "black-singing",
   "metadata": {},
   "outputs": [],
   "source": [
    "# Save dataset\n",
    "artist_edges_df.to_csv(\"../input/artists_power_law.csv\", index=False, header=False)"
   ]
  },
  {
   "cell_type": "markdown",
   "id": "corrected-carroll",
   "metadata": {},
   "source": [
    "# Experiment results"
   ]
  },
  {
   "cell_type": "code",
   "execution_count": 4,
   "id": "accurate-findings",
   "metadata": {},
   "outputs": [],
   "source": [
    "import plotly.express as px\n",
    "import pandas as pd"
   ]
  },
  {
   "cell_type": "code",
   "execution_count": 5,
   "id": "enclosed-slope",
   "metadata": {},
   "outputs": [],
   "source": [
    "experiments_df = pd.read_csv(\"../experiments.csv\")\n",
    "# experiments_df = experiments_df = pd.read_csv(\"../experiments_collins.csv\")"
   ]
  },
  {
   "cell_type": "code",
   "execution_count": 6,
   "id": "known-greensboro",
   "metadata": {
    "scrolled": true
   },
   "outputs": [
    {
     "data": {
      "text/html": [
       "<div>\n",
       "<style scoped>\n",
       "    .dataframe tbody tr th:only-of-type {\n",
       "        vertical-align: middle;\n",
       "    }\n",
       "\n",
       "    .dataframe tbody tr th {\n",
       "        vertical-align: top;\n",
       "    }\n",
       "\n",
       "    .dataframe thead th {\n",
       "        text-align: right;\n",
       "    }\n",
       "</style>\n",
       "<table border=\"1\" class=\"dataframe\">\n",
       "  <thead>\n",
       "    <tr style=\"text-align: right;\">\n",
       "      <th></th>\n",
       "      <th>script</th>\n",
       "      <th>cores</th>\n",
       "      <th>dataset</th>\n",
       "      <th>k</th>\n",
       "      <th>time</th>\n",
       "    </tr>\n",
       "  </thead>\n",
       "  <tbody>\n",
       "    <tr>\n",
       "      <th>0</th>\n",
       "      <td>src/graphframe_bs.py</td>\n",
       "      <td>1</td>\n",
       "      <td>artists_uniform</td>\n",
       "      <td>10</td>\n",
       "      <td>177.281049</td>\n",
       "    </tr>\n",
       "    <tr>\n",
       "      <th>1</th>\n",
       "      <td>src/graphframe_bs.py</td>\n",
       "      <td>1</td>\n",
       "      <td>artists_uniform</td>\n",
       "      <td>100</td>\n",
       "      <td>165.024193</td>\n",
       "    </tr>\n",
       "    <tr>\n",
       "      <th>2</th>\n",
       "      <td>src/graphframe_bs.py</td>\n",
       "      <td>1</td>\n",
       "      <td>artists_uniform</td>\n",
       "      <td>1000</td>\n",
       "      <td>199.889615</td>\n",
       "    </tr>\n",
       "    <tr>\n",
       "      <th>3</th>\n",
       "      <td>src/graphframe_bs.py</td>\n",
       "      <td>2</td>\n",
       "      <td>artists_uniform</td>\n",
       "      <td>10</td>\n",
       "      <td>120.593478</td>\n",
       "    </tr>\n",
       "    <tr>\n",
       "      <th>4</th>\n",
       "      <td>src/graphframe_bs.py</td>\n",
       "      <td>2</td>\n",
       "      <td>artists_uniform</td>\n",
       "      <td>100</td>\n",
       "      <td>109.266874</td>\n",
       "    </tr>\n",
       "  </tbody>\n",
       "</table>\n",
       "</div>"
      ],
      "text/plain": [
       "                 script  cores          dataset     k        time\n",
       "0  src/graphframe_bs.py      1  artists_uniform    10  177.281049\n",
       "1  src/graphframe_bs.py      1  artists_uniform   100  165.024193\n",
       "2  src/graphframe_bs.py      1  artists_uniform  1000  199.889615\n",
       "3  src/graphframe_bs.py      2  artists_uniform    10  120.593478\n",
       "4  src/graphframe_bs.py      2  artists_uniform   100  109.266874"
      ]
     },
     "execution_count": 6,
     "metadata": {},
     "output_type": "execute_result"
    }
   ],
   "source": [
    "experiments_df.head()"
   ]
  },
  {
   "cell_type": "code",
   "execution_count": 22,
   "id": "elegant-vegetation",
   "metadata": {
    "scrolled": true
   },
   "outputs": [
    {
     "data": {
      "text/html": [
       "<div>\n",
       "<style scoped>\n",
       "    .dataframe tbody tr th:only-of-type {\n",
       "        vertical-align: middle;\n",
       "    }\n",
       "\n",
       "    .dataframe tbody tr th {\n",
       "        vertical-align: top;\n",
       "    }\n",
       "\n",
       "    .dataframe thead th {\n",
       "        text-align: right;\n",
       "    }\n",
       "</style>\n",
       "<table border=\"1\" class=\"dataframe\">\n",
       "  <thead>\n",
       "    <tr style=\"text-align: right;\">\n",
       "      <th></th>\n",
       "      <th>script</th>\n",
       "      <th>cores</th>\n",
       "      <th>dataset</th>\n",
       "      <th>k</th>\n",
       "      <th>time</th>\n",
       "    </tr>\n",
       "  </thead>\n",
       "  <tbody>\n",
       "    <tr>\n",
       "      <th>0</th>\n",
       "      <td>src/graphframe_bs.py</td>\n",
       "      <td>1</td>\n",
       "      <td>artists_uniform</td>\n",
       "      <td>10</td>\n",
       "      <td>177.281049</td>\n",
       "    </tr>\n",
       "    <tr>\n",
       "      <th>1</th>\n",
       "      <td>src/graphframe_bs.py</td>\n",
       "      <td>1</td>\n",
       "      <td>artists_uniform</td>\n",
       "      <td>100</td>\n",
       "      <td>165.024193</td>\n",
       "    </tr>\n",
       "    <tr>\n",
       "      <th>2</th>\n",
       "      <td>src/graphframe_bs.py</td>\n",
       "      <td>1</td>\n",
       "      <td>artists_uniform</td>\n",
       "      <td>1000</td>\n",
       "      <td>199.889615</td>\n",
       "    </tr>\n",
       "    <tr>\n",
       "      <th>3</th>\n",
       "      <td>src/graphframe_bs.py</td>\n",
       "      <td>2</td>\n",
       "      <td>artists_uniform</td>\n",
       "      <td>10</td>\n",
       "      <td>120.593478</td>\n",
       "    </tr>\n",
       "    <tr>\n",
       "      <th>4</th>\n",
       "      <td>src/graphframe_bs.py</td>\n",
       "      <td>2</td>\n",
       "      <td>artists_uniform</td>\n",
       "      <td>100</td>\n",
       "      <td>109.266874</td>\n",
       "    </tr>\n",
       "    <tr>\n",
       "      <th>5</th>\n",
       "      <td>src/graphframe_bs.py</td>\n",
       "      <td>2</td>\n",
       "      <td>artists_uniform</td>\n",
       "      <td>1000</td>\n",
       "      <td>102.844088</td>\n",
       "    </tr>\n",
       "    <tr>\n",
       "      <th>6</th>\n",
       "      <td>src/graphframe_bs.py</td>\n",
       "      <td>8</td>\n",
       "      <td>artists_uniform</td>\n",
       "      <td>10</td>\n",
       "      <td>80.654411</td>\n",
       "    </tr>\n",
       "    <tr>\n",
       "      <th>7</th>\n",
       "      <td>src/graphframe_bs.py</td>\n",
       "      <td>8</td>\n",
       "      <td>artists_uniform</td>\n",
       "      <td>100</td>\n",
       "      <td>84.338148</td>\n",
       "    </tr>\n",
       "    <tr>\n",
       "      <th>8</th>\n",
       "      <td>src/graphframe_bs.py</td>\n",
       "      <td>8</td>\n",
       "      <td>artists_uniform</td>\n",
       "      <td>1000</td>\n",
       "      <td>93.380127</td>\n",
       "    </tr>\n",
       "    <tr>\n",
       "      <th>9</th>\n",
       "      <td>src/graphframe_bs.py</td>\n",
       "      <td>1</td>\n",
       "      <td>artists_normal</td>\n",
       "      <td>10</td>\n",
       "      <td>167.719546</td>\n",
       "    </tr>\n",
       "    <tr>\n",
       "      <th>10</th>\n",
       "      <td>src/graphframe_bs.py</td>\n",
       "      <td>1</td>\n",
       "      <td>artists_normal</td>\n",
       "      <td>100</td>\n",
       "      <td>176.160178</td>\n",
       "    </tr>\n",
       "    <tr>\n",
       "      <th>11</th>\n",
       "      <td>src/graphframe_bs.py</td>\n",
       "      <td>1</td>\n",
       "      <td>artists_normal</td>\n",
       "      <td>1000</td>\n",
       "      <td>163.452229</td>\n",
       "    </tr>\n",
       "    <tr>\n",
       "      <th>12</th>\n",
       "      <td>src/graphframe_bs.py</td>\n",
       "      <td>2</td>\n",
       "      <td>artists_normal</td>\n",
       "      <td>10</td>\n",
       "      <td>101.967168</td>\n",
       "    </tr>\n",
       "    <tr>\n",
       "      <th>13</th>\n",
       "      <td>src/graphframe_bs.py</td>\n",
       "      <td>2</td>\n",
       "      <td>artists_normal</td>\n",
       "      <td>100</td>\n",
       "      <td>108.684920</td>\n",
       "    </tr>\n",
       "    <tr>\n",
       "      <th>14</th>\n",
       "      <td>src/graphframe_bs.py</td>\n",
       "      <td>2</td>\n",
       "      <td>artists_normal</td>\n",
       "      <td>1000</td>\n",
       "      <td>107.025098</td>\n",
       "    </tr>\n",
       "    <tr>\n",
       "      <th>15</th>\n",
       "      <td>src/graphframe_bs.py</td>\n",
       "      <td>8</td>\n",
       "      <td>artists_normal</td>\n",
       "      <td>10</td>\n",
       "      <td>90.410694</td>\n",
       "    </tr>\n",
       "    <tr>\n",
       "      <th>16</th>\n",
       "      <td>src/graphframe_bs.py</td>\n",
       "      <td>8</td>\n",
       "      <td>artists_normal</td>\n",
       "      <td>100</td>\n",
       "      <td>87.181818</td>\n",
       "    </tr>\n",
       "    <tr>\n",
       "      <th>17</th>\n",
       "      <td>src/graphframe_bs.py</td>\n",
       "      <td>8</td>\n",
       "      <td>artists_normal</td>\n",
       "      <td>1000</td>\n",
       "      <td>93.275067</td>\n",
       "    </tr>\n",
       "    <tr>\n",
       "      <th>18</th>\n",
       "      <td>src/rdd_bs.py</td>\n",
       "      <td>1</td>\n",
       "      <td>artists_uniform</td>\n",
       "      <td>10</td>\n",
       "      <td>1097.727499</td>\n",
       "    </tr>\n",
       "    <tr>\n",
       "      <th>19</th>\n",
       "      <td>src/rdd_bs.py</td>\n",
       "      <td>1</td>\n",
       "      <td>artists_uniform</td>\n",
       "      <td>100</td>\n",
       "      <td>1171.640849</td>\n",
       "    </tr>\n",
       "    <tr>\n",
       "      <th>20</th>\n",
       "      <td>src/rdd_bs.py</td>\n",
       "      <td>1</td>\n",
       "      <td>artists_uniform</td>\n",
       "      <td>1000</td>\n",
       "      <td>1066.536771</td>\n",
       "    </tr>\n",
       "    <tr>\n",
       "      <th>21</th>\n",
       "      <td>src/rdd_bs.py</td>\n",
       "      <td>2</td>\n",
       "      <td>artists_uniform</td>\n",
       "      <td>10</td>\n",
       "      <td>748.675190</td>\n",
       "    </tr>\n",
       "    <tr>\n",
       "      <th>22</th>\n",
       "      <td>src/rdd_bs.py</td>\n",
       "      <td>2</td>\n",
       "      <td>artists_uniform</td>\n",
       "      <td>100</td>\n",
       "      <td>820.421898</td>\n",
       "    </tr>\n",
       "    <tr>\n",
       "      <th>23</th>\n",
       "      <td>src/rdd_bs.py</td>\n",
       "      <td>2</td>\n",
       "      <td>artists_uniform</td>\n",
       "      <td>1000</td>\n",
       "      <td>812.861966</td>\n",
       "    </tr>\n",
       "    <tr>\n",
       "      <th>24</th>\n",
       "      <td>src/rdd_bs.py</td>\n",
       "      <td>8</td>\n",
       "      <td>artists_uniform</td>\n",
       "      <td>10</td>\n",
       "      <td>799.912923</td>\n",
       "    </tr>\n",
       "    <tr>\n",
       "      <th>25</th>\n",
       "      <td>src/rdd_bs.py</td>\n",
       "      <td>8</td>\n",
       "      <td>artists_uniform</td>\n",
       "      <td>100</td>\n",
       "      <td>827.806458</td>\n",
       "    </tr>\n",
       "    <tr>\n",
       "      <th>26</th>\n",
       "      <td>src/rdd_fast.py</td>\n",
       "      <td>1</td>\n",
       "      <td>artists_uniform</td>\n",
       "      <td>10</td>\n",
       "      <td>188.566721</td>\n",
       "    </tr>\n",
       "    <tr>\n",
       "      <th>27</th>\n",
       "      <td>src/rdd_fast.py</td>\n",
       "      <td>1</td>\n",
       "      <td>artists_uniform</td>\n",
       "      <td>100</td>\n",
       "      <td>188.831481</td>\n",
       "    </tr>\n",
       "    <tr>\n",
       "      <th>28</th>\n",
       "      <td>src/rdd_fast.py</td>\n",
       "      <td>1</td>\n",
       "      <td>artists_uniform</td>\n",
       "      <td>1000</td>\n",
       "      <td>202.945331</td>\n",
       "    </tr>\n",
       "    <tr>\n",
       "      <th>29</th>\n",
       "      <td>src/rdd_fast.py</td>\n",
       "      <td>2</td>\n",
       "      <td>artists_uniform</td>\n",
       "      <td>10</td>\n",
       "      <td>82.916295</td>\n",
       "    </tr>\n",
       "    <tr>\n",
       "      <th>30</th>\n",
       "      <td>src/rdd_fast.py</td>\n",
       "      <td>2</td>\n",
       "      <td>artists_uniform</td>\n",
       "      <td>100</td>\n",
       "      <td>78.713129</td>\n",
       "    </tr>\n",
       "    <tr>\n",
       "      <th>31</th>\n",
       "      <td>src/rdd_fast.py</td>\n",
       "      <td>2</td>\n",
       "      <td>artists_uniform</td>\n",
       "      <td>1000</td>\n",
       "      <td>75.499604</td>\n",
       "    </tr>\n",
       "    <tr>\n",
       "      <th>32</th>\n",
       "      <td>src/rdd_fast.py</td>\n",
       "      <td>8</td>\n",
       "      <td>artists_uniform</td>\n",
       "      <td>10</td>\n",
       "      <td>64.929034</td>\n",
       "    </tr>\n",
       "    <tr>\n",
       "      <th>33</th>\n",
       "      <td>src/rdd_fast.py</td>\n",
       "      <td>8</td>\n",
       "      <td>artists_uniform</td>\n",
       "      <td>100</td>\n",
       "      <td>66.680618</td>\n",
       "    </tr>\n",
       "    <tr>\n",
       "      <th>34</th>\n",
       "      <td>src/rdd_fast.py</td>\n",
       "      <td>8</td>\n",
       "      <td>artists_uniform</td>\n",
       "      <td>1000</td>\n",
       "      <td>65.747066</td>\n",
       "    </tr>\n",
       "    <tr>\n",
       "      <th>35</th>\n",
       "      <td>src/rdd_bs.py</td>\n",
       "      <td>8</td>\n",
       "      <td>artists_uniform</td>\n",
       "      <td>1000</td>\n",
       "      <td>950.067379</td>\n",
       "    </tr>\n",
       "    <tr>\n",
       "      <th>36</th>\n",
       "      <td>src/rdd_fast.py</td>\n",
       "      <td>1</td>\n",
       "      <td>artists_uniform</td>\n",
       "      <td>10</td>\n",
       "      <td>133.640411</td>\n",
       "    </tr>\n",
       "    <tr>\n",
       "      <th>37</th>\n",
       "      <td>src/rdd_fast.py</td>\n",
       "      <td>1</td>\n",
       "      <td>artists_uniform</td>\n",
       "      <td>100</td>\n",
       "      <td>129.049298</td>\n",
       "    </tr>\n",
       "    <tr>\n",
       "      <th>38</th>\n",
       "      <td>src/rdd_fast.py</td>\n",
       "      <td>1</td>\n",
       "      <td>artists_uniform</td>\n",
       "      <td>1000</td>\n",
       "      <td>127.319215</td>\n",
       "    </tr>\n",
       "    <tr>\n",
       "      <th>39</th>\n",
       "      <td>src/rdd_fast.py</td>\n",
       "      <td>2</td>\n",
       "      <td>artists_uniform</td>\n",
       "      <td>10</td>\n",
       "      <td>52.702284</td>\n",
       "    </tr>\n",
       "    <tr>\n",
       "      <th>40</th>\n",
       "      <td>src/rdd_fast.py</td>\n",
       "      <td>2</td>\n",
       "      <td>artists_uniform</td>\n",
       "      <td>100</td>\n",
       "      <td>52.467052</td>\n",
       "    </tr>\n",
       "    <tr>\n",
       "      <th>41</th>\n",
       "      <td>src/rdd_fast.py</td>\n",
       "      <td>2</td>\n",
       "      <td>artists_uniform</td>\n",
       "      <td>1000</td>\n",
       "      <td>55.132282</td>\n",
       "    </tr>\n",
       "    <tr>\n",
       "      <th>42</th>\n",
       "      <td>src/rdd_fast.py</td>\n",
       "      <td>8</td>\n",
       "      <td>artists_uniform</td>\n",
       "      <td>10</td>\n",
       "      <td>48.010360</td>\n",
       "    </tr>\n",
       "    <tr>\n",
       "      <th>43</th>\n",
       "      <td>src/rdd_fast.py</td>\n",
       "      <td>8</td>\n",
       "      <td>artists_uniform</td>\n",
       "      <td>100</td>\n",
       "      <td>49.369473</td>\n",
       "    </tr>\n",
       "    <tr>\n",
       "      <th>44</th>\n",
       "      <td>src/rdd_fast.py</td>\n",
       "      <td>8</td>\n",
       "      <td>artists_uniform</td>\n",
       "      <td>1000</td>\n",
       "      <td>48.863475</td>\n",
       "    </tr>\n",
       "    <tr>\n",
       "      <th>45</th>\n",
       "      <td>src/rdd_bs.py</td>\n",
       "      <td>1</td>\n",
       "      <td>artists_normal</td>\n",
       "      <td>10</td>\n",
       "      <td>1094.220197</td>\n",
       "    </tr>\n",
       "    <tr>\n",
       "      <th>46</th>\n",
       "      <td>src/rdd_bs.py</td>\n",
       "      <td>1</td>\n",
       "      <td>artists_normal</td>\n",
       "      <td>100</td>\n",
       "      <td>1039.612015</td>\n",
       "    </tr>\n",
       "  </tbody>\n",
       "</table>\n",
       "</div>"
      ],
      "text/plain": [
       "                  script  cores          dataset     k         time\n",
       "0   src/graphframe_bs.py      1  artists_uniform    10   177.281049\n",
       "1   src/graphframe_bs.py      1  artists_uniform   100   165.024193\n",
       "2   src/graphframe_bs.py      1  artists_uniform  1000   199.889615\n",
       "3   src/graphframe_bs.py      2  artists_uniform    10   120.593478\n",
       "4   src/graphframe_bs.py      2  artists_uniform   100   109.266874\n",
       "5   src/graphframe_bs.py      2  artists_uniform  1000   102.844088\n",
       "6   src/graphframe_bs.py      8  artists_uniform    10    80.654411\n",
       "7   src/graphframe_bs.py      8  artists_uniform   100    84.338148\n",
       "8   src/graphframe_bs.py      8  artists_uniform  1000    93.380127\n",
       "9   src/graphframe_bs.py      1   artists_normal    10   167.719546\n",
       "10  src/graphframe_bs.py      1   artists_normal   100   176.160178\n",
       "11  src/graphframe_bs.py      1   artists_normal  1000   163.452229\n",
       "12  src/graphframe_bs.py      2   artists_normal    10   101.967168\n",
       "13  src/graphframe_bs.py      2   artists_normal   100   108.684920\n",
       "14  src/graphframe_bs.py      2   artists_normal  1000   107.025098\n",
       "15  src/graphframe_bs.py      8   artists_normal    10    90.410694\n",
       "16  src/graphframe_bs.py      8   artists_normal   100    87.181818\n",
       "17  src/graphframe_bs.py      8   artists_normal  1000    93.275067\n",
       "18         src/rdd_bs.py      1  artists_uniform    10  1097.727499\n",
       "19         src/rdd_bs.py      1  artists_uniform   100  1171.640849\n",
       "20         src/rdd_bs.py      1  artists_uniform  1000  1066.536771\n",
       "21         src/rdd_bs.py      2  artists_uniform    10   748.675190\n",
       "22         src/rdd_bs.py      2  artists_uniform   100   820.421898\n",
       "23         src/rdd_bs.py      2  artists_uniform  1000   812.861966\n",
       "24         src/rdd_bs.py      8  artists_uniform    10   799.912923\n",
       "25         src/rdd_bs.py      8  artists_uniform   100   827.806458\n",
       "26       src/rdd_fast.py      1  artists_uniform    10   188.566721\n",
       "27       src/rdd_fast.py      1  artists_uniform   100   188.831481\n",
       "28       src/rdd_fast.py      1  artists_uniform  1000   202.945331\n",
       "29       src/rdd_fast.py      2  artists_uniform    10    82.916295\n",
       "30       src/rdd_fast.py      2  artists_uniform   100    78.713129\n",
       "31       src/rdd_fast.py      2  artists_uniform  1000    75.499604\n",
       "32       src/rdd_fast.py      8  artists_uniform    10    64.929034\n",
       "33       src/rdd_fast.py      8  artists_uniform   100    66.680618\n",
       "34       src/rdd_fast.py      8  artists_uniform  1000    65.747066\n",
       "35         src/rdd_bs.py      8  artists_uniform  1000   950.067379\n",
       "36       src/rdd_fast.py      1  artists_uniform    10   133.640411\n",
       "37       src/rdd_fast.py      1  artists_uniform   100   129.049298\n",
       "38       src/rdd_fast.py      1  artists_uniform  1000   127.319215\n",
       "39       src/rdd_fast.py      2  artists_uniform    10    52.702284\n",
       "40       src/rdd_fast.py      2  artists_uniform   100    52.467052\n",
       "41       src/rdd_fast.py      2  artists_uniform  1000    55.132282\n",
       "42       src/rdd_fast.py      8  artists_uniform    10    48.010360\n",
       "43       src/rdd_fast.py      8  artists_uniform   100    49.369473\n",
       "44       src/rdd_fast.py      8  artists_uniform  1000    48.863475\n",
       "45         src/rdd_bs.py      1   artists_normal    10  1094.220197\n",
       "46         src/rdd_bs.py      1   artists_normal   100  1039.612015"
      ]
     },
     "execution_count": 22,
     "metadata": {},
     "output_type": "execute_result"
    }
   ],
   "source": [
    "experiments_df"
   ]
  },
  {
   "cell_type": "code",
   "execution_count": 10,
   "id": "copyrighted-introduction",
   "metadata": {},
   "outputs": [
    {
     "data": {
      "text/html": [
       "<div>\n",
       "<style scoped>\n",
       "    .dataframe tbody tr th:only-of-type {\n",
       "        vertical-align: middle;\n",
       "    }\n",
       "\n",
       "    .dataframe tbody tr th {\n",
       "        vertical-align: top;\n",
       "    }\n",
       "\n",
       "    .dataframe thead th {\n",
       "        text-align: right;\n",
       "    }\n",
       "</style>\n",
       "<table border=\"1\" class=\"dataframe\">\n",
       "  <thead>\n",
       "    <tr style=\"text-align: right;\">\n",
       "      <th></th>\n",
       "      <th>script</th>\n",
       "      <th>cores</th>\n",
       "      <th>dataset</th>\n",
       "      <th>k</th>\n",
       "      <th>time</th>\n",
       "    </tr>\n",
       "  </thead>\n",
       "  <tbody>\n",
       "    <tr>\n",
       "      <th>0</th>\n",
       "      <td>src/graphframe_bs.py</td>\n",
       "      <td>1</td>\n",
       "      <td>artists_uniform</td>\n",
       "      <td>10</td>\n",
       "      <td>177.281049</td>\n",
       "    </tr>\n",
       "    <tr>\n",
       "      <th>1</th>\n",
       "      <td>src/graphframe_bs.py</td>\n",
       "      <td>1</td>\n",
       "      <td>artists_uniform</td>\n",
       "      <td>100</td>\n",
       "      <td>165.024193</td>\n",
       "    </tr>\n",
       "    <tr>\n",
       "      <th>2</th>\n",
       "      <td>src/graphframe_bs.py</td>\n",
       "      <td>1</td>\n",
       "      <td>artists_uniform</td>\n",
       "      <td>1000</td>\n",
       "      <td>199.889615</td>\n",
       "    </tr>\n",
       "    <tr>\n",
       "      <th>3</th>\n",
       "      <td>src/graphframe_bs.py</td>\n",
       "      <td>2</td>\n",
       "      <td>artists_uniform</td>\n",
       "      <td>10</td>\n",
       "      <td>120.593478</td>\n",
       "    </tr>\n",
       "    <tr>\n",
       "      <th>4</th>\n",
       "      <td>src/graphframe_bs.py</td>\n",
       "      <td>2</td>\n",
       "      <td>artists_uniform</td>\n",
       "      <td>100</td>\n",
       "      <td>109.266874</td>\n",
       "    </tr>\n",
       "    <tr>\n",
       "      <th>5</th>\n",
       "      <td>src/graphframe_bs.py</td>\n",
       "      <td>2</td>\n",
       "      <td>artists_uniform</td>\n",
       "      <td>1000</td>\n",
       "      <td>102.844088</td>\n",
       "    </tr>\n",
       "    <tr>\n",
       "      <th>6</th>\n",
       "      <td>src/graphframe_bs.py</td>\n",
       "      <td>8</td>\n",
       "      <td>artists_uniform</td>\n",
       "      <td>10</td>\n",
       "      <td>80.654411</td>\n",
       "    </tr>\n",
       "    <tr>\n",
       "      <th>7</th>\n",
       "      <td>src/graphframe_bs.py</td>\n",
       "      <td>8</td>\n",
       "      <td>artists_uniform</td>\n",
       "      <td>100</td>\n",
       "      <td>84.338148</td>\n",
       "    </tr>\n",
       "    <tr>\n",
       "      <th>8</th>\n",
       "      <td>src/graphframe_bs.py</td>\n",
       "      <td>8</td>\n",
       "      <td>artists_uniform</td>\n",
       "      <td>1000</td>\n",
       "      <td>93.380127</td>\n",
       "    </tr>\n",
       "    <tr>\n",
       "      <th>18</th>\n",
       "      <td>src/rdd_bs.py</td>\n",
       "      <td>1</td>\n",
       "      <td>artists_uniform</td>\n",
       "      <td>10</td>\n",
       "      <td>1097.727499</td>\n",
       "    </tr>\n",
       "    <tr>\n",
       "      <th>19</th>\n",
       "      <td>src/rdd_bs.py</td>\n",
       "      <td>1</td>\n",
       "      <td>artists_uniform</td>\n",
       "      <td>100</td>\n",
       "      <td>1171.640849</td>\n",
       "    </tr>\n",
       "    <tr>\n",
       "      <th>20</th>\n",
       "      <td>src/rdd_bs.py</td>\n",
       "      <td>1</td>\n",
       "      <td>artists_uniform</td>\n",
       "      <td>1000</td>\n",
       "      <td>1066.536771</td>\n",
       "    </tr>\n",
       "    <tr>\n",
       "      <th>21</th>\n",
       "      <td>src/rdd_bs.py</td>\n",
       "      <td>2</td>\n",
       "      <td>artists_uniform</td>\n",
       "      <td>10</td>\n",
       "      <td>748.675190</td>\n",
       "    </tr>\n",
       "    <tr>\n",
       "      <th>22</th>\n",
       "      <td>src/rdd_bs.py</td>\n",
       "      <td>2</td>\n",
       "      <td>artists_uniform</td>\n",
       "      <td>100</td>\n",
       "      <td>820.421898</td>\n",
       "    </tr>\n",
       "    <tr>\n",
       "      <th>23</th>\n",
       "      <td>src/rdd_bs.py</td>\n",
       "      <td>2</td>\n",
       "      <td>artists_uniform</td>\n",
       "      <td>1000</td>\n",
       "      <td>812.861966</td>\n",
       "    </tr>\n",
       "    <tr>\n",
       "      <th>24</th>\n",
       "      <td>src/rdd_bs.py</td>\n",
       "      <td>8</td>\n",
       "      <td>artists_uniform</td>\n",
       "      <td>10</td>\n",
       "      <td>799.912923</td>\n",
       "    </tr>\n",
       "    <tr>\n",
       "      <th>25</th>\n",
       "      <td>src/rdd_bs.py</td>\n",
       "      <td>8</td>\n",
       "      <td>artists_uniform</td>\n",
       "      <td>100</td>\n",
       "      <td>827.806458</td>\n",
       "    </tr>\n",
       "    <tr>\n",
       "      <th>26</th>\n",
       "      <td>src/rdd_fast.py</td>\n",
       "      <td>1</td>\n",
       "      <td>artists_uniform</td>\n",
       "      <td>10</td>\n",
       "      <td>188.566721</td>\n",
       "    </tr>\n",
       "    <tr>\n",
       "      <th>27</th>\n",
       "      <td>src/rdd_fast.py</td>\n",
       "      <td>1</td>\n",
       "      <td>artists_uniform</td>\n",
       "      <td>100</td>\n",
       "      <td>188.831481</td>\n",
       "    </tr>\n",
       "    <tr>\n",
       "      <th>28</th>\n",
       "      <td>src/rdd_fast.py</td>\n",
       "      <td>1</td>\n",
       "      <td>artists_uniform</td>\n",
       "      <td>1000</td>\n",
       "      <td>202.945331</td>\n",
       "    </tr>\n",
       "    <tr>\n",
       "      <th>29</th>\n",
       "      <td>src/rdd_fast.py</td>\n",
       "      <td>2</td>\n",
       "      <td>artists_uniform</td>\n",
       "      <td>10</td>\n",
       "      <td>82.916295</td>\n",
       "    </tr>\n",
       "    <tr>\n",
       "      <th>30</th>\n",
       "      <td>src/rdd_fast.py</td>\n",
       "      <td>2</td>\n",
       "      <td>artists_uniform</td>\n",
       "      <td>100</td>\n",
       "      <td>78.713129</td>\n",
       "    </tr>\n",
       "    <tr>\n",
       "      <th>31</th>\n",
       "      <td>src/rdd_fast.py</td>\n",
       "      <td>2</td>\n",
       "      <td>artists_uniform</td>\n",
       "      <td>1000</td>\n",
       "      <td>75.499604</td>\n",
       "    </tr>\n",
       "    <tr>\n",
       "      <th>32</th>\n",
       "      <td>src/rdd_fast.py</td>\n",
       "      <td>8</td>\n",
       "      <td>artists_uniform</td>\n",
       "      <td>10</td>\n",
       "      <td>64.929034</td>\n",
       "    </tr>\n",
       "    <tr>\n",
       "      <th>33</th>\n",
       "      <td>src/rdd_fast.py</td>\n",
       "      <td>8</td>\n",
       "      <td>artists_uniform</td>\n",
       "      <td>100</td>\n",
       "      <td>66.680618</td>\n",
       "    </tr>\n",
       "    <tr>\n",
       "      <th>34</th>\n",
       "      <td>src/rdd_fast.py</td>\n",
       "      <td>8</td>\n",
       "      <td>artists_uniform</td>\n",
       "      <td>1000</td>\n",
       "      <td>65.747066</td>\n",
       "    </tr>\n",
       "    <tr>\n",
       "      <th>35</th>\n",
       "      <td>src/rdd_bs.py</td>\n",
       "      <td>8</td>\n",
       "      <td>artists_uniform</td>\n",
       "      <td>1000</td>\n",
       "      <td>950.067379</td>\n",
       "    </tr>\n",
       "    <tr>\n",
       "      <th>36</th>\n",
       "      <td>src/rdd_fast.py</td>\n",
       "      <td>1</td>\n",
       "      <td>artists_uniform</td>\n",
       "      <td>10</td>\n",
       "      <td>133.640411</td>\n",
       "    </tr>\n",
       "    <tr>\n",
       "      <th>37</th>\n",
       "      <td>src/rdd_fast.py</td>\n",
       "      <td>1</td>\n",
       "      <td>artists_uniform</td>\n",
       "      <td>100</td>\n",
       "      <td>129.049298</td>\n",
       "    </tr>\n",
       "    <tr>\n",
       "      <th>38</th>\n",
       "      <td>src/rdd_fast.py</td>\n",
       "      <td>1</td>\n",
       "      <td>artists_uniform</td>\n",
       "      <td>1000</td>\n",
       "      <td>127.319215</td>\n",
       "    </tr>\n",
       "    <tr>\n",
       "      <th>39</th>\n",
       "      <td>src/rdd_fast.py</td>\n",
       "      <td>2</td>\n",
       "      <td>artists_uniform</td>\n",
       "      <td>10</td>\n",
       "      <td>52.702284</td>\n",
       "    </tr>\n",
       "    <tr>\n",
       "      <th>40</th>\n",
       "      <td>src/rdd_fast.py</td>\n",
       "      <td>2</td>\n",
       "      <td>artists_uniform</td>\n",
       "      <td>100</td>\n",
       "      <td>52.467052</td>\n",
       "    </tr>\n",
       "    <tr>\n",
       "      <th>41</th>\n",
       "      <td>src/rdd_fast.py</td>\n",
       "      <td>2</td>\n",
       "      <td>artists_uniform</td>\n",
       "      <td>1000</td>\n",
       "      <td>55.132282</td>\n",
       "    </tr>\n",
       "    <tr>\n",
       "      <th>42</th>\n",
       "      <td>src/rdd_fast.py</td>\n",
       "      <td>8</td>\n",
       "      <td>artists_uniform</td>\n",
       "      <td>10</td>\n",
       "      <td>48.010360</td>\n",
       "    </tr>\n",
       "    <tr>\n",
       "      <th>43</th>\n",
       "      <td>src/rdd_fast.py</td>\n",
       "      <td>8</td>\n",
       "      <td>artists_uniform</td>\n",
       "      <td>100</td>\n",
       "      <td>49.369473</td>\n",
       "    </tr>\n",
       "    <tr>\n",
       "      <th>44</th>\n",
       "      <td>src/rdd_fast.py</td>\n",
       "      <td>8</td>\n",
       "      <td>artists_uniform</td>\n",
       "      <td>1000</td>\n",
       "      <td>48.863475</td>\n",
       "    </tr>\n",
       "  </tbody>\n",
       "</table>\n",
       "</div>"
      ],
      "text/plain": [
       "                  script  cores          dataset     k         time\n",
       "0   src/graphframe_bs.py      1  artists_uniform    10   177.281049\n",
       "1   src/graphframe_bs.py      1  artists_uniform   100   165.024193\n",
       "2   src/graphframe_bs.py      1  artists_uniform  1000   199.889615\n",
       "3   src/graphframe_bs.py      2  artists_uniform    10   120.593478\n",
       "4   src/graphframe_bs.py      2  artists_uniform   100   109.266874\n",
       "5   src/graphframe_bs.py      2  artists_uniform  1000   102.844088\n",
       "6   src/graphframe_bs.py      8  artists_uniform    10    80.654411\n",
       "7   src/graphframe_bs.py      8  artists_uniform   100    84.338148\n",
       "8   src/graphframe_bs.py      8  artists_uniform  1000    93.380127\n",
       "18         src/rdd_bs.py      1  artists_uniform    10  1097.727499\n",
       "19         src/rdd_bs.py      1  artists_uniform   100  1171.640849\n",
       "20         src/rdd_bs.py      1  artists_uniform  1000  1066.536771\n",
       "21         src/rdd_bs.py      2  artists_uniform    10   748.675190\n",
       "22         src/rdd_bs.py      2  artists_uniform   100   820.421898\n",
       "23         src/rdd_bs.py      2  artists_uniform  1000   812.861966\n",
       "24         src/rdd_bs.py      8  artists_uniform    10   799.912923\n",
       "25         src/rdd_bs.py      8  artists_uniform   100   827.806458\n",
       "26       src/rdd_fast.py      1  artists_uniform    10   188.566721\n",
       "27       src/rdd_fast.py      1  artists_uniform   100   188.831481\n",
       "28       src/rdd_fast.py      1  artists_uniform  1000   202.945331\n",
       "29       src/rdd_fast.py      2  artists_uniform    10    82.916295\n",
       "30       src/rdd_fast.py      2  artists_uniform   100    78.713129\n",
       "31       src/rdd_fast.py      2  artists_uniform  1000    75.499604\n",
       "32       src/rdd_fast.py      8  artists_uniform    10    64.929034\n",
       "33       src/rdd_fast.py      8  artists_uniform   100    66.680618\n",
       "34       src/rdd_fast.py      8  artists_uniform  1000    65.747066\n",
       "35         src/rdd_bs.py      8  artists_uniform  1000   950.067379\n",
       "36       src/rdd_fast.py      1  artists_uniform    10   133.640411\n",
       "37       src/rdd_fast.py      1  artists_uniform   100   129.049298\n",
       "38       src/rdd_fast.py      1  artists_uniform  1000   127.319215\n",
       "39       src/rdd_fast.py      2  artists_uniform    10    52.702284\n",
       "40       src/rdd_fast.py      2  artists_uniform   100    52.467052\n",
       "41       src/rdd_fast.py      2  artists_uniform  1000    55.132282\n",
       "42       src/rdd_fast.py      8  artists_uniform    10    48.010360\n",
       "43       src/rdd_fast.py      8  artists_uniform   100    49.369473\n",
       "44       src/rdd_fast.py      8  artists_uniform  1000    48.863475"
      ]
     },
     "execution_count": 10,
     "metadata": {},
     "output_type": "execute_result"
    }
   ],
   "source": [
    "experiments_df[experiments_df[\"dataset\"]==\"artists_uniform\"]"
   ]
  },
  {
   "cell_type": "code",
   "execution_count": 15,
   "id": "instrumental-mandate",
   "metadata": {},
   "outputs": [
    {
     "data": {
      "application/vnd.plotly.v1+json": {
       "config": {
        "plotlyServerURL": "https://plot.ly"
       },
       "data": [
        {
         "hovertemplate": "script=src/graphframe_bs.py<br>cores=1<br>k=%{x}<br>time=%{y}<extra></extra>",
         "legendgroup": "src/graphframe_bs.py",
         "marker": {
          "color": "#636efa",
          "symbol": "circle"
         },
         "mode": "markers",
         "name": "src/graphframe_bs.py",
         "orientation": "v",
         "showlegend": true,
         "type": "scatter",
         "x": [
          10,
          100,
          1000
         ],
         "xaxis": "x",
         "y": [
          177.28104901313782,
          165.02419257164,
          199.8896152973175
         ],
         "yaxis": "y"
        },
        {
         "hovertemplate": "script=src/graphframe_bs.py<br>cores=2<br>k=%{x}<br>time=%{y}<extra></extra>",
         "legendgroup": "src/graphframe_bs.py",
         "marker": {
          "color": "#636efa",
          "symbol": "circle"
         },
         "mode": "markers",
         "name": "src/graphframe_bs.py",
         "orientation": "v",
         "showlegend": false,
         "type": "scatter",
         "x": [
          10,
          100,
          1000
         ],
         "xaxis": "x2",
         "y": [
          120.59347820281982,
          109.26687359809875,
          102.8440878391266
         ],
         "yaxis": "y2"
        },
        {
         "hovertemplate": "script=src/graphframe_bs.py<br>cores=8<br>k=%{x}<br>time=%{y}<extra></extra>",
         "legendgroup": "src/graphframe_bs.py",
         "marker": {
          "color": "#636efa",
          "symbol": "circle"
         },
         "mode": "markers",
         "name": "src/graphframe_bs.py",
         "orientation": "v",
         "showlegend": false,
         "type": "scatter",
         "x": [
          10,
          100,
          1000
         ],
         "xaxis": "x3",
         "y": [
          80.65441060066223,
          84.33814811706543,
          93.380126953125
         ],
         "yaxis": "y3"
        },
        {
         "hovertemplate": "script=src/rdd_bs.py<br>cores=1<br>k=%{x}<br>time=%{y}<extra></extra>",
         "legendgroup": "src/rdd_bs.py",
         "marker": {
          "color": "#EF553B",
          "symbol": "circle"
         },
         "mode": "markers",
         "name": "src/rdd_bs.py",
         "orientation": "v",
         "showlegend": true,
         "type": "scatter",
         "x": [
          10,
          100,
          1000
         ],
         "xaxis": "x",
         "y": [
          1097.72749876976,
          1171.6408486366272,
          1066.536770582199
         ],
         "yaxis": "y"
        },
        {
         "hovertemplate": "script=src/rdd_bs.py<br>cores=2<br>k=%{x}<br>time=%{y}<extra></extra>",
         "legendgroup": "src/rdd_bs.py",
         "marker": {
          "color": "#EF553B",
          "symbol": "circle"
         },
         "mode": "markers",
         "name": "src/rdd_bs.py",
         "orientation": "v",
         "showlegend": false,
         "type": "scatter",
         "x": [
          10,
          100,
          1000
         ],
         "xaxis": "x2",
         "y": [
          748.675190448761,
          820.4218978881836,
          812.8619656562805
         ],
         "yaxis": "y2"
        },
        {
         "hovertemplate": "script=src/rdd_bs.py<br>cores=8<br>k=%{x}<br>time=%{y}<extra></extra>",
         "legendgroup": "src/rdd_bs.py",
         "marker": {
          "color": "#EF553B",
          "symbol": "circle"
         },
         "mode": "markers",
         "name": "src/rdd_bs.py",
         "orientation": "v",
         "showlegend": false,
         "type": "scatter",
         "x": [
          10,
          100,
          1000
         ],
         "xaxis": "x3",
         "y": [
          799.9129226207733,
          827.8064584732056,
          950.0673792362212
         ],
         "yaxis": "y3"
        },
        {
         "hovertemplate": "script=src/rdd_fast.py<br>cores=1<br>k=%{x}<br>time=%{y}<extra></extra>",
         "legendgroup": "src/rdd_fast.py",
         "marker": {
          "color": "#00cc96",
          "symbol": "circle"
         },
         "mode": "markers",
         "name": "src/rdd_fast.py",
         "orientation": "v",
         "showlegend": true,
         "type": "scatter",
         "x": [
          10,
          100,
          1000,
          10,
          100,
          1000
         ],
         "xaxis": "x",
         "y": [
          188.566721200943,
          188.83148050308228,
          202.94533133506772,
          133.64041113853455,
          129.049298286438,
          127.3192150592804
         ],
         "yaxis": "y"
        },
        {
         "hovertemplate": "script=src/rdd_fast.py<br>cores=2<br>k=%{x}<br>time=%{y}<extra></extra>",
         "legendgroup": "src/rdd_fast.py",
         "marker": {
          "color": "#00cc96",
          "symbol": "circle"
         },
         "mode": "markers",
         "name": "src/rdd_fast.py",
         "orientation": "v",
         "showlegend": false,
         "type": "scatter",
         "x": [
          10,
          100,
          1000,
          10,
          100,
          1000
         ],
         "xaxis": "x2",
         "y": [
          82.91629481315613,
          78.71312928199768,
          75.49960422515869,
          52.70228409767151,
          52.46705222129822,
          55.1322820186615
         ],
         "yaxis": "y2"
        },
        {
         "hovertemplate": "script=src/rdd_fast.py<br>cores=8<br>k=%{x}<br>time=%{y}<extra></extra>",
         "legendgroup": "src/rdd_fast.py",
         "marker": {
          "color": "#00cc96",
          "symbol": "circle"
         },
         "mode": "markers",
         "name": "src/rdd_fast.py",
         "orientation": "v",
         "showlegend": false,
         "type": "scatter",
         "x": [
          10,
          100,
          1000,
          10,
          100,
          1000
         ],
         "xaxis": "x3",
         "y": [
          64.92903351783752,
          66.68061757087708,
          65.74706625938416,
          48.01035952568054,
          49.36947250366211,
          48.86347508430481
         ],
         "yaxis": "y3"
        }
       ],
       "layout": {
        "annotations": [
         {
          "font": {},
          "showarrow": false,
          "text": "cores=1",
          "x": 0.15999999999999998,
          "xanchor": "center",
          "xref": "paper",
          "y": 1,
          "yanchor": "bottom",
          "yref": "paper"
         },
         {
          "font": {},
          "showarrow": false,
          "text": "cores=2",
          "x": 0.49999999999999994,
          "xanchor": "center",
          "xref": "paper",
          "y": 1,
          "yanchor": "bottom",
          "yref": "paper"
         },
         {
          "font": {},
          "showarrow": false,
          "text": "cores=8",
          "x": 0.8399999999999999,
          "xanchor": "center",
          "xref": "paper",
          "y": 1,
          "yanchor": "bottom",
          "yref": "paper"
         }
        ],
        "legend": {
         "title": {
          "text": "script"
         },
         "tracegroupgap": 0
        },
        "margin": {
         "t": 60
        },
        "template": {
         "data": {
          "bar": [
           {
            "error_x": {
             "color": "#2a3f5f"
            },
            "error_y": {
             "color": "#2a3f5f"
            },
            "marker": {
             "line": {
              "color": "#E5ECF6",
              "width": 0.5
             }
            },
            "type": "bar"
           }
          ],
          "barpolar": [
           {
            "marker": {
             "line": {
              "color": "#E5ECF6",
              "width": 0.5
             }
            },
            "type": "barpolar"
           }
          ],
          "carpet": [
           {
            "aaxis": {
             "endlinecolor": "#2a3f5f",
             "gridcolor": "white",
             "linecolor": "white",
             "minorgridcolor": "white",
             "startlinecolor": "#2a3f5f"
            },
            "baxis": {
             "endlinecolor": "#2a3f5f",
             "gridcolor": "white",
             "linecolor": "white",
             "minorgridcolor": "white",
             "startlinecolor": "#2a3f5f"
            },
            "type": "carpet"
           }
          ],
          "choropleth": [
           {
            "colorbar": {
             "outlinewidth": 0,
             "ticks": ""
            },
            "type": "choropleth"
           }
          ],
          "contour": [
           {
            "colorbar": {
             "outlinewidth": 0,
             "ticks": ""
            },
            "colorscale": [
             [
              0,
              "#0d0887"
             ],
             [
              0.1111111111111111,
              "#46039f"
             ],
             [
              0.2222222222222222,
              "#7201a8"
             ],
             [
              0.3333333333333333,
              "#9c179e"
             ],
             [
              0.4444444444444444,
              "#bd3786"
             ],
             [
              0.5555555555555556,
              "#d8576b"
             ],
             [
              0.6666666666666666,
              "#ed7953"
             ],
             [
              0.7777777777777778,
              "#fb9f3a"
             ],
             [
              0.8888888888888888,
              "#fdca26"
             ],
             [
              1,
              "#f0f921"
             ]
            ],
            "type": "contour"
           }
          ],
          "contourcarpet": [
           {
            "colorbar": {
             "outlinewidth": 0,
             "ticks": ""
            },
            "type": "contourcarpet"
           }
          ],
          "heatmap": [
           {
            "colorbar": {
             "outlinewidth": 0,
             "ticks": ""
            },
            "colorscale": [
             [
              0,
              "#0d0887"
             ],
             [
              0.1111111111111111,
              "#46039f"
             ],
             [
              0.2222222222222222,
              "#7201a8"
             ],
             [
              0.3333333333333333,
              "#9c179e"
             ],
             [
              0.4444444444444444,
              "#bd3786"
             ],
             [
              0.5555555555555556,
              "#d8576b"
             ],
             [
              0.6666666666666666,
              "#ed7953"
             ],
             [
              0.7777777777777778,
              "#fb9f3a"
             ],
             [
              0.8888888888888888,
              "#fdca26"
             ],
             [
              1,
              "#f0f921"
             ]
            ],
            "type": "heatmap"
           }
          ],
          "heatmapgl": [
           {
            "colorbar": {
             "outlinewidth": 0,
             "ticks": ""
            },
            "colorscale": [
             [
              0,
              "#0d0887"
             ],
             [
              0.1111111111111111,
              "#46039f"
             ],
             [
              0.2222222222222222,
              "#7201a8"
             ],
             [
              0.3333333333333333,
              "#9c179e"
             ],
             [
              0.4444444444444444,
              "#bd3786"
             ],
             [
              0.5555555555555556,
              "#d8576b"
             ],
             [
              0.6666666666666666,
              "#ed7953"
             ],
             [
              0.7777777777777778,
              "#fb9f3a"
             ],
             [
              0.8888888888888888,
              "#fdca26"
             ],
             [
              1,
              "#f0f921"
             ]
            ],
            "type": "heatmapgl"
           }
          ],
          "histogram": [
           {
            "marker": {
             "colorbar": {
              "outlinewidth": 0,
              "ticks": ""
             }
            },
            "type": "histogram"
           }
          ],
          "histogram2d": [
           {
            "colorbar": {
             "outlinewidth": 0,
             "ticks": ""
            },
            "colorscale": [
             [
              0,
              "#0d0887"
             ],
             [
              0.1111111111111111,
              "#46039f"
             ],
             [
              0.2222222222222222,
              "#7201a8"
             ],
             [
              0.3333333333333333,
              "#9c179e"
             ],
             [
              0.4444444444444444,
              "#bd3786"
             ],
             [
              0.5555555555555556,
              "#d8576b"
             ],
             [
              0.6666666666666666,
              "#ed7953"
             ],
             [
              0.7777777777777778,
              "#fb9f3a"
             ],
             [
              0.8888888888888888,
              "#fdca26"
             ],
             [
              1,
              "#f0f921"
             ]
            ],
            "type": "histogram2d"
           }
          ],
          "histogram2dcontour": [
           {
            "colorbar": {
             "outlinewidth": 0,
             "ticks": ""
            },
            "colorscale": [
             [
              0,
              "#0d0887"
             ],
             [
              0.1111111111111111,
              "#46039f"
             ],
             [
              0.2222222222222222,
              "#7201a8"
             ],
             [
              0.3333333333333333,
              "#9c179e"
             ],
             [
              0.4444444444444444,
              "#bd3786"
             ],
             [
              0.5555555555555556,
              "#d8576b"
             ],
             [
              0.6666666666666666,
              "#ed7953"
             ],
             [
              0.7777777777777778,
              "#fb9f3a"
             ],
             [
              0.8888888888888888,
              "#fdca26"
             ],
             [
              1,
              "#f0f921"
             ]
            ],
            "type": "histogram2dcontour"
           }
          ],
          "mesh3d": [
           {
            "colorbar": {
             "outlinewidth": 0,
             "ticks": ""
            },
            "type": "mesh3d"
           }
          ],
          "parcoords": [
           {
            "line": {
             "colorbar": {
              "outlinewidth": 0,
              "ticks": ""
             }
            },
            "type": "parcoords"
           }
          ],
          "pie": [
           {
            "automargin": true,
            "type": "pie"
           }
          ],
          "scatter": [
           {
            "marker": {
             "colorbar": {
              "outlinewidth": 0,
              "ticks": ""
             }
            },
            "type": "scatter"
           }
          ],
          "scatter3d": [
           {
            "line": {
             "colorbar": {
              "outlinewidth": 0,
              "ticks": ""
             }
            },
            "marker": {
             "colorbar": {
              "outlinewidth": 0,
              "ticks": ""
             }
            },
            "type": "scatter3d"
           }
          ],
          "scattercarpet": [
           {
            "marker": {
             "colorbar": {
              "outlinewidth": 0,
              "ticks": ""
             }
            },
            "type": "scattercarpet"
           }
          ],
          "scattergeo": [
           {
            "marker": {
             "colorbar": {
              "outlinewidth": 0,
              "ticks": ""
             }
            },
            "type": "scattergeo"
           }
          ],
          "scattergl": [
           {
            "marker": {
             "colorbar": {
              "outlinewidth": 0,
              "ticks": ""
             }
            },
            "type": "scattergl"
           }
          ],
          "scattermapbox": [
           {
            "marker": {
             "colorbar": {
              "outlinewidth": 0,
              "ticks": ""
             }
            },
            "type": "scattermapbox"
           }
          ],
          "scatterpolar": [
           {
            "marker": {
             "colorbar": {
              "outlinewidth": 0,
              "ticks": ""
             }
            },
            "type": "scatterpolar"
           }
          ],
          "scatterpolargl": [
           {
            "marker": {
             "colorbar": {
              "outlinewidth": 0,
              "ticks": ""
             }
            },
            "type": "scatterpolargl"
           }
          ],
          "scatterternary": [
           {
            "marker": {
             "colorbar": {
              "outlinewidth": 0,
              "ticks": ""
             }
            },
            "type": "scatterternary"
           }
          ],
          "surface": [
           {
            "colorbar": {
             "outlinewidth": 0,
             "ticks": ""
            },
            "colorscale": [
             [
              0,
              "#0d0887"
             ],
             [
              0.1111111111111111,
              "#46039f"
             ],
             [
              0.2222222222222222,
              "#7201a8"
             ],
             [
              0.3333333333333333,
              "#9c179e"
             ],
             [
              0.4444444444444444,
              "#bd3786"
             ],
             [
              0.5555555555555556,
              "#d8576b"
             ],
             [
              0.6666666666666666,
              "#ed7953"
             ],
             [
              0.7777777777777778,
              "#fb9f3a"
             ],
             [
              0.8888888888888888,
              "#fdca26"
             ],
             [
              1,
              "#f0f921"
             ]
            ],
            "type": "surface"
           }
          ],
          "table": [
           {
            "cells": {
             "fill": {
              "color": "#EBF0F8"
             },
             "line": {
              "color": "white"
             }
            },
            "header": {
             "fill": {
              "color": "#C8D4E3"
             },
             "line": {
              "color": "white"
             }
            },
            "type": "table"
           }
          ]
         },
         "layout": {
          "annotationdefaults": {
           "arrowcolor": "#2a3f5f",
           "arrowhead": 0,
           "arrowwidth": 1
          },
          "coloraxis": {
           "colorbar": {
            "outlinewidth": 0,
            "ticks": ""
           }
          },
          "colorscale": {
           "diverging": [
            [
             0,
             "#8e0152"
            ],
            [
             0.1,
             "#c51b7d"
            ],
            [
             0.2,
             "#de77ae"
            ],
            [
             0.3,
             "#f1b6da"
            ],
            [
             0.4,
             "#fde0ef"
            ],
            [
             0.5,
             "#f7f7f7"
            ],
            [
             0.6,
             "#e6f5d0"
            ],
            [
             0.7,
             "#b8e186"
            ],
            [
             0.8,
             "#7fbc41"
            ],
            [
             0.9,
             "#4d9221"
            ],
            [
             1,
             "#276419"
            ]
           ],
           "sequential": [
            [
             0,
             "#0d0887"
            ],
            [
             0.1111111111111111,
             "#46039f"
            ],
            [
             0.2222222222222222,
             "#7201a8"
            ],
            [
             0.3333333333333333,
             "#9c179e"
            ],
            [
             0.4444444444444444,
             "#bd3786"
            ],
            [
             0.5555555555555556,
             "#d8576b"
            ],
            [
             0.6666666666666666,
             "#ed7953"
            ],
            [
             0.7777777777777778,
             "#fb9f3a"
            ],
            [
             0.8888888888888888,
             "#fdca26"
            ],
            [
             1,
             "#f0f921"
            ]
           ],
           "sequentialminus": [
            [
             0,
             "#0d0887"
            ],
            [
             0.1111111111111111,
             "#46039f"
            ],
            [
             0.2222222222222222,
             "#7201a8"
            ],
            [
             0.3333333333333333,
             "#9c179e"
            ],
            [
             0.4444444444444444,
             "#bd3786"
            ],
            [
             0.5555555555555556,
             "#d8576b"
            ],
            [
             0.6666666666666666,
             "#ed7953"
            ],
            [
             0.7777777777777778,
             "#fb9f3a"
            ],
            [
             0.8888888888888888,
             "#fdca26"
            ],
            [
             1,
             "#f0f921"
            ]
           ]
          },
          "colorway": [
           "#636efa",
           "#EF553B",
           "#00cc96",
           "#ab63fa",
           "#FFA15A",
           "#19d3f3",
           "#FF6692",
           "#B6E880",
           "#FF97FF",
           "#FECB52"
          ],
          "font": {
           "color": "#2a3f5f"
          },
          "geo": {
           "bgcolor": "white",
           "lakecolor": "white",
           "landcolor": "#E5ECF6",
           "showlakes": true,
           "showland": true,
           "subunitcolor": "white"
          },
          "hoverlabel": {
           "align": "left"
          },
          "hovermode": "closest",
          "mapbox": {
           "style": "light"
          },
          "paper_bgcolor": "white",
          "plot_bgcolor": "#E5ECF6",
          "polar": {
           "angularaxis": {
            "gridcolor": "white",
            "linecolor": "white",
            "ticks": ""
           },
           "bgcolor": "#E5ECF6",
           "radialaxis": {
            "gridcolor": "white",
            "linecolor": "white",
            "ticks": ""
           }
          },
          "scene": {
           "xaxis": {
            "backgroundcolor": "#E5ECF6",
            "gridcolor": "white",
            "gridwidth": 2,
            "linecolor": "white",
            "showbackground": true,
            "ticks": "",
            "zerolinecolor": "white"
           },
           "yaxis": {
            "backgroundcolor": "#E5ECF6",
            "gridcolor": "white",
            "gridwidth": 2,
            "linecolor": "white",
            "showbackground": true,
            "ticks": "",
            "zerolinecolor": "white"
           },
           "zaxis": {
            "backgroundcolor": "#E5ECF6",
            "gridcolor": "white",
            "gridwidth": 2,
            "linecolor": "white",
            "showbackground": true,
            "ticks": "",
            "zerolinecolor": "white"
           }
          },
          "shapedefaults": {
           "line": {
            "color": "#2a3f5f"
           }
          },
          "ternary": {
           "aaxis": {
            "gridcolor": "white",
            "linecolor": "white",
            "ticks": ""
           },
           "baxis": {
            "gridcolor": "white",
            "linecolor": "white",
            "ticks": ""
           },
           "bgcolor": "#E5ECF6",
           "caxis": {
            "gridcolor": "white",
            "linecolor": "white",
            "ticks": ""
           }
          },
          "title": {
           "x": 0.05
          },
          "xaxis": {
           "automargin": true,
           "gridcolor": "white",
           "linecolor": "white",
           "ticks": "",
           "title": {
            "standoff": 15
           },
           "zerolinecolor": "white",
           "zerolinewidth": 2
          },
          "yaxis": {
           "automargin": true,
           "gridcolor": "white",
           "linecolor": "white",
           "ticks": "",
           "title": {
            "standoff": 15
           },
           "zerolinecolor": "white",
           "zerolinewidth": 2
          }
         }
        },
        "title": {
         "text": "Effect of 'number of cores' x 'k' x 'algorithm' in Time for the collins dataset"
        },
        "xaxis": {
         "anchor": "y",
         "domain": [
          0,
          0.31999999999999995
         ],
         "title": {
          "text": "k"
         },
         "type": "log"
        },
        "xaxis2": {
         "anchor": "y2",
         "domain": [
          0.33999999999999997,
          0.6599999999999999
         ],
         "matches": "x",
         "title": {
          "text": "k"
         },
         "type": "log"
        },
        "xaxis3": {
         "anchor": "y3",
         "domain": [
          0.6799999999999999,
          0.9999999999999999
         ],
         "matches": "x",
         "title": {
          "text": "k"
         },
         "type": "log"
        },
        "yaxis": {
         "anchor": "x",
         "domain": [
          0,
          1
         ],
         "title": {
          "text": "time"
         }
        },
        "yaxis2": {
         "anchor": "x2",
         "domain": [
          0,
          1
         ],
         "matches": "y",
         "showticklabels": false
        },
        "yaxis3": {
         "anchor": "x3",
         "domain": [
          0,
          1
         ],
         "matches": "y",
         "showticklabels": false
        }
       }
      },
      "text/html": [
       "<div>                            <div id=\"7f0232ae-916a-4a2b-850b-4c7ba89d5d1d\" class=\"plotly-graph-div\" style=\"height:525px; width:100%;\"></div>            <script type=\"text/javascript\">                require([\"plotly\"], function(Plotly) {                    window.PLOTLYENV=window.PLOTLYENV || {};                                    if (document.getElementById(\"7f0232ae-916a-4a2b-850b-4c7ba89d5d1d\")) {                    Plotly.newPlot(                        \"7f0232ae-916a-4a2b-850b-4c7ba89d5d1d\",                        [{\"hovertemplate\": \"script=src/graphframe_bs.py<br>cores=1<br>k=%{x}<br>time=%{y}<extra></extra>\", \"legendgroup\": \"src/graphframe_bs.py\", \"marker\": {\"color\": \"#636efa\", \"symbol\": \"circle\"}, \"mode\": \"markers\", \"name\": \"src/graphframe_bs.py\", \"orientation\": \"v\", \"showlegend\": true, \"type\": \"scatter\", \"x\": [10, 100, 1000], \"xaxis\": \"x\", \"y\": [177.28104901313782, 165.02419257164, 199.8896152973175], \"yaxis\": \"y\"}, {\"hovertemplate\": \"script=src/graphframe_bs.py<br>cores=2<br>k=%{x}<br>time=%{y}<extra></extra>\", \"legendgroup\": \"src/graphframe_bs.py\", \"marker\": {\"color\": \"#636efa\", \"symbol\": \"circle\"}, \"mode\": \"markers\", \"name\": \"src/graphframe_bs.py\", \"orientation\": \"v\", \"showlegend\": false, \"type\": \"scatter\", \"x\": [10, 100, 1000], \"xaxis\": \"x2\", \"y\": [120.59347820281982, 109.26687359809875, 102.8440878391266], \"yaxis\": \"y2\"}, {\"hovertemplate\": \"script=src/graphframe_bs.py<br>cores=8<br>k=%{x}<br>time=%{y}<extra></extra>\", \"legendgroup\": \"src/graphframe_bs.py\", \"marker\": {\"color\": \"#636efa\", \"symbol\": \"circle\"}, \"mode\": \"markers\", \"name\": \"src/graphframe_bs.py\", \"orientation\": \"v\", \"showlegend\": false, \"type\": \"scatter\", \"x\": [10, 100, 1000], \"xaxis\": \"x3\", \"y\": [80.65441060066223, 84.33814811706543, 93.380126953125], \"yaxis\": \"y3\"}, {\"hovertemplate\": \"script=src/rdd_bs.py<br>cores=1<br>k=%{x}<br>time=%{y}<extra></extra>\", \"legendgroup\": \"src/rdd_bs.py\", \"marker\": {\"color\": \"#EF553B\", \"symbol\": \"circle\"}, \"mode\": \"markers\", \"name\": \"src/rdd_bs.py\", \"orientation\": \"v\", \"showlegend\": true, \"type\": \"scatter\", \"x\": [10, 100, 1000], \"xaxis\": \"x\", \"y\": [1097.72749876976, 1171.6408486366272, 1066.536770582199], \"yaxis\": \"y\"}, {\"hovertemplate\": \"script=src/rdd_bs.py<br>cores=2<br>k=%{x}<br>time=%{y}<extra></extra>\", \"legendgroup\": \"src/rdd_bs.py\", \"marker\": {\"color\": \"#EF553B\", \"symbol\": \"circle\"}, \"mode\": \"markers\", \"name\": \"src/rdd_bs.py\", \"orientation\": \"v\", \"showlegend\": false, \"type\": \"scatter\", \"x\": [10, 100, 1000], \"xaxis\": \"x2\", \"y\": [748.675190448761, 820.4218978881836, 812.8619656562805], \"yaxis\": \"y2\"}, {\"hovertemplate\": \"script=src/rdd_bs.py<br>cores=8<br>k=%{x}<br>time=%{y}<extra></extra>\", \"legendgroup\": \"src/rdd_bs.py\", \"marker\": {\"color\": \"#EF553B\", \"symbol\": \"circle\"}, \"mode\": \"markers\", \"name\": \"src/rdd_bs.py\", \"orientation\": \"v\", \"showlegend\": false, \"type\": \"scatter\", \"x\": [10, 100, 1000], \"xaxis\": \"x3\", \"y\": [799.9129226207733, 827.8064584732056, 950.0673792362212], \"yaxis\": \"y3\"}, {\"hovertemplate\": \"script=src/rdd_fast.py<br>cores=1<br>k=%{x}<br>time=%{y}<extra></extra>\", \"legendgroup\": \"src/rdd_fast.py\", \"marker\": {\"color\": \"#00cc96\", \"symbol\": \"circle\"}, \"mode\": \"markers\", \"name\": \"src/rdd_fast.py\", \"orientation\": \"v\", \"showlegend\": true, \"type\": \"scatter\", \"x\": [10, 100, 1000, 10, 100, 1000], \"xaxis\": \"x\", \"y\": [188.566721200943, 188.83148050308228, 202.94533133506772, 133.64041113853455, 129.049298286438, 127.3192150592804], \"yaxis\": \"y\"}, {\"hovertemplate\": \"script=src/rdd_fast.py<br>cores=2<br>k=%{x}<br>time=%{y}<extra></extra>\", \"legendgroup\": \"src/rdd_fast.py\", \"marker\": {\"color\": \"#00cc96\", \"symbol\": \"circle\"}, \"mode\": \"markers\", \"name\": \"src/rdd_fast.py\", \"orientation\": \"v\", \"showlegend\": false, \"type\": \"scatter\", \"x\": [10, 100, 1000, 10, 100, 1000], \"xaxis\": \"x2\", \"y\": [82.91629481315613, 78.71312928199768, 75.49960422515869, 52.70228409767151, 52.46705222129822, 55.1322820186615], \"yaxis\": \"y2\"}, {\"hovertemplate\": \"script=src/rdd_fast.py<br>cores=8<br>k=%{x}<br>time=%{y}<extra></extra>\", \"legendgroup\": \"src/rdd_fast.py\", \"marker\": {\"color\": \"#00cc96\", \"symbol\": \"circle\"}, \"mode\": \"markers\", \"name\": \"src/rdd_fast.py\", \"orientation\": \"v\", \"showlegend\": false, \"type\": \"scatter\", \"x\": [10, 100, 1000, 10, 100, 1000], \"xaxis\": \"x3\", \"y\": [64.92903351783752, 66.68061757087708, 65.74706625938416, 48.01035952568054, 49.36947250366211, 48.86347508430481], \"yaxis\": \"y3\"}],                        {\"annotations\": [{\"font\": {}, \"showarrow\": false, \"text\": \"cores=1\", \"x\": 0.15999999999999998, \"xanchor\": \"center\", \"xref\": \"paper\", \"y\": 1.0, \"yanchor\": \"bottom\", \"yref\": \"paper\"}, {\"font\": {}, \"showarrow\": false, \"text\": \"cores=2\", \"x\": 0.49999999999999994, \"xanchor\": \"center\", \"xref\": \"paper\", \"y\": 1.0, \"yanchor\": \"bottom\", \"yref\": \"paper\"}, {\"font\": {}, \"showarrow\": false, \"text\": \"cores=8\", \"x\": 0.8399999999999999, \"xanchor\": \"center\", \"xref\": \"paper\", \"y\": 1.0, \"yanchor\": \"bottom\", \"yref\": \"paper\"}], \"legend\": {\"title\": {\"text\": \"script\"}, \"tracegroupgap\": 0}, \"margin\": {\"t\": 60}, \"template\": {\"data\": {\"bar\": [{\"error_x\": {\"color\": \"#2a3f5f\"}, \"error_y\": {\"color\": \"#2a3f5f\"}, \"marker\": {\"line\": {\"color\": \"#E5ECF6\", \"width\": 0.5}}, \"type\": \"bar\"}], \"barpolar\": [{\"marker\": {\"line\": {\"color\": \"#E5ECF6\", \"width\": 0.5}}, \"type\": \"barpolar\"}], \"carpet\": [{\"aaxis\": {\"endlinecolor\": \"#2a3f5f\", \"gridcolor\": \"white\", \"linecolor\": \"white\", \"minorgridcolor\": \"white\", \"startlinecolor\": \"#2a3f5f\"}, \"baxis\": {\"endlinecolor\": \"#2a3f5f\", \"gridcolor\": \"white\", \"linecolor\": \"white\", \"minorgridcolor\": \"white\", \"startlinecolor\": \"#2a3f5f\"}, \"type\": \"carpet\"}], \"choropleth\": [{\"colorbar\": {\"outlinewidth\": 0, \"ticks\": \"\"}, \"type\": \"choropleth\"}], \"contour\": [{\"colorbar\": {\"outlinewidth\": 0, \"ticks\": \"\"}, \"colorscale\": [[0.0, \"#0d0887\"], [0.1111111111111111, \"#46039f\"], [0.2222222222222222, \"#7201a8\"], [0.3333333333333333, \"#9c179e\"], [0.4444444444444444, \"#bd3786\"], [0.5555555555555556, \"#d8576b\"], [0.6666666666666666, \"#ed7953\"], [0.7777777777777778, \"#fb9f3a\"], [0.8888888888888888, \"#fdca26\"], [1.0, \"#f0f921\"]], \"type\": \"contour\"}], \"contourcarpet\": [{\"colorbar\": {\"outlinewidth\": 0, \"ticks\": \"\"}, \"type\": \"contourcarpet\"}], \"heatmap\": [{\"colorbar\": {\"outlinewidth\": 0, \"ticks\": \"\"}, \"colorscale\": [[0.0, \"#0d0887\"], [0.1111111111111111, \"#46039f\"], [0.2222222222222222, \"#7201a8\"], [0.3333333333333333, \"#9c179e\"], [0.4444444444444444, \"#bd3786\"], [0.5555555555555556, \"#d8576b\"], [0.6666666666666666, \"#ed7953\"], [0.7777777777777778, \"#fb9f3a\"], [0.8888888888888888, \"#fdca26\"], [1.0, \"#f0f921\"]], \"type\": \"heatmap\"}], \"heatmapgl\": [{\"colorbar\": {\"outlinewidth\": 0, \"ticks\": \"\"}, \"colorscale\": [[0.0, \"#0d0887\"], [0.1111111111111111, \"#46039f\"], [0.2222222222222222, \"#7201a8\"], [0.3333333333333333, \"#9c179e\"], [0.4444444444444444, \"#bd3786\"], [0.5555555555555556, \"#d8576b\"], [0.6666666666666666, \"#ed7953\"], [0.7777777777777778, \"#fb9f3a\"], [0.8888888888888888, \"#fdca26\"], [1.0, \"#f0f921\"]], \"type\": \"heatmapgl\"}], \"histogram\": [{\"marker\": {\"colorbar\": {\"outlinewidth\": 0, \"ticks\": \"\"}}, \"type\": \"histogram\"}], \"histogram2d\": [{\"colorbar\": {\"outlinewidth\": 0, \"ticks\": \"\"}, \"colorscale\": [[0.0, \"#0d0887\"], [0.1111111111111111, \"#46039f\"], [0.2222222222222222, \"#7201a8\"], [0.3333333333333333, \"#9c179e\"], [0.4444444444444444, \"#bd3786\"], [0.5555555555555556, \"#d8576b\"], [0.6666666666666666, \"#ed7953\"], [0.7777777777777778, \"#fb9f3a\"], [0.8888888888888888, \"#fdca26\"], [1.0, \"#f0f921\"]], \"type\": \"histogram2d\"}], \"histogram2dcontour\": [{\"colorbar\": {\"outlinewidth\": 0, \"ticks\": \"\"}, \"colorscale\": [[0.0, \"#0d0887\"], [0.1111111111111111, \"#46039f\"], [0.2222222222222222, \"#7201a8\"], [0.3333333333333333, \"#9c179e\"], [0.4444444444444444, \"#bd3786\"], [0.5555555555555556, \"#d8576b\"], [0.6666666666666666, \"#ed7953\"], [0.7777777777777778, \"#fb9f3a\"], [0.8888888888888888, \"#fdca26\"], [1.0, \"#f0f921\"]], \"type\": \"histogram2dcontour\"}], \"mesh3d\": [{\"colorbar\": {\"outlinewidth\": 0, \"ticks\": \"\"}, \"type\": \"mesh3d\"}], \"parcoords\": [{\"line\": {\"colorbar\": {\"outlinewidth\": 0, \"ticks\": \"\"}}, \"type\": \"parcoords\"}], \"pie\": [{\"automargin\": true, \"type\": \"pie\"}], \"scatter\": [{\"marker\": {\"colorbar\": {\"outlinewidth\": 0, \"ticks\": \"\"}}, \"type\": \"scatter\"}], \"scatter3d\": [{\"line\": {\"colorbar\": {\"outlinewidth\": 0, \"ticks\": \"\"}}, \"marker\": {\"colorbar\": {\"outlinewidth\": 0, \"ticks\": \"\"}}, \"type\": \"scatter3d\"}], \"scattercarpet\": [{\"marker\": {\"colorbar\": {\"outlinewidth\": 0, \"ticks\": \"\"}}, \"type\": \"scattercarpet\"}], \"scattergeo\": [{\"marker\": {\"colorbar\": {\"outlinewidth\": 0, \"ticks\": \"\"}}, \"type\": \"scattergeo\"}], \"scattergl\": [{\"marker\": {\"colorbar\": {\"outlinewidth\": 0, \"ticks\": \"\"}}, \"type\": \"scattergl\"}], \"scattermapbox\": [{\"marker\": {\"colorbar\": {\"outlinewidth\": 0, \"ticks\": \"\"}}, \"type\": \"scattermapbox\"}], \"scatterpolar\": [{\"marker\": {\"colorbar\": {\"outlinewidth\": 0, \"ticks\": \"\"}}, \"type\": \"scatterpolar\"}], \"scatterpolargl\": [{\"marker\": {\"colorbar\": {\"outlinewidth\": 0, \"ticks\": \"\"}}, \"type\": \"scatterpolargl\"}], \"scatterternary\": [{\"marker\": {\"colorbar\": {\"outlinewidth\": 0, \"ticks\": \"\"}}, \"type\": \"scatterternary\"}], \"surface\": [{\"colorbar\": {\"outlinewidth\": 0, \"ticks\": \"\"}, \"colorscale\": [[0.0, \"#0d0887\"], [0.1111111111111111, \"#46039f\"], [0.2222222222222222, \"#7201a8\"], [0.3333333333333333, \"#9c179e\"], [0.4444444444444444, \"#bd3786\"], [0.5555555555555556, \"#d8576b\"], [0.6666666666666666, \"#ed7953\"], [0.7777777777777778, \"#fb9f3a\"], [0.8888888888888888, \"#fdca26\"], [1.0, \"#f0f921\"]], \"type\": \"surface\"}], \"table\": [{\"cells\": {\"fill\": {\"color\": \"#EBF0F8\"}, \"line\": {\"color\": \"white\"}}, \"header\": {\"fill\": {\"color\": \"#C8D4E3\"}, \"line\": {\"color\": \"white\"}}, \"type\": \"table\"}]}, \"layout\": {\"annotationdefaults\": {\"arrowcolor\": \"#2a3f5f\", \"arrowhead\": 0, \"arrowwidth\": 1}, \"coloraxis\": {\"colorbar\": {\"outlinewidth\": 0, \"ticks\": \"\"}}, \"colorscale\": {\"diverging\": [[0, \"#8e0152\"], [0.1, \"#c51b7d\"], [0.2, \"#de77ae\"], [0.3, \"#f1b6da\"], [0.4, \"#fde0ef\"], [0.5, \"#f7f7f7\"], [0.6, \"#e6f5d0\"], [0.7, \"#b8e186\"], [0.8, \"#7fbc41\"], [0.9, \"#4d9221\"], [1, \"#276419\"]], \"sequential\": [[0.0, \"#0d0887\"], [0.1111111111111111, \"#46039f\"], [0.2222222222222222, \"#7201a8\"], [0.3333333333333333, \"#9c179e\"], [0.4444444444444444, \"#bd3786\"], [0.5555555555555556, \"#d8576b\"], [0.6666666666666666, \"#ed7953\"], [0.7777777777777778, \"#fb9f3a\"], [0.8888888888888888, \"#fdca26\"], [1.0, \"#f0f921\"]], \"sequentialminus\": [[0.0, \"#0d0887\"], [0.1111111111111111, \"#46039f\"], [0.2222222222222222, \"#7201a8\"], [0.3333333333333333, \"#9c179e\"], [0.4444444444444444, \"#bd3786\"], [0.5555555555555556, \"#d8576b\"], [0.6666666666666666, \"#ed7953\"], [0.7777777777777778, \"#fb9f3a\"], [0.8888888888888888, \"#fdca26\"], [1.0, \"#f0f921\"]]}, \"colorway\": [\"#636efa\", \"#EF553B\", \"#00cc96\", \"#ab63fa\", \"#FFA15A\", \"#19d3f3\", \"#FF6692\", \"#B6E880\", \"#FF97FF\", \"#FECB52\"], \"font\": {\"color\": \"#2a3f5f\"}, \"geo\": {\"bgcolor\": \"white\", \"lakecolor\": \"white\", \"landcolor\": \"#E5ECF6\", \"showlakes\": true, \"showland\": true, \"subunitcolor\": \"white\"}, \"hoverlabel\": {\"align\": \"left\"}, \"hovermode\": \"closest\", \"mapbox\": {\"style\": \"light\"}, \"paper_bgcolor\": \"white\", \"plot_bgcolor\": \"#E5ECF6\", \"polar\": {\"angularaxis\": {\"gridcolor\": \"white\", \"linecolor\": \"white\", \"ticks\": \"\"}, \"bgcolor\": \"#E5ECF6\", \"radialaxis\": {\"gridcolor\": \"white\", \"linecolor\": \"white\", \"ticks\": \"\"}}, \"scene\": {\"xaxis\": {\"backgroundcolor\": \"#E5ECF6\", \"gridcolor\": \"white\", \"gridwidth\": 2, \"linecolor\": \"white\", \"showbackground\": true, \"ticks\": \"\", \"zerolinecolor\": \"white\"}, \"yaxis\": {\"backgroundcolor\": \"#E5ECF6\", \"gridcolor\": \"white\", \"gridwidth\": 2, \"linecolor\": \"white\", \"showbackground\": true, \"ticks\": \"\", \"zerolinecolor\": \"white\"}, \"zaxis\": {\"backgroundcolor\": \"#E5ECF6\", \"gridcolor\": \"white\", \"gridwidth\": 2, \"linecolor\": \"white\", \"showbackground\": true, \"ticks\": \"\", \"zerolinecolor\": \"white\"}}, \"shapedefaults\": {\"line\": {\"color\": \"#2a3f5f\"}}, \"ternary\": {\"aaxis\": {\"gridcolor\": \"white\", \"linecolor\": \"white\", \"ticks\": \"\"}, \"baxis\": {\"gridcolor\": \"white\", \"linecolor\": \"white\", \"ticks\": \"\"}, \"bgcolor\": \"#E5ECF6\", \"caxis\": {\"gridcolor\": \"white\", \"linecolor\": \"white\", \"ticks\": \"\"}}, \"title\": {\"x\": 0.05}, \"xaxis\": {\"automargin\": true, \"gridcolor\": \"white\", \"linecolor\": \"white\", \"ticks\": \"\", \"title\": {\"standoff\": 15}, \"zerolinecolor\": \"white\", \"zerolinewidth\": 2}, \"yaxis\": {\"automargin\": true, \"gridcolor\": \"white\", \"linecolor\": \"white\", \"ticks\": \"\", \"title\": {\"standoff\": 15}, \"zerolinecolor\": \"white\", \"zerolinewidth\": 2}}}, \"title\": {\"text\": \"Effect of 'number of cores' x 'k' x 'algorithm' in Time for the collins dataset\"}, \"xaxis\": {\"anchor\": \"y\", \"domain\": [0.0, 0.31999999999999995], \"title\": {\"text\": \"k\"}, \"type\": \"log\"}, \"xaxis2\": {\"anchor\": \"y2\", \"domain\": [0.33999999999999997, 0.6599999999999999], \"matches\": \"x\", \"title\": {\"text\": \"k\"}, \"type\": \"log\"}, \"xaxis3\": {\"anchor\": \"y3\", \"domain\": [0.6799999999999999, 0.9999999999999999], \"matches\": \"x\", \"title\": {\"text\": \"k\"}, \"type\": \"log\"}, \"yaxis\": {\"anchor\": \"x\", \"domain\": [0.0, 1.0], \"title\": {\"text\": \"time\"}}, \"yaxis2\": {\"anchor\": \"x2\", \"domain\": [0.0, 1.0], \"matches\": \"y\", \"showticklabels\": false}, \"yaxis3\": {\"anchor\": \"x3\", \"domain\": [0.0, 1.0], \"matches\": \"y\", \"showticklabels\": false}},                        {\"responsive\": true}                    ).then(function(){\n",
       "                            \n",
       "var gd = document.getElementById('7f0232ae-916a-4a2b-850b-4c7ba89d5d1d');\n",
       "var x = new MutationObserver(function (mutations, observer) {{\n",
       "        var display = window.getComputedStyle(gd).display;\n",
       "        if (!display || display === 'none') {{\n",
       "            console.log([gd, 'removed!']);\n",
       "            Plotly.purge(gd);\n",
       "            observer.disconnect();\n",
       "        }}\n",
       "}});\n",
       "\n",
       "// Listen for the removal of the full notebook cells\n",
       "var notebookContainer = gd.closest('#notebook-container');\n",
       "if (notebookContainer) {{\n",
       "    x.observe(notebookContainer, {childList: true});\n",
       "}}\n",
       "\n",
       "// Listen for the clearing of the current output cell\n",
       "var outputEl = gd.closest('.output');\n",
       "if (outputEl) {{\n",
       "    x.observe(outputEl, {childList: true});\n",
       "}}\n",
       "\n",
       "                        })                };                });            </script>        </div>"
      ]
     },
     "metadata": {},
     "output_type": "display_data"
    }
   ],
   "source": [
    "fig = px.scatter(experiments_df[experiments_df[\"dataset\"]==\"artists_uniform\"],\n",
    "                 x=\"k\",\n",
    "                 y=\"time\",\n",
    "                 log_x=True,\n",
    "                 color=\"script\",\n",
    "                 facet_col=\"cores\")\n",
    "\n",
    "fig.update_layout(\n",
    "    title=f\"Effect of 'number of cores' x 'k' x 'algorithm' in Time for the collins dataset\",\n",
    ")\n",
    "    \n",
    "fig.show()"
   ]
  },
  {
   "cell_type": "code",
   "execution_count": null,
   "id": "internal-julian",
   "metadata": {},
   "outputs": [],
   "source": []
  }
 ],
 "metadata": {
  "kernelspec": {
   "display_name": "Python 3",
   "language": "python",
   "name": "python3"
  },
  "language_info": {
   "codemirror_mode": {
    "name": "ipython",
    "version": 3
   },
   "file_extension": ".py",
   "mimetype": "text/x-python",
   "name": "python",
   "nbconvert_exporter": "python",
   "pygments_lexer": "ipython3",
   "version": "3.7.9"
  },
  "toc": {
   "base_numbering": 1,
   "nav_menu": {},
   "number_sections": true,
   "sideBar": true,
   "skip_h1_title": false,
   "title_cell": "Table of Contents",
   "title_sidebar": "Contents",
   "toc_cell": false,
   "toc_position": {},
   "toc_section_display": true,
   "toc_window_display": true
  }
 },
 "nbformat": 4,
 "nbformat_minor": 5
}
