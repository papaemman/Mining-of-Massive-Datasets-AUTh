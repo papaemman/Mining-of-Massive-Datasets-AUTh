{
 "cells": [
  {
   "cell_type": "markdown",
   "id": "joint-batch",
   "metadata": {},
   "source": [
    "# Exploratory Data Analysis of graph data"
   ]
  },
  {
   "cell_type": "markdown",
   "id": "chinese-terrorism",
   "metadata": {},
   "source": [
    "**Libraries**\n",
    "\n",
    "1. NetworkX: https://networkx.org/\n",
    "2. scikit-network: https://scikit-network.readthedocs.io/en/latest/"
   ]
  },
  {
   "cell_type": "code",
   "execution_count": null,
   "id": "horizontal-royal",
   "metadata": {},
   "outputs": [],
   "source": [
    "# Load modules\n",
    "import numpy as np\n",
    "import pandas as pd\n",
    "\n",
    "import matplotlib.pyplot as plt\n",
    "import seaborn as sns\n",
    "sns.set(rc={'figure.figsize':(13,6)})\n",
    "\n",
    "import networkx as nx"
   ]
  },
  {
   "cell_type": "code",
   "execution_count": null,
   "id": "industrial-wound",
   "metadata": {},
   "outputs": [],
   "source": [
    "%%bash\n",
    "cd ../input\n",
    "ls"
   ]
  },
  {
   "cell_type": "code",
   "execution_count": null,
   "id": "quantitative-beast",
   "metadata": {},
   "outputs": [],
   "source": [
    "# TODO\n",
    "# - Create synthetic datasets or Find an undirected graph\n",
    "# - Plot graph, degrees distribution, edge prob distributions\n",
    "# - Find central nodes"
   ]
  },
  {
   "cell_type": "markdown",
   "id": "obvious-webmaster",
   "metadata": {},
   "source": [
    "## Datasets"
   ]
  },
  {
   "cell_type": "markdown",
   "id": "basic-center",
   "metadata": {},
   "source": [
    "You are free to use any **probabilistic graph** available. A small dataset will be given. However, since not many\n",
    "real-life probabilistic networks are publicly available, you may work use synthetic datasets as follows: you\n",
    "may take any undirected network and simply assign probabilities to the edges by using a probability\n",
    "distribution such as uniform, normal, power-law, etc.\n",
    "\n",
    "Two excellent repositories for graph data are:\n",
    "1. http://snap.stanford.edu/data/index.html\n",
    "2. http://networkrepository.com/"
   ]
  },
  {
   "cell_type": "markdown",
   "id": "fancy-canal",
   "metadata": {},
   "source": [
    "**Graph Embedding with Self Clustering: Facebook** \n",
    "\n",
    "http://snap.stanford.edu/data/gemsec-Facebook.html"
   ]
  },
  {
   "cell_type": "markdown",
   "id": "popular-mother",
   "metadata": {},
   "source": [
    "# Collins"
   ]
  },
  {
   "cell_type": "code",
   "execution_count": null,
   "id": "recent-delay",
   "metadata": {},
   "outputs": [],
   "source": [
    "# Load datasets\n",
    "collins_df = pd.read_csv(\"../input/collins.csv\",header=None)"
   ]
  },
  {
   "cell_type": "code",
   "execution_count": null,
   "id": "apparent-conservation",
   "metadata": {},
   "outputs": [],
   "source": [
    "collins_df.columns = [\"src\",\"dst\", \"probability\"]"
   ]
  },
  {
   "cell_type": "code",
   "execution_count": null,
   "id": "median-injection",
   "metadata": {},
   "outputs": [],
   "source": [
    "collins_df.head(6)"
   ]
  },
  {
   "cell_type": "code",
   "execution_count": null,
   "id": "personalized-violence",
   "metadata": {},
   "outputs": [],
   "source": [
    "collins_df.shape"
   ]
  },
  {
   "cell_type": "code",
   "execution_count": null,
   "id": "welsh-yukon",
   "metadata": {},
   "outputs": [],
   "source": [
    "collins_df[\"probability\"].plot.hist(title=\"Edge Probabilities distribution\", bins=100, xlim=[0,1]);"
   ]
  },
  {
   "cell_type": "code",
   "execution_count": null,
   "id": "driven-helmet",
   "metadata": {},
   "outputs": [],
   "source": [
    "# Create graph\n",
    "G = nx.from_pandas_edgelist(df=collins_df, source='src', target='dst', edge_attr=\"probability\")"
   ]
  },
  {
   "cell_type": "code",
   "execution_count": null,
   "id": "collect-reynolds",
   "metadata": {},
   "outputs": [],
   "source": [
    "# Print graph properties\n",
    "print(f\" Number of nodes: {G.number_of_nodes()}\")\n",
    "print(f\" Number of edges: {G.number_of_edges()}\")\n",
    "print(f\" Is directed?: {G.is_directed()}\")"
   ]
  },
  {
   "cell_type": "code",
   "execution_count": null,
   "id": "native-ability",
   "metadata": {
    "scrolled": true
   },
   "outputs": [],
   "source": [
    "# list(G.nodes)"
   ]
  },
  {
   "cell_type": "code",
   "execution_count": null,
   "id": "hindu-soundtrack",
   "metadata": {},
   "outputs": [],
   "source": [
    "# Plot degree distribution\n",
    "plt.hist(dict(G.degree()).values(), bins=100)\n",
    "plt.title(\"Degrees distribution\");"
   ]
  },
  {
   "cell_type": "code",
   "execution_count": null,
   "id": "dangerous-lloyd",
   "metadata": {},
   "outputs": [],
   "source": [
    "# Plot graph\n",
    "# nx.draw(G)"
   ]
  },
  {
   "cell_type": "code",
   "execution_count": null,
   "id": "challenging-lesson",
   "metadata": {},
   "outputs": [],
   "source": [
    "# nx.draw_spring(G, node_size=100, node_color=\"#00C98D\", with_labels=False)"
   ]
  },
  {
   "cell_type": "markdown",
   "id": "finished-legend",
   "metadata": {},
   "source": [
    "# Facebook datasets"
   ]
  },
  {
   "cell_type": "code",
   "execution_count": null,
   "id": "exposed-header",
   "metadata": {},
   "outputs": [],
   "source": [
    "import numpy as np"
   ]
  },
  {
   "cell_type": "code",
   "execution_count": null,
   "id": "secondary-project",
   "metadata": {},
   "outputs": [],
   "source": [
    "# Load datasets\n",
    "artist_edges_df = pd.read_csv(\"../input/gemsec_facebook_dataset/artist_edges.csv\")"
   ]
  },
  {
   "cell_type": "code",
   "execution_count": null,
   "id": "nasty-stationery",
   "metadata": {
    "scrolled": true
   },
   "outputs": [],
   "source": [
    "artist_edges_df.head()"
   ]
  },
  {
   "cell_type": "code",
   "execution_count": null,
   "id": "touched-fortune",
   "metadata": {},
   "outputs": [],
   "source": [
    "# Number of edges\n",
    "artist_edges_df.shape"
   ]
  },
  {
   "cell_type": "code",
   "execution_count": null,
   "id": "friendly-slovak",
   "metadata": {},
   "outputs": [],
   "source": [
    "# Number of nodes\n",
    "len(np.unique(np.hstack([artist_edges_df[\"node_1\"].values, artist_edges_df[\"node_2\"].values])))"
   ]
  },
  {
   "cell_type": "markdown",
   "id": "reasonable-evening",
   "metadata": {},
   "source": [
    "**Artist Dataset**\n",
    "- Number of edges : 50,515\n",
    "- Number of nodes : 819,306"
   ]
  },
  {
   "cell_type": "markdown",
   "id": "canadian-matrix",
   "metadata": {},
   "source": [
    "**Probability distributions**\n",
    "\n",
    "1. Uniform\n",
    "2. Normal\n",
    "3. Power-Law"
   ]
  },
  {
   "cell_type": "code",
   "execution_count": null,
   "id": "internal-supplier",
   "metadata": {},
   "outputs": [],
   "source": [
    "# Drop self loops\n",
    "print(\"Before:\", artist_edges_df.shape)\n",
    "artist_edges_df = artist_edges_df[artist_edges_df[\"node_1\"] != artist_edges_df[\"node_2\"]]\n",
    "print(\"After:\", artist_edges_df.shape)"
   ]
  },
  {
   "cell_type": "code",
   "execution_count": null,
   "id": "weighted-expense",
   "metadata": {},
   "outputs": [],
   "source": [
    "artist_edges_df[artist_edges_df[\"node_1\"]==11760]"
   ]
  },
  {
   "cell_type": "code",
   "execution_count": null,
   "id": "golden-discharge",
   "metadata": {},
   "outputs": [],
   "source": [
    "## 1. Uniform\n",
    "artist_edges_df[\"probability\"] = np.random.uniform(0,1, size=len(artist_edges_df))"
   ]
  },
  {
   "cell_type": "code",
   "execution_count": null,
   "id": "abandoned-finger",
   "metadata": {},
   "outputs": [],
   "source": [
    "(artist_edges_df[\"probability\"]\n",
    " .plot\n",
    " .hist(title=\"Edge Probabilities distribution (Uniform)\", bins=100, xlim=[0,1]));"
   ]
  },
  {
   "cell_type": "code",
   "execution_count": null,
   "id": "adolescent-russell",
   "metadata": {},
   "outputs": [],
   "source": [
    "# Save dataset\n",
    "artist_edges_df.to_csv(\"../input/artists_uniform.csv\", index=False, header=False)"
   ]
  },
  {
   "cell_type": "code",
   "execution_count": null,
   "id": "laden-fundamental",
   "metadata": {},
   "outputs": [],
   "source": [
    "## 2. Normal\n",
    "probs = np.random.normal(0.5, 0.10, size=len(artist_edges_df))\n",
    "probs[probs<0]=0\n",
    "probs[probs>1]=0\n",
    "\n",
    "artist_edges_df[\"probability\"] = probs"
   ]
  },
  {
   "cell_type": "code",
   "execution_count": null,
   "id": "operating-testing",
   "metadata": {},
   "outputs": [],
   "source": [
    "(artist_edges_df[\"probability\"]\n",
    " .plot\n",
    " .hist(title=\"Edge Probabilities distribution (Normal)\", bins=100, xlim=[0,1]));"
   ]
  },
  {
   "cell_type": "code",
   "execution_count": null,
   "id": "dangerous-cigarette",
   "metadata": {},
   "outputs": [],
   "source": [
    "# Save dataset\n",
    "artist_edges_df.to_csv(\"../input/artists_normal.csv\", index=False, header=False)"
   ]
  },
  {
   "cell_type": "code",
   "execution_count": null,
   "id": "promotional-lunch",
   "metadata": {},
   "outputs": [],
   "source": [
    "## 3. Power Law\n",
    "probs = np.random.power(0.7, size=len(artist_edges_df))\n",
    "probs[probs<0]=0\n",
    "probs[probs>1]=0\n",
    "\n",
    "artist_edges_df[\"probability\"] = probs"
   ]
  },
  {
   "cell_type": "code",
   "execution_count": null,
   "id": "blank-tours",
   "metadata": {},
   "outputs": [],
   "source": [
    "(artist_edges_df[\"probability\"]\n",
    " .plot\n",
    " .hist(title=\"Edge Probabilities distribution (Power Law)\", bins=100, xlim=[0,1]));"
   ]
  },
  {
   "cell_type": "code",
   "execution_count": null,
   "id": "black-singing",
   "metadata": {},
   "outputs": [],
   "source": [
    "# Save dataset\n",
    "artist_edges_df.to_csv(\"../input/artists_power_law.csv\", index=False, header=False)"
   ]
  },
  {
   "cell_type": "markdown",
   "id": "corrected-carroll",
   "metadata": {},
   "source": [
    "# Experiment results"
   ]
  },
  {
   "cell_type": "code",
   "execution_count": 1,
   "id": "accurate-findings",
   "metadata": {},
   "outputs": [],
   "source": [
    "import plotly.express as px\n",
    "import plotly.graph_objects as go\n",
    "import pandas as pd"
   ]
  },
  {
   "cell_type": "markdown",
   "id": "confident-shoot",
   "metadata": {},
   "source": [
    "## Load experiments"
   ]
  },
  {
   "cell_type": "markdown",
   "id": "opposed-female",
   "metadata": {},
   "source": [
    "**Experiments**\n",
    "\n",
    "1. experiments.csv\n",
    "2. experiments_threshold_0.5.csv\n",
    "3. experiments_k_large.csv\n"
   ]
  },
  {
   "cell_type": "code",
   "execution_count": 2,
   "id": "enclosed-slope",
   "metadata": {},
   "outputs": [],
   "source": [
    "# Load experimenation results\n",
    "experiments_df = pd.read_csv(\"../experiments/experiments.csv\")\n",
    "experiments_threshold_05_df = pd.read_csv(\"../experiments/experiments_threshold_0.5.csv\")\n",
    "experiments_k_large_df = pd.read_csv(\"../experiments/experiments_k_large.csv\")"
   ]
  },
  {
   "cell_type": "code",
   "execution_count": 3,
   "id": "vanilla-sharing",
   "metadata": {},
   "outputs": [
    {
     "name": "stdout",
     "output_type": "stream",
     "text": [
      "experiments_df: (162, 5)\n",
      "experiments_threshold_05_df: (12, 5)\n",
      "experiments_k_large_df: (18, 5)\n"
     ]
    }
   ],
   "source": [
    "# Check total experiments per file\n",
    "print(\"experiments_df:\", experiments_df.shape)\n",
    "print(\"experiments_threshold_05_df:\", experiments_threshold_05_df.shape)\n",
    "print(\"experiments_k_large_df:\",experiments_k_large_df.shape)"
   ]
  },
  {
   "cell_type": "code",
   "execution_count": 4,
   "id": "particular-statement",
   "metadata": {
    "scrolled": true
   },
   "outputs": [
    {
     "data": {
      "text/html": [
       "<div>\n",
       "<style scoped>\n",
       "    .dataframe tbody tr th:only-of-type {\n",
       "        vertical-align: middle;\n",
       "    }\n",
       "\n",
       "    .dataframe tbody tr th {\n",
       "        vertical-align: top;\n",
       "    }\n",
       "\n",
       "    .dataframe thead th {\n",
       "        text-align: right;\n",
       "    }\n",
       "</style>\n",
       "<table border=\"1\" class=\"dataframe\">\n",
       "  <thead>\n",
       "    <tr style=\"text-align: right;\">\n",
       "      <th></th>\n",
       "      <th>script</th>\n",
       "      <th>cores</th>\n",
       "      <th>dataset</th>\n",
       "      <th>k</th>\n",
       "      <th>time</th>\n",
       "    </tr>\n",
       "  </thead>\n",
       "  <tbody>\n",
       "    <tr>\n",
       "      <th>0</th>\n",
       "      <td>graphframe_bs.py</td>\n",
       "      <td>1</td>\n",
       "      <td>artists_uniform</td>\n",
       "      <td>100</td>\n",
       "      <td>210.744795</td>\n",
       "    </tr>\n",
       "    <tr>\n",
       "      <th>1</th>\n",
       "      <td>graphframe_bs.py</td>\n",
       "      <td>1</td>\n",
       "      <td>artists_uniform</td>\n",
       "      <td>1000</td>\n",
       "      <td>202.733053</td>\n",
       "    </tr>\n",
       "    <tr>\n",
       "      <th>2</th>\n",
       "      <td>graphframe_bs.py</td>\n",
       "      <td>1</td>\n",
       "      <td>artists_uniform</td>\n",
       "      <td>10000</td>\n",
       "      <td>205.797122</td>\n",
       "    </tr>\n",
       "    <tr>\n",
       "      <th>3</th>\n",
       "      <td>graphframe_bs.py</td>\n",
       "      <td>2</td>\n",
       "      <td>artists_uniform</td>\n",
       "      <td>100</td>\n",
       "      <td>134.536940</td>\n",
       "    </tr>\n",
       "    <tr>\n",
       "      <th>4</th>\n",
       "      <td>graphframe_bs.py</td>\n",
       "      <td>2</td>\n",
       "      <td>artists_uniform</td>\n",
       "      <td>1000</td>\n",
       "      <td>136.553836</td>\n",
       "    </tr>\n",
       "    <tr>\n",
       "      <th>5</th>\n",
       "      <td>graphframe_bs.py</td>\n",
       "      <td>2</td>\n",
       "      <td>artists_uniform</td>\n",
       "      <td>10000</td>\n",
       "      <td>136.371078</td>\n",
       "    </tr>\n",
       "    <tr>\n",
       "      <th>6</th>\n",
       "      <td>graphframe_bs.py</td>\n",
       "      <td>8</td>\n",
       "      <td>artists_uniform</td>\n",
       "      <td>100</td>\n",
       "      <td>121.458325</td>\n",
       "    </tr>\n",
       "    <tr>\n",
       "      <th>7</th>\n",
       "      <td>graphframe_bs.py</td>\n",
       "      <td>8</td>\n",
       "      <td>artists_uniform</td>\n",
       "      <td>1000</td>\n",
       "      <td>114.910138</td>\n",
       "    </tr>\n",
       "    <tr>\n",
       "      <th>8</th>\n",
       "      <td>graphframe_bs.py</td>\n",
       "      <td>8</td>\n",
       "      <td>artists_uniform</td>\n",
       "      <td>10000</td>\n",
       "      <td>122.056432</td>\n",
       "    </tr>\n",
       "    <tr>\n",
       "      <th>9</th>\n",
       "      <td>rdd_bs.py</td>\n",
       "      <td>1</td>\n",
       "      <td>artists_uniform</td>\n",
       "      <td>100</td>\n",
       "      <td>965.181294</td>\n",
       "    </tr>\n",
       "    <tr>\n",
       "      <th>10</th>\n",
       "      <td>rdd_bs.py</td>\n",
       "      <td>1</td>\n",
       "      <td>artists_uniform</td>\n",
       "      <td>1000</td>\n",
       "      <td>955.533646</td>\n",
       "    </tr>\n",
       "    <tr>\n",
       "      <th>11</th>\n",
       "      <td>rdd_bs.py</td>\n",
       "      <td>1</td>\n",
       "      <td>artists_uniform</td>\n",
       "      <td>10000</td>\n",
       "      <td>971.082350</td>\n",
       "    </tr>\n",
       "    <tr>\n",
       "      <th>12</th>\n",
       "      <td>rdd_bs.py</td>\n",
       "      <td>2</td>\n",
       "      <td>artists_uniform</td>\n",
       "      <td>100</td>\n",
       "      <td>618.113658</td>\n",
       "    </tr>\n",
       "    <tr>\n",
       "      <th>13</th>\n",
       "      <td>rdd_bs.py</td>\n",
       "      <td>2</td>\n",
       "      <td>artists_uniform</td>\n",
       "      <td>1000</td>\n",
       "      <td>618.702299</td>\n",
       "    </tr>\n",
       "    <tr>\n",
       "      <th>14</th>\n",
       "      <td>rdd_bs.py</td>\n",
       "      <td>2</td>\n",
       "      <td>artists_uniform</td>\n",
       "      <td>10000</td>\n",
       "      <td>615.560786</td>\n",
       "    </tr>\n",
       "    <tr>\n",
       "      <th>15</th>\n",
       "      <td>rdd_bs.py</td>\n",
       "      <td>8</td>\n",
       "      <td>artists_uniform</td>\n",
       "      <td>100</td>\n",
       "      <td>618.411500</td>\n",
       "    </tr>\n",
       "    <tr>\n",
       "      <th>16</th>\n",
       "      <td>rdd_bs.py</td>\n",
       "      <td>8</td>\n",
       "      <td>artists_uniform</td>\n",
       "      <td>1000</td>\n",
       "      <td>626.013874</td>\n",
       "    </tr>\n",
       "    <tr>\n",
       "      <th>17</th>\n",
       "      <td>rdd_bs.py</td>\n",
       "      <td>8</td>\n",
       "      <td>artists_uniform</td>\n",
       "      <td>10000</td>\n",
       "      <td>618.539541</td>\n",
       "    </tr>\n",
       "    <tr>\n",
       "      <th>18</th>\n",
       "      <td>graphframe_bs.py</td>\n",
       "      <td>1</td>\n",
       "      <td>artists_normal</td>\n",
       "      <td>100</td>\n",
       "      <td>169.345839</td>\n",
       "    </tr>\n",
       "    <tr>\n",
       "      <th>19</th>\n",
       "      <td>graphframe_bs.py</td>\n",
       "      <td>1</td>\n",
       "      <td>artists_normal</td>\n",
       "      <td>1000</td>\n",
       "      <td>169.630866</td>\n",
       "    </tr>\n",
       "    <tr>\n",
       "      <th>20</th>\n",
       "      <td>graphframe_bs.py</td>\n",
       "      <td>1</td>\n",
       "      <td>artists_normal</td>\n",
       "      <td>10000</td>\n",
       "      <td>171.420190</td>\n",
       "    </tr>\n",
       "    <tr>\n",
       "      <th>21</th>\n",
       "      <td>graphframe_bs.py</td>\n",
       "      <td>2</td>\n",
       "      <td>artists_normal</td>\n",
       "      <td>100</td>\n",
       "      <td>115.459558</td>\n",
       "    </tr>\n",
       "    <tr>\n",
       "      <th>22</th>\n",
       "      <td>graphframe_bs.py</td>\n",
       "      <td>2</td>\n",
       "      <td>artists_normal</td>\n",
       "      <td>1000</td>\n",
       "      <td>116.332252</td>\n",
       "    </tr>\n",
       "    <tr>\n",
       "      <th>23</th>\n",
       "      <td>graphframe_bs.py</td>\n",
       "      <td>2</td>\n",
       "      <td>artists_normal</td>\n",
       "      <td>10000</td>\n",
       "      <td>125.264159</td>\n",
       "    </tr>\n",
       "    <tr>\n",
       "      <th>24</th>\n",
       "      <td>graphframe_bs.py</td>\n",
       "      <td>8</td>\n",
       "      <td>artists_normal</td>\n",
       "      <td>100</td>\n",
       "      <td>97.223216</td>\n",
       "    </tr>\n",
       "    <tr>\n",
       "      <th>25</th>\n",
       "      <td>graphframe_bs.py</td>\n",
       "      <td>8</td>\n",
       "      <td>artists_normal</td>\n",
       "      <td>1000</td>\n",
       "      <td>100.388687</td>\n",
       "    </tr>\n",
       "    <tr>\n",
       "      <th>26</th>\n",
       "      <td>graphframe_bs.py</td>\n",
       "      <td>8</td>\n",
       "      <td>artists_normal</td>\n",
       "      <td>10000</td>\n",
       "      <td>102.153714</td>\n",
       "    </tr>\n",
       "    <tr>\n",
       "      <th>27</th>\n",
       "      <td>rdd_bs.py</td>\n",
       "      <td>1</td>\n",
       "      <td>artists_normal</td>\n",
       "      <td>100</td>\n",
       "      <td>972.025111</td>\n",
       "    </tr>\n",
       "    <tr>\n",
       "      <th>28</th>\n",
       "      <td>rdd_bs.py</td>\n",
       "      <td>1</td>\n",
       "      <td>artists_normal</td>\n",
       "      <td>1000</td>\n",
       "      <td>969.147846</td>\n",
       "    </tr>\n",
       "    <tr>\n",
       "      <th>29</th>\n",
       "      <td>rdd_bs.py</td>\n",
       "      <td>1</td>\n",
       "      <td>artists_normal</td>\n",
       "      <td>10000</td>\n",
       "      <td>1095.256856</td>\n",
       "    </tr>\n",
       "    <tr>\n",
       "      <th>30</th>\n",
       "      <td>rdd_bs.py</td>\n",
       "      <td>2</td>\n",
       "      <td>artists_normal</td>\n",
       "      <td>100</td>\n",
       "      <td>678.797678</td>\n",
       "    </tr>\n",
       "    <tr>\n",
       "      <th>31</th>\n",
       "      <td>rdd_bs.py</td>\n",
       "      <td>2</td>\n",
       "      <td>artists_normal</td>\n",
       "      <td>1000</td>\n",
       "      <td>680.400336</td>\n",
       "    </tr>\n",
       "    <tr>\n",
       "      <th>32</th>\n",
       "      <td>rdd_bs.py</td>\n",
       "      <td>2</td>\n",
       "      <td>artists_normal</td>\n",
       "      <td>10000</td>\n",
       "      <td>642.583242</td>\n",
       "    </tr>\n",
       "    <tr>\n",
       "      <th>33</th>\n",
       "      <td>rdd_bs.py</td>\n",
       "      <td>8</td>\n",
       "      <td>artists_normal</td>\n",
       "      <td>100</td>\n",
       "      <td>696.673890</td>\n",
       "    </tr>\n",
       "    <tr>\n",
       "      <th>34</th>\n",
       "      <td>rdd_bs.py</td>\n",
       "      <td>8</td>\n",
       "      <td>artists_normal</td>\n",
       "      <td>1000</td>\n",
       "      <td>734.696522</td>\n",
       "    </tr>\n",
       "    <tr>\n",
       "      <th>35</th>\n",
       "      <td>rdd_bs.py</td>\n",
       "      <td>8</td>\n",
       "      <td>artists_normal</td>\n",
       "      <td>10000</td>\n",
       "      <td>791.771558</td>\n",
       "    </tr>\n",
       "    <tr>\n",
       "      <th>36</th>\n",
       "      <td>graphframe_bs.py</td>\n",
       "      <td>1</td>\n",
       "      <td>artists_power_law</td>\n",
       "      <td>100</td>\n",
       "      <td>208.572351</td>\n",
       "    </tr>\n",
       "    <tr>\n",
       "      <th>37</th>\n",
       "      <td>graphframe_bs.py</td>\n",
       "      <td>1</td>\n",
       "      <td>artists_power_law</td>\n",
       "      <td>1000</td>\n",
       "      <td>231.685311</td>\n",
       "    </tr>\n",
       "    <tr>\n",
       "      <th>38</th>\n",
       "      <td>graphframe_bs.py</td>\n",
       "      <td>1</td>\n",
       "      <td>artists_power_law</td>\n",
       "      <td>10000</td>\n",
       "      <td>200.711345</td>\n",
       "    </tr>\n",
       "    <tr>\n",
       "      <th>39</th>\n",
       "      <td>graphframe_bs.py</td>\n",
       "      <td>2</td>\n",
       "      <td>artists_power_law</td>\n",
       "      <td>100</td>\n",
       "      <td>120.079573</td>\n",
       "    </tr>\n",
       "    <tr>\n",
       "      <th>40</th>\n",
       "      <td>graphframe_bs.py</td>\n",
       "      <td>2</td>\n",
       "      <td>artists_power_law</td>\n",
       "      <td>1000</td>\n",
       "      <td>123.689104</td>\n",
       "    </tr>\n",
       "    <tr>\n",
       "      <th>41</th>\n",
       "      <td>graphframe_bs.py</td>\n",
       "      <td>2</td>\n",
       "      <td>artists_power_law</td>\n",
       "      <td>10000</td>\n",
       "      <td>122.070533</td>\n",
       "    </tr>\n",
       "    <tr>\n",
       "      <th>42</th>\n",
       "      <td>graphframe_bs.py</td>\n",
       "      <td>8</td>\n",
       "      <td>artists_power_law</td>\n",
       "      <td>100</td>\n",
       "      <td>106.027990</td>\n",
       "    </tr>\n",
       "    <tr>\n",
       "      <th>43</th>\n",
       "      <td>graphframe_bs.py</td>\n",
       "      <td>8</td>\n",
       "      <td>artists_power_law</td>\n",
       "      <td>1000</td>\n",
       "      <td>103.514956</td>\n",
       "    </tr>\n",
       "    <tr>\n",
       "      <th>44</th>\n",
       "      <td>graphframe_bs.py</td>\n",
       "      <td>8</td>\n",
       "      <td>artists_power_law</td>\n",
       "      <td>10000</td>\n",
       "      <td>112.547955</td>\n",
       "    </tr>\n",
       "    <tr>\n",
       "      <th>45</th>\n",
       "      <td>rdd_bs.py</td>\n",
       "      <td>1</td>\n",
       "      <td>artists_power_law</td>\n",
       "      <td>100</td>\n",
       "      <td>1298.607670</td>\n",
       "    </tr>\n",
       "    <tr>\n",
       "      <th>46</th>\n",
       "      <td>rdd_bs.py</td>\n",
       "      <td>1</td>\n",
       "      <td>artists_power_law</td>\n",
       "      <td>1000</td>\n",
       "      <td>1149.373480</td>\n",
       "    </tr>\n",
       "    <tr>\n",
       "      <th>47</th>\n",
       "      <td>rdd_bs.py</td>\n",
       "      <td>1</td>\n",
       "      <td>artists_power_law</td>\n",
       "      <td>10000</td>\n",
       "      <td>1001.590389</td>\n",
       "    </tr>\n",
       "    <tr>\n",
       "      <th>48</th>\n",
       "      <td>rdd_bs.py</td>\n",
       "      <td>2</td>\n",
       "      <td>artists_power_law</td>\n",
       "      <td>100</td>\n",
       "      <td>720.857176</td>\n",
       "    </tr>\n",
       "    <tr>\n",
       "      <th>49</th>\n",
       "      <td>rdd_bs.py</td>\n",
       "      <td>2</td>\n",
       "      <td>artists_power_law</td>\n",
       "      <td>1000</td>\n",
       "      <td>639.501554</td>\n",
       "    </tr>\n",
       "    <tr>\n",
       "      <th>50</th>\n",
       "      <td>rdd_bs.py</td>\n",
       "      <td>2</td>\n",
       "      <td>artists_power_law</td>\n",
       "      <td>10000</td>\n",
       "      <td>684.058871</td>\n",
       "    </tr>\n",
       "    <tr>\n",
       "      <th>51</th>\n",
       "      <td>rdd_bs.py</td>\n",
       "      <td>8</td>\n",
       "      <td>artists_power_law</td>\n",
       "      <td>100</td>\n",
       "      <td>619.470722</td>\n",
       "    </tr>\n",
       "    <tr>\n",
       "      <th>52</th>\n",
       "      <td>rdd_bs.py</td>\n",
       "      <td>8</td>\n",
       "      <td>artists_power_law</td>\n",
       "      <td>1000</td>\n",
       "      <td>612.930682</td>\n",
       "    </tr>\n",
       "    <tr>\n",
       "      <th>53</th>\n",
       "      <td>rdd_bs.py</td>\n",
       "      <td>8</td>\n",
       "      <td>artists_power_law</td>\n",
       "      <td>10000</td>\n",
       "      <td>629.243295</td>\n",
       "    </tr>\n",
       "    <tr>\n",
       "      <th>54</th>\n",
       "      <td>graphframe_fast.py</td>\n",
       "      <td>1</td>\n",
       "      <td>artists_uniform</td>\n",
       "      <td>100</td>\n",
       "      <td>51.318227</td>\n",
       "    </tr>\n",
       "    <tr>\n",
       "      <th>55</th>\n",
       "      <td>graphframe_fast.py</td>\n",
       "      <td>1</td>\n",
       "      <td>artists_uniform</td>\n",
       "      <td>1000</td>\n",
       "      <td>47.535658</td>\n",
       "    </tr>\n",
       "    <tr>\n",
       "      <th>56</th>\n",
       "      <td>graphframe_fast.py</td>\n",
       "      <td>1</td>\n",
       "      <td>artists_uniform</td>\n",
       "      <td>10000</td>\n",
       "      <td>104.046643</td>\n",
       "    </tr>\n",
       "    <tr>\n",
       "      <th>57</th>\n",
       "      <td>graphframe_fast.py</td>\n",
       "      <td>2</td>\n",
       "      <td>artists_uniform</td>\n",
       "      <td>100</td>\n",
       "      <td>38.338830</td>\n",
       "    </tr>\n",
       "    <tr>\n",
       "      <th>58</th>\n",
       "      <td>graphframe_fast.py</td>\n",
       "      <td>2</td>\n",
       "      <td>artists_uniform</td>\n",
       "      <td>1000</td>\n",
       "      <td>40.421811</td>\n",
       "    </tr>\n",
       "    <tr>\n",
       "      <th>59</th>\n",
       "      <td>graphframe_fast.py</td>\n",
       "      <td>2</td>\n",
       "      <td>artists_uniform</td>\n",
       "      <td>10000</td>\n",
       "      <td>68.858548</td>\n",
       "    </tr>\n",
       "    <tr>\n",
       "      <th>60</th>\n",
       "      <td>graphframe_fast.py</td>\n",
       "      <td>8</td>\n",
       "      <td>artists_uniform</td>\n",
       "      <td>100</td>\n",
       "      <td>30.663337</td>\n",
       "    </tr>\n",
       "    <tr>\n",
       "      <th>61</th>\n",
       "      <td>graphframe_fast.py</td>\n",
       "      <td>8</td>\n",
       "      <td>artists_uniform</td>\n",
       "      <td>1000</td>\n",
       "      <td>30.346403</td>\n",
       "    </tr>\n",
       "    <tr>\n",
       "      <th>62</th>\n",
       "      <td>graphframe_fast.py</td>\n",
       "      <td>8</td>\n",
       "      <td>artists_uniform</td>\n",
       "      <td>10000</td>\n",
       "      <td>54.657628</td>\n",
       "    </tr>\n",
       "    <tr>\n",
       "      <th>63</th>\n",
       "      <td>graphframe_fast_bv.py</td>\n",
       "      <td>1</td>\n",
       "      <td>artists_uniform</td>\n",
       "      <td>100</td>\n",
       "      <td>47.317804</td>\n",
       "    </tr>\n",
       "    <tr>\n",
       "      <th>64</th>\n",
       "      <td>graphframe_fast_bv.py</td>\n",
       "      <td>1</td>\n",
       "      <td>artists_uniform</td>\n",
       "      <td>1000</td>\n",
       "      <td>47.849335</td>\n",
       "    </tr>\n",
       "    <tr>\n",
       "      <th>65</th>\n",
       "      <td>graphframe_fast_bv.py</td>\n",
       "      <td>1</td>\n",
       "      <td>artists_uniform</td>\n",
       "      <td>10000</td>\n",
       "      <td>140.698397</td>\n",
       "    </tr>\n",
       "    <tr>\n",
       "      <th>66</th>\n",
       "      <td>graphframe_fast_bv.py</td>\n",
       "      <td>2</td>\n",
       "      <td>artists_uniform</td>\n",
       "      <td>100</td>\n",
       "      <td>45.025687</td>\n",
       "    </tr>\n",
       "    <tr>\n",
       "      <th>67</th>\n",
       "      <td>graphframe_fast_bv.py</td>\n",
       "      <td>2</td>\n",
       "      <td>artists_uniform</td>\n",
       "      <td>1000</td>\n",
       "      <td>41.972833</td>\n",
       "    </tr>\n",
       "    <tr>\n",
       "      <th>68</th>\n",
       "      <td>graphframe_fast_bv.py</td>\n",
       "      <td>2</td>\n",
       "      <td>artists_uniform</td>\n",
       "      <td>10000</td>\n",
       "      <td>96.988697</td>\n",
       "    </tr>\n",
       "    <tr>\n",
       "      <th>69</th>\n",
       "      <td>graphframe_fast_bv.py</td>\n",
       "      <td>8</td>\n",
       "      <td>artists_uniform</td>\n",
       "      <td>100</td>\n",
       "      <td>34.374946</td>\n",
       "    </tr>\n",
       "    <tr>\n",
       "      <th>70</th>\n",
       "      <td>graphframe_fast_bv.py</td>\n",
       "      <td>8</td>\n",
       "      <td>artists_uniform</td>\n",
       "      <td>1000</td>\n",
       "      <td>37.806509</td>\n",
       "    </tr>\n",
       "    <tr>\n",
       "      <th>71</th>\n",
       "      <td>graphframe_fast_bv.py</td>\n",
       "      <td>8</td>\n",
       "      <td>artists_uniform</td>\n",
       "      <td>10000</td>\n",
       "      <td>76.804746</td>\n",
       "    </tr>\n",
       "    <tr>\n",
       "      <th>72</th>\n",
       "      <td>rdd_fast.py</td>\n",
       "      <td>1</td>\n",
       "      <td>artists_uniform</td>\n",
       "      <td>100</td>\n",
       "      <td>120.976757</td>\n",
       "    </tr>\n",
       "    <tr>\n",
       "      <th>73</th>\n",
       "      <td>rdd_fast.py</td>\n",
       "      <td>1</td>\n",
       "      <td>artists_uniform</td>\n",
       "      <td>1000</td>\n",
       "      <td>108.511043</td>\n",
       "    </tr>\n",
       "    <tr>\n",
       "      <th>74</th>\n",
       "      <td>rdd_fast.py</td>\n",
       "      <td>1</td>\n",
       "      <td>artists_uniform</td>\n",
       "      <td>10000</td>\n",
       "      <td>120.604017</td>\n",
       "    </tr>\n",
       "    <tr>\n",
       "      <th>75</th>\n",
       "      <td>rdd_fast.py</td>\n",
       "      <td>2</td>\n",
       "      <td>artists_uniform</td>\n",
       "      <td>100</td>\n",
       "      <td>44.089860</td>\n",
       "    </tr>\n",
       "    <tr>\n",
       "      <th>76</th>\n",
       "      <td>rdd_fast.py</td>\n",
       "      <td>2</td>\n",
       "      <td>artists_uniform</td>\n",
       "      <td>1000</td>\n",
       "      <td>44.322692</td>\n",
       "    </tr>\n",
       "    <tr>\n",
       "      <th>77</th>\n",
       "      <td>rdd_fast.py</td>\n",
       "      <td>2</td>\n",
       "      <td>artists_uniform</td>\n",
       "      <td>10000</td>\n",
       "      <td>44.514699</td>\n",
       "    </tr>\n",
       "    <tr>\n",
       "      <th>78</th>\n",
       "      <td>rdd_fast.py</td>\n",
       "      <td>8</td>\n",
       "      <td>artists_uniform</td>\n",
       "      <td>100</td>\n",
       "      <td>39.998893</td>\n",
       "    </tr>\n",
       "    <tr>\n",
       "      <th>79</th>\n",
       "      <td>rdd_fast.py</td>\n",
       "      <td>8</td>\n",
       "      <td>artists_uniform</td>\n",
       "      <td>1000</td>\n",
       "      <td>40.621882</td>\n",
       "    </tr>\n",
       "    <tr>\n",
       "      <th>80</th>\n",
       "      <td>rdd_fast.py</td>\n",
       "      <td>8</td>\n",
       "      <td>artists_uniform</td>\n",
       "      <td>10000</td>\n",
       "      <td>39.820124</td>\n",
       "    </tr>\n",
       "    <tr>\n",
       "      <th>81</th>\n",
       "      <td>rdd_fast_bv.py</td>\n",
       "      <td>1</td>\n",
       "      <td>artists_uniform</td>\n",
       "      <td>100</td>\n",
       "      <td>108.219704</td>\n",
       "    </tr>\n",
       "    <tr>\n",
       "      <th>82</th>\n",
       "      <td>rdd_fast_bv.py</td>\n",
       "      <td>1</td>\n",
       "      <td>artists_uniform</td>\n",
       "      <td>1000</td>\n",
       "      <td>108.947557</td>\n",
       "    </tr>\n",
       "    <tr>\n",
       "      <th>83</th>\n",
       "      <td>rdd_fast_bv.py</td>\n",
       "      <td>1</td>\n",
       "      <td>artists_uniform</td>\n",
       "      <td>10000</td>\n",
       "      <td>108.199210</td>\n",
       "    </tr>\n",
       "    <tr>\n",
       "      <th>84</th>\n",
       "      <td>rdd_fast_bv.py</td>\n",
       "      <td>2</td>\n",
       "      <td>artists_uniform</td>\n",
       "      <td>100</td>\n",
       "      <td>44.179471</td>\n",
       "    </tr>\n",
       "    <tr>\n",
       "      <th>85</th>\n",
       "      <td>rdd_fast_bv.py</td>\n",
       "      <td>2</td>\n",
       "      <td>artists_uniform</td>\n",
       "      <td>1000</td>\n",
       "      <td>44.716676</td>\n",
       "    </tr>\n",
       "    <tr>\n",
       "      <th>86</th>\n",
       "      <td>rdd_fast_bv.py</td>\n",
       "      <td>2</td>\n",
       "      <td>artists_uniform</td>\n",
       "      <td>10000</td>\n",
       "      <td>44.105172</td>\n",
       "    </tr>\n",
       "    <tr>\n",
       "      <th>87</th>\n",
       "      <td>rdd_fast_bv.py</td>\n",
       "      <td>8</td>\n",
       "      <td>artists_uniform</td>\n",
       "      <td>100</td>\n",
       "      <td>40.265189</td>\n",
       "    </tr>\n",
       "    <tr>\n",
       "      <th>88</th>\n",
       "      <td>rdd_fast_bv.py</td>\n",
       "      <td>8</td>\n",
       "      <td>artists_uniform</td>\n",
       "      <td>1000</td>\n",
       "      <td>40.490590</td>\n",
       "    </tr>\n",
       "    <tr>\n",
       "      <th>89</th>\n",
       "      <td>rdd_fast_bv.py</td>\n",
       "      <td>8</td>\n",
       "      <td>artists_uniform</td>\n",
       "      <td>10000</td>\n",
       "      <td>40.432949</td>\n",
       "    </tr>\n",
       "    <tr>\n",
       "      <th>90</th>\n",
       "      <td>graphframe_fast.py</td>\n",
       "      <td>1</td>\n",
       "      <td>artists_normal</td>\n",
       "      <td>100</td>\n",
       "      <td>243.942348</td>\n",
       "    </tr>\n",
       "    <tr>\n",
       "      <th>91</th>\n",
       "      <td>graphframe_fast.py</td>\n",
       "      <td>1</td>\n",
       "      <td>artists_normal</td>\n",
       "      <td>1000</td>\n",
       "      <td>266.607141</td>\n",
       "    </tr>\n",
       "    <tr>\n",
       "      <th>92</th>\n",
       "      <td>graphframe_fast.py</td>\n",
       "      <td>1</td>\n",
       "      <td>artists_normal</td>\n",
       "      <td>10000</td>\n",
       "      <td>368.533890</td>\n",
       "    </tr>\n",
       "    <tr>\n",
       "      <th>93</th>\n",
       "      <td>graphframe_fast.py</td>\n",
       "      <td>2</td>\n",
       "      <td>artists_normal</td>\n",
       "      <td>100</td>\n",
       "      <td>180.063159</td>\n",
       "    </tr>\n",
       "    <tr>\n",
       "      <th>94</th>\n",
       "      <td>graphframe_fast.py</td>\n",
       "      <td>2</td>\n",
       "      <td>artists_normal</td>\n",
       "      <td>1000</td>\n",
       "      <td>189.403063</td>\n",
       "    </tr>\n",
       "    <tr>\n",
       "      <th>95</th>\n",
       "      <td>graphframe_fast.py</td>\n",
       "      <td>2</td>\n",
       "      <td>artists_normal</td>\n",
       "      <td>10000</td>\n",
       "      <td>234.256805</td>\n",
       "    </tr>\n",
       "    <tr>\n",
       "      <th>96</th>\n",
       "      <td>graphframe_fast.py</td>\n",
       "      <td>8</td>\n",
       "      <td>artists_normal</td>\n",
       "      <td>100</td>\n",
       "      <td>151.725425</td>\n",
       "    </tr>\n",
       "    <tr>\n",
       "      <th>97</th>\n",
       "      <td>graphframe_fast.py</td>\n",
       "      <td>8</td>\n",
       "      <td>artists_normal</td>\n",
       "      <td>1000</td>\n",
       "      <td>156.452487</td>\n",
       "    </tr>\n",
       "    <tr>\n",
       "      <th>98</th>\n",
       "      <td>graphframe_fast.py</td>\n",
       "      <td>8</td>\n",
       "      <td>artists_normal</td>\n",
       "      <td>10000</td>\n",
       "      <td>161.010633</td>\n",
       "    </tr>\n",
       "    <tr>\n",
       "      <th>99</th>\n",
       "      <td>graphframe_fast_bv.py</td>\n",
       "      <td>1</td>\n",
       "      <td>artists_normal</td>\n",
       "      <td>100</td>\n",
       "      <td>328.267552</td>\n",
       "    </tr>\n",
       "    <tr>\n",
       "      <th>100</th>\n",
       "      <td>graphframe_fast_bv.py</td>\n",
       "      <td>1</td>\n",
       "      <td>artists_normal</td>\n",
       "      <td>1000</td>\n",
       "      <td>352.260854</td>\n",
       "    </tr>\n",
       "    <tr>\n",
       "      <th>101</th>\n",
       "      <td>graphframe_fast_bv.py</td>\n",
       "      <td>1</td>\n",
       "      <td>artists_normal</td>\n",
       "      <td>10000</td>\n",
       "      <td>524.390983</td>\n",
       "    </tr>\n",
       "    <tr>\n",
       "      <th>102</th>\n",
       "      <td>graphframe_fast_bv.py</td>\n",
       "      <td>2</td>\n",
       "      <td>artists_normal</td>\n",
       "      <td>100</td>\n",
       "      <td>264.949238</td>\n",
       "    </tr>\n",
       "    <tr>\n",
       "      <th>103</th>\n",
       "      <td>graphframe_fast_bv.py</td>\n",
       "      <td>2</td>\n",
       "      <td>artists_normal</td>\n",
       "      <td>1000</td>\n",
       "      <td>242.196098</td>\n",
       "    </tr>\n",
       "    <tr>\n",
       "      <th>104</th>\n",
       "      <td>graphframe_fast_bv.py</td>\n",
       "      <td>2</td>\n",
       "      <td>artists_normal</td>\n",
       "      <td>10000</td>\n",
       "      <td>317.754411</td>\n",
       "    </tr>\n",
       "    <tr>\n",
       "      <th>105</th>\n",
       "      <td>graphframe_fast_bv.py</td>\n",
       "      <td>8</td>\n",
       "      <td>artists_normal</td>\n",
       "      <td>100</td>\n",
       "      <td>156.987680</td>\n",
       "    </tr>\n",
       "    <tr>\n",
       "      <th>106</th>\n",
       "      <td>graphframe_fast_bv.py</td>\n",
       "      <td>8</td>\n",
       "      <td>artists_normal</td>\n",
       "      <td>1000</td>\n",
       "      <td>176.816079</td>\n",
       "    </tr>\n",
       "    <tr>\n",
       "      <th>107</th>\n",
       "      <td>graphframe_fast_bv.py</td>\n",
       "      <td>8</td>\n",
       "      <td>artists_normal</td>\n",
       "      <td>10000</td>\n",
       "      <td>251.561250</td>\n",
       "    </tr>\n",
       "    <tr>\n",
       "      <th>108</th>\n",
       "      <td>rdd_fast.py</td>\n",
       "      <td>1</td>\n",
       "      <td>artists_normal</td>\n",
       "      <td>100</td>\n",
       "      <td>1250.160017</td>\n",
       "    </tr>\n",
       "    <tr>\n",
       "      <th>109</th>\n",
       "      <td>rdd_fast.py</td>\n",
       "      <td>1</td>\n",
       "      <td>artists_normal</td>\n",
       "      <td>1000</td>\n",
       "      <td>1292.269979</td>\n",
       "    </tr>\n",
       "    <tr>\n",
       "      <th>110</th>\n",
       "      <td>rdd_fast.py</td>\n",
       "      <td>1</td>\n",
       "      <td>artists_normal</td>\n",
       "      <td>10000</td>\n",
       "      <td>1560.367499</td>\n",
       "    </tr>\n",
       "    <tr>\n",
       "      <th>111</th>\n",
       "      <td>rdd_fast.py</td>\n",
       "      <td>2</td>\n",
       "      <td>artists_normal</td>\n",
       "      <td>100</td>\n",
       "      <td>730.741029</td>\n",
       "    </tr>\n",
       "    <tr>\n",
       "      <th>112</th>\n",
       "      <td>rdd_fast.py</td>\n",
       "      <td>2</td>\n",
       "      <td>artists_normal</td>\n",
       "      <td>1000</td>\n",
       "      <td>698.012972</td>\n",
       "    </tr>\n",
       "    <tr>\n",
       "      <th>113</th>\n",
       "      <td>rdd_fast.py</td>\n",
       "      <td>2</td>\n",
       "      <td>artists_normal</td>\n",
       "      <td>10000</td>\n",
       "      <td>948.400543</td>\n",
       "    </tr>\n",
       "    <tr>\n",
       "      <th>114</th>\n",
       "      <td>rdd_fast.py</td>\n",
       "      <td>8</td>\n",
       "      <td>artists_normal</td>\n",
       "      <td>100</td>\n",
       "      <td>634.073808</td>\n",
       "    </tr>\n",
       "    <tr>\n",
       "      <th>115</th>\n",
       "      <td>rdd_fast.py</td>\n",
       "      <td>8</td>\n",
       "      <td>artists_normal</td>\n",
       "      <td>1000</td>\n",
       "      <td>707.041615</td>\n",
       "    </tr>\n",
       "    <tr>\n",
       "      <th>116</th>\n",
       "      <td>rdd_fast.py</td>\n",
       "      <td>8</td>\n",
       "      <td>artists_normal</td>\n",
       "      <td>10000</td>\n",
       "      <td>975.338065</td>\n",
       "    </tr>\n",
       "    <tr>\n",
       "      <th>117</th>\n",
       "      <td>rdd_fast_bv.py</td>\n",
       "      <td>1</td>\n",
       "      <td>artists_normal</td>\n",
       "      <td>100</td>\n",
       "      <td>971.059878</td>\n",
       "    </tr>\n",
       "    <tr>\n",
       "      <th>118</th>\n",
       "      <td>rdd_fast_bv.py</td>\n",
       "      <td>1</td>\n",
       "      <td>artists_normal</td>\n",
       "      <td>1000</td>\n",
       "      <td>1227.704351</td>\n",
       "    </tr>\n",
       "    <tr>\n",
       "      <th>119</th>\n",
       "      <td>rdd_fast_bv.py</td>\n",
       "      <td>1</td>\n",
       "      <td>artists_normal</td>\n",
       "      <td>10000</td>\n",
       "      <td>1792.721759</td>\n",
       "    </tr>\n",
       "    <tr>\n",
       "      <th>120</th>\n",
       "      <td>rdd_fast_bv.py</td>\n",
       "      <td>2</td>\n",
       "      <td>artists_normal</td>\n",
       "      <td>100</td>\n",
       "      <td>708.752008</td>\n",
       "    </tr>\n",
       "    <tr>\n",
       "      <th>121</th>\n",
       "      <td>rdd_fast_bv.py</td>\n",
       "      <td>2</td>\n",
       "      <td>artists_normal</td>\n",
       "      <td>1000</td>\n",
       "      <td>836.335592</td>\n",
       "    </tr>\n",
       "    <tr>\n",
       "      <th>122</th>\n",
       "      <td>rdd_fast_bv.py</td>\n",
       "      <td>2</td>\n",
       "      <td>artists_normal</td>\n",
       "      <td>10000</td>\n",
       "      <td>1211.058084</td>\n",
       "    </tr>\n",
       "    <tr>\n",
       "      <th>123</th>\n",
       "      <td>rdd_fast_bv.py</td>\n",
       "      <td>8</td>\n",
       "      <td>artists_normal</td>\n",
       "      <td>100</td>\n",
       "      <td>529.030965</td>\n",
       "    </tr>\n",
       "    <tr>\n",
       "      <th>124</th>\n",
       "      <td>rdd_fast_bv.py</td>\n",
       "      <td>8</td>\n",
       "      <td>artists_normal</td>\n",
       "      <td>1000</td>\n",
       "      <td>648.894012</td>\n",
       "    </tr>\n",
       "    <tr>\n",
       "      <th>125</th>\n",
       "      <td>rdd_fast_bv.py</td>\n",
       "      <td>8</td>\n",
       "      <td>artists_normal</td>\n",
       "      <td>10000</td>\n",
       "      <td>944.360522</td>\n",
       "    </tr>\n",
       "    <tr>\n",
       "      <th>126</th>\n",
       "      <td>graphframe_fast.py</td>\n",
       "      <td>1</td>\n",
       "      <td>artists_power_law</td>\n",
       "      <td>100</td>\n",
       "      <td>54.235363</td>\n",
       "    </tr>\n",
       "    <tr>\n",
       "      <th>127</th>\n",
       "      <td>graphframe_fast.py</td>\n",
       "      <td>1</td>\n",
       "      <td>artists_power_law</td>\n",
       "      <td>1000</td>\n",
       "      <td>53.410265</td>\n",
       "    </tr>\n",
       "    <tr>\n",
       "      <th>128</th>\n",
       "      <td>graphframe_fast.py</td>\n",
       "      <td>1</td>\n",
       "      <td>artists_power_law</td>\n",
       "      <td>10000</td>\n",
       "      <td>145.870339</td>\n",
       "    </tr>\n",
       "    <tr>\n",
       "      <th>129</th>\n",
       "      <td>graphframe_fast.py</td>\n",
       "      <td>2</td>\n",
       "      <td>artists_power_law</td>\n",
       "      <td>100</td>\n",
       "      <td>40.701214</td>\n",
       "    </tr>\n",
       "    <tr>\n",
       "      <th>130</th>\n",
       "      <td>graphframe_fast.py</td>\n",
       "      <td>2</td>\n",
       "      <td>artists_power_law</td>\n",
       "      <td>1000</td>\n",
       "      <td>36.035827</td>\n",
       "    </tr>\n",
       "    <tr>\n",
       "      <th>131</th>\n",
       "      <td>graphframe_fast.py</td>\n",
       "      <td>2</td>\n",
       "      <td>artists_power_law</td>\n",
       "      <td>10000</td>\n",
       "      <td>94.186221</td>\n",
       "    </tr>\n",
       "    <tr>\n",
       "      <th>132</th>\n",
       "      <td>graphframe_fast.py</td>\n",
       "      <td>8</td>\n",
       "      <td>artists_power_law</td>\n",
       "      <td>100</td>\n",
       "      <td>31.978121</td>\n",
       "    </tr>\n",
       "    <tr>\n",
       "      <th>133</th>\n",
       "      <td>graphframe_fast.py</td>\n",
       "      <td>8</td>\n",
       "      <td>artists_power_law</td>\n",
       "      <td>1000</td>\n",
       "      <td>31.587927</td>\n",
       "    </tr>\n",
       "    <tr>\n",
       "      <th>134</th>\n",
       "      <td>graphframe_fast.py</td>\n",
       "      <td>8</td>\n",
       "      <td>artists_power_law</td>\n",
       "      <td>10000</td>\n",
       "      <td>73.006995</td>\n",
       "    </tr>\n",
       "    <tr>\n",
       "      <th>135</th>\n",
       "      <td>graphframe_fast_bv.py</td>\n",
       "      <td>1</td>\n",
       "      <td>artists_power_law</td>\n",
       "      <td>100</td>\n",
       "      <td>47.600462</td>\n",
       "    </tr>\n",
       "    <tr>\n",
       "      <th>136</th>\n",
       "      <td>graphframe_fast_bv.py</td>\n",
       "      <td>1</td>\n",
       "      <td>artists_power_law</td>\n",
       "      <td>1000</td>\n",
       "      <td>45.486901</td>\n",
       "    </tr>\n",
       "    <tr>\n",
       "      <th>137</th>\n",
       "      <td>graphframe_fast_bv.py</td>\n",
       "      <td>1</td>\n",
       "      <td>artists_power_law</td>\n",
       "      <td>10000</td>\n",
       "      <td>176.010026</td>\n",
       "    </tr>\n",
       "    <tr>\n",
       "      <th>138</th>\n",
       "      <td>graphframe_fast_bv.py</td>\n",
       "      <td>2</td>\n",
       "      <td>artists_power_law</td>\n",
       "      <td>100</td>\n",
       "      <td>34.990157</td>\n",
       "    </tr>\n",
       "    <tr>\n",
       "      <th>139</th>\n",
       "      <td>graphframe_fast_bv.py</td>\n",
       "      <td>2</td>\n",
       "      <td>artists_power_law</td>\n",
       "      <td>1000</td>\n",
       "      <td>36.104370</td>\n",
       "    </tr>\n",
       "    <tr>\n",
       "      <th>140</th>\n",
       "      <td>graphframe_fast_bv.py</td>\n",
       "      <td>2</td>\n",
       "      <td>artists_power_law</td>\n",
       "      <td>10000</td>\n",
       "      <td>123.809755</td>\n",
       "    </tr>\n",
       "    <tr>\n",
       "      <th>141</th>\n",
       "      <td>graphframe_fast_bv.py</td>\n",
       "      <td>8</td>\n",
       "      <td>artists_power_law</td>\n",
       "      <td>100</td>\n",
       "      <td>31.990183</td>\n",
       "    </tr>\n",
       "    <tr>\n",
       "      <th>142</th>\n",
       "      <td>graphframe_fast_bv.py</td>\n",
       "      <td>8</td>\n",
       "      <td>artists_power_law</td>\n",
       "      <td>1000</td>\n",
       "      <td>32.145957</td>\n",
       "    </tr>\n",
       "    <tr>\n",
       "      <th>143</th>\n",
       "      <td>graphframe_fast_bv.py</td>\n",
       "      <td>8</td>\n",
       "      <td>artists_power_law</td>\n",
       "      <td>10000</td>\n",
       "      <td>100.433890</td>\n",
       "    </tr>\n",
       "    <tr>\n",
       "      <th>144</th>\n",
       "      <td>rdd_fast.py</td>\n",
       "      <td>1</td>\n",
       "      <td>artists_power_law</td>\n",
       "      <td>100</td>\n",
       "      <td>42.217030</td>\n",
       "    </tr>\n",
       "    <tr>\n",
       "      <th>145</th>\n",
       "      <td>rdd_fast.py</td>\n",
       "      <td>1</td>\n",
       "      <td>artists_power_law</td>\n",
       "      <td>1000</td>\n",
       "      <td>42.279254</td>\n",
       "    </tr>\n",
       "    <tr>\n",
       "      <th>146</th>\n",
       "      <td>rdd_fast.py</td>\n",
       "      <td>1</td>\n",
       "      <td>artists_power_law</td>\n",
       "      <td>10000</td>\n",
       "      <td>128.465081</td>\n",
       "    </tr>\n",
       "    <tr>\n",
       "      <th>147</th>\n",
       "      <td>rdd_fast.py</td>\n",
       "      <td>2</td>\n",
       "      <td>artists_power_law</td>\n",
       "      <td>100</td>\n",
       "      <td>32.696187</td>\n",
       "    </tr>\n",
       "    <tr>\n",
       "      <th>148</th>\n",
       "      <td>rdd_fast.py</td>\n",
       "      <td>2</td>\n",
       "      <td>artists_power_law</td>\n",
       "      <td>1000</td>\n",
       "      <td>32.537802</td>\n",
       "    </tr>\n",
       "    <tr>\n",
       "      <th>149</th>\n",
       "      <td>rdd_fast.py</td>\n",
       "      <td>2</td>\n",
       "      <td>artists_power_law</td>\n",
       "      <td>10000</td>\n",
       "      <td>57.076413</td>\n",
       "    </tr>\n",
       "    <tr>\n",
       "      <th>150</th>\n",
       "      <td>rdd_fast.py</td>\n",
       "      <td>8</td>\n",
       "      <td>artists_power_law</td>\n",
       "      <td>100</td>\n",
       "      <td>30.933137</td>\n",
       "    </tr>\n",
       "    <tr>\n",
       "      <th>151</th>\n",
       "      <td>rdd_fast.py</td>\n",
       "      <td>8</td>\n",
       "      <td>artists_power_law</td>\n",
       "      <td>1000</td>\n",
       "      <td>30.633403</td>\n",
       "    </tr>\n",
       "    <tr>\n",
       "      <th>152</th>\n",
       "      <td>rdd_fast.py</td>\n",
       "      <td>8</td>\n",
       "      <td>artists_power_law</td>\n",
       "      <td>10000</td>\n",
       "      <td>52.499243</td>\n",
       "    </tr>\n",
       "    <tr>\n",
       "      <th>153</th>\n",
       "      <td>rdd_fast_bv.py</td>\n",
       "      <td>1</td>\n",
       "      <td>artists_power_law</td>\n",
       "      <td>100</td>\n",
       "      <td>42.781706</td>\n",
       "    </tr>\n",
       "    <tr>\n",
       "      <th>154</th>\n",
       "      <td>rdd_fast_bv.py</td>\n",
       "      <td>1</td>\n",
       "      <td>artists_power_law</td>\n",
       "      <td>1000</td>\n",
       "      <td>42.115637</td>\n",
       "    </tr>\n",
       "    <tr>\n",
       "      <th>155</th>\n",
       "      <td>rdd_fast_bv.py</td>\n",
       "      <td>1</td>\n",
       "      <td>artists_power_law</td>\n",
       "      <td>10000</td>\n",
       "      <td>129.378107</td>\n",
       "    </tr>\n",
       "    <tr>\n",
       "      <th>156</th>\n",
       "      <td>rdd_fast_bv.py</td>\n",
       "      <td>2</td>\n",
       "      <td>artists_power_law</td>\n",
       "      <td>100</td>\n",
       "      <td>33.559618</td>\n",
       "    </tr>\n",
       "    <tr>\n",
       "      <th>157</th>\n",
       "      <td>rdd_fast_bv.py</td>\n",
       "      <td>2</td>\n",
       "      <td>artists_power_law</td>\n",
       "      <td>1000</td>\n",
       "      <td>32.960231</td>\n",
       "    </tr>\n",
       "    <tr>\n",
       "      <th>158</th>\n",
       "      <td>rdd_fast_bv.py</td>\n",
       "      <td>2</td>\n",
       "      <td>artists_power_law</td>\n",
       "      <td>10000</td>\n",
       "      <td>58.025037</td>\n",
       "    </tr>\n",
       "    <tr>\n",
       "      <th>159</th>\n",
       "      <td>rdd_fast_bv.py</td>\n",
       "      <td>8</td>\n",
       "      <td>artists_power_law</td>\n",
       "      <td>100</td>\n",
       "      <td>31.493060</td>\n",
       "    </tr>\n",
       "    <tr>\n",
       "      <th>160</th>\n",
       "      <td>rdd_fast_bv.py</td>\n",
       "      <td>8</td>\n",
       "      <td>artists_power_law</td>\n",
       "      <td>1000</td>\n",
       "      <td>31.303999</td>\n",
       "    </tr>\n",
       "    <tr>\n",
       "      <th>161</th>\n",
       "      <td>rdd_fast_bv.py</td>\n",
       "      <td>8</td>\n",
       "      <td>artists_power_law</td>\n",
       "      <td>10000</td>\n",
       "      <td>55.579540</td>\n",
       "    </tr>\n",
       "  </tbody>\n",
       "</table>\n",
       "</div>"
      ],
      "text/plain": [
       "                    script  cores            dataset      k         time\n",
       "0         graphframe_bs.py      1    artists_uniform    100   210.744795\n",
       "1         graphframe_bs.py      1    artists_uniform   1000   202.733053\n",
       "2         graphframe_bs.py      1    artists_uniform  10000   205.797122\n",
       "3         graphframe_bs.py      2    artists_uniform    100   134.536940\n",
       "4         graphframe_bs.py      2    artists_uniform   1000   136.553836\n",
       "5         graphframe_bs.py      2    artists_uniform  10000   136.371078\n",
       "6         graphframe_bs.py      8    artists_uniform    100   121.458325\n",
       "7         graphframe_bs.py      8    artists_uniform   1000   114.910138\n",
       "8         graphframe_bs.py      8    artists_uniform  10000   122.056432\n",
       "9                rdd_bs.py      1    artists_uniform    100   965.181294\n",
       "10               rdd_bs.py      1    artists_uniform   1000   955.533646\n",
       "11               rdd_bs.py      1    artists_uniform  10000   971.082350\n",
       "12               rdd_bs.py      2    artists_uniform    100   618.113658\n",
       "13               rdd_bs.py      2    artists_uniform   1000   618.702299\n",
       "14               rdd_bs.py      2    artists_uniform  10000   615.560786\n",
       "15               rdd_bs.py      8    artists_uniform    100   618.411500\n",
       "16               rdd_bs.py      8    artists_uniform   1000   626.013874\n",
       "17               rdd_bs.py      8    artists_uniform  10000   618.539541\n",
       "18        graphframe_bs.py      1     artists_normal    100   169.345839\n",
       "19        graphframe_bs.py      1     artists_normal   1000   169.630866\n",
       "20        graphframe_bs.py      1     artists_normal  10000   171.420190\n",
       "21        graphframe_bs.py      2     artists_normal    100   115.459558\n",
       "22        graphframe_bs.py      2     artists_normal   1000   116.332252\n",
       "23        graphframe_bs.py      2     artists_normal  10000   125.264159\n",
       "24        graphframe_bs.py      8     artists_normal    100    97.223216\n",
       "25        graphframe_bs.py      8     artists_normal   1000   100.388687\n",
       "26        graphframe_bs.py      8     artists_normal  10000   102.153714\n",
       "27               rdd_bs.py      1     artists_normal    100   972.025111\n",
       "28               rdd_bs.py      1     artists_normal   1000   969.147846\n",
       "29               rdd_bs.py      1     artists_normal  10000  1095.256856\n",
       "30               rdd_bs.py      2     artists_normal    100   678.797678\n",
       "31               rdd_bs.py      2     artists_normal   1000   680.400336\n",
       "32               rdd_bs.py      2     artists_normal  10000   642.583242\n",
       "33               rdd_bs.py      8     artists_normal    100   696.673890\n",
       "34               rdd_bs.py      8     artists_normal   1000   734.696522\n",
       "35               rdd_bs.py      8     artists_normal  10000   791.771558\n",
       "36        graphframe_bs.py      1  artists_power_law    100   208.572351\n",
       "37        graphframe_bs.py      1  artists_power_law   1000   231.685311\n",
       "38        graphframe_bs.py      1  artists_power_law  10000   200.711345\n",
       "39        graphframe_bs.py      2  artists_power_law    100   120.079573\n",
       "40        graphframe_bs.py      2  artists_power_law   1000   123.689104\n",
       "41        graphframe_bs.py      2  artists_power_law  10000   122.070533\n",
       "42        graphframe_bs.py      8  artists_power_law    100   106.027990\n",
       "43        graphframe_bs.py      8  artists_power_law   1000   103.514956\n",
       "44        graphframe_bs.py      8  artists_power_law  10000   112.547955\n",
       "45               rdd_bs.py      1  artists_power_law    100  1298.607670\n",
       "46               rdd_bs.py      1  artists_power_law   1000  1149.373480\n",
       "47               rdd_bs.py      1  artists_power_law  10000  1001.590389\n",
       "48               rdd_bs.py      2  artists_power_law    100   720.857176\n",
       "49               rdd_bs.py      2  artists_power_law   1000   639.501554\n",
       "50               rdd_bs.py      2  artists_power_law  10000   684.058871\n",
       "51               rdd_bs.py      8  artists_power_law    100   619.470722\n",
       "52               rdd_bs.py      8  artists_power_law   1000   612.930682\n",
       "53               rdd_bs.py      8  artists_power_law  10000   629.243295\n",
       "54      graphframe_fast.py      1    artists_uniform    100    51.318227\n",
       "55      graphframe_fast.py      1    artists_uniform   1000    47.535658\n",
       "56      graphframe_fast.py      1    artists_uniform  10000   104.046643\n",
       "57      graphframe_fast.py      2    artists_uniform    100    38.338830\n",
       "58      graphframe_fast.py      2    artists_uniform   1000    40.421811\n",
       "59      graphframe_fast.py      2    artists_uniform  10000    68.858548\n",
       "60      graphframe_fast.py      8    artists_uniform    100    30.663337\n",
       "61      graphframe_fast.py      8    artists_uniform   1000    30.346403\n",
       "62      graphframe_fast.py      8    artists_uniform  10000    54.657628\n",
       "63   graphframe_fast_bv.py      1    artists_uniform    100    47.317804\n",
       "64   graphframe_fast_bv.py      1    artists_uniform   1000    47.849335\n",
       "65   graphframe_fast_bv.py      1    artists_uniform  10000   140.698397\n",
       "66   graphframe_fast_bv.py      2    artists_uniform    100    45.025687\n",
       "67   graphframe_fast_bv.py      2    artists_uniform   1000    41.972833\n",
       "68   graphframe_fast_bv.py      2    artists_uniform  10000    96.988697\n",
       "69   graphframe_fast_bv.py      8    artists_uniform    100    34.374946\n",
       "70   graphframe_fast_bv.py      8    artists_uniform   1000    37.806509\n",
       "71   graphframe_fast_bv.py      8    artists_uniform  10000    76.804746\n",
       "72             rdd_fast.py      1    artists_uniform    100   120.976757\n",
       "73             rdd_fast.py      1    artists_uniform   1000   108.511043\n",
       "74             rdd_fast.py      1    artists_uniform  10000   120.604017\n",
       "75             rdd_fast.py      2    artists_uniform    100    44.089860\n",
       "76             rdd_fast.py      2    artists_uniform   1000    44.322692\n",
       "77             rdd_fast.py      2    artists_uniform  10000    44.514699\n",
       "78             rdd_fast.py      8    artists_uniform    100    39.998893\n",
       "79             rdd_fast.py      8    artists_uniform   1000    40.621882\n",
       "80             rdd_fast.py      8    artists_uniform  10000    39.820124\n",
       "81          rdd_fast_bv.py      1    artists_uniform    100   108.219704\n",
       "82          rdd_fast_bv.py      1    artists_uniform   1000   108.947557\n",
       "83          rdd_fast_bv.py      1    artists_uniform  10000   108.199210\n",
       "84          rdd_fast_bv.py      2    artists_uniform    100    44.179471\n",
       "85          rdd_fast_bv.py      2    artists_uniform   1000    44.716676\n",
       "86          rdd_fast_bv.py      2    artists_uniform  10000    44.105172\n",
       "87          rdd_fast_bv.py      8    artists_uniform    100    40.265189\n",
       "88          rdd_fast_bv.py      8    artists_uniform   1000    40.490590\n",
       "89          rdd_fast_bv.py      8    artists_uniform  10000    40.432949\n",
       "90      graphframe_fast.py      1     artists_normal    100   243.942348\n",
       "91      graphframe_fast.py      1     artists_normal   1000   266.607141\n",
       "92      graphframe_fast.py      1     artists_normal  10000   368.533890\n",
       "93      graphframe_fast.py      2     artists_normal    100   180.063159\n",
       "94      graphframe_fast.py      2     artists_normal   1000   189.403063\n",
       "95      graphframe_fast.py      2     artists_normal  10000   234.256805\n",
       "96      graphframe_fast.py      8     artists_normal    100   151.725425\n",
       "97      graphframe_fast.py      8     artists_normal   1000   156.452487\n",
       "98      graphframe_fast.py      8     artists_normal  10000   161.010633\n",
       "99   graphframe_fast_bv.py      1     artists_normal    100   328.267552\n",
       "100  graphframe_fast_bv.py      1     artists_normal   1000   352.260854\n",
       "101  graphframe_fast_bv.py      1     artists_normal  10000   524.390983\n",
       "102  graphframe_fast_bv.py      2     artists_normal    100   264.949238\n",
       "103  graphframe_fast_bv.py      2     artists_normal   1000   242.196098\n",
       "104  graphframe_fast_bv.py      2     artists_normal  10000   317.754411\n",
       "105  graphframe_fast_bv.py      8     artists_normal    100   156.987680\n",
       "106  graphframe_fast_bv.py      8     artists_normal   1000   176.816079\n",
       "107  graphframe_fast_bv.py      8     artists_normal  10000   251.561250\n",
       "108            rdd_fast.py      1     artists_normal    100  1250.160017\n",
       "109            rdd_fast.py      1     artists_normal   1000  1292.269979\n",
       "110            rdd_fast.py      1     artists_normal  10000  1560.367499\n",
       "111            rdd_fast.py      2     artists_normal    100   730.741029\n",
       "112            rdd_fast.py      2     artists_normal   1000   698.012972\n",
       "113            rdd_fast.py      2     artists_normal  10000   948.400543\n",
       "114            rdd_fast.py      8     artists_normal    100   634.073808\n",
       "115            rdd_fast.py      8     artists_normal   1000   707.041615\n",
       "116            rdd_fast.py      8     artists_normal  10000   975.338065\n",
       "117         rdd_fast_bv.py      1     artists_normal    100   971.059878\n",
       "118         rdd_fast_bv.py      1     artists_normal   1000  1227.704351\n",
       "119         rdd_fast_bv.py      1     artists_normal  10000  1792.721759\n",
       "120         rdd_fast_bv.py      2     artists_normal    100   708.752008\n",
       "121         rdd_fast_bv.py      2     artists_normal   1000   836.335592\n",
       "122         rdd_fast_bv.py      2     artists_normal  10000  1211.058084\n",
       "123         rdd_fast_bv.py      8     artists_normal    100   529.030965\n",
       "124         rdd_fast_bv.py      8     artists_normal   1000   648.894012\n",
       "125         rdd_fast_bv.py      8     artists_normal  10000   944.360522\n",
       "126     graphframe_fast.py      1  artists_power_law    100    54.235363\n",
       "127     graphframe_fast.py      1  artists_power_law   1000    53.410265\n",
       "128     graphframe_fast.py      1  artists_power_law  10000   145.870339\n",
       "129     graphframe_fast.py      2  artists_power_law    100    40.701214\n",
       "130     graphframe_fast.py      2  artists_power_law   1000    36.035827\n",
       "131     graphframe_fast.py      2  artists_power_law  10000    94.186221\n",
       "132     graphframe_fast.py      8  artists_power_law    100    31.978121\n",
       "133     graphframe_fast.py      8  artists_power_law   1000    31.587927\n",
       "134     graphframe_fast.py      8  artists_power_law  10000    73.006995\n",
       "135  graphframe_fast_bv.py      1  artists_power_law    100    47.600462\n",
       "136  graphframe_fast_bv.py      1  artists_power_law   1000    45.486901\n",
       "137  graphframe_fast_bv.py      1  artists_power_law  10000   176.010026\n",
       "138  graphframe_fast_bv.py      2  artists_power_law    100    34.990157\n",
       "139  graphframe_fast_bv.py      2  artists_power_law   1000    36.104370\n",
       "140  graphframe_fast_bv.py      2  artists_power_law  10000   123.809755\n",
       "141  graphframe_fast_bv.py      8  artists_power_law    100    31.990183\n",
       "142  graphframe_fast_bv.py      8  artists_power_law   1000    32.145957\n",
       "143  graphframe_fast_bv.py      8  artists_power_law  10000   100.433890\n",
       "144            rdd_fast.py      1  artists_power_law    100    42.217030\n",
       "145            rdd_fast.py      1  artists_power_law   1000    42.279254\n",
       "146            rdd_fast.py      1  artists_power_law  10000   128.465081\n",
       "147            rdd_fast.py      2  artists_power_law    100    32.696187\n",
       "148            rdd_fast.py      2  artists_power_law   1000    32.537802\n",
       "149            rdd_fast.py      2  artists_power_law  10000    57.076413\n",
       "150            rdd_fast.py      8  artists_power_law    100    30.933137\n",
       "151            rdd_fast.py      8  artists_power_law   1000    30.633403\n",
       "152            rdd_fast.py      8  artists_power_law  10000    52.499243\n",
       "153         rdd_fast_bv.py      1  artists_power_law    100    42.781706\n",
       "154         rdd_fast_bv.py      1  artists_power_law   1000    42.115637\n",
       "155         rdd_fast_bv.py      1  artists_power_law  10000   129.378107\n",
       "156         rdd_fast_bv.py      2  artists_power_law    100    33.559618\n",
       "157         rdd_fast_bv.py      2  artists_power_law   1000    32.960231\n",
       "158         rdd_fast_bv.py      2  artists_power_law  10000    58.025037\n",
       "159         rdd_fast_bv.py      8  artists_power_law    100    31.493060\n",
       "160         rdd_fast_bv.py      8  artists_power_law   1000    31.303999\n",
       "161         rdd_fast_bv.py      8  artists_power_law  10000    55.579540"
      ]
     },
     "execution_count": 4,
     "metadata": {},
     "output_type": "execute_result"
    }
   ],
   "source": [
    "# Check experiments\n",
    "pd.set_option('display.max_rows', 200)\n",
    "experiments_df"
   ]
  },
  {
   "cell_type": "markdown",
   "id": "reported-agent",
   "metadata": {},
   "source": [
    "**There are 4 different variables (degrees of freedom). I must visualize the efect of each one in running times.**\n",
    "\n",
    "1. Scripts (Algorithms)\n",
    "    * Graphframes\n",
    "    * Rdd\n",
    "    * Best graphframes + rdd\n",
    "\n",
    "2. Cores\n",
    "\n",
    "3. Distribution\n",
    "\n",
    "4. k"
   ]
  },
  {
   "cell_type": "markdown",
   "id": "foster-edgar",
   "metadata": {},
   "source": [
    "**`Experiments` file: Degrees of Freedom**\n",
    "\n",
    "1. scripts = [\"graphframe_bs.py\", \"graphframe_fast.py\", \"graphframe_fast_bv.py\", \"rdd_bs.py\", \"rdd_fast.py\", \"rdd_fast_bv.py\"]\n",
    "2. cores = [1,2,8]\n",
    "3. dataset in [\"artists_uniform\", \"artists_normal\", \"artists_power_law\"]\n",
    "4. k in [100, 1000, 10000]"
   ]
  },
  {
   "cell_type": "code",
   "execution_count": 5,
   "id": "rural-springer",
   "metadata": {},
   "outputs": [
    {
     "name": "stdout",
     "output_type": "stream",
     "text": [
      "(162, 5)\n",
      "162\n"
     ]
    }
   ],
   "source": [
    "print(experiments_df.shape)\n",
    "print(6 * 3 * 3 * 3)"
   ]
  },
  {
   "cell_type": "code",
   "execution_count": 6,
   "id": "narrative-commander",
   "metadata": {},
   "outputs": [
    {
     "data": {
      "text/html": [
       "<div>\n",
       "<style scoped>\n",
       "    .dataframe tbody tr th:only-of-type {\n",
       "        vertical-align: middle;\n",
       "    }\n",
       "\n",
       "    .dataframe tbody tr th {\n",
       "        vertical-align: top;\n",
       "    }\n",
       "\n",
       "    .dataframe thead th {\n",
       "        text-align: right;\n",
       "    }\n",
       "</style>\n",
       "<table border=\"1\" class=\"dataframe\">\n",
       "  <thead>\n",
       "    <tr style=\"text-align: right;\">\n",
       "      <th></th>\n",
       "      <th>script</th>\n",
       "      <th>cores</th>\n",
       "      <th>dataset</th>\n",
       "      <th>k</th>\n",
       "      <th>time</th>\n",
       "    </tr>\n",
       "  </thead>\n",
       "  <tbody>\n",
       "    <tr>\n",
       "      <th>0</th>\n",
       "      <td>graphframe_fast.py</td>\n",
       "      <td>8</td>\n",
       "      <td>artists_normal</td>\n",
       "      <td>100</td>\n",
       "      <td>91.375761</td>\n",
       "    </tr>\n",
       "    <tr>\n",
       "      <th>1</th>\n",
       "      <td>graphframe_fast.py</td>\n",
       "      <td>8</td>\n",
       "      <td>artists_normal</td>\n",
       "      <td>1000</td>\n",
       "      <td>96.046723</td>\n",
       "    </tr>\n",
       "    <tr>\n",
       "      <th>2</th>\n",
       "      <td>graphframe_fast.py</td>\n",
       "      <td>8</td>\n",
       "      <td>artists_normal</td>\n",
       "      <td>10000</td>\n",
       "      <td>100.084750</td>\n",
       "    </tr>\n",
       "    <tr>\n",
       "      <th>3</th>\n",
       "      <td>graphframe_fast_bv.py</td>\n",
       "      <td>8</td>\n",
       "      <td>artists_normal</td>\n",
       "      <td>100</td>\n",
       "      <td>124.936311</td>\n",
       "    </tr>\n",
       "    <tr>\n",
       "      <th>4</th>\n",
       "      <td>graphframe_fast_bv.py</td>\n",
       "      <td>8</td>\n",
       "      <td>artists_normal</td>\n",
       "      <td>1000</td>\n",
       "      <td>141.315205</td>\n",
       "    </tr>\n",
       "    <tr>\n",
       "      <th>5</th>\n",
       "      <td>graphframe_fast_bv.py</td>\n",
       "      <td>8</td>\n",
       "      <td>artists_normal</td>\n",
       "      <td>10000</td>\n",
       "      <td>166.221728</td>\n",
       "    </tr>\n",
       "    <tr>\n",
       "      <th>6</th>\n",
       "      <td>rdd_fast.py</td>\n",
       "      <td>8</td>\n",
       "      <td>artists_normal</td>\n",
       "      <td>100</td>\n",
       "      <td>612.636081</td>\n",
       "    </tr>\n",
       "    <tr>\n",
       "      <th>7</th>\n",
       "      <td>rdd_fast.py</td>\n",
       "      <td>8</td>\n",
       "      <td>artists_normal</td>\n",
       "      <td>1000</td>\n",
       "      <td>601.980574</td>\n",
       "    </tr>\n",
       "    <tr>\n",
       "      <th>8</th>\n",
       "      <td>rdd_fast.py</td>\n",
       "      <td>8</td>\n",
       "      <td>artists_normal</td>\n",
       "      <td>10000</td>\n",
       "      <td>631.107980</td>\n",
       "    </tr>\n",
       "    <tr>\n",
       "      <th>9</th>\n",
       "      <td>rdd_fast_bv.py</td>\n",
       "      <td>8</td>\n",
       "      <td>artists_normal</td>\n",
       "      <td>100</td>\n",
       "      <td>509.034063</td>\n",
       "    </tr>\n",
       "    <tr>\n",
       "      <th>10</th>\n",
       "      <td>rdd_fast_bv.py</td>\n",
       "      <td>8</td>\n",
       "      <td>artists_normal</td>\n",
       "      <td>1000</td>\n",
       "      <td>593.564016</td>\n",
       "    </tr>\n",
       "    <tr>\n",
       "      <th>11</th>\n",
       "      <td>rdd_fast_bv.py</td>\n",
       "      <td>8</td>\n",
       "      <td>artists_normal</td>\n",
       "      <td>10000</td>\n",
       "      <td>618.958427</td>\n",
       "    </tr>\n",
       "  </tbody>\n",
       "</table>\n",
       "</div>"
      ],
      "text/plain": [
       "                   script  cores         dataset      k        time\n",
       "0      graphframe_fast.py      8  artists_normal    100   91.375761\n",
       "1      graphframe_fast.py      8  artists_normal   1000   96.046723\n",
       "2      graphframe_fast.py      8  artists_normal  10000  100.084750\n",
       "3   graphframe_fast_bv.py      8  artists_normal    100  124.936311\n",
       "4   graphframe_fast_bv.py      8  artists_normal   1000  141.315205\n",
       "5   graphframe_fast_bv.py      8  artists_normal  10000  166.221728\n",
       "6             rdd_fast.py      8  artists_normal    100  612.636081\n",
       "7             rdd_fast.py      8  artists_normal   1000  601.980574\n",
       "8             rdd_fast.py      8  artists_normal  10000  631.107980\n",
       "9          rdd_fast_bv.py      8  artists_normal    100  509.034063\n",
       "10         rdd_fast_bv.py      8  artists_normal   1000  593.564016\n",
       "11         rdd_fast_bv.py      8  artists_normal  10000  618.958427"
      ]
     },
     "execution_count": 6,
     "metadata": {},
     "output_type": "execute_result"
    }
   ],
   "source": [
    "# Check experiments_threshold_05_df\n",
    "experiments_threshold_05_df"
   ]
  },
  {
   "cell_type": "markdown",
   "id": "hundred-tunnel",
   "metadata": {},
   "source": [
    "**Experiments `experiments_threshold_05_df`: Degrees of Freedom**\n",
    "\n",
    "* scripts = [\"graphframe_fast.py\", \"graphframe_fast_bv.py\", \"rdd_fast.py\", \"rdd_fast_bv.py\"]  \n",
    "* cores = [8]  \n",
    "* dataset in [\"artists_normal\"]  \n",
    "* k in [100, 1000, 10000]  "
   ]
  },
  {
   "cell_type": "code",
   "execution_count": 7,
   "id": "informative-velvet",
   "metadata": {},
   "outputs": [
    {
     "name": "stdout",
     "output_type": "stream",
     "text": [
      "(12, 5)\n",
      "12\n"
     ]
    }
   ],
   "source": [
    "print(experiments_threshold_05_df.shape)\n",
    "print(4*1*1*3)"
   ]
  },
  {
   "cell_type": "code",
   "execution_count": 8,
   "id": "fatal-trace",
   "metadata": {},
   "outputs": [
    {
     "data": {
      "text/html": [
       "<div>\n",
       "<style scoped>\n",
       "    .dataframe tbody tr th:only-of-type {\n",
       "        vertical-align: middle;\n",
       "    }\n",
       "\n",
       "    .dataframe tbody tr th {\n",
       "        vertical-align: top;\n",
       "    }\n",
       "\n",
       "    .dataframe thead th {\n",
       "        text-align: right;\n",
       "    }\n",
       "</style>\n",
       "<table border=\"1\" class=\"dataframe\">\n",
       "  <thead>\n",
       "    <tr style=\"text-align: right;\">\n",
       "      <th></th>\n",
       "      <th>script</th>\n",
       "      <th>cores</th>\n",
       "      <th>dataset</th>\n",
       "      <th>k</th>\n",
       "      <th>time</th>\n",
       "    </tr>\n",
       "  </thead>\n",
       "  <tbody>\n",
       "    <tr>\n",
       "      <th>0</th>\n",
       "      <td>graphframe_fast.py</td>\n",
       "      <td>8</td>\n",
       "      <td>artists_normal</td>\n",
       "      <td>2300000</td>\n",
       "      <td>495.972560</td>\n",
       "    </tr>\n",
       "    <tr>\n",
       "      <th>1</th>\n",
       "      <td>graphframe_fast_bv.py</td>\n",
       "      <td>8</td>\n",
       "      <td>artists_normal</td>\n",
       "      <td>2300000</td>\n",
       "      <td>603.951977</td>\n",
       "    </tr>\n",
       "    <tr>\n",
       "      <th>2</th>\n",
       "      <td>rdd_fast.py</td>\n",
       "      <td>8</td>\n",
       "      <td>artists_normal</td>\n",
       "      <td>2300000</td>\n",
       "      <td>2809.191476</td>\n",
       "    </tr>\n",
       "    <tr>\n",
       "      <th>3</th>\n",
       "      <td>rdd_fast_bv.py</td>\n",
       "      <td>8</td>\n",
       "      <td>artists_normal</td>\n",
       "      <td>2300000</td>\n",
       "      <td>2392.731071</td>\n",
       "    </tr>\n",
       "    <tr>\n",
       "      <th>4</th>\n",
       "      <td>graphframe_fast.py</td>\n",
       "      <td>8</td>\n",
       "      <td>artists_uniform</td>\n",
       "      <td>2300000</td>\n",
       "      <td>388.310840</td>\n",
       "    </tr>\n",
       "    <tr>\n",
       "      <th>5</th>\n",
       "      <td>graphframe_fast_bv.py</td>\n",
       "      <td>8</td>\n",
       "      <td>artists_uniform</td>\n",
       "      <td>2300000</td>\n",
       "      <td>1151.034513</td>\n",
       "    </tr>\n",
       "    <tr>\n",
       "      <th>6</th>\n",
       "      <td>rdd_fast.py</td>\n",
       "      <td>8</td>\n",
       "      <td>artists_uniform</td>\n",
       "      <td>2300000</td>\n",
       "      <td>1752.329388</td>\n",
       "    </tr>\n",
       "    <tr>\n",
       "      <th>7</th>\n",
       "      <td>rdd_fast_bv.py</td>\n",
       "      <td>8</td>\n",
       "      <td>artists_uniform</td>\n",
       "      <td>2300000</td>\n",
       "      <td>1583.311131</td>\n",
       "    </tr>\n",
       "    <tr>\n",
       "      <th>8</th>\n",
       "      <td>graphframe_fast.py</td>\n",
       "      <td>8</td>\n",
       "      <td>artists_power_law</td>\n",
       "      <td>2300000</td>\n",
       "      <td>356.513438</td>\n",
       "    </tr>\n",
       "    <tr>\n",
       "      <th>9</th>\n",
       "      <td>graphframe_fast_bv.py</td>\n",
       "      <td>8</td>\n",
       "      <td>artists_power_law</td>\n",
       "      <td>2300000</td>\n",
       "      <td>1092.251604</td>\n",
       "    </tr>\n",
       "    <tr>\n",
       "      <th>10</th>\n",
       "      <td>rdd_fast.py</td>\n",
       "      <td>8</td>\n",
       "      <td>artists_power_law</td>\n",
       "      <td>2300000</td>\n",
       "      <td>1235.505235</td>\n",
       "    </tr>\n",
       "    <tr>\n",
       "      <th>11</th>\n",
       "      <td>rdd_fast_bv.py</td>\n",
       "      <td>8</td>\n",
       "      <td>artists_power_law</td>\n",
       "      <td>2300000</td>\n",
       "      <td>1198.138226</td>\n",
       "    </tr>\n",
       "    <tr>\n",
       "      <th>12</th>\n",
       "      <td>graphframe_bs.py</td>\n",
       "      <td>8</td>\n",
       "      <td>artists_uniform</td>\n",
       "      <td>2300000</td>\n",
       "      <td>191.203403</td>\n",
       "    </tr>\n",
       "    <tr>\n",
       "      <th>13</th>\n",
       "      <td>rdd_bs.py</td>\n",
       "      <td>8</td>\n",
       "      <td>artists_uniform</td>\n",
       "      <td>2300000</td>\n",
       "      <td>658.411500</td>\n",
       "    </tr>\n",
       "    <tr>\n",
       "      <th>14</th>\n",
       "      <td>graphframe_bs.py</td>\n",
       "      <td>8</td>\n",
       "      <td>artists_normal</td>\n",
       "      <td>2300000</td>\n",
       "      <td>150.388687</td>\n",
       "    </tr>\n",
       "    <tr>\n",
       "      <th>15</th>\n",
       "      <td>rdd_bs.py</td>\n",
       "      <td>8</td>\n",
       "      <td>artists_normal</td>\n",
       "      <td>2300000</td>\n",
       "      <td>832.771558</td>\n",
       "    </tr>\n",
       "    <tr>\n",
       "      <th>16</th>\n",
       "      <td>graphframe_bs.py</td>\n",
       "      <td>8</td>\n",
       "      <td>artists_power_law</td>\n",
       "      <td>2300000</td>\n",
       "      <td>126.027990</td>\n",
       "    </tr>\n",
       "    <tr>\n",
       "      <th>17</th>\n",
       "      <td>rdd_bs.py</td>\n",
       "      <td>8</td>\n",
       "      <td>artists_power_law</td>\n",
       "      <td>2300000</td>\n",
       "      <td>671.243295</td>\n",
       "    </tr>\n",
       "  </tbody>\n",
       "</table>\n",
       "</div>"
      ],
      "text/plain": [
       "                   script  cores            dataset        k         time\n",
       "0      graphframe_fast.py      8     artists_normal  2300000   495.972560\n",
       "1   graphframe_fast_bv.py      8     artists_normal  2300000   603.951977\n",
       "2             rdd_fast.py      8     artists_normal  2300000  2809.191476\n",
       "3          rdd_fast_bv.py      8     artists_normal  2300000  2392.731071\n",
       "4      graphframe_fast.py      8    artists_uniform  2300000   388.310840\n",
       "5   graphframe_fast_bv.py      8    artists_uniform  2300000  1151.034513\n",
       "6             rdd_fast.py      8    artists_uniform  2300000  1752.329388\n",
       "7          rdd_fast_bv.py      8    artists_uniform  2300000  1583.311131\n",
       "8      graphframe_fast.py      8  artists_power_law  2300000   356.513438\n",
       "9   graphframe_fast_bv.py      8  artists_power_law  2300000  1092.251604\n",
       "10            rdd_fast.py      8  artists_power_law  2300000  1235.505235\n",
       "11         rdd_fast_bv.py      8  artists_power_law  2300000  1198.138226\n",
       "12       graphframe_bs.py      8    artists_uniform  2300000   191.203403\n",
       "13              rdd_bs.py      8    artists_uniform  2300000   658.411500\n",
       "14       graphframe_bs.py      8     artists_normal  2300000   150.388687\n",
       "15              rdd_bs.py      8     artists_normal  2300000   832.771558\n",
       "16       graphframe_bs.py      8  artists_power_law  2300000   126.027990\n",
       "17              rdd_bs.py      8  artists_power_law  2300000   671.243295"
      ]
     },
     "execution_count": 8,
     "metadata": {},
     "output_type": "execute_result"
    }
   ],
   "source": [
    "# Check experiments_k_large_df\n",
    "experiments_k_large_df"
   ]
  },
  {
   "cell_type": "markdown",
   "id": "interim-syracuse",
   "metadata": {},
   "source": [
    "**Experiments `experiments_k_large_df`: Degrees of Freedom**\n",
    "\n",
    "* scripts = [\"graphframe_bs.py\", \"graphframe_fast.py\", \"graphframe_fast_bv.py\", \"rdd_bs\",\"rdd_fast.py\", \"rdd_fast_bv.py\"]\n",
    "* cores = [8]\n",
    "* dataset in [\"artists_uniform\", \"artists_normal\", \"artists_power_law\"]\n",
    "* k = 2_300_000"
   ]
  },
  {
   "cell_type": "code",
   "execution_count": 9,
   "id": "german-wrestling",
   "metadata": {},
   "outputs": [
    {
     "name": "stdout",
     "output_type": "stream",
     "text": [
      "(18, 5)\n",
      "18\n"
     ]
    }
   ],
   "source": [
    "print(experiments_k_large_df.shape)\n",
    "print(6*1*3*1)"
   ]
  },
  {
   "cell_type": "markdown",
   "id": "tropical-flash",
   "metadata": {},
   "source": [
    "## Prepare Files"
   ]
  },
  {
   "cell_type": "code",
   "execution_count": 10,
   "id": "heated-competition",
   "metadata": {},
   "outputs": [],
   "source": [
    "# experiments_df\n",
    "experiments_df = experiments_df.rename(columns={\"script\":\"algorithm\",\n",
    "                                                \"time\":\"time (sec)\"})\n",
    "\n",
    "experiments_df[\"algorithm\"] = experiments_df[\"algorithm\"].apply(lambda x: x.split(\".\")[0])\n",
    "\n",
    "experiments_df[\"distribution\"] = experiments_df[\"dataset\"].apply(lambda x: \"_\".join(x.split(\"_\")[1:]))"
   ]
  },
  {
   "cell_type": "code",
   "execution_count": 11,
   "id": "polish-contractor",
   "metadata": {},
   "outputs": [],
   "source": [
    "# experiments_df\n",
    "experiments_threshold_05_df = experiments_threshold_05_df.rename(columns={\"script\":\"algorithm\",\n",
    "                                                \"time\":\"time (sec)\"})\n",
    "\n",
    "experiments_threshold_05_df[\"algorithm\"] = experiments_threshold_05_df[\"algorithm\"].apply(lambda x: x.split(\".\")[0])\n",
    "\n",
    "experiments_threshold_05_df[\"distribution\"] = experiments_threshold_05_df[\"dataset\"].apply(lambda x: \"_\".join(x.split(\"_\")[1:]))"
   ]
  },
  {
   "cell_type": "code",
   "execution_count": 12,
   "id": "concrete-astronomy",
   "metadata": {},
   "outputs": [],
   "source": [
    "# experiments_df\n",
    "experiments_k_large_df = experiments_k_large_df.rename(columns={\"script\":\"algorithm\",\n",
    "                                                \"time\":\"time (sec)\"})\n",
    "\n",
    "experiments_k_large_df[\"algorithm\"] = experiments_k_large_df[\"algorithm\"].apply(lambda x: x.split(\".\")[0])\n",
    "\n",
    "experiments_k_large_df[\"distribution\"] = experiments_k_large_df[\"dataset\"].apply(lambda x: \"_\".join(x.split(\"_\")[1:]))"
   ]
  },
  {
   "cell_type": "code",
   "execution_count": 13,
   "id": "bridal-theta",
   "metadata": {},
   "outputs": [],
   "source": [
    "# Fix data types\n",
    "# experiments_df[\"k\"] = experiments_df[\"k\"].astype(str)"
   ]
  },
  {
   "cell_type": "code",
   "execution_count": 14,
   "id": "timely-latvia",
   "metadata": {},
   "outputs": [
    {
     "data": {
      "text/html": [
       "<div>\n",
       "<style scoped>\n",
       "    .dataframe tbody tr th:only-of-type {\n",
       "        vertical-align: middle;\n",
       "    }\n",
       "\n",
       "    .dataframe tbody tr th {\n",
       "        vertical-align: top;\n",
       "    }\n",
       "\n",
       "    .dataframe thead th {\n",
       "        text-align: right;\n",
       "    }\n",
       "</style>\n",
       "<table border=\"1\" class=\"dataframe\">\n",
       "  <thead>\n",
       "    <tr style=\"text-align: right;\">\n",
       "      <th></th>\n",
       "      <th>algorithm</th>\n",
       "      <th>cores</th>\n",
       "      <th>dataset</th>\n",
       "      <th>k</th>\n",
       "      <th>time (sec)</th>\n",
       "      <th>distribution</th>\n",
       "    </tr>\n",
       "  </thead>\n",
       "  <tbody>\n",
       "    <tr>\n",
       "      <th>61</th>\n",
       "      <td>graphframe_fast</td>\n",
       "      <td>8</td>\n",
       "      <td>artists_uniform</td>\n",
       "      <td>1000</td>\n",
       "      <td>30.346403</td>\n",
       "      <td>uniform</td>\n",
       "    </tr>\n",
       "    <tr>\n",
       "      <th>151</th>\n",
       "      <td>rdd_fast</td>\n",
       "      <td>8</td>\n",
       "      <td>artists_power_law</td>\n",
       "      <td>1000</td>\n",
       "      <td>30.633403</td>\n",
       "      <td>power_law</td>\n",
       "    </tr>\n",
       "    <tr>\n",
       "      <th>60</th>\n",
       "      <td>graphframe_fast</td>\n",
       "      <td>8</td>\n",
       "      <td>artists_uniform</td>\n",
       "      <td>100</td>\n",
       "      <td>30.663337</td>\n",
       "      <td>uniform</td>\n",
       "    </tr>\n",
       "    <tr>\n",
       "      <th>150</th>\n",
       "      <td>rdd_fast</td>\n",
       "      <td>8</td>\n",
       "      <td>artists_power_law</td>\n",
       "      <td>100</td>\n",
       "      <td>30.933137</td>\n",
       "      <td>power_law</td>\n",
       "    </tr>\n",
       "    <tr>\n",
       "      <th>160</th>\n",
       "      <td>rdd_fast_bv</td>\n",
       "      <td>8</td>\n",
       "      <td>artists_power_law</td>\n",
       "      <td>1000</td>\n",
       "      <td>31.303999</td>\n",
       "      <td>power_law</td>\n",
       "    </tr>\n",
       "    <tr>\n",
       "      <th>159</th>\n",
       "      <td>rdd_fast_bv</td>\n",
       "      <td>8</td>\n",
       "      <td>artists_power_law</td>\n",
       "      <td>100</td>\n",
       "      <td>31.493060</td>\n",
       "      <td>power_law</td>\n",
       "    </tr>\n",
       "    <tr>\n",
       "      <th>133</th>\n",
       "      <td>graphframe_fast</td>\n",
       "      <td>8</td>\n",
       "      <td>artists_power_law</td>\n",
       "      <td>1000</td>\n",
       "      <td>31.587927</td>\n",
       "      <td>power_law</td>\n",
       "    </tr>\n",
       "    <tr>\n",
       "      <th>132</th>\n",
       "      <td>graphframe_fast</td>\n",
       "      <td>8</td>\n",
       "      <td>artists_power_law</td>\n",
       "      <td>100</td>\n",
       "      <td>31.978121</td>\n",
       "      <td>power_law</td>\n",
       "    </tr>\n",
       "    <tr>\n",
       "      <th>141</th>\n",
       "      <td>graphframe_fast_bv</td>\n",
       "      <td>8</td>\n",
       "      <td>artists_power_law</td>\n",
       "      <td>100</td>\n",
       "      <td>31.990183</td>\n",
       "      <td>power_law</td>\n",
       "    </tr>\n",
       "    <tr>\n",
       "      <th>142</th>\n",
       "      <td>graphframe_fast_bv</td>\n",
       "      <td>8</td>\n",
       "      <td>artists_power_law</td>\n",
       "      <td>1000</td>\n",
       "      <td>32.145957</td>\n",
       "      <td>power_law</td>\n",
       "    </tr>\n",
       "  </tbody>\n",
       "</table>\n",
       "</div>"
      ],
      "text/plain": [
       "              algorithm  cores            dataset     k  time (sec)  \\\n",
       "61      graphframe_fast      8    artists_uniform  1000   30.346403   \n",
       "151            rdd_fast      8  artists_power_law  1000   30.633403   \n",
       "60      graphframe_fast      8    artists_uniform   100   30.663337   \n",
       "150            rdd_fast      8  artists_power_law   100   30.933137   \n",
       "160         rdd_fast_bv      8  artists_power_law  1000   31.303999   \n",
       "159         rdd_fast_bv      8  artists_power_law   100   31.493060   \n",
       "133     graphframe_fast      8  artists_power_law  1000   31.587927   \n",
       "132     graphframe_fast      8  artists_power_law   100   31.978121   \n",
       "141  graphframe_fast_bv      8  artists_power_law   100   31.990183   \n",
       "142  graphframe_fast_bv      8  artists_power_law  1000   32.145957   \n",
       "\n",
       "    distribution  \n",
       "61       uniform  \n",
       "151    power_law  \n",
       "60       uniform  \n",
       "150    power_law  \n",
       "160    power_law  \n",
       "159    power_law  \n",
       "133    power_law  \n",
       "132    power_law  \n",
       "141    power_law  \n",
       "142    power_law  "
      ]
     },
     "execution_count": 14,
     "metadata": {},
     "output_type": "execute_result"
    }
   ],
   "source": [
    "# Fastest method\n",
    "experiments_df.sort_values(\"time (sec)\").head(10)"
   ]
  },
  {
   "cell_type": "code",
   "execution_count": 15,
   "id": "continuing-occupation",
   "metadata": {},
   "outputs": [
    {
     "data": {
      "text/html": [
       "<div>\n",
       "<style scoped>\n",
       "    .dataframe tbody tr th:only-of-type {\n",
       "        vertical-align: middle;\n",
       "    }\n",
       "\n",
       "    .dataframe tbody tr th {\n",
       "        vertical-align: top;\n",
       "    }\n",
       "\n",
       "    .dataframe thead th {\n",
       "        text-align: right;\n",
       "    }\n",
       "</style>\n",
       "<table border=\"1\" class=\"dataframe\">\n",
       "  <thead>\n",
       "    <tr style=\"text-align: right;\">\n",
       "      <th></th>\n",
       "      <th>algorithm</th>\n",
       "      <th>cores</th>\n",
       "      <th>dataset</th>\n",
       "      <th>k</th>\n",
       "      <th>time (sec)</th>\n",
       "      <th>distribution</th>\n",
       "    </tr>\n",
       "  </thead>\n",
       "  <tbody>\n",
       "    <tr>\n",
       "      <th>119</th>\n",
       "      <td>rdd_fast_bv</td>\n",
       "      <td>1</td>\n",
       "      <td>artists_normal</td>\n",
       "      <td>10000</td>\n",
       "      <td>1792.721759</td>\n",
       "      <td>normal</td>\n",
       "    </tr>\n",
       "    <tr>\n",
       "      <th>110</th>\n",
       "      <td>rdd_fast</td>\n",
       "      <td>1</td>\n",
       "      <td>artists_normal</td>\n",
       "      <td>10000</td>\n",
       "      <td>1560.367499</td>\n",
       "      <td>normal</td>\n",
       "    </tr>\n",
       "    <tr>\n",
       "      <th>45</th>\n",
       "      <td>rdd_bs</td>\n",
       "      <td>1</td>\n",
       "      <td>artists_power_law</td>\n",
       "      <td>100</td>\n",
       "      <td>1298.607670</td>\n",
       "      <td>power_law</td>\n",
       "    </tr>\n",
       "    <tr>\n",
       "      <th>109</th>\n",
       "      <td>rdd_fast</td>\n",
       "      <td>1</td>\n",
       "      <td>artists_normal</td>\n",
       "      <td>1000</td>\n",
       "      <td>1292.269979</td>\n",
       "      <td>normal</td>\n",
       "    </tr>\n",
       "    <tr>\n",
       "      <th>108</th>\n",
       "      <td>rdd_fast</td>\n",
       "      <td>1</td>\n",
       "      <td>artists_normal</td>\n",
       "      <td>100</td>\n",
       "      <td>1250.160017</td>\n",
       "      <td>normal</td>\n",
       "    </tr>\n",
       "    <tr>\n",
       "      <th>118</th>\n",
       "      <td>rdd_fast_bv</td>\n",
       "      <td>1</td>\n",
       "      <td>artists_normal</td>\n",
       "      <td>1000</td>\n",
       "      <td>1227.704351</td>\n",
       "      <td>normal</td>\n",
       "    </tr>\n",
       "    <tr>\n",
       "      <th>122</th>\n",
       "      <td>rdd_fast_bv</td>\n",
       "      <td>2</td>\n",
       "      <td>artists_normal</td>\n",
       "      <td>10000</td>\n",
       "      <td>1211.058084</td>\n",
       "      <td>normal</td>\n",
       "    </tr>\n",
       "    <tr>\n",
       "      <th>46</th>\n",
       "      <td>rdd_bs</td>\n",
       "      <td>1</td>\n",
       "      <td>artists_power_law</td>\n",
       "      <td>1000</td>\n",
       "      <td>1149.373480</td>\n",
       "      <td>power_law</td>\n",
       "    </tr>\n",
       "    <tr>\n",
       "      <th>29</th>\n",
       "      <td>rdd_bs</td>\n",
       "      <td>1</td>\n",
       "      <td>artists_normal</td>\n",
       "      <td>10000</td>\n",
       "      <td>1095.256856</td>\n",
       "      <td>normal</td>\n",
       "    </tr>\n",
       "    <tr>\n",
       "      <th>47</th>\n",
       "      <td>rdd_bs</td>\n",
       "      <td>1</td>\n",
       "      <td>artists_power_law</td>\n",
       "      <td>10000</td>\n",
       "      <td>1001.590389</td>\n",
       "      <td>power_law</td>\n",
       "    </tr>\n",
       "  </tbody>\n",
       "</table>\n",
       "</div>"
      ],
      "text/plain": [
       "       algorithm  cores            dataset      k   time (sec) distribution\n",
       "119  rdd_fast_bv      1     artists_normal  10000  1792.721759       normal\n",
       "110     rdd_fast      1     artists_normal  10000  1560.367499       normal\n",
       "45        rdd_bs      1  artists_power_law    100  1298.607670    power_law\n",
       "109     rdd_fast      1     artists_normal   1000  1292.269979       normal\n",
       "108     rdd_fast      1     artists_normal    100  1250.160017       normal\n",
       "118  rdd_fast_bv      1     artists_normal   1000  1227.704351       normal\n",
       "122  rdd_fast_bv      2     artists_normal  10000  1211.058084       normal\n",
       "46        rdd_bs      1  artists_power_law   1000  1149.373480    power_law\n",
       "29        rdd_bs      1     artists_normal  10000  1095.256856       normal\n",
       "47        rdd_bs      1  artists_power_law  10000  1001.590389    power_law"
      ]
     },
     "execution_count": 15,
     "metadata": {},
     "output_type": "execute_result"
    }
   ],
   "source": [
    "# Slowest method\n",
    "experiments_df.sort_values(\"time (sec)\", ascending=False).head(10)"
   ]
  },
  {
   "cell_type": "markdown",
   "id": "legal-oxford",
   "metadata": {},
   "source": [
    "## Full experiments"
   ]
  },
  {
   "cell_type": "markdown",
   "id": "announced-victoria",
   "metadata": {},
   "source": [
    "**Total graphframes experiments**: 3 rows * 3 columns * 3 lines * 3 points = 81"
   ]
  },
  {
   "cell_type": "code",
   "execution_count": 47,
   "id": "ruled-train",
   "metadata": {
    "scrolled": false
   },
   "outputs": [
    {
     "data": {
      "application/vnd.plotly.v1+json": {
       "config": {
        "plotlyServerURL": "https://plot.ly"
       },
       "data": [
        {
         "hovertemplate": "algorithm=baseline<br>distribution=uniform<br>cores=1<br>k=%{x}<br>time (sec)=%{y}<extra></extra>",
         "legendgroup": "baseline",
         "line": {
          "color": "#636efa",
          "dash": "solid"
         },
         "mode": "markers+lines",
         "name": "baseline",
         "orientation": "v",
         "showlegend": true,
         "type": "scatter",
         "x": [
          100,
          1000,
          10000
         ],
         "xaxis": "x7",
         "y": [
          210.74479484558103,
          202.7330527305603,
          205.7971215248108
         ],
         "yaxis": "y7"
        },
        {
         "hovertemplate": "algorithm=baseline<br>distribution=uniform<br>cores=2<br>k=%{x}<br>time (sec)=%{y}<extra></extra>",
         "legendgroup": "baseline",
         "line": {
          "color": "#636efa",
          "dash": "solid"
         },
         "mode": "markers+lines",
         "name": "baseline",
         "orientation": "v",
         "showlegend": false,
         "type": "scatter",
         "x": [
          100,
          1000,
          10000
         ],
         "xaxis": "x8",
         "y": [
          134.53694033622742,
          136.5538363456726,
          136.37107801437378
         ],
         "yaxis": "y8"
        },
        {
         "hovertemplate": "algorithm=baseline<br>distribution=uniform<br>cores=8<br>k=%{x}<br>time (sec)=%{y}<extra></extra>",
         "legendgroup": "baseline",
         "line": {
          "color": "#636efa",
          "dash": "solid"
         },
         "mode": "markers+lines",
         "name": "baseline",
         "orientation": "v",
         "showlegend": false,
         "type": "scatter",
         "x": [
          100,
          1000,
          10000
         ],
         "xaxis": "x9",
         "y": [
          121.45832467079164,
          114.9101378917694,
          122.0564317703247
         ],
         "yaxis": "y9"
        },
        {
         "hovertemplate": "algorithm=baseline<br>distribution=normal<br>cores=1<br>k=%{x}<br>time (sec)=%{y}<extra></extra>",
         "legendgroup": "baseline",
         "line": {
          "color": "#636efa",
          "dash": "solid"
         },
         "mode": "markers+lines",
         "name": "baseline",
         "orientation": "v",
         "showlegend": false,
         "type": "scatter",
         "x": [
          100,
          1000,
          10000
         ],
         "xaxis": "x4",
         "y": [
          169.3458390235901,
          169.63086557388306,
          171.42018961906433
         ],
         "yaxis": "y4"
        },
        {
         "hovertemplate": "algorithm=baseline<br>distribution=normal<br>cores=2<br>k=%{x}<br>time (sec)=%{y}<extra></extra>",
         "legendgroup": "baseline",
         "line": {
          "color": "#636efa",
          "dash": "solid"
         },
         "mode": "markers+lines",
         "name": "baseline",
         "orientation": "v",
         "showlegend": false,
         "type": "scatter",
         "x": [
          100,
          1000,
          10000
         ],
         "xaxis": "x5",
         "y": [
          115.45955801010132,
          116.33225226402284,
          125.26415920257568
         ],
         "yaxis": "y5"
        },
        {
         "hovertemplate": "algorithm=baseline<br>distribution=normal<br>cores=8<br>k=%{x}<br>time (sec)=%{y}<extra></extra>",
         "legendgroup": "baseline",
         "line": {
          "color": "#636efa",
          "dash": "solid"
         },
         "mode": "markers+lines",
         "name": "baseline",
         "orientation": "v",
         "showlegend": false,
         "type": "scatter",
         "x": [
          100,
          1000,
          10000
         ],
         "xaxis": "x6",
         "y": [
          97.22321581840517,
          100.3886866569519,
          102.15371417999268
         ],
         "yaxis": "y6"
        },
        {
         "hovertemplate": "algorithm=baseline<br>distribution=power_law<br>cores=1<br>k=%{x}<br>time (sec)=%{y}<extra></extra>",
         "legendgroup": "baseline",
         "line": {
          "color": "#636efa",
          "dash": "solid"
         },
         "mode": "markers+lines",
         "name": "baseline",
         "orientation": "v",
         "showlegend": false,
         "type": "scatter",
         "x": [
          100,
          1000,
          10000
         ],
         "xaxis": "x",
         "y": [
          208.57235050201416,
          231.68531131744385,
          200.71134543418884
         ],
         "yaxis": "y"
        },
        {
         "hovertemplate": "algorithm=baseline<br>distribution=power_law<br>cores=2<br>k=%{x}<br>time (sec)=%{y}<extra></extra>",
         "legendgroup": "baseline",
         "line": {
          "color": "#636efa",
          "dash": "solid"
         },
         "mode": "markers+lines",
         "name": "baseline",
         "orientation": "v",
         "showlegend": false,
         "type": "scatter",
         "x": [
          100,
          1000,
          10000
         ],
         "xaxis": "x2",
         "y": [
          120.0795726776123,
          123.6891040802002,
          122.07053256034852
         ],
         "yaxis": "y2"
        },
        {
         "hovertemplate": "algorithm=baseline<br>distribution=power_law<br>cores=8<br>k=%{x}<br>time (sec)=%{y}<extra></extra>",
         "legendgroup": "baseline",
         "line": {
          "color": "#636efa",
          "dash": "solid"
         },
         "mode": "markers+lines",
         "name": "baseline",
         "orientation": "v",
         "showlegend": false,
         "type": "scatter",
         "x": [
          100,
          1000,
          10000
         ],
         "xaxis": "x3",
         "y": [
          106.0279896259308,
          103.51495575904846,
          112.54795455932616
         ],
         "yaxis": "y3"
        },
        {
         "hovertemplate": "algorithm=optimization 1<br>distribution=uniform<br>cores=1<br>k=%{x}<br>time (sec)=%{y}<extra></extra>",
         "legendgroup": "optimization 1",
         "line": {
          "color": "#EF553B",
          "dash": "solid"
         },
         "mode": "markers+lines",
         "name": "optimization 1",
         "orientation": "v",
         "showlegend": true,
         "type": "scatter",
         "x": [
          100,
          1000,
          10000
         ],
         "xaxis": "x7",
         "y": [
          51.31822681427002,
          47.53565788269043,
          104.04664325714111
         ],
         "yaxis": "y7"
        },
        {
         "hovertemplate": "algorithm=optimization 1<br>distribution=uniform<br>cores=2<br>k=%{x}<br>time (sec)=%{y}<extra></extra>",
         "legendgroup": "optimization 1",
         "line": {
          "color": "#EF553B",
          "dash": "solid"
         },
         "mode": "markers+lines",
         "name": "optimization 1",
         "orientation": "v",
         "showlegend": false,
         "type": "scatter",
         "x": [
          100,
          1000,
          10000
         ],
         "xaxis": "x8",
         "y": [
          38.33883047103882,
          40.42181062698364,
          68.85854816436768
         ],
         "yaxis": "y8"
        },
        {
         "hovertemplate": "algorithm=optimization 1<br>distribution=uniform<br>cores=8<br>k=%{x}<br>time (sec)=%{y}<extra></extra>",
         "legendgroup": "optimization 1",
         "line": {
          "color": "#EF553B",
          "dash": "solid"
         },
         "mode": "markers+lines",
         "name": "optimization 1",
         "orientation": "v",
         "showlegend": false,
         "type": "scatter",
         "x": [
          100,
          1000,
          10000
         ],
         "xaxis": "x9",
         "y": [
          30.66333675384521,
          30.346402883529663,
          54.65762805938721
         ],
         "yaxis": "y9"
        },
        {
         "hovertemplate": "algorithm=optimization 1<br>distribution=normal<br>cores=1<br>k=%{x}<br>time (sec)=%{y}<extra></extra>",
         "legendgroup": "optimization 1",
         "line": {
          "color": "#EF553B",
          "dash": "solid"
         },
         "mode": "markers+lines",
         "name": "optimization 1",
         "orientation": "v",
         "showlegend": false,
         "type": "scatter",
         "x": [
          100,
          1000,
          10000
         ],
         "xaxis": "x4",
         "y": [
          243.94234824180603,
          266.60714054107666,
          368.53389024734497
         ],
         "yaxis": "y4"
        },
        {
         "hovertemplate": "algorithm=optimization 1<br>distribution=normal<br>cores=2<br>k=%{x}<br>time (sec)=%{y}<extra></extra>",
         "legendgroup": "optimization 1",
         "line": {
          "color": "#EF553B",
          "dash": "solid"
         },
         "mode": "markers+lines",
         "name": "optimization 1",
         "orientation": "v",
         "showlegend": false,
         "type": "scatter",
         "x": [
          100,
          1000,
          10000
         ],
         "xaxis": "x5",
         "y": [
          180.06315922737122,
          189.403062582016,
          234.2568051815033
         ],
         "yaxis": "y5"
        },
        {
         "hovertemplate": "algorithm=optimization 1<br>distribution=normal<br>cores=8<br>k=%{x}<br>time (sec)=%{y}<extra></extra>",
         "legendgroup": "optimization 1",
         "line": {
          "color": "#EF553B",
          "dash": "solid"
         },
         "mode": "markers+lines",
         "name": "optimization 1",
         "orientation": "v",
         "showlegend": false,
         "type": "scatter",
         "x": [
          100,
          1000,
          10000
         ],
         "xaxis": "x6",
         "y": [
          151.72542548179626,
          156.45248651504517,
          161.0106325149536
         ],
         "yaxis": "y6"
        },
        {
         "hovertemplate": "algorithm=optimization 1<br>distribution=power_law<br>cores=1<br>k=%{x}<br>time (sec)=%{y}<extra></extra>",
         "legendgroup": "optimization 1",
         "line": {
          "color": "#EF553B",
          "dash": "solid"
         },
         "mode": "markers+lines",
         "name": "optimization 1",
         "orientation": "v",
         "showlegend": false,
         "type": "scatter",
         "x": [
          100,
          1000,
          10000
         ],
         "xaxis": "x",
         "y": [
          54.23536348342896,
          53.41026496887207,
          145.87033939361572
         ],
         "yaxis": "y"
        },
        {
         "hovertemplate": "algorithm=optimization 1<br>distribution=power_law<br>cores=2<br>k=%{x}<br>time (sec)=%{y}<extra></extra>",
         "legendgroup": "optimization 1",
         "line": {
          "color": "#EF553B",
          "dash": "solid"
         },
         "mode": "markers+lines",
         "name": "optimization 1",
         "orientation": "v",
         "showlegend": false,
         "type": "scatter",
         "x": [
          100,
          1000,
          10000
         ],
         "xaxis": "x2",
         "y": [
          40.70121383666992,
          36.035826683044434,
          94.18622064590454
         ],
         "yaxis": "y2"
        },
        {
         "hovertemplate": "algorithm=optimization 1<br>distribution=power_law<br>cores=8<br>k=%{x}<br>time (sec)=%{y}<extra></extra>",
         "legendgroup": "optimization 1",
         "line": {
          "color": "#EF553B",
          "dash": "solid"
         },
         "mode": "markers+lines",
         "name": "optimization 1",
         "orientation": "v",
         "showlegend": false,
         "type": "scatter",
         "x": [
          100,
          1000,
          10000
         ],
         "xaxis": "x3",
         "y": [
          31.978121042251587,
          31.58792734146118,
          73.00699543952942
         ],
         "yaxis": "y3"
        },
        {
         "hovertemplate": "algorithm=optimization 2<br>distribution=uniform<br>cores=1<br>k=%{x}<br>time (sec)=%{y}<extra></extra>",
         "legendgroup": "optimization 2",
         "line": {
          "color": "#00cc96",
          "dash": "solid"
         },
         "mode": "markers+lines",
         "name": "optimization 2",
         "orientation": "v",
         "showlegend": true,
         "type": "scatter",
         "x": [
          100,
          1000,
          10000
         ],
         "xaxis": "x7",
         "y": [
          47.31780409812927,
          47.84933471679688,
          140.69839668273926
         ],
         "yaxis": "y7"
        },
        {
         "hovertemplate": "algorithm=optimization 2<br>distribution=uniform<br>cores=2<br>k=%{x}<br>time (sec)=%{y}<extra></extra>",
         "legendgroup": "optimization 2",
         "line": {
          "color": "#00cc96",
          "dash": "solid"
         },
         "mode": "markers+lines",
         "name": "optimization 2",
         "orientation": "v",
         "showlegend": false,
         "type": "scatter",
         "x": [
          100,
          1000,
          10000
         ],
         "xaxis": "x8",
         "y": [
          45.0256872177124,
          41.97283291816712,
          96.98869681358336
         ],
         "yaxis": "y8"
        },
        {
         "hovertemplate": "algorithm=optimization 2<br>distribution=uniform<br>cores=8<br>k=%{x}<br>time (sec)=%{y}<extra></extra>",
         "legendgroup": "optimization 2",
         "line": {
          "color": "#00cc96",
          "dash": "solid"
         },
         "mode": "markers+lines",
         "name": "optimization 2",
         "orientation": "v",
         "showlegend": false,
         "type": "scatter",
         "x": [
          100,
          1000,
          10000
         ],
         "xaxis": "x9",
         "y": [
          34.374945878982544,
          37.80650925636292,
          76.80474638938904
         ],
         "yaxis": "y9"
        },
        {
         "hovertemplate": "algorithm=optimization 2<br>distribution=normal<br>cores=1<br>k=%{x}<br>time (sec)=%{y}<extra></extra>",
         "legendgroup": "optimization 2",
         "line": {
          "color": "#00cc96",
          "dash": "solid"
         },
         "mode": "markers+lines",
         "name": "optimization 2",
         "orientation": "v",
         "showlegend": false,
         "type": "scatter",
         "x": [
          100,
          1000,
          10000
         ],
         "xaxis": "x4",
         "y": [
          328.2675521373749,
          352.2608544826508,
          524.3909833431244
         ],
         "yaxis": "y4"
        },
        {
         "hovertemplate": "algorithm=optimization 2<br>distribution=normal<br>cores=2<br>k=%{x}<br>time (sec)=%{y}<extra></extra>",
         "legendgroup": "optimization 2",
         "line": {
          "color": "#00cc96",
          "dash": "solid"
         },
         "mode": "markers+lines",
         "name": "optimization 2",
         "orientation": "v",
         "showlegend": false,
         "type": "scatter",
         "x": [
          100,
          1000,
          10000
         ],
         "xaxis": "x5",
         "y": [
          264.9492375850677,
          242.1960978507996,
          317.7544105052948
         ],
         "yaxis": "y5"
        },
        {
         "hovertemplate": "algorithm=optimization 2<br>distribution=normal<br>cores=8<br>k=%{x}<br>time (sec)=%{y}<extra></extra>",
         "legendgroup": "optimization 2",
         "line": {
          "color": "#00cc96",
          "dash": "solid"
         },
         "mode": "markers+lines",
         "name": "optimization 2",
         "orientation": "v",
         "showlegend": false,
         "type": "scatter",
         "x": [
          100,
          1000,
          10000
         ],
         "xaxis": "x6",
         "y": [
          156.9876799583435,
          176.81607937812805,
          251.5612497329712
         ],
         "yaxis": "y6"
        },
        {
         "hovertemplate": "algorithm=optimization 2<br>distribution=power_law<br>cores=1<br>k=%{x}<br>time (sec)=%{y}<extra></extra>",
         "legendgroup": "optimization 2",
         "line": {
          "color": "#00cc96",
          "dash": "solid"
         },
         "mode": "markers+lines",
         "name": "optimization 2",
         "orientation": "v",
         "showlegend": false,
         "type": "scatter",
         "x": [
          100,
          1000,
          10000
         ],
         "xaxis": "x",
         "y": [
          47.600462436676025,
          45.486900806427,
          176.0100257396698
         ],
         "yaxis": "y"
        },
        {
         "hovertemplate": "algorithm=optimization 2<br>distribution=power_law<br>cores=2<br>k=%{x}<br>time (sec)=%{y}<extra></extra>",
         "legendgroup": "optimization 2",
         "line": {
          "color": "#00cc96",
          "dash": "solid"
         },
         "mode": "markers+lines",
         "name": "optimization 2",
         "orientation": "v",
         "showlegend": false,
         "type": "scatter",
         "x": [
          100,
          1000,
          10000
         ],
         "xaxis": "x2",
         "y": [
          34.99015712738037,
          36.10437035560608,
          123.80975484848022
         ],
         "yaxis": "y2"
        },
        {
         "hovertemplate": "algorithm=optimization 2<br>distribution=power_law<br>cores=8<br>k=%{x}<br>time (sec)=%{y}<extra></extra>",
         "legendgroup": "optimization 2",
         "line": {
          "color": "#00cc96",
          "dash": "solid"
         },
         "mode": "markers+lines",
         "name": "optimization 2",
         "orientation": "v",
         "showlegend": false,
         "type": "scatter",
         "x": [
          100,
          1000,
          10000
         ],
         "xaxis": "x3",
         "y": [
          31.990183115005493,
          32.14595699310303,
          100.4338903427124
         ],
         "yaxis": "y3"
        }
       ],
       "layout": {
        "annotations": [
         {
          "font": {},
          "showarrow": false,
          "text": "cores=1",
          "x": 0.15666666666666665,
          "xanchor": "center",
          "xref": "paper",
          "y": 0.9999999999999998,
          "yanchor": "bottom",
          "yref": "paper"
         },
         {
          "font": {},
          "showarrow": false,
          "text": "cores=2",
          "x": 0.49,
          "xanchor": "center",
          "xref": "paper",
          "y": 0.9999999999999998,
          "yanchor": "bottom",
          "yref": "paper"
         },
         {
          "font": {},
          "showarrow": false,
          "text": "cores=8",
          "x": 0.8233333333333333,
          "xanchor": "center",
          "xref": "paper",
          "y": 0.9999999999999998,
          "yanchor": "bottom",
          "yref": "paper"
         },
         {
          "font": {},
          "showarrow": false,
          "text": "distribution=power_law",
          "textangle": 90,
          "x": 0.98,
          "xanchor": "left",
          "xref": "paper",
          "y": 0.15666666666666665,
          "yanchor": "middle",
          "yref": "paper"
         },
         {
          "font": {},
          "showarrow": false,
          "text": "distribution=normal",
          "textangle": 90,
          "x": 0.98,
          "xanchor": "left",
          "xref": "paper",
          "y": 0.4999999999999999,
          "yanchor": "middle",
          "yref": "paper"
         },
         {
          "font": {},
          "showarrow": false,
          "text": "distribution=uniform",
          "textangle": 90,
          "x": 0.98,
          "xanchor": "left",
          "xref": "paper",
          "y": 0.8433333333333332,
          "yanchor": "middle",
          "yref": "paper"
         }
        ],
        "autosize": false,
        "height": 700,
        "legend": {
         "title": {
          "text": "algorithm"
         },
         "tracegroupgap": 0
        },
        "margin": {
         "t": 60
        },
        "template": {
         "data": {
          "bar": [
           {
            "error_x": {
             "color": "#2a3f5f"
            },
            "error_y": {
             "color": "#2a3f5f"
            },
            "marker": {
             "line": {
              "color": "#E5ECF6",
              "width": 0.5
             }
            },
            "type": "bar"
           }
          ],
          "barpolar": [
           {
            "marker": {
             "line": {
              "color": "#E5ECF6",
              "width": 0.5
             }
            },
            "type": "barpolar"
           }
          ],
          "carpet": [
           {
            "aaxis": {
             "endlinecolor": "#2a3f5f",
             "gridcolor": "white",
             "linecolor": "white",
             "minorgridcolor": "white",
             "startlinecolor": "#2a3f5f"
            },
            "baxis": {
             "endlinecolor": "#2a3f5f",
             "gridcolor": "white",
             "linecolor": "white",
             "minorgridcolor": "white",
             "startlinecolor": "#2a3f5f"
            },
            "type": "carpet"
           }
          ],
          "choropleth": [
           {
            "colorbar": {
             "outlinewidth": 0,
             "ticks": ""
            },
            "type": "choropleth"
           }
          ],
          "contour": [
           {
            "colorbar": {
             "outlinewidth": 0,
             "ticks": ""
            },
            "colorscale": [
             [
              0,
              "#0d0887"
             ],
             [
              0.1111111111111111,
              "#46039f"
             ],
             [
              0.2222222222222222,
              "#7201a8"
             ],
             [
              0.3333333333333333,
              "#9c179e"
             ],
             [
              0.4444444444444444,
              "#bd3786"
             ],
             [
              0.5555555555555556,
              "#d8576b"
             ],
             [
              0.6666666666666666,
              "#ed7953"
             ],
             [
              0.7777777777777778,
              "#fb9f3a"
             ],
             [
              0.8888888888888888,
              "#fdca26"
             ],
             [
              1,
              "#f0f921"
             ]
            ],
            "type": "contour"
           }
          ],
          "contourcarpet": [
           {
            "colorbar": {
             "outlinewidth": 0,
             "ticks": ""
            },
            "type": "contourcarpet"
           }
          ],
          "heatmap": [
           {
            "colorbar": {
             "outlinewidth": 0,
             "ticks": ""
            },
            "colorscale": [
             [
              0,
              "#0d0887"
             ],
             [
              0.1111111111111111,
              "#46039f"
             ],
             [
              0.2222222222222222,
              "#7201a8"
             ],
             [
              0.3333333333333333,
              "#9c179e"
             ],
             [
              0.4444444444444444,
              "#bd3786"
             ],
             [
              0.5555555555555556,
              "#d8576b"
             ],
             [
              0.6666666666666666,
              "#ed7953"
             ],
             [
              0.7777777777777778,
              "#fb9f3a"
             ],
             [
              0.8888888888888888,
              "#fdca26"
             ],
             [
              1,
              "#f0f921"
             ]
            ],
            "type": "heatmap"
           }
          ],
          "heatmapgl": [
           {
            "colorbar": {
             "outlinewidth": 0,
             "ticks": ""
            },
            "colorscale": [
             [
              0,
              "#0d0887"
             ],
             [
              0.1111111111111111,
              "#46039f"
             ],
             [
              0.2222222222222222,
              "#7201a8"
             ],
             [
              0.3333333333333333,
              "#9c179e"
             ],
             [
              0.4444444444444444,
              "#bd3786"
             ],
             [
              0.5555555555555556,
              "#d8576b"
             ],
             [
              0.6666666666666666,
              "#ed7953"
             ],
             [
              0.7777777777777778,
              "#fb9f3a"
             ],
             [
              0.8888888888888888,
              "#fdca26"
             ],
             [
              1,
              "#f0f921"
             ]
            ],
            "type": "heatmapgl"
           }
          ],
          "histogram": [
           {
            "marker": {
             "colorbar": {
              "outlinewidth": 0,
              "ticks": ""
             }
            },
            "type": "histogram"
           }
          ],
          "histogram2d": [
           {
            "colorbar": {
             "outlinewidth": 0,
             "ticks": ""
            },
            "colorscale": [
             [
              0,
              "#0d0887"
             ],
             [
              0.1111111111111111,
              "#46039f"
             ],
             [
              0.2222222222222222,
              "#7201a8"
             ],
             [
              0.3333333333333333,
              "#9c179e"
             ],
             [
              0.4444444444444444,
              "#bd3786"
             ],
             [
              0.5555555555555556,
              "#d8576b"
             ],
             [
              0.6666666666666666,
              "#ed7953"
             ],
             [
              0.7777777777777778,
              "#fb9f3a"
             ],
             [
              0.8888888888888888,
              "#fdca26"
             ],
             [
              1,
              "#f0f921"
             ]
            ],
            "type": "histogram2d"
           }
          ],
          "histogram2dcontour": [
           {
            "colorbar": {
             "outlinewidth": 0,
             "ticks": ""
            },
            "colorscale": [
             [
              0,
              "#0d0887"
             ],
             [
              0.1111111111111111,
              "#46039f"
             ],
             [
              0.2222222222222222,
              "#7201a8"
             ],
             [
              0.3333333333333333,
              "#9c179e"
             ],
             [
              0.4444444444444444,
              "#bd3786"
             ],
             [
              0.5555555555555556,
              "#d8576b"
             ],
             [
              0.6666666666666666,
              "#ed7953"
             ],
             [
              0.7777777777777778,
              "#fb9f3a"
             ],
             [
              0.8888888888888888,
              "#fdca26"
             ],
             [
              1,
              "#f0f921"
             ]
            ],
            "type": "histogram2dcontour"
           }
          ],
          "mesh3d": [
           {
            "colorbar": {
             "outlinewidth": 0,
             "ticks": ""
            },
            "type": "mesh3d"
           }
          ],
          "parcoords": [
           {
            "line": {
             "colorbar": {
              "outlinewidth": 0,
              "ticks": ""
             }
            },
            "type": "parcoords"
           }
          ],
          "pie": [
           {
            "automargin": true,
            "type": "pie"
           }
          ],
          "scatter": [
           {
            "marker": {
             "colorbar": {
              "outlinewidth": 0,
              "ticks": ""
             }
            },
            "type": "scatter"
           }
          ],
          "scatter3d": [
           {
            "line": {
             "colorbar": {
              "outlinewidth": 0,
              "ticks": ""
             }
            },
            "marker": {
             "colorbar": {
              "outlinewidth": 0,
              "ticks": ""
             }
            },
            "type": "scatter3d"
           }
          ],
          "scattercarpet": [
           {
            "marker": {
             "colorbar": {
              "outlinewidth": 0,
              "ticks": ""
             }
            },
            "type": "scattercarpet"
           }
          ],
          "scattergeo": [
           {
            "marker": {
             "colorbar": {
              "outlinewidth": 0,
              "ticks": ""
             }
            },
            "type": "scattergeo"
           }
          ],
          "scattergl": [
           {
            "marker": {
             "colorbar": {
              "outlinewidth": 0,
              "ticks": ""
             }
            },
            "type": "scattergl"
           }
          ],
          "scattermapbox": [
           {
            "marker": {
             "colorbar": {
              "outlinewidth": 0,
              "ticks": ""
             }
            },
            "type": "scattermapbox"
           }
          ],
          "scatterpolar": [
           {
            "marker": {
             "colorbar": {
              "outlinewidth": 0,
              "ticks": ""
             }
            },
            "type": "scatterpolar"
           }
          ],
          "scatterpolargl": [
           {
            "marker": {
             "colorbar": {
              "outlinewidth": 0,
              "ticks": ""
             }
            },
            "type": "scatterpolargl"
           }
          ],
          "scatterternary": [
           {
            "marker": {
             "colorbar": {
              "outlinewidth": 0,
              "ticks": ""
             }
            },
            "type": "scatterternary"
           }
          ],
          "surface": [
           {
            "colorbar": {
             "outlinewidth": 0,
             "ticks": ""
            },
            "colorscale": [
             [
              0,
              "#0d0887"
             ],
             [
              0.1111111111111111,
              "#46039f"
             ],
             [
              0.2222222222222222,
              "#7201a8"
             ],
             [
              0.3333333333333333,
              "#9c179e"
             ],
             [
              0.4444444444444444,
              "#bd3786"
             ],
             [
              0.5555555555555556,
              "#d8576b"
             ],
             [
              0.6666666666666666,
              "#ed7953"
             ],
             [
              0.7777777777777778,
              "#fb9f3a"
             ],
             [
              0.8888888888888888,
              "#fdca26"
             ],
             [
              1,
              "#f0f921"
             ]
            ],
            "type": "surface"
           }
          ],
          "table": [
           {
            "cells": {
             "fill": {
              "color": "#EBF0F8"
             },
             "line": {
              "color": "white"
             }
            },
            "header": {
             "fill": {
              "color": "#C8D4E3"
             },
             "line": {
              "color": "white"
             }
            },
            "type": "table"
           }
          ]
         },
         "layout": {
          "annotationdefaults": {
           "arrowcolor": "#2a3f5f",
           "arrowhead": 0,
           "arrowwidth": 1
          },
          "coloraxis": {
           "colorbar": {
            "outlinewidth": 0,
            "ticks": ""
           }
          },
          "colorscale": {
           "diverging": [
            [
             0,
             "#8e0152"
            ],
            [
             0.1,
             "#c51b7d"
            ],
            [
             0.2,
             "#de77ae"
            ],
            [
             0.3,
             "#f1b6da"
            ],
            [
             0.4,
             "#fde0ef"
            ],
            [
             0.5,
             "#f7f7f7"
            ],
            [
             0.6,
             "#e6f5d0"
            ],
            [
             0.7,
             "#b8e186"
            ],
            [
             0.8,
             "#7fbc41"
            ],
            [
             0.9,
             "#4d9221"
            ],
            [
             1,
             "#276419"
            ]
           ],
           "sequential": [
            [
             0,
             "#0d0887"
            ],
            [
             0.1111111111111111,
             "#46039f"
            ],
            [
             0.2222222222222222,
             "#7201a8"
            ],
            [
             0.3333333333333333,
             "#9c179e"
            ],
            [
             0.4444444444444444,
             "#bd3786"
            ],
            [
             0.5555555555555556,
             "#d8576b"
            ],
            [
             0.6666666666666666,
             "#ed7953"
            ],
            [
             0.7777777777777778,
             "#fb9f3a"
            ],
            [
             0.8888888888888888,
             "#fdca26"
            ],
            [
             1,
             "#f0f921"
            ]
           ],
           "sequentialminus": [
            [
             0,
             "#0d0887"
            ],
            [
             0.1111111111111111,
             "#46039f"
            ],
            [
             0.2222222222222222,
             "#7201a8"
            ],
            [
             0.3333333333333333,
             "#9c179e"
            ],
            [
             0.4444444444444444,
             "#bd3786"
            ],
            [
             0.5555555555555556,
             "#d8576b"
            ],
            [
             0.6666666666666666,
             "#ed7953"
            ],
            [
             0.7777777777777778,
             "#fb9f3a"
            ],
            [
             0.8888888888888888,
             "#fdca26"
            ],
            [
             1,
             "#f0f921"
            ]
           ]
          },
          "colorway": [
           "#636efa",
           "#EF553B",
           "#00cc96",
           "#ab63fa",
           "#FFA15A",
           "#19d3f3",
           "#FF6692",
           "#B6E880",
           "#FF97FF",
           "#FECB52"
          ],
          "font": {
           "color": "#2a3f5f"
          },
          "geo": {
           "bgcolor": "white",
           "lakecolor": "white",
           "landcolor": "#E5ECF6",
           "showlakes": true,
           "showland": true,
           "subunitcolor": "white"
          },
          "hoverlabel": {
           "align": "left"
          },
          "hovermode": "closest",
          "mapbox": {
           "style": "light"
          },
          "paper_bgcolor": "white",
          "plot_bgcolor": "#E5ECF6",
          "polar": {
           "angularaxis": {
            "gridcolor": "white",
            "linecolor": "white",
            "ticks": ""
           },
           "bgcolor": "#E5ECF6",
           "radialaxis": {
            "gridcolor": "white",
            "linecolor": "white",
            "ticks": ""
           }
          },
          "scene": {
           "xaxis": {
            "backgroundcolor": "#E5ECF6",
            "gridcolor": "white",
            "gridwidth": 2,
            "linecolor": "white",
            "showbackground": true,
            "ticks": "",
            "zerolinecolor": "white"
           },
           "yaxis": {
            "backgroundcolor": "#E5ECF6",
            "gridcolor": "white",
            "gridwidth": 2,
            "linecolor": "white",
            "showbackground": true,
            "ticks": "",
            "zerolinecolor": "white"
           },
           "zaxis": {
            "backgroundcolor": "#E5ECF6",
            "gridcolor": "white",
            "gridwidth": 2,
            "linecolor": "white",
            "showbackground": true,
            "ticks": "",
            "zerolinecolor": "white"
           }
          },
          "shapedefaults": {
           "line": {
            "color": "#2a3f5f"
           }
          },
          "ternary": {
           "aaxis": {
            "gridcolor": "white",
            "linecolor": "white",
            "ticks": ""
           },
           "baxis": {
            "gridcolor": "white",
            "linecolor": "white",
            "ticks": ""
           },
           "bgcolor": "#E5ECF6",
           "caxis": {
            "gridcolor": "white",
            "linecolor": "white",
            "ticks": ""
           }
          },
          "title": {
           "x": 0.05
          },
          "xaxis": {
           "automargin": true,
           "gridcolor": "white",
           "linecolor": "white",
           "ticks": "",
           "title": {
            "standoff": 15
           },
           "zerolinecolor": "white",
           "zerolinewidth": 2
          },
          "yaxis": {
           "automargin": true,
           "gridcolor": "white",
           "linecolor": "white",
           "ticks": "",
           "title": {
            "standoff": 15
           },
           "zerolinecolor": "white",
           "zerolinewidth": 2
          }
         }
        },
        "title": {
         "text": "Experiment times of GraphFrames implementations"
        },
        "width": 1000,
        "xaxis": {
         "anchor": "y",
         "domain": [
          0,
          0.3133333333333333
         ],
         "title": {
          "text": "k"
         },
         "type": "log"
        },
        "xaxis2": {
         "anchor": "y2",
         "domain": [
          0.3333333333333333,
          0.6466666666666666
         ],
         "matches": "x",
         "title": {
          "text": "k"
         },
         "type": "log"
        },
        "xaxis3": {
         "anchor": "y3",
         "domain": [
          0.6666666666666666,
          0.98
         ],
         "matches": "x",
         "title": {
          "text": "k"
         },
         "type": "log"
        },
        "xaxis4": {
         "anchor": "y4",
         "domain": [
          0,
          0.3133333333333333
         ],
         "matches": "x",
         "showticklabels": false,
         "type": "log"
        },
        "xaxis5": {
         "anchor": "y5",
         "domain": [
          0.3333333333333333,
          0.6466666666666666
         ],
         "matches": "x",
         "showticklabels": false,
         "type": "log"
        },
        "xaxis6": {
         "anchor": "y6",
         "domain": [
          0.6666666666666666,
          0.98
         ],
         "matches": "x",
         "showticklabels": false,
         "type": "log"
        },
        "xaxis7": {
         "anchor": "y7",
         "domain": [
          0,
          0.3133333333333333
         ],
         "matches": "x",
         "showticklabels": false,
         "type": "log"
        },
        "xaxis8": {
         "anchor": "y8",
         "domain": [
          0.3333333333333333,
          0.6466666666666666
         ],
         "matches": "x",
         "showticklabels": false,
         "type": "log"
        },
        "xaxis9": {
         "anchor": "y9",
         "domain": [
          0.6666666666666666,
          0.98
         ],
         "matches": "x",
         "showticklabels": false,
         "type": "log"
        },
        "yaxis": {
         "anchor": "x",
         "domain": [
          0,
          0.3133333333333333
         ],
         "title": {
          "text": "time (sec)"
         }
        },
        "yaxis2": {
         "anchor": "x2",
         "domain": [
          0,
          0.3133333333333333
         ],
         "matches": "y",
         "showticklabels": false
        },
        "yaxis3": {
         "anchor": "x3",
         "domain": [
          0,
          0.3133333333333333
         ],
         "matches": "y",
         "showticklabels": false
        },
        "yaxis4": {
         "anchor": "x4",
         "domain": [
          0.34333333333333327,
          0.6566666666666665
         ],
         "matches": "y",
         "title": {
          "text": "time (sec)"
         }
        },
        "yaxis5": {
         "anchor": "x5",
         "domain": [
          0.34333333333333327,
          0.6566666666666665
         ],
         "matches": "y",
         "showticklabels": false
        },
        "yaxis6": {
         "anchor": "x6",
         "domain": [
          0.34333333333333327,
          0.6566666666666665
         ],
         "matches": "y",
         "showticklabels": false
        },
        "yaxis7": {
         "anchor": "x7",
         "domain": [
          0.6866666666666665,
          0.9999999999999998
         ],
         "matches": "y",
         "title": {
          "text": "time (sec)"
         }
        },
        "yaxis8": {
         "anchor": "x8",
         "domain": [
          0.6866666666666665,
          0.9999999999999998
         ],
         "matches": "y",
         "showticklabels": false
        },
        "yaxis9": {
         "anchor": "x9",
         "domain": [
          0.6866666666666665,
          0.9999999999999998
         ],
         "matches": "y",
         "showticklabels": false
        }
       }
      },
      "text/html": [
       "<div>                            <div id=\"1c63473a-ccaa-44c7-8807-0fd01cb452db\" class=\"plotly-graph-div\" style=\"height:700px; width:1000px;\"></div>            <script type=\"text/javascript\">                require([\"plotly\"], function(Plotly) {                    window.PLOTLYENV=window.PLOTLYENV || {};                                    if (document.getElementById(\"1c63473a-ccaa-44c7-8807-0fd01cb452db\")) {                    Plotly.newPlot(                        \"1c63473a-ccaa-44c7-8807-0fd01cb452db\",                        [{\"hovertemplate\": \"algorithm=baseline<br>distribution=uniform<br>cores=1<br>k=%{x}<br>time (sec)=%{y}<extra></extra>\", \"legendgroup\": \"baseline\", \"line\": {\"color\": \"#636efa\", \"dash\": \"solid\"}, \"mode\": \"markers+lines\", \"name\": \"baseline\", \"orientation\": \"v\", \"showlegend\": true, \"type\": \"scatter\", \"x\": [100, 1000, 10000], \"xaxis\": \"x7\", \"y\": [210.74479484558103, 202.7330527305603, 205.7971215248108], \"yaxis\": \"y7\"}, {\"hovertemplate\": \"algorithm=baseline<br>distribution=uniform<br>cores=2<br>k=%{x}<br>time (sec)=%{y}<extra></extra>\", \"legendgroup\": \"baseline\", \"line\": {\"color\": \"#636efa\", \"dash\": \"solid\"}, \"mode\": \"markers+lines\", \"name\": \"baseline\", \"orientation\": \"v\", \"showlegend\": false, \"type\": \"scatter\", \"x\": [100, 1000, 10000], \"xaxis\": \"x8\", \"y\": [134.53694033622742, 136.5538363456726, 136.37107801437378], \"yaxis\": \"y8\"}, {\"hovertemplate\": \"algorithm=baseline<br>distribution=uniform<br>cores=8<br>k=%{x}<br>time (sec)=%{y}<extra></extra>\", \"legendgroup\": \"baseline\", \"line\": {\"color\": \"#636efa\", \"dash\": \"solid\"}, \"mode\": \"markers+lines\", \"name\": \"baseline\", \"orientation\": \"v\", \"showlegend\": false, \"type\": \"scatter\", \"x\": [100, 1000, 10000], \"xaxis\": \"x9\", \"y\": [121.45832467079164, 114.9101378917694, 122.0564317703247], \"yaxis\": \"y9\"}, {\"hovertemplate\": \"algorithm=baseline<br>distribution=normal<br>cores=1<br>k=%{x}<br>time (sec)=%{y}<extra></extra>\", \"legendgroup\": \"baseline\", \"line\": {\"color\": \"#636efa\", \"dash\": \"solid\"}, \"mode\": \"markers+lines\", \"name\": \"baseline\", \"orientation\": \"v\", \"showlegend\": false, \"type\": \"scatter\", \"x\": [100, 1000, 10000], \"xaxis\": \"x4\", \"y\": [169.3458390235901, 169.63086557388306, 171.42018961906433], \"yaxis\": \"y4\"}, {\"hovertemplate\": \"algorithm=baseline<br>distribution=normal<br>cores=2<br>k=%{x}<br>time (sec)=%{y}<extra></extra>\", \"legendgroup\": \"baseline\", \"line\": {\"color\": \"#636efa\", \"dash\": \"solid\"}, \"mode\": \"markers+lines\", \"name\": \"baseline\", \"orientation\": \"v\", \"showlegend\": false, \"type\": \"scatter\", \"x\": [100, 1000, 10000], \"xaxis\": \"x5\", \"y\": [115.45955801010132, 116.33225226402284, 125.26415920257568], \"yaxis\": \"y5\"}, {\"hovertemplate\": \"algorithm=baseline<br>distribution=normal<br>cores=8<br>k=%{x}<br>time (sec)=%{y}<extra></extra>\", \"legendgroup\": \"baseline\", \"line\": {\"color\": \"#636efa\", \"dash\": \"solid\"}, \"mode\": \"markers+lines\", \"name\": \"baseline\", \"orientation\": \"v\", \"showlegend\": false, \"type\": \"scatter\", \"x\": [100, 1000, 10000], \"xaxis\": \"x6\", \"y\": [97.22321581840517, 100.3886866569519, 102.15371417999268], \"yaxis\": \"y6\"}, {\"hovertemplate\": \"algorithm=baseline<br>distribution=power_law<br>cores=1<br>k=%{x}<br>time (sec)=%{y}<extra></extra>\", \"legendgroup\": \"baseline\", \"line\": {\"color\": \"#636efa\", \"dash\": \"solid\"}, \"mode\": \"markers+lines\", \"name\": \"baseline\", \"orientation\": \"v\", \"showlegend\": false, \"type\": \"scatter\", \"x\": [100, 1000, 10000], \"xaxis\": \"x\", \"y\": [208.57235050201416, 231.68531131744385, 200.71134543418884], \"yaxis\": \"y\"}, {\"hovertemplate\": \"algorithm=baseline<br>distribution=power_law<br>cores=2<br>k=%{x}<br>time (sec)=%{y}<extra></extra>\", \"legendgroup\": \"baseline\", \"line\": {\"color\": \"#636efa\", \"dash\": \"solid\"}, \"mode\": \"markers+lines\", \"name\": \"baseline\", \"orientation\": \"v\", \"showlegend\": false, \"type\": \"scatter\", \"x\": [100, 1000, 10000], \"xaxis\": \"x2\", \"y\": [120.0795726776123, 123.6891040802002, 122.07053256034852], \"yaxis\": \"y2\"}, {\"hovertemplate\": \"algorithm=baseline<br>distribution=power_law<br>cores=8<br>k=%{x}<br>time (sec)=%{y}<extra></extra>\", \"legendgroup\": \"baseline\", \"line\": {\"color\": \"#636efa\", \"dash\": \"solid\"}, \"mode\": \"markers+lines\", \"name\": \"baseline\", \"orientation\": \"v\", \"showlegend\": false, \"type\": \"scatter\", \"x\": [100, 1000, 10000], \"xaxis\": \"x3\", \"y\": [106.0279896259308, 103.51495575904846, 112.54795455932616], \"yaxis\": \"y3\"}, {\"hovertemplate\": \"algorithm=optimization 1<br>distribution=uniform<br>cores=1<br>k=%{x}<br>time (sec)=%{y}<extra></extra>\", \"legendgroup\": \"optimization 1\", \"line\": {\"color\": \"#EF553B\", \"dash\": \"solid\"}, \"mode\": \"markers+lines\", \"name\": \"optimization 1\", \"orientation\": \"v\", \"showlegend\": true, \"type\": \"scatter\", \"x\": [100, 1000, 10000], \"xaxis\": \"x7\", \"y\": [51.31822681427002, 47.53565788269043, 104.04664325714111], \"yaxis\": \"y7\"}, {\"hovertemplate\": \"algorithm=optimization 1<br>distribution=uniform<br>cores=2<br>k=%{x}<br>time (sec)=%{y}<extra></extra>\", \"legendgroup\": \"optimization 1\", \"line\": {\"color\": \"#EF553B\", \"dash\": \"solid\"}, \"mode\": \"markers+lines\", \"name\": \"optimization 1\", \"orientation\": \"v\", \"showlegend\": false, \"type\": \"scatter\", \"x\": [100, 1000, 10000], \"xaxis\": \"x8\", \"y\": [38.33883047103882, 40.42181062698364, 68.85854816436768], \"yaxis\": \"y8\"}, {\"hovertemplate\": \"algorithm=optimization 1<br>distribution=uniform<br>cores=8<br>k=%{x}<br>time (sec)=%{y}<extra></extra>\", \"legendgroup\": \"optimization 1\", \"line\": {\"color\": \"#EF553B\", \"dash\": \"solid\"}, \"mode\": \"markers+lines\", \"name\": \"optimization 1\", \"orientation\": \"v\", \"showlegend\": false, \"type\": \"scatter\", \"x\": [100, 1000, 10000], \"xaxis\": \"x9\", \"y\": [30.66333675384521, 30.346402883529663, 54.65762805938721], \"yaxis\": \"y9\"}, {\"hovertemplate\": \"algorithm=optimization 1<br>distribution=normal<br>cores=1<br>k=%{x}<br>time (sec)=%{y}<extra></extra>\", \"legendgroup\": \"optimization 1\", \"line\": {\"color\": \"#EF553B\", \"dash\": \"solid\"}, \"mode\": \"markers+lines\", \"name\": \"optimization 1\", \"orientation\": \"v\", \"showlegend\": false, \"type\": \"scatter\", \"x\": [100, 1000, 10000], \"xaxis\": \"x4\", \"y\": [243.94234824180603, 266.60714054107666, 368.53389024734497], \"yaxis\": \"y4\"}, {\"hovertemplate\": \"algorithm=optimization 1<br>distribution=normal<br>cores=2<br>k=%{x}<br>time (sec)=%{y}<extra></extra>\", \"legendgroup\": \"optimization 1\", \"line\": {\"color\": \"#EF553B\", \"dash\": \"solid\"}, \"mode\": \"markers+lines\", \"name\": \"optimization 1\", \"orientation\": \"v\", \"showlegend\": false, \"type\": \"scatter\", \"x\": [100, 1000, 10000], \"xaxis\": \"x5\", \"y\": [180.06315922737122, 189.403062582016, 234.2568051815033], \"yaxis\": \"y5\"}, {\"hovertemplate\": \"algorithm=optimization 1<br>distribution=normal<br>cores=8<br>k=%{x}<br>time (sec)=%{y}<extra></extra>\", \"legendgroup\": \"optimization 1\", \"line\": {\"color\": \"#EF553B\", \"dash\": \"solid\"}, \"mode\": \"markers+lines\", \"name\": \"optimization 1\", \"orientation\": \"v\", \"showlegend\": false, \"type\": \"scatter\", \"x\": [100, 1000, 10000], \"xaxis\": \"x6\", \"y\": [151.72542548179626, 156.45248651504517, 161.0106325149536], \"yaxis\": \"y6\"}, {\"hovertemplate\": \"algorithm=optimization 1<br>distribution=power_law<br>cores=1<br>k=%{x}<br>time (sec)=%{y}<extra></extra>\", \"legendgroup\": \"optimization 1\", \"line\": {\"color\": \"#EF553B\", \"dash\": \"solid\"}, \"mode\": \"markers+lines\", \"name\": \"optimization 1\", \"orientation\": \"v\", \"showlegend\": false, \"type\": \"scatter\", \"x\": [100, 1000, 10000], \"xaxis\": \"x\", \"y\": [54.23536348342896, 53.41026496887207, 145.87033939361572], \"yaxis\": \"y\"}, {\"hovertemplate\": \"algorithm=optimization 1<br>distribution=power_law<br>cores=2<br>k=%{x}<br>time (sec)=%{y}<extra></extra>\", \"legendgroup\": \"optimization 1\", \"line\": {\"color\": \"#EF553B\", \"dash\": \"solid\"}, \"mode\": \"markers+lines\", \"name\": \"optimization 1\", \"orientation\": \"v\", \"showlegend\": false, \"type\": \"scatter\", \"x\": [100, 1000, 10000], \"xaxis\": \"x2\", \"y\": [40.70121383666992, 36.035826683044434, 94.18622064590454], \"yaxis\": \"y2\"}, {\"hovertemplate\": \"algorithm=optimization 1<br>distribution=power_law<br>cores=8<br>k=%{x}<br>time (sec)=%{y}<extra></extra>\", \"legendgroup\": \"optimization 1\", \"line\": {\"color\": \"#EF553B\", \"dash\": \"solid\"}, \"mode\": \"markers+lines\", \"name\": \"optimization 1\", \"orientation\": \"v\", \"showlegend\": false, \"type\": \"scatter\", \"x\": [100, 1000, 10000], \"xaxis\": \"x3\", \"y\": [31.978121042251587, 31.58792734146118, 73.00699543952942], \"yaxis\": \"y3\"}, {\"hovertemplate\": \"algorithm=optimization 2<br>distribution=uniform<br>cores=1<br>k=%{x}<br>time (sec)=%{y}<extra></extra>\", \"legendgroup\": \"optimization 2\", \"line\": {\"color\": \"#00cc96\", \"dash\": \"solid\"}, \"mode\": \"markers+lines\", \"name\": \"optimization 2\", \"orientation\": \"v\", \"showlegend\": true, \"type\": \"scatter\", \"x\": [100, 1000, 10000], \"xaxis\": \"x7\", \"y\": [47.31780409812927, 47.84933471679688, 140.69839668273926], \"yaxis\": \"y7\"}, {\"hovertemplate\": \"algorithm=optimization 2<br>distribution=uniform<br>cores=2<br>k=%{x}<br>time (sec)=%{y}<extra></extra>\", \"legendgroup\": \"optimization 2\", \"line\": {\"color\": \"#00cc96\", \"dash\": \"solid\"}, \"mode\": \"markers+lines\", \"name\": \"optimization 2\", \"orientation\": \"v\", \"showlegend\": false, \"type\": \"scatter\", \"x\": [100, 1000, 10000], \"xaxis\": \"x8\", \"y\": [45.0256872177124, 41.97283291816712, 96.98869681358336], \"yaxis\": \"y8\"}, {\"hovertemplate\": \"algorithm=optimization 2<br>distribution=uniform<br>cores=8<br>k=%{x}<br>time (sec)=%{y}<extra></extra>\", \"legendgroup\": \"optimization 2\", \"line\": {\"color\": \"#00cc96\", \"dash\": \"solid\"}, \"mode\": \"markers+lines\", \"name\": \"optimization 2\", \"orientation\": \"v\", \"showlegend\": false, \"type\": \"scatter\", \"x\": [100, 1000, 10000], \"xaxis\": \"x9\", \"y\": [34.374945878982544, 37.80650925636292, 76.80474638938904], \"yaxis\": \"y9\"}, {\"hovertemplate\": \"algorithm=optimization 2<br>distribution=normal<br>cores=1<br>k=%{x}<br>time (sec)=%{y}<extra></extra>\", \"legendgroup\": \"optimization 2\", \"line\": {\"color\": \"#00cc96\", \"dash\": \"solid\"}, \"mode\": \"markers+lines\", \"name\": \"optimization 2\", \"orientation\": \"v\", \"showlegend\": false, \"type\": \"scatter\", \"x\": [100, 1000, 10000], \"xaxis\": \"x4\", \"y\": [328.2675521373749, 352.2608544826508, 524.3909833431244], \"yaxis\": \"y4\"}, {\"hovertemplate\": \"algorithm=optimization 2<br>distribution=normal<br>cores=2<br>k=%{x}<br>time (sec)=%{y}<extra></extra>\", \"legendgroup\": \"optimization 2\", \"line\": {\"color\": \"#00cc96\", \"dash\": \"solid\"}, \"mode\": \"markers+lines\", \"name\": \"optimization 2\", \"orientation\": \"v\", \"showlegend\": false, \"type\": \"scatter\", \"x\": [100, 1000, 10000], \"xaxis\": \"x5\", \"y\": [264.9492375850677, 242.1960978507996, 317.7544105052948], \"yaxis\": \"y5\"}, {\"hovertemplate\": \"algorithm=optimization 2<br>distribution=normal<br>cores=8<br>k=%{x}<br>time (sec)=%{y}<extra></extra>\", \"legendgroup\": \"optimization 2\", \"line\": {\"color\": \"#00cc96\", \"dash\": \"solid\"}, \"mode\": \"markers+lines\", \"name\": \"optimization 2\", \"orientation\": \"v\", \"showlegend\": false, \"type\": \"scatter\", \"x\": [100, 1000, 10000], \"xaxis\": \"x6\", \"y\": [156.9876799583435, 176.81607937812805, 251.5612497329712], \"yaxis\": \"y6\"}, {\"hovertemplate\": \"algorithm=optimization 2<br>distribution=power_law<br>cores=1<br>k=%{x}<br>time (sec)=%{y}<extra></extra>\", \"legendgroup\": \"optimization 2\", \"line\": {\"color\": \"#00cc96\", \"dash\": \"solid\"}, \"mode\": \"markers+lines\", \"name\": \"optimization 2\", \"orientation\": \"v\", \"showlegend\": false, \"type\": \"scatter\", \"x\": [100, 1000, 10000], \"xaxis\": \"x\", \"y\": [47.600462436676025, 45.486900806427, 176.0100257396698], \"yaxis\": \"y\"}, {\"hovertemplate\": \"algorithm=optimization 2<br>distribution=power_law<br>cores=2<br>k=%{x}<br>time (sec)=%{y}<extra></extra>\", \"legendgroup\": \"optimization 2\", \"line\": {\"color\": \"#00cc96\", \"dash\": \"solid\"}, \"mode\": \"markers+lines\", \"name\": \"optimization 2\", \"orientation\": \"v\", \"showlegend\": false, \"type\": \"scatter\", \"x\": [100, 1000, 10000], \"xaxis\": \"x2\", \"y\": [34.99015712738037, 36.10437035560608, 123.80975484848022], \"yaxis\": \"y2\"}, {\"hovertemplate\": \"algorithm=optimization 2<br>distribution=power_law<br>cores=8<br>k=%{x}<br>time (sec)=%{y}<extra></extra>\", \"legendgroup\": \"optimization 2\", \"line\": {\"color\": \"#00cc96\", \"dash\": \"solid\"}, \"mode\": \"markers+lines\", \"name\": \"optimization 2\", \"orientation\": \"v\", \"showlegend\": false, \"type\": \"scatter\", \"x\": [100, 1000, 10000], \"xaxis\": \"x3\", \"y\": [31.990183115005493, 32.14595699310303, 100.4338903427124], \"yaxis\": \"y3\"}],                        {\"annotations\": [{\"font\": {}, \"showarrow\": false, \"text\": \"cores=1\", \"x\": 0.15666666666666665, \"xanchor\": \"center\", \"xref\": \"paper\", \"y\": 0.9999999999999998, \"yanchor\": \"bottom\", \"yref\": \"paper\"}, {\"font\": {}, \"showarrow\": false, \"text\": \"cores=2\", \"x\": 0.49, \"xanchor\": \"center\", \"xref\": \"paper\", \"y\": 0.9999999999999998, \"yanchor\": \"bottom\", \"yref\": \"paper\"}, {\"font\": {}, \"showarrow\": false, \"text\": \"cores=8\", \"x\": 0.8233333333333333, \"xanchor\": \"center\", \"xref\": \"paper\", \"y\": 0.9999999999999998, \"yanchor\": \"bottom\", \"yref\": \"paper\"}, {\"font\": {}, \"showarrow\": false, \"text\": \"distribution=power_law\", \"textangle\": 90, \"x\": 0.98, \"xanchor\": \"left\", \"xref\": \"paper\", \"y\": 0.15666666666666665, \"yanchor\": \"middle\", \"yref\": \"paper\"}, {\"font\": {}, \"showarrow\": false, \"text\": \"distribution=normal\", \"textangle\": 90, \"x\": 0.98, \"xanchor\": \"left\", \"xref\": \"paper\", \"y\": 0.4999999999999999, \"yanchor\": \"middle\", \"yref\": \"paper\"}, {\"font\": {}, \"showarrow\": false, \"text\": \"distribution=uniform\", \"textangle\": 90, \"x\": 0.98, \"xanchor\": \"left\", \"xref\": \"paper\", \"y\": 0.8433333333333332, \"yanchor\": \"middle\", \"yref\": \"paper\"}], \"autosize\": false, \"height\": 700, \"legend\": {\"title\": {\"text\": \"algorithm\"}, \"tracegroupgap\": 0}, \"margin\": {\"t\": 60}, \"template\": {\"data\": {\"bar\": [{\"error_x\": {\"color\": \"#2a3f5f\"}, \"error_y\": {\"color\": \"#2a3f5f\"}, \"marker\": {\"line\": {\"color\": \"#E5ECF6\", \"width\": 0.5}}, \"type\": \"bar\"}], \"barpolar\": [{\"marker\": {\"line\": {\"color\": \"#E5ECF6\", \"width\": 0.5}}, \"type\": \"barpolar\"}], \"carpet\": [{\"aaxis\": {\"endlinecolor\": \"#2a3f5f\", \"gridcolor\": \"white\", \"linecolor\": \"white\", \"minorgridcolor\": \"white\", \"startlinecolor\": \"#2a3f5f\"}, \"baxis\": {\"endlinecolor\": \"#2a3f5f\", \"gridcolor\": \"white\", \"linecolor\": \"white\", \"minorgridcolor\": \"white\", \"startlinecolor\": \"#2a3f5f\"}, \"type\": \"carpet\"}], \"choropleth\": [{\"colorbar\": {\"outlinewidth\": 0, \"ticks\": \"\"}, \"type\": \"choropleth\"}], \"contour\": [{\"colorbar\": {\"outlinewidth\": 0, \"ticks\": \"\"}, \"colorscale\": [[0.0, \"#0d0887\"], [0.1111111111111111, \"#46039f\"], [0.2222222222222222, \"#7201a8\"], [0.3333333333333333, \"#9c179e\"], [0.4444444444444444, \"#bd3786\"], [0.5555555555555556, \"#d8576b\"], [0.6666666666666666, \"#ed7953\"], [0.7777777777777778, \"#fb9f3a\"], [0.8888888888888888, \"#fdca26\"], [1.0, \"#f0f921\"]], \"type\": \"contour\"}], \"contourcarpet\": [{\"colorbar\": {\"outlinewidth\": 0, \"ticks\": \"\"}, \"type\": \"contourcarpet\"}], \"heatmap\": [{\"colorbar\": {\"outlinewidth\": 0, \"ticks\": \"\"}, \"colorscale\": [[0.0, \"#0d0887\"], [0.1111111111111111, \"#46039f\"], [0.2222222222222222, \"#7201a8\"], [0.3333333333333333, \"#9c179e\"], [0.4444444444444444, \"#bd3786\"], [0.5555555555555556, \"#d8576b\"], [0.6666666666666666, \"#ed7953\"], [0.7777777777777778, \"#fb9f3a\"], [0.8888888888888888, \"#fdca26\"], [1.0, \"#f0f921\"]], \"type\": \"heatmap\"}], \"heatmapgl\": [{\"colorbar\": {\"outlinewidth\": 0, \"ticks\": \"\"}, \"colorscale\": [[0.0, \"#0d0887\"], [0.1111111111111111, \"#46039f\"], [0.2222222222222222, \"#7201a8\"], [0.3333333333333333, \"#9c179e\"], [0.4444444444444444, \"#bd3786\"], [0.5555555555555556, \"#d8576b\"], [0.6666666666666666, \"#ed7953\"], [0.7777777777777778, \"#fb9f3a\"], [0.8888888888888888, \"#fdca26\"], [1.0, \"#f0f921\"]], \"type\": \"heatmapgl\"}], \"histogram\": [{\"marker\": {\"colorbar\": {\"outlinewidth\": 0, \"ticks\": \"\"}}, \"type\": \"histogram\"}], \"histogram2d\": [{\"colorbar\": {\"outlinewidth\": 0, \"ticks\": \"\"}, \"colorscale\": [[0.0, \"#0d0887\"], [0.1111111111111111, \"#46039f\"], [0.2222222222222222, \"#7201a8\"], [0.3333333333333333, \"#9c179e\"], [0.4444444444444444, \"#bd3786\"], [0.5555555555555556, \"#d8576b\"], [0.6666666666666666, \"#ed7953\"], [0.7777777777777778, \"#fb9f3a\"], [0.8888888888888888, \"#fdca26\"], [1.0, \"#f0f921\"]], \"type\": \"histogram2d\"}], \"histogram2dcontour\": [{\"colorbar\": {\"outlinewidth\": 0, \"ticks\": \"\"}, \"colorscale\": [[0.0, \"#0d0887\"], [0.1111111111111111, \"#46039f\"], [0.2222222222222222, \"#7201a8\"], [0.3333333333333333, \"#9c179e\"], [0.4444444444444444, \"#bd3786\"], [0.5555555555555556, \"#d8576b\"], [0.6666666666666666, \"#ed7953\"], [0.7777777777777778, \"#fb9f3a\"], [0.8888888888888888, \"#fdca26\"], [1.0, \"#f0f921\"]], \"type\": \"histogram2dcontour\"}], \"mesh3d\": [{\"colorbar\": {\"outlinewidth\": 0, \"ticks\": \"\"}, \"type\": \"mesh3d\"}], \"parcoords\": [{\"line\": {\"colorbar\": {\"outlinewidth\": 0, \"ticks\": \"\"}}, \"type\": \"parcoords\"}], \"pie\": [{\"automargin\": true, \"type\": \"pie\"}], \"scatter\": [{\"marker\": {\"colorbar\": {\"outlinewidth\": 0, \"ticks\": \"\"}}, \"type\": \"scatter\"}], \"scatter3d\": [{\"line\": {\"colorbar\": {\"outlinewidth\": 0, \"ticks\": \"\"}}, \"marker\": {\"colorbar\": {\"outlinewidth\": 0, \"ticks\": \"\"}}, \"type\": \"scatter3d\"}], \"scattercarpet\": [{\"marker\": {\"colorbar\": {\"outlinewidth\": 0, \"ticks\": \"\"}}, \"type\": \"scattercarpet\"}], \"scattergeo\": [{\"marker\": {\"colorbar\": {\"outlinewidth\": 0, \"ticks\": \"\"}}, \"type\": \"scattergeo\"}], \"scattergl\": [{\"marker\": {\"colorbar\": {\"outlinewidth\": 0, \"ticks\": \"\"}}, \"type\": \"scattergl\"}], \"scattermapbox\": [{\"marker\": {\"colorbar\": {\"outlinewidth\": 0, \"ticks\": \"\"}}, \"type\": \"scattermapbox\"}], \"scatterpolar\": [{\"marker\": {\"colorbar\": {\"outlinewidth\": 0, \"ticks\": \"\"}}, \"type\": \"scatterpolar\"}], \"scatterpolargl\": [{\"marker\": {\"colorbar\": {\"outlinewidth\": 0, \"ticks\": \"\"}}, \"type\": \"scatterpolargl\"}], \"scatterternary\": [{\"marker\": {\"colorbar\": {\"outlinewidth\": 0, \"ticks\": \"\"}}, \"type\": \"scatterternary\"}], \"surface\": [{\"colorbar\": {\"outlinewidth\": 0, \"ticks\": \"\"}, \"colorscale\": [[0.0, \"#0d0887\"], [0.1111111111111111, \"#46039f\"], [0.2222222222222222, \"#7201a8\"], [0.3333333333333333, \"#9c179e\"], [0.4444444444444444, \"#bd3786\"], [0.5555555555555556, \"#d8576b\"], [0.6666666666666666, \"#ed7953\"], [0.7777777777777778, \"#fb9f3a\"], [0.8888888888888888, \"#fdca26\"], [1.0, \"#f0f921\"]], \"type\": \"surface\"}], \"table\": [{\"cells\": {\"fill\": {\"color\": \"#EBF0F8\"}, \"line\": {\"color\": \"white\"}}, \"header\": {\"fill\": {\"color\": \"#C8D4E3\"}, \"line\": {\"color\": \"white\"}}, \"type\": \"table\"}]}, \"layout\": {\"annotationdefaults\": {\"arrowcolor\": \"#2a3f5f\", \"arrowhead\": 0, \"arrowwidth\": 1}, \"coloraxis\": {\"colorbar\": {\"outlinewidth\": 0, \"ticks\": \"\"}}, \"colorscale\": {\"diverging\": [[0, \"#8e0152\"], [0.1, \"#c51b7d\"], [0.2, \"#de77ae\"], [0.3, \"#f1b6da\"], [0.4, \"#fde0ef\"], [0.5, \"#f7f7f7\"], [0.6, \"#e6f5d0\"], [0.7, \"#b8e186\"], [0.8, \"#7fbc41\"], [0.9, \"#4d9221\"], [1, \"#276419\"]], \"sequential\": [[0.0, \"#0d0887\"], [0.1111111111111111, \"#46039f\"], [0.2222222222222222, \"#7201a8\"], [0.3333333333333333, \"#9c179e\"], [0.4444444444444444, \"#bd3786\"], [0.5555555555555556, \"#d8576b\"], [0.6666666666666666, \"#ed7953\"], [0.7777777777777778, \"#fb9f3a\"], [0.8888888888888888, \"#fdca26\"], [1.0, \"#f0f921\"]], \"sequentialminus\": [[0.0, \"#0d0887\"], [0.1111111111111111, \"#46039f\"], [0.2222222222222222, \"#7201a8\"], [0.3333333333333333, \"#9c179e\"], [0.4444444444444444, \"#bd3786\"], [0.5555555555555556, \"#d8576b\"], [0.6666666666666666, \"#ed7953\"], [0.7777777777777778, \"#fb9f3a\"], [0.8888888888888888, \"#fdca26\"], [1.0, \"#f0f921\"]]}, \"colorway\": [\"#636efa\", \"#EF553B\", \"#00cc96\", \"#ab63fa\", \"#FFA15A\", \"#19d3f3\", \"#FF6692\", \"#B6E880\", \"#FF97FF\", \"#FECB52\"], \"font\": {\"color\": \"#2a3f5f\"}, \"geo\": {\"bgcolor\": \"white\", \"lakecolor\": \"white\", \"landcolor\": \"#E5ECF6\", \"showlakes\": true, \"showland\": true, \"subunitcolor\": \"white\"}, \"hoverlabel\": {\"align\": \"left\"}, \"hovermode\": \"closest\", \"mapbox\": {\"style\": \"light\"}, \"paper_bgcolor\": \"white\", \"plot_bgcolor\": \"#E5ECF6\", \"polar\": {\"angularaxis\": {\"gridcolor\": \"white\", \"linecolor\": \"white\", \"ticks\": \"\"}, \"bgcolor\": \"#E5ECF6\", \"radialaxis\": {\"gridcolor\": \"white\", \"linecolor\": \"white\", \"ticks\": \"\"}}, \"scene\": {\"xaxis\": {\"backgroundcolor\": \"#E5ECF6\", \"gridcolor\": \"white\", \"gridwidth\": 2, \"linecolor\": \"white\", \"showbackground\": true, \"ticks\": \"\", \"zerolinecolor\": \"white\"}, \"yaxis\": {\"backgroundcolor\": \"#E5ECF6\", \"gridcolor\": \"white\", \"gridwidth\": 2, \"linecolor\": \"white\", \"showbackground\": true, \"ticks\": \"\", \"zerolinecolor\": \"white\"}, \"zaxis\": {\"backgroundcolor\": \"#E5ECF6\", \"gridcolor\": \"white\", \"gridwidth\": 2, \"linecolor\": \"white\", \"showbackground\": true, \"ticks\": \"\", \"zerolinecolor\": \"white\"}}, \"shapedefaults\": {\"line\": {\"color\": \"#2a3f5f\"}}, \"ternary\": {\"aaxis\": {\"gridcolor\": \"white\", \"linecolor\": \"white\", \"ticks\": \"\"}, \"baxis\": {\"gridcolor\": \"white\", \"linecolor\": \"white\", \"ticks\": \"\"}, \"bgcolor\": \"#E5ECF6\", \"caxis\": {\"gridcolor\": \"white\", \"linecolor\": \"white\", \"ticks\": \"\"}}, \"title\": {\"x\": 0.05}, \"xaxis\": {\"automargin\": true, \"gridcolor\": \"white\", \"linecolor\": \"white\", \"ticks\": \"\", \"title\": {\"standoff\": 15}, \"zerolinecolor\": \"white\", \"zerolinewidth\": 2}, \"yaxis\": {\"automargin\": true, \"gridcolor\": \"white\", \"linecolor\": \"white\", \"ticks\": \"\", \"title\": {\"standoff\": 15}, \"zerolinecolor\": \"white\", \"zerolinewidth\": 2}}}, \"title\": {\"text\": \"Experiment times of GraphFrames implementations\"}, \"width\": 1000, \"xaxis\": {\"anchor\": \"y\", \"domain\": [0.0, 0.3133333333333333], \"title\": {\"text\": \"k\"}, \"type\": \"log\"}, \"xaxis2\": {\"anchor\": \"y2\", \"domain\": [0.3333333333333333, 0.6466666666666666], \"matches\": \"x\", \"title\": {\"text\": \"k\"}, \"type\": \"log\"}, \"xaxis3\": {\"anchor\": \"y3\", \"domain\": [0.6666666666666666, 0.98], \"matches\": \"x\", \"title\": {\"text\": \"k\"}, \"type\": \"log\"}, \"xaxis4\": {\"anchor\": \"y4\", \"domain\": [0.0, 0.3133333333333333], \"matches\": \"x\", \"showticklabels\": false, \"type\": \"log\"}, \"xaxis5\": {\"anchor\": \"y5\", \"domain\": [0.3333333333333333, 0.6466666666666666], \"matches\": \"x\", \"showticklabels\": false, \"type\": \"log\"}, \"xaxis6\": {\"anchor\": \"y6\", \"domain\": [0.6666666666666666, 0.98], \"matches\": \"x\", \"showticklabels\": false, \"type\": \"log\"}, \"xaxis7\": {\"anchor\": \"y7\", \"domain\": [0.0, 0.3133333333333333], \"matches\": \"x\", \"showticklabels\": false, \"type\": \"log\"}, \"xaxis8\": {\"anchor\": \"y8\", \"domain\": [0.3333333333333333, 0.6466666666666666], \"matches\": \"x\", \"showticklabels\": false, \"type\": \"log\"}, \"xaxis9\": {\"anchor\": \"y9\", \"domain\": [0.6666666666666666, 0.98], \"matches\": \"x\", \"showticklabels\": false, \"type\": \"log\"}, \"yaxis\": {\"anchor\": \"x\", \"domain\": [0.0, 0.3133333333333333], \"title\": {\"text\": \"time (sec)\"}}, \"yaxis2\": {\"anchor\": \"x2\", \"domain\": [0.0, 0.3133333333333333], \"matches\": \"y\", \"showticklabels\": false}, \"yaxis3\": {\"anchor\": \"x3\", \"domain\": [0.0, 0.3133333333333333], \"matches\": \"y\", \"showticklabels\": false}, \"yaxis4\": {\"anchor\": \"x4\", \"domain\": [0.34333333333333327, 0.6566666666666665], \"matches\": \"y\", \"title\": {\"text\": \"time (sec)\"}}, \"yaxis5\": {\"anchor\": \"x5\", \"domain\": [0.34333333333333327, 0.6566666666666665], \"matches\": \"y\", \"showticklabels\": false}, \"yaxis6\": {\"anchor\": \"x6\", \"domain\": [0.34333333333333327, 0.6566666666666665], \"matches\": \"y\", \"showticklabels\": false}, \"yaxis7\": {\"anchor\": \"x7\", \"domain\": [0.6866666666666665, 0.9999999999999998], \"matches\": \"y\", \"title\": {\"text\": \"time (sec)\"}}, \"yaxis8\": {\"anchor\": \"x8\", \"domain\": [0.6866666666666665, 0.9999999999999998], \"matches\": \"y\", \"showticklabels\": false}, \"yaxis9\": {\"anchor\": \"x9\", \"domain\": [0.6866666666666665, 0.9999999999999998], \"matches\": \"y\", \"showticklabels\": false}},                        {\"responsive\": true}                    ).then(function(){\n",
       "                            \n",
       "var gd = document.getElementById('1c63473a-ccaa-44c7-8807-0fd01cb452db');\n",
       "var x = new MutationObserver(function (mutations, observer) {{\n",
       "        var display = window.getComputedStyle(gd).display;\n",
       "        if (!display || display === 'none') {{\n",
       "            console.log([gd, 'removed!']);\n",
       "            Plotly.purge(gd);\n",
       "            observer.disconnect();\n",
       "        }}\n",
       "}});\n",
       "\n",
       "// Listen for the removal of the full notebook cells\n",
       "var notebookContainer = gd.closest('#notebook-container');\n",
       "if (notebookContainer) {{\n",
       "    x.observe(notebookContainer, {childList: true});\n",
       "}}\n",
       "\n",
       "// Listen for the clearing of the current output cell\n",
       "var outputEl = gd.closest('.output');\n",
       "if (outputEl) {{\n",
       "    x.observe(outputEl, {childList: true});\n",
       "}}\n",
       "\n",
       "                        })                };                });            </script>        </div>"
      ]
     },
     "metadata": {},
     "output_type": "display_data"
    }
   ],
   "source": [
    "# 2. Compare graphframes implementations (All distributions)\n",
    "filtered_dataset = experiments_df[(experiments_df[\"algorithm\"].isin([\"graphframe_bs\",\n",
    "                                                                     \"graphframe_fast\",\n",
    "                                                                     \"graphframe_fast_bv\"]))].copy()\n",
    "\n",
    "\n",
    "filtered_dataset[\"algorithm\"] = (filtered_dataset[\"algorithm\"]\n",
    "                                 .replace({\"graphframe_bs\":\"baseline\",\n",
    "                                           \"graphframe_fast\":\"optimization 1\",\n",
    "                                           \"graphframe_fast_bv\":\"optimization 2\"}))\n",
    "\n",
    "\n",
    "fig = px.line(filtered_dataset,\n",
    "                 x=\"k\",\n",
    "                 y=\"time (sec)\",\n",
    "                 log_x=True,\n",
    "                 log_y=False,\n",
    "                 facet_row=\"distribution\",\n",
    "                 color=\"algorithm\",\n",
    "                 facet_col=\"cores\")\n",
    "\n",
    "fig.update_layout(\n",
    "    title=f\"Experiment times of GraphFrames implementations\"\n",
    ")\n",
    "\n",
    "\n",
    "for i in range(len(fig.data)):\n",
    "    fig.data[i].update(mode='markers+lines')\n",
    "\n",
    "fig.update_layout(\n",
    "    autosize=False,\n",
    "    width=1000,\n",
    "    height=700)\n",
    "fig.show()"
   ]
  },
  {
   "cell_type": "markdown",
   "id": "informed-transformation",
   "metadata": {},
   "source": [
    "**Total rdd experiments**: 3 rows * 3 columns * 3 lines * 3 points = 81"
   ]
  },
  {
   "cell_type": "code",
   "execution_count": 50,
   "id": "paperback-orlando",
   "metadata": {
    "scrolled": false
   },
   "outputs": [
    {
     "data": {
      "application/vnd.plotly.v1+json": {
       "config": {
        "plotlyServerURL": "https://plot.ly"
       },
       "data": [
        {
         "hovertemplate": "algorithm=baseline<br>distribution=uniform<br>cores=1<br>k=%{x}<br>time (sec)=%{y}<extra></extra>",
         "legendgroup": "baseline",
         "line": {
          "color": "#636efa",
          "dash": "solid"
         },
         "mode": "markers+lines",
         "name": "baseline",
         "orientation": "v",
         "showlegend": true,
         "type": "scatter",
         "x": [
          100,
          1000,
          10000
         ],
         "xaxis": "x7",
         "y": [
          965.1812937259674,
          955.53364610672,
          971.0823497772216
         ],
         "yaxis": "y7"
        },
        {
         "hovertemplate": "algorithm=baseline<br>distribution=uniform<br>cores=2<br>k=%{x}<br>time (sec)=%{y}<extra></extra>",
         "legendgroup": "baseline",
         "line": {
          "color": "#636efa",
          "dash": "solid"
         },
         "mode": "markers+lines",
         "name": "baseline",
         "orientation": "v",
         "showlegend": false,
         "type": "scatter",
         "x": [
          100,
          1000,
          10000
         ],
         "xaxis": "x8",
         "y": [
          618.1136577129364,
          618.7022993564606,
          615.5607857704163
         ],
         "yaxis": "y8"
        },
        {
         "hovertemplate": "algorithm=baseline<br>distribution=uniform<br>cores=8<br>k=%{x}<br>time (sec)=%{y}<extra></extra>",
         "legendgroup": "baseline",
         "line": {
          "color": "#636efa",
          "dash": "solid"
         },
         "mode": "markers+lines",
         "name": "baseline",
         "orientation": "v",
         "showlegend": false,
         "type": "scatter",
         "x": [
          100,
          1000,
          10000
         ],
         "xaxis": "x9",
         "y": [
          618.4114997386932,
          626.0138738155365,
          618.5395405292511
         ],
         "yaxis": "y9"
        },
        {
         "hovertemplate": "algorithm=baseline<br>distribution=normal<br>cores=1<br>k=%{x}<br>time (sec)=%{y}<extra></extra>",
         "legendgroup": "baseline",
         "line": {
          "color": "#636efa",
          "dash": "solid"
         },
         "mode": "markers+lines",
         "name": "baseline",
         "orientation": "v",
         "showlegend": false,
         "type": "scatter",
         "x": [
          100,
          1000,
          10000
         ],
         "xaxis": "x4",
         "y": [
          972.025110721588,
          969.147845506668,
          1095.2568562030792
         ],
         "yaxis": "y4"
        },
        {
         "hovertemplate": "algorithm=baseline<br>distribution=normal<br>cores=2<br>k=%{x}<br>time (sec)=%{y}<extra></extra>",
         "legendgroup": "baseline",
         "line": {
          "color": "#636efa",
          "dash": "solid"
         },
         "mode": "markers+lines",
         "name": "baseline",
         "orientation": "v",
         "showlegend": false,
         "type": "scatter",
         "x": [
          100,
          1000,
          10000
         ],
         "xaxis": "x5",
         "y": [
          678.7976779937744,
          680.4003357887268,
          642.5832424163818
         ],
         "yaxis": "y5"
        },
        {
         "hovertemplate": "algorithm=baseline<br>distribution=normal<br>cores=8<br>k=%{x}<br>time (sec)=%{y}<extra></extra>",
         "legendgroup": "baseline",
         "line": {
          "color": "#636efa",
          "dash": "solid"
         },
         "mode": "markers+lines",
         "name": "baseline",
         "orientation": "v",
         "showlegend": false,
         "type": "scatter",
         "x": [
          100,
          1000,
          10000
         ],
         "xaxis": "x6",
         "y": [
          696.673889875412,
          734.6965224742889,
          791.7715582847595
         ],
         "yaxis": "y6"
        },
        {
         "hovertemplate": "algorithm=baseline<br>distribution=power_law<br>cores=1<br>k=%{x}<br>time (sec)=%{y}<extra></extra>",
         "legendgroup": "baseline",
         "line": {
          "color": "#636efa",
          "dash": "solid"
         },
         "mode": "markers+lines",
         "name": "baseline",
         "orientation": "v",
         "showlegend": false,
         "type": "scatter",
         "x": [
          100,
          1000,
          10000
         ],
         "xaxis": "x",
         "y": [
          1298.6076703071594,
          1149.3734803199768,
          1001.5903885364532
         ],
         "yaxis": "y"
        },
        {
         "hovertemplate": "algorithm=baseline<br>distribution=power_law<br>cores=2<br>k=%{x}<br>time (sec)=%{y}<extra></extra>",
         "legendgroup": "baseline",
         "line": {
          "color": "#636efa",
          "dash": "solid"
         },
         "mode": "markers+lines",
         "name": "baseline",
         "orientation": "v",
         "showlegend": false,
         "type": "scatter",
         "x": [
          100,
          1000,
          10000
         ],
         "xaxis": "x2",
         "y": [
          720.857176065445,
          639.5015540122986,
          684.0588707923889
         ],
         "yaxis": "y2"
        },
        {
         "hovertemplate": "algorithm=baseline<br>distribution=power_law<br>cores=8<br>k=%{x}<br>time (sec)=%{y}<extra></extra>",
         "legendgroup": "baseline",
         "line": {
          "color": "#636efa",
          "dash": "solid"
         },
         "mode": "markers+lines",
         "name": "baseline",
         "orientation": "v",
         "showlegend": false,
         "type": "scatter",
         "x": [
          100,
          1000,
          10000
         ],
         "xaxis": "x3",
         "y": [
          619.4707219600677,
          612.9306817054749,
          629.2432951927185
         ],
         "yaxis": "y3"
        },
        {
         "hovertemplate": "algorithm=optimization 1<br>distribution=uniform<br>cores=1<br>k=%{x}<br>time (sec)=%{y}<extra></extra>",
         "legendgroup": "optimization 1",
         "line": {
          "color": "#EF553B",
          "dash": "solid"
         },
         "mode": "markers+lines",
         "name": "optimization 1",
         "orientation": "v",
         "showlegend": true,
         "type": "scatter",
         "x": [
          100,
          1000,
          10000
         ],
         "xaxis": "x7",
         "y": [
          120.97675704956056,
          108.5110433101654,
          120.60401678085329
         ],
         "yaxis": "y7"
        },
        {
         "hovertemplate": "algorithm=optimization 1<br>distribution=uniform<br>cores=2<br>k=%{x}<br>time (sec)=%{y}<extra></extra>",
         "legendgroup": "optimization 1",
         "line": {
          "color": "#EF553B",
          "dash": "solid"
         },
         "mode": "markers+lines",
         "name": "optimization 1",
         "orientation": "v",
         "showlegend": false,
         "type": "scatter",
         "x": [
          100,
          1000,
          10000
         ],
         "xaxis": "x8",
         "y": [
          44.0898597240448,
          44.32269239425659,
          44.51469922065735
         ],
         "yaxis": "y8"
        },
        {
         "hovertemplate": "algorithm=optimization 1<br>distribution=uniform<br>cores=8<br>k=%{x}<br>time (sec)=%{y}<extra></extra>",
         "legendgroup": "optimization 1",
         "line": {
          "color": "#EF553B",
          "dash": "solid"
         },
         "mode": "markers+lines",
         "name": "optimization 1",
         "orientation": "v",
         "showlegend": false,
         "type": "scatter",
         "x": [
          100,
          1000,
          10000
         ],
         "xaxis": "x9",
         "y": [
          39.99889254570007,
          40.62188172340393,
          39.82012391090393
         ],
         "yaxis": "y9"
        },
        {
         "hovertemplate": "algorithm=optimization 1<br>distribution=normal<br>cores=1<br>k=%{x}<br>time (sec)=%{y}<extra></extra>",
         "legendgroup": "optimization 1",
         "line": {
          "color": "#EF553B",
          "dash": "solid"
         },
         "mode": "markers+lines",
         "name": "optimization 1",
         "orientation": "v",
         "showlegend": false,
         "type": "scatter",
         "x": [
          100,
          1000,
          10000
         ],
         "xaxis": "x4",
         "y": [
          1250.1600172519684,
          1292.26997923851,
          1560.3674988746643
         ],
         "yaxis": "y4"
        },
        {
         "hovertemplate": "algorithm=optimization 1<br>distribution=normal<br>cores=2<br>k=%{x}<br>time (sec)=%{y}<extra></extra>",
         "legendgroup": "optimization 1",
         "line": {
          "color": "#EF553B",
          "dash": "solid"
         },
         "mode": "markers+lines",
         "name": "optimization 1",
         "orientation": "v",
         "showlegend": false,
         "type": "scatter",
         "x": [
          100,
          1000,
          10000
         ],
         "xaxis": "x5",
         "y": [
          730.7410292625427,
          698.0129716396332,
          948.4005427360536
         ],
         "yaxis": "y5"
        },
        {
         "hovertemplate": "algorithm=optimization 1<br>distribution=normal<br>cores=8<br>k=%{x}<br>time (sec)=%{y}<extra></extra>",
         "legendgroup": "optimization 1",
         "line": {
          "color": "#EF553B",
          "dash": "solid"
         },
         "mode": "markers+lines",
         "name": "optimization 1",
         "orientation": "v",
         "showlegend": false,
         "type": "scatter",
         "x": [
          100,
          1000,
          10000
         ],
         "xaxis": "x6",
         "y": [
          634.0738084316254,
          707.041615486145,
          975.3380653858184
         ],
         "yaxis": "y6"
        },
        {
         "hovertemplate": "algorithm=optimization 1<br>distribution=power_law<br>cores=1<br>k=%{x}<br>time (sec)=%{y}<extra></extra>",
         "legendgroup": "optimization 1",
         "line": {
          "color": "#EF553B",
          "dash": "solid"
         },
         "mode": "markers+lines",
         "name": "optimization 1",
         "orientation": "v",
         "showlegend": false,
         "type": "scatter",
         "x": [
          100,
          1000,
          10000
         ],
         "xaxis": "x",
         "y": [
          42.2170295715332,
          42.27925419807434,
          128.4650812149048
         ],
         "yaxis": "y"
        },
        {
         "hovertemplate": "algorithm=optimization 1<br>distribution=power_law<br>cores=2<br>k=%{x}<br>time (sec)=%{y}<extra></extra>",
         "legendgroup": "optimization 1",
         "line": {
          "color": "#EF553B",
          "dash": "solid"
         },
         "mode": "markers+lines",
         "name": "optimization 1",
         "orientation": "v",
         "showlegend": false,
         "type": "scatter",
         "x": [
          100,
          1000,
          10000
         ],
         "xaxis": "x2",
         "y": [
          32.6961874961853,
          32.53780221939087,
          57.07641267776489
         ],
         "yaxis": "y2"
        },
        {
         "hovertemplate": "algorithm=optimization 1<br>distribution=power_law<br>cores=8<br>k=%{x}<br>time (sec)=%{y}<extra></extra>",
         "legendgroup": "optimization 1",
         "line": {
          "color": "#EF553B",
          "dash": "solid"
         },
         "mode": "markers+lines",
         "name": "optimization 1",
         "orientation": "v",
         "showlegend": false,
         "type": "scatter",
         "x": [
          100,
          1000,
          10000
         ],
         "xaxis": "x3",
         "y": [
          30.933136701583862,
          30.633402824401852,
          52.499242544174194
         ],
         "yaxis": "y3"
        },
        {
         "hovertemplate": "algorithm=optimization 2<br>distribution=uniform<br>cores=1<br>k=%{x}<br>time (sec)=%{y}<extra></extra>",
         "legendgroup": "optimization 2",
         "line": {
          "color": "#00cc96",
          "dash": "solid"
         },
         "mode": "markers+lines",
         "name": "optimization 2",
         "orientation": "v",
         "showlegend": true,
         "type": "scatter",
         "x": [
          100,
          1000,
          10000
         ],
         "xaxis": "x7",
         "y": [
          108.21970438957214,
          108.94755697250366,
          108.19921016693117
         ],
         "yaxis": "y7"
        },
        {
         "hovertemplate": "algorithm=optimization 2<br>distribution=uniform<br>cores=2<br>k=%{x}<br>time (sec)=%{y}<extra></extra>",
         "legendgroup": "optimization 2",
         "line": {
          "color": "#00cc96",
          "dash": "solid"
         },
         "mode": "markers+lines",
         "name": "optimization 2",
         "orientation": "v",
         "showlegend": false,
         "type": "scatter",
         "x": [
          100,
          1000,
          10000
         ],
         "xaxis": "x8",
         "y": [
          44.17947053909302,
          44.716675758361816,
          44.10517191886902
         ],
         "yaxis": "y8"
        },
        {
         "hovertemplate": "algorithm=optimization 2<br>distribution=uniform<br>cores=8<br>k=%{x}<br>time (sec)=%{y}<extra></extra>",
         "legendgroup": "optimization 2",
         "line": {
          "color": "#00cc96",
          "dash": "solid"
         },
         "mode": "markers+lines",
         "name": "optimization 2",
         "orientation": "v",
         "showlegend": false,
         "type": "scatter",
         "x": [
          100,
          1000,
          10000
         ],
         "xaxis": "x9",
         "y": [
          40.26518940925598,
          40.49058985710144,
          40.43294906616211
         ],
         "yaxis": "y9"
        },
        {
         "hovertemplate": "algorithm=optimization 2<br>distribution=normal<br>cores=1<br>k=%{x}<br>time (sec)=%{y}<extra></extra>",
         "legendgroup": "optimization 2",
         "line": {
          "color": "#00cc96",
          "dash": "solid"
         },
         "mode": "markers+lines",
         "name": "optimization 2",
         "orientation": "v",
         "showlegend": false,
         "type": "scatter",
         "x": [
          100,
          1000,
          10000
         ],
         "xaxis": "x4",
         "y": [
          971.059877872467,
          1227.704351425171,
          1792.7217586040497
         ],
         "yaxis": "y4"
        },
        {
         "hovertemplate": "algorithm=optimization 2<br>distribution=normal<br>cores=2<br>k=%{x}<br>time (sec)=%{y}<extra></extra>",
         "legendgroup": "optimization 2",
         "line": {
          "color": "#00cc96",
          "dash": "solid"
         },
         "mode": "markers+lines",
         "name": "optimization 2",
         "orientation": "v",
         "showlegend": false,
         "type": "scatter",
         "x": [
          100,
          1000,
          10000
         ],
         "xaxis": "x5",
         "y": [
          708.7520084381104,
          836.3355922698975,
          1211.058084487915
         ],
         "yaxis": "y5"
        },
        {
         "hovertemplate": "algorithm=optimization 2<br>distribution=normal<br>cores=8<br>k=%{x}<br>time (sec)=%{y}<extra></extra>",
         "legendgroup": "optimization 2",
         "line": {
          "color": "#00cc96",
          "dash": "solid"
         },
         "mode": "markers+lines",
         "name": "optimization 2",
         "orientation": "v",
         "showlegend": false,
         "type": "scatter",
         "x": [
          100,
          1000,
          10000
         ],
         "xaxis": "x6",
         "y": [
          529.030965089798,
          648.8940119743347,
          944.360522031784
         ],
         "yaxis": "y6"
        },
        {
         "hovertemplate": "algorithm=optimization 2<br>distribution=power_law<br>cores=1<br>k=%{x}<br>time (sec)=%{y}<extra></extra>",
         "legendgroup": "optimization 2",
         "line": {
          "color": "#00cc96",
          "dash": "solid"
         },
         "mode": "markers+lines",
         "name": "optimization 2",
         "orientation": "v",
         "showlegend": false,
         "type": "scatter",
         "x": [
          100,
          1000,
          10000
         ],
         "xaxis": "x",
         "y": [
          42.78170585632324,
          42.11563730239868,
          129.37810707092285
         ],
         "yaxis": "y"
        },
        {
         "hovertemplate": "algorithm=optimization 2<br>distribution=power_law<br>cores=2<br>k=%{x}<br>time (sec)=%{y}<extra></extra>",
         "legendgroup": "optimization 2",
         "line": {
          "color": "#00cc96",
          "dash": "solid"
         },
         "mode": "markers+lines",
         "name": "optimization 2",
         "orientation": "v",
         "showlegend": false,
         "type": "scatter",
         "x": [
          100,
          1000,
          10000
         ],
         "xaxis": "x2",
         "y": [
          33.55961775779724,
          32.96023106575012,
          58.025036573410034
         ],
         "yaxis": "y2"
        },
        {
         "hovertemplate": "algorithm=optimization 2<br>distribution=power_law<br>cores=8<br>k=%{x}<br>time (sec)=%{y}<extra></extra>",
         "legendgroup": "optimization 2",
         "line": {
          "color": "#00cc96",
          "dash": "solid"
         },
         "mode": "markers+lines",
         "name": "optimization 2",
         "orientation": "v",
         "showlegend": false,
         "type": "scatter",
         "x": [
          100,
          1000,
          10000
         ],
         "xaxis": "x3",
         "y": [
          31.493059635162357,
          31.303999423980716,
          55.57954025268555
         ],
         "yaxis": "y3"
        }
       ],
       "layout": {
        "annotations": [
         {
          "font": {},
          "showarrow": false,
          "text": "cores=1",
          "x": 0.15666666666666665,
          "xanchor": "center",
          "xref": "paper",
          "y": 0.9999999999999998,
          "yanchor": "bottom",
          "yref": "paper"
         },
         {
          "font": {},
          "showarrow": false,
          "text": "cores=2",
          "x": 0.49,
          "xanchor": "center",
          "xref": "paper",
          "y": 0.9999999999999998,
          "yanchor": "bottom",
          "yref": "paper"
         },
         {
          "font": {},
          "showarrow": false,
          "text": "cores=8",
          "x": 0.8233333333333333,
          "xanchor": "center",
          "xref": "paper",
          "y": 0.9999999999999998,
          "yanchor": "bottom",
          "yref": "paper"
         },
         {
          "font": {},
          "showarrow": false,
          "text": "distribution=power_law",
          "textangle": 90,
          "x": 0.98,
          "xanchor": "left",
          "xref": "paper",
          "y": 0.15666666666666665,
          "yanchor": "middle",
          "yref": "paper"
         },
         {
          "font": {},
          "showarrow": false,
          "text": "distribution=normal",
          "textangle": 90,
          "x": 0.98,
          "xanchor": "left",
          "xref": "paper",
          "y": 0.4999999999999999,
          "yanchor": "middle",
          "yref": "paper"
         },
         {
          "font": {},
          "showarrow": false,
          "text": "distribution=uniform",
          "textangle": 90,
          "x": 0.98,
          "xanchor": "left",
          "xref": "paper",
          "y": 0.8433333333333332,
          "yanchor": "middle",
          "yref": "paper"
         }
        ],
        "autosize": false,
        "height": 700,
        "legend": {
         "title": {
          "text": "algorithm"
         },
         "tracegroupgap": 0
        },
        "margin": {
         "t": 60
        },
        "template": {
         "data": {
          "bar": [
           {
            "error_x": {
             "color": "#2a3f5f"
            },
            "error_y": {
             "color": "#2a3f5f"
            },
            "marker": {
             "line": {
              "color": "#E5ECF6",
              "width": 0.5
             }
            },
            "type": "bar"
           }
          ],
          "barpolar": [
           {
            "marker": {
             "line": {
              "color": "#E5ECF6",
              "width": 0.5
             }
            },
            "type": "barpolar"
           }
          ],
          "carpet": [
           {
            "aaxis": {
             "endlinecolor": "#2a3f5f",
             "gridcolor": "white",
             "linecolor": "white",
             "minorgridcolor": "white",
             "startlinecolor": "#2a3f5f"
            },
            "baxis": {
             "endlinecolor": "#2a3f5f",
             "gridcolor": "white",
             "linecolor": "white",
             "minorgridcolor": "white",
             "startlinecolor": "#2a3f5f"
            },
            "type": "carpet"
           }
          ],
          "choropleth": [
           {
            "colorbar": {
             "outlinewidth": 0,
             "ticks": ""
            },
            "type": "choropleth"
           }
          ],
          "contour": [
           {
            "colorbar": {
             "outlinewidth": 0,
             "ticks": ""
            },
            "colorscale": [
             [
              0,
              "#0d0887"
             ],
             [
              0.1111111111111111,
              "#46039f"
             ],
             [
              0.2222222222222222,
              "#7201a8"
             ],
             [
              0.3333333333333333,
              "#9c179e"
             ],
             [
              0.4444444444444444,
              "#bd3786"
             ],
             [
              0.5555555555555556,
              "#d8576b"
             ],
             [
              0.6666666666666666,
              "#ed7953"
             ],
             [
              0.7777777777777778,
              "#fb9f3a"
             ],
             [
              0.8888888888888888,
              "#fdca26"
             ],
             [
              1,
              "#f0f921"
             ]
            ],
            "type": "contour"
           }
          ],
          "contourcarpet": [
           {
            "colorbar": {
             "outlinewidth": 0,
             "ticks": ""
            },
            "type": "contourcarpet"
           }
          ],
          "heatmap": [
           {
            "colorbar": {
             "outlinewidth": 0,
             "ticks": ""
            },
            "colorscale": [
             [
              0,
              "#0d0887"
             ],
             [
              0.1111111111111111,
              "#46039f"
             ],
             [
              0.2222222222222222,
              "#7201a8"
             ],
             [
              0.3333333333333333,
              "#9c179e"
             ],
             [
              0.4444444444444444,
              "#bd3786"
             ],
             [
              0.5555555555555556,
              "#d8576b"
             ],
             [
              0.6666666666666666,
              "#ed7953"
             ],
             [
              0.7777777777777778,
              "#fb9f3a"
             ],
             [
              0.8888888888888888,
              "#fdca26"
             ],
             [
              1,
              "#f0f921"
             ]
            ],
            "type": "heatmap"
           }
          ],
          "heatmapgl": [
           {
            "colorbar": {
             "outlinewidth": 0,
             "ticks": ""
            },
            "colorscale": [
             [
              0,
              "#0d0887"
             ],
             [
              0.1111111111111111,
              "#46039f"
             ],
             [
              0.2222222222222222,
              "#7201a8"
             ],
             [
              0.3333333333333333,
              "#9c179e"
             ],
             [
              0.4444444444444444,
              "#bd3786"
             ],
             [
              0.5555555555555556,
              "#d8576b"
             ],
             [
              0.6666666666666666,
              "#ed7953"
             ],
             [
              0.7777777777777778,
              "#fb9f3a"
             ],
             [
              0.8888888888888888,
              "#fdca26"
             ],
             [
              1,
              "#f0f921"
             ]
            ],
            "type": "heatmapgl"
           }
          ],
          "histogram": [
           {
            "marker": {
             "colorbar": {
              "outlinewidth": 0,
              "ticks": ""
             }
            },
            "type": "histogram"
           }
          ],
          "histogram2d": [
           {
            "colorbar": {
             "outlinewidth": 0,
             "ticks": ""
            },
            "colorscale": [
             [
              0,
              "#0d0887"
             ],
             [
              0.1111111111111111,
              "#46039f"
             ],
             [
              0.2222222222222222,
              "#7201a8"
             ],
             [
              0.3333333333333333,
              "#9c179e"
             ],
             [
              0.4444444444444444,
              "#bd3786"
             ],
             [
              0.5555555555555556,
              "#d8576b"
             ],
             [
              0.6666666666666666,
              "#ed7953"
             ],
             [
              0.7777777777777778,
              "#fb9f3a"
             ],
             [
              0.8888888888888888,
              "#fdca26"
             ],
             [
              1,
              "#f0f921"
             ]
            ],
            "type": "histogram2d"
           }
          ],
          "histogram2dcontour": [
           {
            "colorbar": {
             "outlinewidth": 0,
             "ticks": ""
            },
            "colorscale": [
             [
              0,
              "#0d0887"
             ],
             [
              0.1111111111111111,
              "#46039f"
             ],
             [
              0.2222222222222222,
              "#7201a8"
             ],
             [
              0.3333333333333333,
              "#9c179e"
             ],
             [
              0.4444444444444444,
              "#bd3786"
             ],
             [
              0.5555555555555556,
              "#d8576b"
             ],
             [
              0.6666666666666666,
              "#ed7953"
             ],
             [
              0.7777777777777778,
              "#fb9f3a"
             ],
             [
              0.8888888888888888,
              "#fdca26"
             ],
             [
              1,
              "#f0f921"
             ]
            ],
            "type": "histogram2dcontour"
           }
          ],
          "mesh3d": [
           {
            "colorbar": {
             "outlinewidth": 0,
             "ticks": ""
            },
            "type": "mesh3d"
           }
          ],
          "parcoords": [
           {
            "line": {
             "colorbar": {
              "outlinewidth": 0,
              "ticks": ""
             }
            },
            "type": "parcoords"
           }
          ],
          "pie": [
           {
            "automargin": true,
            "type": "pie"
           }
          ],
          "scatter": [
           {
            "marker": {
             "colorbar": {
              "outlinewidth": 0,
              "ticks": ""
             }
            },
            "type": "scatter"
           }
          ],
          "scatter3d": [
           {
            "line": {
             "colorbar": {
              "outlinewidth": 0,
              "ticks": ""
             }
            },
            "marker": {
             "colorbar": {
              "outlinewidth": 0,
              "ticks": ""
             }
            },
            "type": "scatter3d"
           }
          ],
          "scattercarpet": [
           {
            "marker": {
             "colorbar": {
              "outlinewidth": 0,
              "ticks": ""
             }
            },
            "type": "scattercarpet"
           }
          ],
          "scattergeo": [
           {
            "marker": {
             "colorbar": {
              "outlinewidth": 0,
              "ticks": ""
             }
            },
            "type": "scattergeo"
           }
          ],
          "scattergl": [
           {
            "marker": {
             "colorbar": {
              "outlinewidth": 0,
              "ticks": ""
             }
            },
            "type": "scattergl"
           }
          ],
          "scattermapbox": [
           {
            "marker": {
             "colorbar": {
              "outlinewidth": 0,
              "ticks": ""
             }
            },
            "type": "scattermapbox"
           }
          ],
          "scatterpolar": [
           {
            "marker": {
             "colorbar": {
              "outlinewidth": 0,
              "ticks": ""
             }
            },
            "type": "scatterpolar"
           }
          ],
          "scatterpolargl": [
           {
            "marker": {
             "colorbar": {
              "outlinewidth": 0,
              "ticks": ""
             }
            },
            "type": "scatterpolargl"
           }
          ],
          "scatterternary": [
           {
            "marker": {
             "colorbar": {
              "outlinewidth": 0,
              "ticks": ""
             }
            },
            "type": "scatterternary"
           }
          ],
          "surface": [
           {
            "colorbar": {
             "outlinewidth": 0,
             "ticks": ""
            },
            "colorscale": [
             [
              0,
              "#0d0887"
             ],
             [
              0.1111111111111111,
              "#46039f"
             ],
             [
              0.2222222222222222,
              "#7201a8"
             ],
             [
              0.3333333333333333,
              "#9c179e"
             ],
             [
              0.4444444444444444,
              "#bd3786"
             ],
             [
              0.5555555555555556,
              "#d8576b"
             ],
             [
              0.6666666666666666,
              "#ed7953"
             ],
             [
              0.7777777777777778,
              "#fb9f3a"
             ],
             [
              0.8888888888888888,
              "#fdca26"
             ],
             [
              1,
              "#f0f921"
             ]
            ],
            "type": "surface"
           }
          ],
          "table": [
           {
            "cells": {
             "fill": {
              "color": "#EBF0F8"
             },
             "line": {
              "color": "white"
             }
            },
            "header": {
             "fill": {
              "color": "#C8D4E3"
             },
             "line": {
              "color": "white"
             }
            },
            "type": "table"
           }
          ]
         },
         "layout": {
          "annotationdefaults": {
           "arrowcolor": "#2a3f5f",
           "arrowhead": 0,
           "arrowwidth": 1
          },
          "coloraxis": {
           "colorbar": {
            "outlinewidth": 0,
            "ticks": ""
           }
          },
          "colorscale": {
           "diverging": [
            [
             0,
             "#8e0152"
            ],
            [
             0.1,
             "#c51b7d"
            ],
            [
             0.2,
             "#de77ae"
            ],
            [
             0.3,
             "#f1b6da"
            ],
            [
             0.4,
             "#fde0ef"
            ],
            [
             0.5,
             "#f7f7f7"
            ],
            [
             0.6,
             "#e6f5d0"
            ],
            [
             0.7,
             "#b8e186"
            ],
            [
             0.8,
             "#7fbc41"
            ],
            [
             0.9,
             "#4d9221"
            ],
            [
             1,
             "#276419"
            ]
           ],
           "sequential": [
            [
             0,
             "#0d0887"
            ],
            [
             0.1111111111111111,
             "#46039f"
            ],
            [
             0.2222222222222222,
             "#7201a8"
            ],
            [
             0.3333333333333333,
             "#9c179e"
            ],
            [
             0.4444444444444444,
             "#bd3786"
            ],
            [
             0.5555555555555556,
             "#d8576b"
            ],
            [
             0.6666666666666666,
             "#ed7953"
            ],
            [
             0.7777777777777778,
             "#fb9f3a"
            ],
            [
             0.8888888888888888,
             "#fdca26"
            ],
            [
             1,
             "#f0f921"
            ]
           ],
           "sequentialminus": [
            [
             0,
             "#0d0887"
            ],
            [
             0.1111111111111111,
             "#46039f"
            ],
            [
             0.2222222222222222,
             "#7201a8"
            ],
            [
             0.3333333333333333,
             "#9c179e"
            ],
            [
             0.4444444444444444,
             "#bd3786"
            ],
            [
             0.5555555555555556,
             "#d8576b"
            ],
            [
             0.6666666666666666,
             "#ed7953"
            ],
            [
             0.7777777777777778,
             "#fb9f3a"
            ],
            [
             0.8888888888888888,
             "#fdca26"
            ],
            [
             1,
             "#f0f921"
            ]
           ]
          },
          "colorway": [
           "#636efa",
           "#EF553B",
           "#00cc96",
           "#ab63fa",
           "#FFA15A",
           "#19d3f3",
           "#FF6692",
           "#B6E880",
           "#FF97FF",
           "#FECB52"
          ],
          "font": {
           "color": "#2a3f5f"
          },
          "geo": {
           "bgcolor": "white",
           "lakecolor": "white",
           "landcolor": "#E5ECF6",
           "showlakes": true,
           "showland": true,
           "subunitcolor": "white"
          },
          "hoverlabel": {
           "align": "left"
          },
          "hovermode": "closest",
          "mapbox": {
           "style": "light"
          },
          "paper_bgcolor": "white",
          "plot_bgcolor": "#E5ECF6",
          "polar": {
           "angularaxis": {
            "gridcolor": "white",
            "linecolor": "white",
            "ticks": ""
           },
           "bgcolor": "#E5ECF6",
           "radialaxis": {
            "gridcolor": "white",
            "linecolor": "white",
            "ticks": ""
           }
          },
          "scene": {
           "xaxis": {
            "backgroundcolor": "#E5ECF6",
            "gridcolor": "white",
            "gridwidth": 2,
            "linecolor": "white",
            "showbackground": true,
            "ticks": "",
            "zerolinecolor": "white"
           },
           "yaxis": {
            "backgroundcolor": "#E5ECF6",
            "gridcolor": "white",
            "gridwidth": 2,
            "linecolor": "white",
            "showbackground": true,
            "ticks": "",
            "zerolinecolor": "white"
           },
           "zaxis": {
            "backgroundcolor": "#E5ECF6",
            "gridcolor": "white",
            "gridwidth": 2,
            "linecolor": "white",
            "showbackground": true,
            "ticks": "",
            "zerolinecolor": "white"
           }
          },
          "shapedefaults": {
           "line": {
            "color": "#2a3f5f"
           }
          },
          "ternary": {
           "aaxis": {
            "gridcolor": "white",
            "linecolor": "white",
            "ticks": ""
           },
           "baxis": {
            "gridcolor": "white",
            "linecolor": "white",
            "ticks": ""
           },
           "bgcolor": "#E5ECF6",
           "caxis": {
            "gridcolor": "white",
            "linecolor": "white",
            "ticks": ""
           }
          },
          "title": {
           "x": 0.05
          },
          "xaxis": {
           "automargin": true,
           "gridcolor": "white",
           "linecolor": "white",
           "ticks": "",
           "title": {
            "standoff": 15
           },
           "zerolinecolor": "white",
           "zerolinewidth": 2
          },
          "yaxis": {
           "automargin": true,
           "gridcolor": "white",
           "linecolor": "white",
           "ticks": "",
           "title": {
            "standoff": 15
           },
           "zerolinecolor": "white",
           "zerolinewidth": 2
          }
         }
        },
        "title": {
         "text": "Experiment times of RDD implementations"
        },
        "width": 1000,
        "xaxis": {
         "anchor": "y",
         "domain": [
          0,
          0.3133333333333333
         ],
         "title": {
          "text": "k"
         },
         "type": "log"
        },
        "xaxis2": {
         "anchor": "y2",
         "domain": [
          0.3333333333333333,
          0.6466666666666666
         ],
         "matches": "x",
         "title": {
          "text": "k"
         },
         "type": "log"
        },
        "xaxis3": {
         "anchor": "y3",
         "domain": [
          0.6666666666666666,
          0.98
         ],
         "matches": "x",
         "title": {
          "text": "k"
         },
         "type": "log"
        },
        "xaxis4": {
         "anchor": "y4",
         "domain": [
          0,
          0.3133333333333333
         ],
         "matches": "x",
         "showticklabels": false,
         "type": "log"
        },
        "xaxis5": {
         "anchor": "y5",
         "domain": [
          0.3333333333333333,
          0.6466666666666666
         ],
         "matches": "x",
         "showticklabels": false,
         "type": "log"
        },
        "xaxis6": {
         "anchor": "y6",
         "domain": [
          0.6666666666666666,
          0.98
         ],
         "matches": "x",
         "showticklabels": false,
         "type": "log"
        },
        "xaxis7": {
         "anchor": "y7",
         "domain": [
          0,
          0.3133333333333333
         ],
         "matches": "x",
         "showticklabels": false,
         "type": "log"
        },
        "xaxis8": {
         "anchor": "y8",
         "domain": [
          0.3333333333333333,
          0.6466666666666666
         ],
         "matches": "x",
         "showticklabels": false,
         "type": "log"
        },
        "xaxis9": {
         "anchor": "y9",
         "domain": [
          0.6666666666666666,
          0.98
         ],
         "matches": "x",
         "showticklabels": false,
         "type": "log"
        },
        "yaxis": {
         "anchor": "x",
         "domain": [
          0,
          0.3133333333333333
         ],
         "title": {
          "text": "time (sec)"
         }
        },
        "yaxis2": {
         "anchor": "x2",
         "domain": [
          0,
          0.3133333333333333
         ],
         "matches": "y",
         "showticklabels": false
        },
        "yaxis3": {
         "anchor": "x3",
         "domain": [
          0,
          0.3133333333333333
         ],
         "matches": "y",
         "showticklabels": false
        },
        "yaxis4": {
         "anchor": "x4",
         "domain": [
          0.34333333333333327,
          0.6566666666666665
         ],
         "matches": "y",
         "title": {
          "text": "time (sec)"
         }
        },
        "yaxis5": {
         "anchor": "x5",
         "domain": [
          0.34333333333333327,
          0.6566666666666665
         ],
         "matches": "y",
         "showticklabels": false
        },
        "yaxis6": {
         "anchor": "x6",
         "domain": [
          0.34333333333333327,
          0.6566666666666665
         ],
         "matches": "y",
         "showticklabels": false
        },
        "yaxis7": {
         "anchor": "x7",
         "domain": [
          0.6866666666666665,
          0.9999999999999998
         ],
         "matches": "y",
         "title": {
          "text": "time (sec)"
         }
        },
        "yaxis8": {
         "anchor": "x8",
         "domain": [
          0.6866666666666665,
          0.9999999999999998
         ],
         "matches": "y",
         "showticklabels": false
        },
        "yaxis9": {
         "anchor": "x9",
         "domain": [
          0.6866666666666665,
          0.9999999999999998
         ],
         "matches": "y",
         "showticklabels": false
        }
       }
      },
      "text/html": [
       "<div>                            <div id=\"81e9dffb-50b9-4995-8cc2-f761aceaa87d\" class=\"plotly-graph-div\" style=\"height:700px; width:1000px;\"></div>            <script type=\"text/javascript\">                require([\"plotly\"], function(Plotly) {                    window.PLOTLYENV=window.PLOTLYENV || {};                                    if (document.getElementById(\"81e9dffb-50b9-4995-8cc2-f761aceaa87d\")) {                    Plotly.newPlot(                        \"81e9dffb-50b9-4995-8cc2-f761aceaa87d\",                        [{\"hovertemplate\": \"algorithm=baseline<br>distribution=uniform<br>cores=1<br>k=%{x}<br>time (sec)=%{y}<extra></extra>\", \"legendgroup\": \"baseline\", \"line\": {\"color\": \"#636efa\", \"dash\": \"solid\"}, \"mode\": \"markers+lines\", \"name\": \"baseline\", \"orientation\": \"v\", \"showlegend\": true, \"type\": \"scatter\", \"x\": [100, 1000, 10000], \"xaxis\": \"x7\", \"y\": [965.1812937259674, 955.53364610672, 971.0823497772216], \"yaxis\": \"y7\"}, {\"hovertemplate\": \"algorithm=baseline<br>distribution=uniform<br>cores=2<br>k=%{x}<br>time (sec)=%{y}<extra></extra>\", \"legendgroup\": \"baseline\", \"line\": {\"color\": \"#636efa\", \"dash\": \"solid\"}, \"mode\": \"markers+lines\", \"name\": \"baseline\", \"orientation\": \"v\", \"showlegend\": false, \"type\": \"scatter\", \"x\": [100, 1000, 10000], \"xaxis\": \"x8\", \"y\": [618.1136577129364, 618.7022993564606, 615.5607857704163], \"yaxis\": \"y8\"}, {\"hovertemplate\": \"algorithm=baseline<br>distribution=uniform<br>cores=8<br>k=%{x}<br>time (sec)=%{y}<extra></extra>\", \"legendgroup\": \"baseline\", \"line\": {\"color\": \"#636efa\", \"dash\": \"solid\"}, \"mode\": \"markers+lines\", \"name\": \"baseline\", \"orientation\": \"v\", \"showlegend\": false, \"type\": \"scatter\", \"x\": [100, 1000, 10000], \"xaxis\": \"x9\", \"y\": [618.4114997386932, 626.0138738155365, 618.5395405292511], \"yaxis\": \"y9\"}, {\"hovertemplate\": \"algorithm=baseline<br>distribution=normal<br>cores=1<br>k=%{x}<br>time (sec)=%{y}<extra></extra>\", \"legendgroup\": \"baseline\", \"line\": {\"color\": \"#636efa\", \"dash\": \"solid\"}, \"mode\": \"markers+lines\", \"name\": \"baseline\", \"orientation\": \"v\", \"showlegend\": false, \"type\": \"scatter\", \"x\": [100, 1000, 10000], \"xaxis\": \"x4\", \"y\": [972.025110721588, 969.147845506668, 1095.2568562030792], \"yaxis\": \"y4\"}, {\"hovertemplate\": \"algorithm=baseline<br>distribution=normal<br>cores=2<br>k=%{x}<br>time (sec)=%{y}<extra></extra>\", \"legendgroup\": \"baseline\", \"line\": {\"color\": \"#636efa\", \"dash\": \"solid\"}, \"mode\": \"markers+lines\", \"name\": \"baseline\", \"orientation\": \"v\", \"showlegend\": false, \"type\": \"scatter\", \"x\": [100, 1000, 10000], \"xaxis\": \"x5\", \"y\": [678.7976779937744, 680.4003357887268, 642.5832424163818], \"yaxis\": \"y5\"}, {\"hovertemplate\": \"algorithm=baseline<br>distribution=normal<br>cores=8<br>k=%{x}<br>time (sec)=%{y}<extra></extra>\", \"legendgroup\": \"baseline\", \"line\": {\"color\": \"#636efa\", \"dash\": \"solid\"}, \"mode\": \"markers+lines\", \"name\": \"baseline\", \"orientation\": \"v\", \"showlegend\": false, \"type\": \"scatter\", \"x\": [100, 1000, 10000], \"xaxis\": \"x6\", \"y\": [696.673889875412, 734.6965224742889, 791.7715582847595], \"yaxis\": \"y6\"}, {\"hovertemplate\": \"algorithm=baseline<br>distribution=power_law<br>cores=1<br>k=%{x}<br>time (sec)=%{y}<extra></extra>\", \"legendgroup\": \"baseline\", \"line\": {\"color\": \"#636efa\", \"dash\": \"solid\"}, \"mode\": \"markers+lines\", \"name\": \"baseline\", \"orientation\": \"v\", \"showlegend\": false, \"type\": \"scatter\", \"x\": [100, 1000, 10000], \"xaxis\": \"x\", \"y\": [1298.6076703071594, 1149.3734803199768, 1001.5903885364532], \"yaxis\": \"y\"}, {\"hovertemplate\": \"algorithm=baseline<br>distribution=power_law<br>cores=2<br>k=%{x}<br>time (sec)=%{y}<extra></extra>\", \"legendgroup\": \"baseline\", \"line\": {\"color\": \"#636efa\", \"dash\": \"solid\"}, \"mode\": \"markers+lines\", \"name\": \"baseline\", \"orientation\": \"v\", \"showlegend\": false, \"type\": \"scatter\", \"x\": [100, 1000, 10000], \"xaxis\": \"x2\", \"y\": [720.857176065445, 639.5015540122986, 684.0588707923889], \"yaxis\": \"y2\"}, {\"hovertemplate\": \"algorithm=baseline<br>distribution=power_law<br>cores=8<br>k=%{x}<br>time (sec)=%{y}<extra></extra>\", \"legendgroup\": \"baseline\", \"line\": {\"color\": \"#636efa\", \"dash\": \"solid\"}, \"mode\": \"markers+lines\", \"name\": \"baseline\", \"orientation\": \"v\", \"showlegend\": false, \"type\": \"scatter\", \"x\": [100, 1000, 10000], \"xaxis\": \"x3\", \"y\": [619.4707219600677, 612.9306817054749, 629.2432951927185], \"yaxis\": \"y3\"}, {\"hovertemplate\": \"algorithm=optimization 1<br>distribution=uniform<br>cores=1<br>k=%{x}<br>time (sec)=%{y}<extra></extra>\", \"legendgroup\": \"optimization 1\", \"line\": {\"color\": \"#EF553B\", \"dash\": \"solid\"}, \"mode\": \"markers+lines\", \"name\": \"optimization 1\", \"orientation\": \"v\", \"showlegend\": true, \"type\": \"scatter\", \"x\": [100, 1000, 10000], \"xaxis\": \"x7\", \"y\": [120.97675704956056, 108.5110433101654, 120.60401678085329], \"yaxis\": \"y7\"}, {\"hovertemplate\": \"algorithm=optimization 1<br>distribution=uniform<br>cores=2<br>k=%{x}<br>time (sec)=%{y}<extra></extra>\", \"legendgroup\": \"optimization 1\", \"line\": {\"color\": \"#EF553B\", \"dash\": \"solid\"}, \"mode\": \"markers+lines\", \"name\": \"optimization 1\", \"orientation\": \"v\", \"showlegend\": false, \"type\": \"scatter\", \"x\": [100, 1000, 10000], \"xaxis\": \"x8\", \"y\": [44.0898597240448, 44.32269239425659, 44.51469922065735], \"yaxis\": \"y8\"}, {\"hovertemplate\": \"algorithm=optimization 1<br>distribution=uniform<br>cores=8<br>k=%{x}<br>time (sec)=%{y}<extra></extra>\", \"legendgroup\": \"optimization 1\", \"line\": {\"color\": \"#EF553B\", \"dash\": \"solid\"}, \"mode\": \"markers+lines\", \"name\": \"optimization 1\", \"orientation\": \"v\", \"showlegend\": false, \"type\": \"scatter\", \"x\": [100, 1000, 10000], \"xaxis\": \"x9\", \"y\": [39.99889254570007, 40.62188172340393, 39.82012391090393], \"yaxis\": \"y9\"}, {\"hovertemplate\": \"algorithm=optimization 1<br>distribution=normal<br>cores=1<br>k=%{x}<br>time (sec)=%{y}<extra></extra>\", \"legendgroup\": \"optimization 1\", \"line\": {\"color\": \"#EF553B\", \"dash\": \"solid\"}, \"mode\": \"markers+lines\", \"name\": \"optimization 1\", \"orientation\": \"v\", \"showlegend\": false, \"type\": \"scatter\", \"x\": [100, 1000, 10000], \"xaxis\": \"x4\", \"y\": [1250.1600172519684, 1292.26997923851, 1560.3674988746643], \"yaxis\": \"y4\"}, {\"hovertemplate\": \"algorithm=optimization 1<br>distribution=normal<br>cores=2<br>k=%{x}<br>time (sec)=%{y}<extra></extra>\", \"legendgroup\": \"optimization 1\", \"line\": {\"color\": \"#EF553B\", \"dash\": \"solid\"}, \"mode\": \"markers+lines\", \"name\": \"optimization 1\", \"orientation\": \"v\", \"showlegend\": false, \"type\": \"scatter\", \"x\": [100, 1000, 10000], \"xaxis\": \"x5\", \"y\": [730.7410292625427, 698.0129716396332, 948.4005427360536], \"yaxis\": \"y5\"}, {\"hovertemplate\": \"algorithm=optimization 1<br>distribution=normal<br>cores=8<br>k=%{x}<br>time (sec)=%{y}<extra></extra>\", \"legendgroup\": \"optimization 1\", \"line\": {\"color\": \"#EF553B\", \"dash\": \"solid\"}, \"mode\": \"markers+lines\", \"name\": \"optimization 1\", \"orientation\": \"v\", \"showlegend\": false, \"type\": \"scatter\", \"x\": [100, 1000, 10000], \"xaxis\": \"x6\", \"y\": [634.0738084316254, 707.041615486145, 975.3380653858184], \"yaxis\": \"y6\"}, {\"hovertemplate\": \"algorithm=optimization 1<br>distribution=power_law<br>cores=1<br>k=%{x}<br>time (sec)=%{y}<extra></extra>\", \"legendgroup\": \"optimization 1\", \"line\": {\"color\": \"#EF553B\", \"dash\": \"solid\"}, \"mode\": \"markers+lines\", \"name\": \"optimization 1\", \"orientation\": \"v\", \"showlegend\": false, \"type\": \"scatter\", \"x\": [100, 1000, 10000], \"xaxis\": \"x\", \"y\": [42.2170295715332, 42.27925419807434, 128.4650812149048], \"yaxis\": \"y\"}, {\"hovertemplate\": \"algorithm=optimization 1<br>distribution=power_law<br>cores=2<br>k=%{x}<br>time (sec)=%{y}<extra></extra>\", \"legendgroup\": \"optimization 1\", \"line\": {\"color\": \"#EF553B\", \"dash\": \"solid\"}, \"mode\": \"markers+lines\", \"name\": \"optimization 1\", \"orientation\": \"v\", \"showlegend\": false, \"type\": \"scatter\", \"x\": [100, 1000, 10000], \"xaxis\": \"x2\", \"y\": [32.6961874961853, 32.53780221939087, 57.07641267776489], \"yaxis\": \"y2\"}, {\"hovertemplate\": \"algorithm=optimization 1<br>distribution=power_law<br>cores=8<br>k=%{x}<br>time (sec)=%{y}<extra></extra>\", \"legendgroup\": \"optimization 1\", \"line\": {\"color\": \"#EF553B\", \"dash\": \"solid\"}, \"mode\": \"markers+lines\", \"name\": \"optimization 1\", \"orientation\": \"v\", \"showlegend\": false, \"type\": \"scatter\", \"x\": [100, 1000, 10000], \"xaxis\": \"x3\", \"y\": [30.933136701583862, 30.633402824401852, 52.499242544174194], \"yaxis\": \"y3\"}, {\"hovertemplate\": \"algorithm=optimization 2<br>distribution=uniform<br>cores=1<br>k=%{x}<br>time (sec)=%{y}<extra></extra>\", \"legendgroup\": \"optimization 2\", \"line\": {\"color\": \"#00cc96\", \"dash\": \"solid\"}, \"mode\": \"markers+lines\", \"name\": \"optimization 2\", \"orientation\": \"v\", \"showlegend\": true, \"type\": \"scatter\", \"x\": [100, 1000, 10000], \"xaxis\": \"x7\", \"y\": [108.21970438957214, 108.94755697250366, 108.19921016693117], \"yaxis\": \"y7\"}, {\"hovertemplate\": \"algorithm=optimization 2<br>distribution=uniform<br>cores=2<br>k=%{x}<br>time (sec)=%{y}<extra></extra>\", \"legendgroup\": \"optimization 2\", \"line\": {\"color\": \"#00cc96\", \"dash\": \"solid\"}, \"mode\": \"markers+lines\", \"name\": \"optimization 2\", \"orientation\": \"v\", \"showlegend\": false, \"type\": \"scatter\", \"x\": [100, 1000, 10000], \"xaxis\": \"x8\", \"y\": [44.17947053909302, 44.716675758361816, 44.10517191886902], \"yaxis\": \"y8\"}, {\"hovertemplate\": \"algorithm=optimization 2<br>distribution=uniform<br>cores=8<br>k=%{x}<br>time (sec)=%{y}<extra></extra>\", \"legendgroup\": \"optimization 2\", \"line\": {\"color\": \"#00cc96\", \"dash\": \"solid\"}, \"mode\": \"markers+lines\", \"name\": \"optimization 2\", \"orientation\": \"v\", \"showlegend\": false, \"type\": \"scatter\", \"x\": [100, 1000, 10000], \"xaxis\": \"x9\", \"y\": [40.26518940925598, 40.49058985710144, 40.43294906616211], \"yaxis\": \"y9\"}, {\"hovertemplate\": \"algorithm=optimization 2<br>distribution=normal<br>cores=1<br>k=%{x}<br>time (sec)=%{y}<extra></extra>\", \"legendgroup\": \"optimization 2\", \"line\": {\"color\": \"#00cc96\", \"dash\": \"solid\"}, \"mode\": \"markers+lines\", \"name\": \"optimization 2\", \"orientation\": \"v\", \"showlegend\": false, \"type\": \"scatter\", \"x\": [100, 1000, 10000], \"xaxis\": \"x4\", \"y\": [971.059877872467, 1227.704351425171, 1792.7217586040497], \"yaxis\": \"y4\"}, {\"hovertemplate\": \"algorithm=optimization 2<br>distribution=normal<br>cores=2<br>k=%{x}<br>time (sec)=%{y}<extra></extra>\", \"legendgroup\": \"optimization 2\", \"line\": {\"color\": \"#00cc96\", \"dash\": \"solid\"}, \"mode\": \"markers+lines\", \"name\": \"optimization 2\", \"orientation\": \"v\", \"showlegend\": false, \"type\": \"scatter\", \"x\": [100, 1000, 10000], \"xaxis\": \"x5\", \"y\": [708.7520084381104, 836.3355922698975, 1211.058084487915], \"yaxis\": \"y5\"}, {\"hovertemplate\": \"algorithm=optimization 2<br>distribution=normal<br>cores=8<br>k=%{x}<br>time (sec)=%{y}<extra></extra>\", \"legendgroup\": \"optimization 2\", \"line\": {\"color\": \"#00cc96\", \"dash\": \"solid\"}, \"mode\": \"markers+lines\", \"name\": \"optimization 2\", \"orientation\": \"v\", \"showlegend\": false, \"type\": \"scatter\", \"x\": [100, 1000, 10000], \"xaxis\": \"x6\", \"y\": [529.030965089798, 648.8940119743347, 944.360522031784], \"yaxis\": \"y6\"}, {\"hovertemplate\": \"algorithm=optimization 2<br>distribution=power_law<br>cores=1<br>k=%{x}<br>time (sec)=%{y}<extra></extra>\", \"legendgroup\": \"optimization 2\", \"line\": {\"color\": \"#00cc96\", \"dash\": \"solid\"}, \"mode\": \"markers+lines\", \"name\": \"optimization 2\", \"orientation\": \"v\", \"showlegend\": false, \"type\": \"scatter\", \"x\": [100, 1000, 10000], \"xaxis\": \"x\", \"y\": [42.78170585632324, 42.11563730239868, 129.37810707092285], \"yaxis\": \"y\"}, {\"hovertemplate\": \"algorithm=optimization 2<br>distribution=power_law<br>cores=2<br>k=%{x}<br>time (sec)=%{y}<extra></extra>\", \"legendgroup\": \"optimization 2\", \"line\": {\"color\": \"#00cc96\", \"dash\": \"solid\"}, \"mode\": \"markers+lines\", \"name\": \"optimization 2\", \"orientation\": \"v\", \"showlegend\": false, \"type\": \"scatter\", \"x\": [100, 1000, 10000], \"xaxis\": \"x2\", \"y\": [33.55961775779724, 32.96023106575012, 58.025036573410034], \"yaxis\": \"y2\"}, {\"hovertemplate\": \"algorithm=optimization 2<br>distribution=power_law<br>cores=8<br>k=%{x}<br>time (sec)=%{y}<extra></extra>\", \"legendgroup\": \"optimization 2\", \"line\": {\"color\": \"#00cc96\", \"dash\": \"solid\"}, \"mode\": \"markers+lines\", \"name\": \"optimization 2\", \"orientation\": \"v\", \"showlegend\": false, \"type\": \"scatter\", \"x\": [100, 1000, 10000], \"xaxis\": \"x3\", \"y\": [31.493059635162357, 31.303999423980716, 55.57954025268555], \"yaxis\": \"y3\"}],                        {\"annotations\": [{\"font\": {}, \"showarrow\": false, \"text\": \"cores=1\", \"x\": 0.15666666666666665, \"xanchor\": \"center\", \"xref\": \"paper\", \"y\": 0.9999999999999998, \"yanchor\": \"bottom\", \"yref\": \"paper\"}, {\"font\": {}, \"showarrow\": false, \"text\": \"cores=2\", \"x\": 0.49, \"xanchor\": \"center\", \"xref\": \"paper\", \"y\": 0.9999999999999998, \"yanchor\": \"bottom\", \"yref\": \"paper\"}, {\"font\": {}, \"showarrow\": false, \"text\": \"cores=8\", \"x\": 0.8233333333333333, \"xanchor\": \"center\", \"xref\": \"paper\", \"y\": 0.9999999999999998, \"yanchor\": \"bottom\", \"yref\": \"paper\"}, {\"font\": {}, \"showarrow\": false, \"text\": \"distribution=power_law\", \"textangle\": 90, \"x\": 0.98, \"xanchor\": \"left\", \"xref\": \"paper\", \"y\": 0.15666666666666665, \"yanchor\": \"middle\", \"yref\": \"paper\"}, {\"font\": {}, \"showarrow\": false, \"text\": \"distribution=normal\", \"textangle\": 90, \"x\": 0.98, \"xanchor\": \"left\", \"xref\": \"paper\", \"y\": 0.4999999999999999, \"yanchor\": \"middle\", \"yref\": \"paper\"}, {\"font\": {}, \"showarrow\": false, \"text\": \"distribution=uniform\", \"textangle\": 90, \"x\": 0.98, \"xanchor\": \"left\", \"xref\": \"paper\", \"y\": 0.8433333333333332, \"yanchor\": \"middle\", \"yref\": \"paper\"}], \"autosize\": false, \"height\": 700, \"legend\": {\"title\": {\"text\": \"algorithm\"}, \"tracegroupgap\": 0}, \"margin\": {\"t\": 60}, \"template\": {\"data\": {\"bar\": [{\"error_x\": {\"color\": \"#2a3f5f\"}, \"error_y\": {\"color\": \"#2a3f5f\"}, \"marker\": {\"line\": {\"color\": \"#E5ECF6\", \"width\": 0.5}}, \"type\": \"bar\"}], \"barpolar\": [{\"marker\": {\"line\": {\"color\": \"#E5ECF6\", \"width\": 0.5}}, \"type\": \"barpolar\"}], \"carpet\": [{\"aaxis\": {\"endlinecolor\": \"#2a3f5f\", \"gridcolor\": \"white\", \"linecolor\": \"white\", \"minorgridcolor\": \"white\", \"startlinecolor\": \"#2a3f5f\"}, \"baxis\": {\"endlinecolor\": \"#2a3f5f\", \"gridcolor\": \"white\", \"linecolor\": \"white\", \"minorgridcolor\": \"white\", \"startlinecolor\": \"#2a3f5f\"}, \"type\": \"carpet\"}], \"choropleth\": [{\"colorbar\": {\"outlinewidth\": 0, \"ticks\": \"\"}, \"type\": \"choropleth\"}], \"contour\": [{\"colorbar\": {\"outlinewidth\": 0, \"ticks\": \"\"}, \"colorscale\": [[0.0, \"#0d0887\"], [0.1111111111111111, \"#46039f\"], [0.2222222222222222, \"#7201a8\"], [0.3333333333333333, \"#9c179e\"], [0.4444444444444444, \"#bd3786\"], [0.5555555555555556, \"#d8576b\"], [0.6666666666666666, \"#ed7953\"], [0.7777777777777778, \"#fb9f3a\"], [0.8888888888888888, \"#fdca26\"], [1.0, \"#f0f921\"]], \"type\": \"contour\"}], \"contourcarpet\": [{\"colorbar\": {\"outlinewidth\": 0, \"ticks\": \"\"}, \"type\": \"contourcarpet\"}], \"heatmap\": [{\"colorbar\": {\"outlinewidth\": 0, \"ticks\": \"\"}, \"colorscale\": [[0.0, \"#0d0887\"], [0.1111111111111111, \"#46039f\"], [0.2222222222222222, \"#7201a8\"], [0.3333333333333333, \"#9c179e\"], [0.4444444444444444, \"#bd3786\"], [0.5555555555555556, \"#d8576b\"], [0.6666666666666666, \"#ed7953\"], [0.7777777777777778, \"#fb9f3a\"], [0.8888888888888888, \"#fdca26\"], [1.0, \"#f0f921\"]], \"type\": \"heatmap\"}], \"heatmapgl\": [{\"colorbar\": {\"outlinewidth\": 0, \"ticks\": \"\"}, \"colorscale\": [[0.0, \"#0d0887\"], [0.1111111111111111, \"#46039f\"], [0.2222222222222222, \"#7201a8\"], [0.3333333333333333, \"#9c179e\"], [0.4444444444444444, \"#bd3786\"], [0.5555555555555556, \"#d8576b\"], [0.6666666666666666, \"#ed7953\"], [0.7777777777777778, \"#fb9f3a\"], [0.8888888888888888, \"#fdca26\"], [1.0, \"#f0f921\"]], \"type\": \"heatmapgl\"}], \"histogram\": [{\"marker\": {\"colorbar\": {\"outlinewidth\": 0, \"ticks\": \"\"}}, \"type\": \"histogram\"}], \"histogram2d\": [{\"colorbar\": {\"outlinewidth\": 0, \"ticks\": \"\"}, \"colorscale\": [[0.0, \"#0d0887\"], [0.1111111111111111, \"#46039f\"], [0.2222222222222222, \"#7201a8\"], [0.3333333333333333, \"#9c179e\"], [0.4444444444444444, \"#bd3786\"], [0.5555555555555556, \"#d8576b\"], [0.6666666666666666, \"#ed7953\"], [0.7777777777777778, \"#fb9f3a\"], [0.8888888888888888, \"#fdca26\"], [1.0, \"#f0f921\"]], \"type\": \"histogram2d\"}], \"histogram2dcontour\": [{\"colorbar\": {\"outlinewidth\": 0, \"ticks\": \"\"}, \"colorscale\": [[0.0, \"#0d0887\"], [0.1111111111111111, \"#46039f\"], [0.2222222222222222, \"#7201a8\"], [0.3333333333333333, \"#9c179e\"], [0.4444444444444444, \"#bd3786\"], [0.5555555555555556, \"#d8576b\"], [0.6666666666666666, \"#ed7953\"], [0.7777777777777778, \"#fb9f3a\"], [0.8888888888888888, \"#fdca26\"], [1.0, \"#f0f921\"]], \"type\": \"histogram2dcontour\"}], \"mesh3d\": [{\"colorbar\": {\"outlinewidth\": 0, \"ticks\": \"\"}, \"type\": \"mesh3d\"}], \"parcoords\": [{\"line\": {\"colorbar\": {\"outlinewidth\": 0, \"ticks\": \"\"}}, \"type\": \"parcoords\"}], \"pie\": [{\"automargin\": true, \"type\": \"pie\"}], \"scatter\": [{\"marker\": {\"colorbar\": {\"outlinewidth\": 0, \"ticks\": \"\"}}, \"type\": \"scatter\"}], \"scatter3d\": [{\"line\": {\"colorbar\": {\"outlinewidth\": 0, \"ticks\": \"\"}}, \"marker\": {\"colorbar\": {\"outlinewidth\": 0, \"ticks\": \"\"}}, \"type\": \"scatter3d\"}], \"scattercarpet\": [{\"marker\": {\"colorbar\": {\"outlinewidth\": 0, \"ticks\": \"\"}}, \"type\": \"scattercarpet\"}], \"scattergeo\": [{\"marker\": {\"colorbar\": {\"outlinewidth\": 0, \"ticks\": \"\"}}, \"type\": \"scattergeo\"}], \"scattergl\": [{\"marker\": {\"colorbar\": {\"outlinewidth\": 0, \"ticks\": \"\"}}, \"type\": \"scattergl\"}], \"scattermapbox\": [{\"marker\": {\"colorbar\": {\"outlinewidth\": 0, \"ticks\": \"\"}}, \"type\": \"scattermapbox\"}], \"scatterpolar\": [{\"marker\": {\"colorbar\": {\"outlinewidth\": 0, \"ticks\": \"\"}}, \"type\": \"scatterpolar\"}], \"scatterpolargl\": [{\"marker\": {\"colorbar\": {\"outlinewidth\": 0, \"ticks\": \"\"}}, \"type\": \"scatterpolargl\"}], \"scatterternary\": [{\"marker\": {\"colorbar\": {\"outlinewidth\": 0, \"ticks\": \"\"}}, \"type\": \"scatterternary\"}], \"surface\": [{\"colorbar\": {\"outlinewidth\": 0, \"ticks\": \"\"}, \"colorscale\": [[0.0, \"#0d0887\"], [0.1111111111111111, \"#46039f\"], [0.2222222222222222, \"#7201a8\"], [0.3333333333333333, \"#9c179e\"], [0.4444444444444444, \"#bd3786\"], [0.5555555555555556, \"#d8576b\"], [0.6666666666666666, \"#ed7953\"], [0.7777777777777778, \"#fb9f3a\"], [0.8888888888888888, \"#fdca26\"], [1.0, \"#f0f921\"]], \"type\": \"surface\"}], \"table\": [{\"cells\": {\"fill\": {\"color\": \"#EBF0F8\"}, \"line\": {\"color\": \"white\"}}, \"header\": {\"fill\": {\"color\": \"#C8D4E3\"}, \"line\": {\"color\": \"white\"}}, \"type\": \"table\"}]}, \"layout\": {\"annotationdefaults\": {\"arrowcolor\": \"#2a3f5f\", \"arrowhead\": 0, \"arrowwidth\": 1}, \"coloraxis\": {\"colorbar\": {\"outlinewidth\": 0, \"ticks\": \"\"}}, \"colorscale\": {\"diverging\": [[0, \"#8e0152\"], [0.1, \"#c51b7d\"], [0.2, \"#de77ae\"], [0.3, \"#f1b6da\"], [0.4, \"#fde0ef\"], [0.5, \"#f7f7f7\"], [0.6, \"#e6f5d0\"], [0.7, \"#b8e186\"], [0.8, \"#7fbc41\"], [0.9, \"#4d9221\"], [1, \"#276419\"]], \"sequential\": [[0.0, \"#0d0887\"], [0.1111111111111111, \"#46039f\"], [0.2222222222222222, \"#7201a8\"], [0.3333333333333333, \"#9c179e\"], [0.4444444444444444, \"#bd3786\"], [0.5555555555555556, \"#d8576b\"], [0.6666666666666666, \"#ed7953\"], [0.7777777777777778, \"#fb9f3a\"], [0.8888888888888888, \"#fdca26\"], [1.0, \"#f0f921\"]], \"sequentialminus\": [[0.0, \"#0d0887\"], [0.1111111111111111, \"#46039f\"], [0.2222222222222222, \"#7201a8\"], [0.3333333333333333, \"#9c179e\"], [0.4444444444444444, \"#bd3786\"], [0.5555555555555556, \"#d8576b\"], [0.6666666666666666, \"#ed7953\"], [0.7777777777777778, \"#fb9f3a\"], [0.8888888888888888, \"#fdca26\"], [1.0, \"#f0f921\"]]}, \"colorway\": [\"#636efa\", \"#EF553B\", \"#00cc96\", \"#ab63fa\", \"#FFA15A\", \"#19d3f3\", \"#FF6692\", \"#B6E880\", \"#FF97FF\", \"#FECB52\"], \"font\": {\"color\": \"#2a3f5f\"}, \"geo\": {\"bgcolor\": \"white\", \"lakecolor\": \"white\", \"landcolor\": \"#E5ECF6\", \"showlakes\": true, \"showland\": true, \"subunitcolor\": \"white\"}, \"hoverlabel\": {\"align\": \"left\"}, \"hovermode\": \"closest\", \"mapbox\": {\"style\": \"light\"}, \"paper_bgcolor\": \"white\", \"plot_bgcolor\": \"#E5ECF6\", \"polar\": {\"angularaxis\": {\"gridcolor\": \"white\", \"linecolor\": \"white\", \"ticks\": \"\"}, \"bgcolor\": \"#E5ECF6\", \"radialaxis\": {\"gridcolor\": \"white\", \"linecolor\": \"white\", \"ticks\": \"\"}}, \"scene\": {\"xaxis\": {\"backgroundcolor\": \"#E5ECF6\", \"gridcolor\": \"white\", \"gridwidth\": 2, \"linecolor\": \"white\", \"showbackground\": true, \"ticks\": \"\", \"zerolinecolor\": \"white\"}, \"yaxis\": {\"backgroundcolor\": \"#E5ECF6\", \"gridcolor\": \"white\", \"gridwidth\": 2, \"linecolor\": \"white\", \"showbackground\": true, \"ticks\": \"\", \"zerolinecolor\": \"white\"}, \"zaxis\": {\"backgroundcolor\": \"#E5ECF6\", \"gridcolor\": \"white\", \"gridwidth\": 2, \"linecolor\": \"white\", \"showbackground\": true, \"ticks\": \"\", \"zerolinecolor\": \"white\"}}, \"shapedefaults\": {\"line\": {\"color\": \"#2a3f5f\"}}, \"ternary\": {\"aaxis\": {\"gridcolor\": \"white\", \"linecolor\": \"white\", \"ticks\": \"\"}, \"baxis\": {\"gridcolor\": \"white\", \"linecolor\": \"white\", \"ticks\": \"\"}, \"bgcolor\": \"#E5ECF6\", \"caxis\": {\"gridcolor\": \"white\", \"linecolor\": \"white\", \"ticks\": \"\"}}, \"title\": {\"x\": 0.05}, \"xaxis\": {\"automargin\": true, \"gridcolor\": \"white\", \"linecolor\": \"white\", \"ticks\": \"\", \"title\": {\"standoff\": 15}, \"zerolinecolor\": \"white\", \"zerolinewidth\": 2}, \"yaxis\": {\"automargin\": true, \"gridcolor\": \"white\", \"linecolor\": \"white\", \"ticks\": \"\", \"title\": {\"standoff\": 15}, \"zerolinecolor\": \"white\", \"zerolinewidth\": 2}}}, \"title\": {\"text\": \"Experiment times of RDD implementations\"}, \"width\": 1000, \"xaxis\": {\"anchor\": \"y\", \"domain\": [0.0, 0.3133333333333333], \"title\": {\"text\": \"k\"}, \"type\": \"log\"}, \"xaxis2\": {\"anchor\": \"y2\", \"domain\": [0.3333333333333333, 0.6466666666666666], \"matches\": \"x\", \"title\": {\"text\": \"k\"}, \"type\": \"log\"}, \"xaxis3\": {\"anchor\": \"y3\", \"domain\": [0.6666666666666666, 0.98], \"matches\": \"x\", \"title\": {\"text\": \"k\"}, \"type\": \"log\"}, \"xaxis4\": {\"anchor\": \"y4\", \"domain\": [0.0, 0.3133333333333333], \"matches\": \"x\", \"showticklabels\": false, \"type\": \"log\"}, \"xaxis5\": {\"anchor\": \"y5\", \"domain\": [0.3333333333333333, 0.6466666666666666], \"matches\": \"x\", \"showticklabels\": false, \"type\": \"log\"}, \"xaxis6\": {\"anchor\": \"y6\", \"domain\": [0.6666666666666666, 0.98], \"matches\": \"x\", \"showticklabels\": false, \"type\": \"log\"}, \"xaxis7\": {\"anchor\": \"y7\", \"domain\": [0.0, 0.3133333333333333], \"matches\": \"x\", \"showticklabels\": false, \"type\": \"log\"}, \"xaxis8\": {\"anchor\": \"y8\", \"domain\": [0.3333333333333333, 0.6466666666666666], \"matches\": \"x\", \"showticklabels\": false, \"type\": \"log\"}, \"xaxis9\": {\"anchor\": \"y9\", \"domain\": [0.6666666666666666, 0.98], \"matches\": \"x\", \"showticklabels\": false, \"type\": \"log\"}, \"yaxis\": {\"anchor\": \"x\", \"domain\": [0.0, 0.3133333333333333], \"title\": {\"text\": \"time (sec)\"}}, \"yaxis2\": {\"anchor\": \"x2\", \"domain\": [0.0, 0.3133333333333333], \"matches\": \"y\", \"showticklabels\": false}, \"yaxis3\": {\"anchor\": \"x3\", \"domain\": [0.0, 0.3133333333333333], \"matches\": \"y\", \"showticklabels\": false}, \"yaxis4\": {\"anchor\": \"x4\", \"domain\": [0.34333333333333327, 0.6566666666666665], \"matches\": \"y\", \"title\": {\"text\": \"time (sec)\"}}, \"yaxis5\": {\"anchor\": \"x5\", \"domain\": [0.34333333333333327, 0.6566666666666665], \"matches\": \"y\", \"showticklabels\": false}, \"yaxis6\": {\"anchor\": \"x6\", \"domain\": [0.34333333333333327, 0.6566666666666665], \"matches\": \"y\", \"showticklabels\": false}, \"yaxis7\": {\"anchor\": \"x7\", \"domain\": [0.6866666666666665, 0.9999999999999998], \"matches\": \"y\", \"title\": {\"text\": \"time (sec)\"}}, \"yaxis8\": {\"anchor\": \"x8\", \"domain\": [0.6866666666666665, 0.9999999999999998], \"matches\": \"y\", \"showticklabels\": false}, \"yaxis9\": {\"anchor\": \"x9\", \"domain\": [0.6866666666666665, 0.9999999999999998], \"matches\": \"y\", \"showticklabels\": false}},                        {\"responsive\": true}                    ).then(function(){\n",
       "                            \n",
       "var gd = document.getElementById('81e9dffb-50b9-4995-8cc2-f761aceaa87d');\n",
       "var x = new MutationObserver(function (mutations, observer) {{\n",
       "        var display = window.getComputedStyle(gd).display;\n",
       "        if (!display || display === 'none') {{\n",
       "            console.log([gd, 'removed!']);\n",
       "            Plotly.purge(gd);\n",
       "            observer.disconnect();\n",
       "        }}\n",
       "}});\n",
       "\n",
       "// Listen for the removal of the full notebook cells\n",
       "var notebookContainer = gd.closest('#notebook-container');\n",
       "if (notebookContainer) {{\n",
       "    x.observe(notebookContainer, {childList: true});\n",
       "}}\n",
       "\n",
       "// Listen for the clearing of the current output cell\n",
       "var outputEl = gd.closest('.output');\n",
       "if (outputEl) {{\n",
       "    x.observe(outputEl, {childList: true});\n",
       "}}\n",
       "\n",
       "                        })                };                });            </script>        </div>"
      ]
     },
     "metadata": {},
     "output_type": "display_data"
    }
   ],
   "source": [
    "# 3. Compare rdd (All distributions)\n",
    "filtered_dataset = experiments_df[(experiments_df[\"algorithm\"].isin([\"rdd_bs\",\n",
    "                                                                     \"rdd_fast\",\n",
    "                                                                     \"rdd_fast_bv\"]))].copy()\n",
    "\n",
    "filtered_dataset[\"algorithm\"] = (filtered_dataset[\"algorithm\"]\n",
    "                                 .replace({\"rdd_bs\":\"baseline\",\n",
    "                                           \"rdd_fast\":\"optimization 1\",\n",
    "                                           \"rdd_fast_bv\":\"optimization 2\"}))\n",
    "\n",
    "fig = px.line(filtered_dataset,\n",
    "                 x=\"k\",\n",
    "                 y=\"time (sec)\",\n",
    "                 log_x=True,\n",
    "                 log_y=False,\n",
    "                 facet_row=\"distribution\",\n",
    "                 color=\"algorithm\",\n",
    "                 facet_col=\"cores\",\n",
    "                 labels={\"rdd_bs\": \"test\", \"rdd_fast\": \"test\", \"rdd_fast_bv\":\"r2w43r\"})\n",
    "\n",
    "fig.update_layout(\n",
    "    title=f\"Experiment times of RDD implementations\",\n",
    "    yaxis_title=\"time (sec)\"\n",
    ")\n",
    "\n",
    "for i in range(len(fig.data)):\n",
    "    fig.data[i].update(mode='markers+lines')\n",
    "\n",
    "fig.update_layout(\n",
    "    autosize=False,\n",
    "    width=1000,\n",
    "    height=700)\n",
    "fig.show()"
   ]
  },
  {
   "cell_type": "markdown",
   "id": "gross-sister",
   "metadata": {},
   "source": [
    "## Experiments (threshold=0.5)"
   ]
  },
  {
   "cell_type": "code",
   "execution_count": 51,
   "id": "crucial-there",
   "metadata": {},
   "outputs": [
    {
     "data": {
      "text/html": [
       "<div>\n",
       "<style scoped>\n",
       "    .dataframe tbody tr th:only-of-type {\n",
       "        vertical-align: middle;\n",
       "    }\n",
       "\n",
       "    .dataframe tbody tr th {\n",
       "        vertical-align: top;\n",
       "    }\n",
       "\n",
       "    .dataframe thead th {\n",
       "        text-align: right;\n",
       "    }\n",
       "</style>\n",
       "<table border=\"1\" class=\"dataframe\">\n",
       "  <thead>\n",
       "    <tr style=\"text-align: right;\">\n",
       "      <th></th>\n",
       "      <th>algorithm</th>\n",
       "      <th>cores</th>\n",
       "      <th>dataset</th>\n",
       "      <th>k</th>\n",
       "      <th>time (sec)</th>\n",
       "      <th>distribution</th>\n",
       "    </tr>\n",
       "  </thead>\n",
       "  <tbody>\n",
       "    <tr>\n",
       "      <th>0</th>\n",
       "      <td>graphframe_fast</td>\n",
       "      <td>8</td>\n",
       "      <td>artists_normal</td>\n",
       "      <td>100</td>\n",
       "      <td>91.375761</td>\n",
       "      <td>[normal]</td>\n",
       "    </tr>\n",
       "    <tr>\n",
       "      <th>1</th>\n",
       "      <td>graphframe_fast</td>\n",
       "      <td>8</td>\n",
       "      <td>artists_normal</td>\n",
       "      <td>1000</td>\n",
       "      <td>96.046723</td>\n",
       "      <td>[normal]</td>\n",
       "    </tr>\n",
       "    <tr>\n",
       "      <th>2</th>\n",
       "      <td>graphframe_fast</td>\n",
       "      <td>8</td>\n",
       "      <td>artists_normal</td>\n",
       "      <td>10000</td>\n",
       "      <td>100.084750</td>\n",
       "      <td>[normal]</td>\n",
       "    </tr>\n",
       "    <tr>\n",
       "      <th>3</th>\n",
       "      <td>graphframe_fast_bv</td>\n",
       "      <td>8</td>\n",
       "      <td>artists_normal</td>\n",
       "      <td>100</td>\n",
       "      <td>124.936311</td>\n",
       "      <td>[normal]</td>\n",
       "    </tr>\n",
       "    <tr>\n",
       "      <th>4</th>\n",
       "      <td>graphframe_fast_bv</td>\n",
       "      <td>8</td>\n",
       "      <td>artists_normal</td>\n",
       "      <td>1000</td>\n",
       "      <td>141.315205</td>\n",
       "      <td>[normal]</td>\n",
       "    </tr>\n",
       "    <tr>\n",
       "      <th>5</th>\n",
       "      <td>graphframe_fast_bv</td>\n",
       "      <td>8</td>\n",
       "      <td>artists_normal</td>\n",
       "      <td>10000</td>\n",
       "      <td>166.221728</td>\n",
       "      <td>[normal]</td>\n",
       "    </tr>\n",
       "    <tr>\n",
       "      <th>6</th>\n",
       "      <td>rdd_fast</td>\n",
       "      <td>8</td>\n",
       "      <td>artists_normal</td>\n",
       "      <td>100</td>\n",
       "      <td>612.636081</td>\n",
       "      <td>[normal]</td>\n",
       "    </tr>\n",
       "    <tr>\n",
       "      <th>7</th>\n",
       "      <td>rdd_fast</td>\n",
       "      <td>8</td>\n",
       "      <td>artists_normal</td>\n",
       "      <td>1000</td>\n",
       "      <td>601.980574</td>\n",
       "      <td>[normal]</td>\n",
       "    </tr>\n",
       "    <tr>\n",
       "      <th>8</th>\n",
       "      <td>rdd_fast</td>\n",
       "      <td>8</td>\n",
       "      <td>artists_normal</td>\n",
       "      <td>10000</td>\n",
       "      <td>631.107980</td>\n",
       "      <td>[normal]</td>\n",
       "    </tr>\n",
       "    <tr>\n",
       "      <th>9</th>\n",
       "      <td>rdd_fast_bv</td>\n",
       "      <td>8</td>\n",
       "      <td>artists_normal</td>\n",
       "      <td>100</td>\n",
       "      <td>509.034063</td>\n",
       "      <td>[normal]</td>\n",
       "    </tr>\n",
       "    <tr>\n",
       "      <th>10</th>\n",
       "      <td>rdd_fast_bv</td>\n",
       "      <td>8</td>\n",
       "      <td>artists_normal</td>\n",
       "      <td>1000</td>\n",
       "      <td>593.564016</td>\n",
       "      <td>[normal]</td>\n",
       "    </tr>\n",
       "    <tr>\n",
       "      <th>11</th>\n",
       "      <td>rdd_fast_bv</td>\n",
       "      <td>8</td>\n",
       "      <td>artists_normal</td>\n",
       "      <td>10000</td>\n",
       "      <td>618.958427</td>\n",
       "      <td>[normal]</td>\n",
       "    </tr>\n",
       "  </tbody>\n",
       "</table>\n",
       "</div>"
      ],
      "text/plain": [
       "             algorithm  cores         dataset      k  time (sec) distribution\n",
       "0      graphframe_fast      8  artists_normal    100   91.375761     [normal]\n",
       "1      graphframe_fast      8  artists_normal   1000   96.046723     [normal]\n",
       "2      graphframe_fast      8  artists_normal  10000  100.084750     [normal]\n",
       "3   graphframe_fast_bv      8  artists_normal    100  124.936311     [normal]\n",
       "4   graphframe_fast_bv      8  artists_normal   1000  141.315205     [normal]\n",
       "5   graphframe_fast_bv      8  artists_normal  10000  166.221728     [normal]\n",
       "6             rdd_fast      8  artists_normal    100  612.636081     [normal]\n",
       "7             rdd_fast      8  artists_normal   1000  601.980574     [normal]\n",
       "8             rdd_fast      8  artists_normal  10000  631.107980     [normal]\n",
       "9          rdd_fast_bv      8  artists_normal    100  509.034063     [normal]\n",
       "10         rdd_fast_bv      8  artists_normal   1000  593.564016     [normal]\n",
       "11         rdd_fast_bv      8  artists_normal  10000  618.958427     [normal]"
      ]
     },
     "execution_count": 51,
     "metadata": {},
     "output_type": "execute_result"
    }
   ],
   "source": [
    "experiments_threshold_05_df"
   ]
  },
  {
   "cell_type": "code",
   "execution_count": 55,
   "id": "every-volunteer",
   "metadata": {},
   "outputs": [
    {
     "data": {
      "application/vnd.plotly.v1+json": {
       "config": {
        "plotlyServerURL": "https://plot.ly"
       },
       "data": [
        {
         "name": "baseline",
         "type": "scatter",
         "x": [
          100,
          1000,
          10000
         ],
         "y": [
          97.22321581840517,
          100.3886866569519,
          102.15371417999268
         ]
        },
        {
         "line": {
          "color": "firebrick"
         },
         "name": "optimization 1, threshold=0.8",
         "type": "scatter",
         "x": [
          100,
          1000,
          10000
         ],
         "y": [
          151.72542548179626,
          156.45248651504517,
          161.0106325149536
         ]
        },
        {
         "line": {
          "color": "#00CC96"
         },
         "name": "optimization 2, threshold=0.8",
         "type": "scatter",
         "x": [
          100,
          1000,
          10000
         ],
         "y": [
          156.9876799583435,
          176.81607937812805,
          251.5612497329712
         ]
        },
        {
         "line": {
          "color": "firebrick",
          "dash": "dash"
         },
         "name": "optimization 1, threshold=0.5",
         "type": "scatter",
         "x": [
          100,
          1000,
          10000
         ],
         "y": [
          91.37576127052309,
          96.04672312736513,
          100.08475041389464
         ]
        },
        {
         "line": {
          "color": "#00CC96",
          "dash": "dash"
         },
         "name": "optimization 2, threshold=0.5",
         "type": "scatter",
         "x": [
          100,
          1000,
          10000
         ],
         "y": [
          124.93631052970886,
          141.3152048587799,
          166.2217276096344
         ]
        }
       ],
       "layout": {
        "template": {
         "data": {
          "bar": [
           {
            "error_x": {
             "color": "#2a3f5f"
            },
            "error_y": {
             "color": "#2a3f5f"
            },
            "marker": {
             "line": {
              "color": "#E5ECF6",
              "width": 0.5
             }
            },
            "type": "bar"
           }
          ],
          "barpolar": [
           {
            "marker": {
             "line": {
              "color": "#E5ECF6",
              "width": 0.5
             }
            },
            "type": "barpolar"
           }
          ],
          "carpet": [
           {
            "aaxis": {
             "endlinecolor": "#2a3f5f",
             "gridcolor": "white",
             "linecolor": "white",
             "minorgridcolor": "white",
             "startlinecolor": "#2a3f5f"
            },
            "baxis": {
             "endlinecolor": "#2a3f5f",
             "gridcolor": "white",
             "linecolor": "white",
             "minorgridcolor": "white",
             "startlinecolor": "#2a3f5f"
            },
            "type": "carpet"
           }
          ],
          "choropleth": [
           {
            "colorbar": {
             "outlinewidth": 0,
             "ticks": ""
            },
            "type": "choropleth"
           }
          ],
          "contour": [
           {
            "colorbar": {
             "outlinewidth": 0,
             "ticks": ""
            },
            "colorscale": [
             [
              0,
              "#0d0887"
             ],
             [
              0.1111111111111111,
              "#46039f"
             ],
             [
              0.2222222222222222,
              "#7201a8"
             ],
             [
              0.3333333333333333,
              "#9c179e"
             ],
             [
              0.4444444444444444,
              "#bd3786"
             ],
             [
              0.5555555555555556,
              "#d8576b"
             ],
             [
              0.6666666666666666,
              "#ed7953"
             ],
             [
              0.7777777777777778,
              "#fb9f3a"
             ],
             [
              0.8888888888888888,
              "#fdca26"
             ],
             [
              1,
              "#f0f921"
             ]
            ],
            "type": "contour"
           }
          ],
          "contourcarpet": [
           {
            "colorbar": {
             "outlinewidth": 0,
             "ticks": ""
            },
            "type": "contourcarpet"
           }
          ],
          "heatmap": [
           {
            "colorbar": {
             "outlinewidth": 0,
             "ticks": ""
            },
            "colorscale": [
             [
              0,
              "#0d0887"
             ],
             [
              0.1111111111111111,
              "#46039f"
             ],
             [
              0.2222222222222222,
              "#7201a8"
             ],
             [
              0.3333333333333333,
              "#9c179e"
             ],
             [
              0.4444444444444444,
              "#bd3786"
             ],
             [
              0.5555555555555556,
              "#d8576b"
             ],
             [
              0.6666666666666666,
              "#ed7953"
             ],
             [
              0.7777777777777778,
              "#fb9f3a"
             ],
             [
              0.8888888888888888,
              "#fdca26"
             ],
             [
              1,
              "#f0f921"
             ]
            ],
            "type": "heatmap"
           }
          ],
          "heatmapgl": [
           {
            "colorbar": {
             "outlinewidth": 0,
             "ticks": ""
            },
            "colorscale": [
             [
              0,
              "#0d0887"
             ],
             [
              0.1111111111111111,
              "#46039f"
             ],
             [
              0.2222222222222222,
              "#7201a8"
             ],
             [
              0.3333333333333333,
              "#9c179e"
             ],
             [
              0.4444444444444444,
              "#bd3786"
             ],
             [
              0.5555555555555556,
              "#d8576b"
             ],
             [
              0.6666666666666666,
              "#ed7953"
             ],
             [
              0.7777777777777778,
              "#fb9f3a"
             ],
             [
              0.8888888888888888,
              "#fdca26"
             ],
             [
              1,
              "#f0f921"
             ]
            ],
            "type": "heatmapgl"
           }
          ],
          "histogram": [
           {
            "marker": {
             "colorbar": {
              "outlinewidth": 0,
              "ticks": ""
             }
            },
            "type": "histogram"
           }
          ],
          "histogram2d": [
           {
            "colorbar": {
             "outlinewidth": 0,
             "ticks": ""
            },
            "colorscale": [
             [
              0,
              "#0d0887"
             ],
             [
              0.1111111111111111,
              "#46039f"
             ],
             [
              0.2222222222222222,
              "#7201a8"
             ],
             [
              0.3333333333333333,
              "#9c179e"
             ],
             [
              0.4444444444444444,
              "#bd3786"
             ],
             [
              0.5555555555555556,
              "#d8576b"
             ],
             [
              0.6666666666666666,
              "#ed7953"
             ],
             [
              0.7777777777777778,
              "#fb9f3a"
             ],
             [
              0.8888888888888888,
              "#fdca26"
             ],
             [
              1,
              "#f0f921"
             ]
            ],
            "type": "histogram2d"
           }
          ],
          "histogram2dcontour": [
           {
            "colorbar": {
             "outlinewidth": 0,
             "ticks": ""
            },
            "colorscale": [
             [
              0,
              "#0d0887"
             ],
             [
              0.1111111111111111,
              "#46039f"
             ],
             [
              0.2222222222222222,
              "#7201a8"
             ],
             [
              0.3333333333333333,
              "#9c179e"
             ],
             [
              0.4444444444444444,
              "#bd3786"
             ],
             [
              0.5555555555555556,
              "#d8576b"
             ],
             [
              0.6666666666666666,
              "#ed7953"
             ],
             [
              0.7777777777777778,
              "#fb9f3a"
             ],
             [
              0.8888888888888888,
              "#fdca26"
             ],
             [
              1,
              "#f0f921"
             ]
            ],
            "type": "histogram2dcontour"
           }
          ],
          "mesh3d": [
           {
            "colorbar": {
             "outlinewidth": 0,
             "ticks": ""
            },
            "type": "mesh3d"
           }
          ],
          "parcoords": [
           {
            "line": {
             "colorbar": {
              "outlinewidth": 0,
              "ticks": ""
             }
            },
            "type": "parcoords"
           }
          ],
          "pie": [
           {
            "automargin": true,
            "type": "pie"
           }
          ],
          "scatter": [
           {
            "marker": {
             "colorbar": {
              "outlinewidth": 0,
              "ticks": ""
             }
            },
            "type": "scatter"
           }
          ],
          "scatter3d": [
           {
            "line": {
             "colorbar": {
              "outlinewidth": 0,
              "ticks": ""
             }
            },
            "marker": {
             "colorbar": {
              "outlinewidth": 0,
              "ticks": ""
             }
            },
            "type": "scatter3d"
           }
          ],
          "scattercarpet": [
           {
            "marker": {
             "colorbar": {
              "outlinewidth": 0,
              "ticks": ""
             }
            },
            "type": "scattercarpet"
           }
          ],
          "scattergeo": [
           {
            "marker": {
             "colorbar": {
              "outlinewidth": 0,
              "ticks": ""
             }
            },
            "type": "scattergeo"
           }
          ],
          "scattergl": [
           {
            "marker": {
             "colorbar": {
              "outlinewidth": 0,
              "ticks": ""
             }
            },
            "type": "scattergl"
           }
          ],
          "scattermapbox": [
           {
            "marker": {
             "colorbar": {
              "outlinewidth": 0,
              "ticks": ""
             }
            },
            "type": "scattermapbox"
           }
          ],
          "scatterpolar": [
           {
            "marker": {
             "colorbar": {
              "outlinewidth": 0,
              "ticks": ""
             }
            },
            "type": "scatterpolar"
           }
          ],
          "scatterpolargl": [
           {
            "marker": {
             "colorbar": {
              "outlinewidth": 0,
              "ticks": ""
             }
            },
            "type": "scatterpolargl"
           }
          ],
          "scatterternary": [
           {
            "marker": {
             "colorbar": {
              "outlinewidth": 0,
              "ticks": ""
             }
            },
            "type": "scatterternary"
           }
          ],
          "surface": [
           {
            "colorbar": {
             "outlinewidth": 0,
             "ticks": ""
            },
            "colorscale": [
             [
              0,
              "#0d0887"
             ],
             [
              0.1111111111111111,
              "#46039f"
             ],
             [
              0.2222222222222222,
              "#7201a8"
             ],
             [
              0.3333333333333333,
              "#9c179e"
             ],
             [
              0.4444444444444444,
              "#bd3786"
             ],
             [
              0.5555555555555556,
              "#d8576b"
             ],
             [
              0.6666666666666666,
              "#ed7953"
             ],
             [
              0.7777777777777778,
              "#fb9f3a"
             ],
             [
              0.8888888888888888,
              "#fdca26"
             ],
             [
              1,
              "#f0f921"
             ]
            ],
            "type": "surface"
           }
          ],
          "table": [
           {
            "cells": {
             "fill": {
              "color": "#EBF0F8"
             },
             "line": {
              "color": "white"
             }
            },
            "header": {
             "fill": {
              "color": "#C8D4E3"
             },
             "line": {
              "color": "white"
             }
            },
            "type": "table"
           }
          ]
         },
         "layout": {
          "annotationdefaults": {
           "arrowcolor": "#2a3f5f",
           "arrowhead": 0,
           "arrowwidth": 1
          },
          "coloraxis": {
           "colorbar": {
            "outlinewidth": 0,
            "ticks": ""
           }
          },
          "colorscale": {
           "diverging": [
            [
             0,
             "#8e0152"
            ],
            [
             0.1,
             "#c51b7d"
            ],
            [
             0.2,
             "#de77ae"
            ],
            [
             0.3,
             "#f1b6da"
            ],
            [
             0.4,
             "#fde0ef"
            ],
            [
             0.5,
             "#f7f7f7"
            ],
            [
             0.6,
             "#e6f5d0"
            ],
            [
             0.7,
             "#b8e186"
            ],
            [
             0.8,
             "#7fbc41"
            ],
            [
             0.9,
             "#4d9221"
            ],
            [
             1,
             "#276419"
            ]
           ],
           "sequential": [
            [
             0,
             "#0d0887"
            ],
            [
             0.1111111111111111,
             "#46039f"
            ],
            [
             0.2222222222222222,
             "#7201a8"
            ],
            [
             0.3333333333333333,
             "#9c179e"
            ],
            [
             0.4444444444444444,
             "#bd3786"
            ],
            [
             0.5555555555555556,
             "#d8576b"
            ],
            [
             0.6666666666666666,
             "#ed7953"
            ],
            [
             0.7777777777777778,
             "#fb9f3a"
            ],
            [
             0.8888888888888888,
             "#fdca26"
            ],
            [
             1,
             "#f0f921"
            ]
           ],
           "sequentialminus": [
            [
             0,
             "#0d0887"
            ],
            [
             0.1111111111111111,
             "#46039f"
            ],
            [
             0.2222222222222222,
             "#7201a8"
            ],
            [
             0.3333333333333333,
             "#9c179e"
            ],
            [
             0.4444444444444444,
             "#bd3786"
            ],
            [
             0.5555555555555556,
             "#d8576b"
            ],
            [
             0.6666666666666666,
             "#ed7953"
            ],
            [
             0.7777777777777778,
             "#fb9f3a"
            ],
            [
             0.8888888888888888,
             "#fdca26"
            ],
            [
             1,
             "#f0f921"
            ]
           ]
          },
          "colorway": [
           "#636efa",
           "#EF553B",
           "#00cc96",
           "#ab63fa",
           "#FFA15A",
           "#19d3f3",
           "#FF6692",
           "#B6E880",
           "#FF97FF",
           "#FECB52"
          ],
          "font": {
           "color": "#2a3f5f"
          },
          "geo": {
           "bgcolor": "white",
           "lakecolor": "white",
           "landcolor": "#E5ECF6",
           "showlakes": true,
           "showland": true,
           "subunitcolor": "white"
          },
          "hoverlabel": {
           "align": "left"
          },
          "hovermode": "closest",
          "mapbox": {
           "style": "light"
          },
          "paper_bgcolor": "white",
          "plot_bgcolor": "#E5ECF6",
          "polar": {
           "angularaxis": {
            "gridcolor": "white",
            "linecolor": "white",
            "ticks": ""
           },
           "bgcolor": "#E5ECF6",
           "radialaxis": {
            "gridcolor": "white",
            "linecolor": "white",
            "ticks": ""
           }
          },
          "scene": {
           "xaxis": {
            "backgroundcolor": "#E5ECF6",
            "gridcolor": "white",
            "gridwidth": 2,
            "linecolor": "white",
            "showbackground": true,
            "ticks": "",
            "zerolinecolor": "white"
           },
           "yaxis": {
            "backgroundcolor": "#E5ECF6",
            "gridcolor": "white",
            "gridwidth": 2,
            "linecolor": "white",
            "showbackground": true,
            "ticks": "",
            "zerolinecolor": "white"
           },
           "zaxis": {
            "backgroundcolor": "#E5ECF6",
            "gridcolor": "white",
            "gridwidth": 2,
            "linecolor": "white",
            "showbackground": true,
            "ticks": "",
            "zerolinecolor": "white"
           }
          },
          "shapedefaults": {
           "line": {
            "color": "#2a3f5f"
           }
          },
          "ternary": {
           "aaxis": {
            "gridcolor": "white",
            "linecolor": "white",
            "ticks": ""
           },
           "baxis": {
            "gridcolor": "white",
            "linecolor": "white",
            "ticks": ""
           },
           "bgcolor": "#E5ECF6",
           "caxis": {
            "gridcolor": "white",
            "linecolor": "white",
            "ticks": ""
           }
          },
          "title": {
           "x": 0.05
          },
          "xaxis": {
           "automargin": true,
           "gridcolor": "white",
           "linecolor": "white",
           "ticks": "",
           "title": {
            "standoff": 15
           },
           "zerolinecolor": "white",
           "zerolinewidth": 2
          },
          "yaxis": {
           "automargin": true,
           "gridcolor": "white",
           "linecolor": "white",
           "ticks": "",
           "title": {
            "standoff": 15
           },
           "zerolinecolor": "white",
           "zerolinewidth": 2
          }
         }
        },
        "title": {
         "text": "Experiment times of GraphFrames implementations for threshold=0.8 and threshold=0.5 | Normal Distribution"
        },
        "xaxis": {
         "title": {
          "text": "k"
         },
         "type": "log"
        },
        "yaxis": {
         "title": {
          "text": "time (sec)"
         }
        }
       }
      },
      "text/html": [
       "<div>                            <div id=\"1e277110-bf44-48cc-b2b5-e5a3b7cfebf9\" class=\"plotly-graph-div\" style=\"height:525px; width:100%;\"></div>            <script type=\"text/javascript\">                require([\"plotly\"], function(Plotly) {                    window.PLOTLYENV=window.PLOTLYENV || {};                                    if (document.getElementById(\"1e277110-bf44-48cc-b2b5-e5a3b7cfebf9\")) {                    Plotly.newPlot(                        \"1e277110-bf44-48cc-b2b5-e5a3b7cfebf9\",                        [{\"name\": \"baseline\", \"type\": \"scatter\", \"x\": [100, 1000, 10000], \"y\": [97.22321581840517, 100.3886866569519, 102.15371417999268]}, {\"line\": {\"color\": \"firebrick\"}, \"name\": \"optimization 1, threshold=0.8\", \"type\": \"scatter\", \"x\": [100, 1000, 10000], \"y\": [151.72542548179626, 156.45248651504517, 161.0106325149536]}, {\"line\": {\"color\": \"#00CC96\"}, \"name\": \"optimization 2, threshold=0.8\", \"type\": \"scatter\", \"x\": [100, 1000, 10000], \"y\": [156.9876799583435, 176.81607937812805, 251.5612497329712]}, {\"line\": {\"color\": \"firebrick\", \"dash\": \"dash\"}, \"name\": \"optimization 1, threshold=0.5\", \"type\": \"scatter\", \"x\": [100, 1000, 10000], \"y\": [91.37576127052309, 96.04672312736513, 100.08475041389464]}, {\"line\": {\"color\": \"#00CC96\", \"dash\": \"dash\"}, \"name\": \"optimization 2, threshold=0.5\", \"type\": \"scatter\", \"x\": [100, 1000, 10000], \"y\": [124.93631052970886, 141.3152048587799, 166.2217276096344]}],                        {\"template\": {\"data\": {\"bar\": [{\"error_x\": {\"color\": \"#2a3f5f\"}, \"error_y\": {\"color\": \"#2a3f5f\"}, \"marker\": {\"line\": {\"color\": \"#E5ECF6\", \"width\": 0.5}}, \"type\": \"bar\"}], \"barpolar\": [{\"marker\": {\"line\": {\"color\": \"#E5ECF6\", \"width\": 0.5}}, \"type\": \"barpolar\"}], \"carpet\": [{\"aaxis\": {\"endlinecolor\": \"#2a3f5f\", \"gridcolor\": \"white\", \"linecolor\": \"white\", \"minorgridcolor\": \"white\", \"startlinecolor\": \"#2a3f5f\"}, \"baxis\": {\"endlinecolor\": \"#2a3f5f\", \"gridcolor\": \"white\", \"linecolor\": \"white\", \"minorgridcolor\": \"white\", \"startlinecolor\": \"#2a3f5f\"}, \"type\": \"carpet\"}], \"choropleth\": [{\"colorbar\": {\"outlinewidth\": 0, \"ticks\": \"\"}, \"type\": \"choropleth\"}], \"contour\": [{\"colorbar\": {\"outlinewidth\": 0, \"ticks\": \"\"}, \"colorscale\": [[0.0, \"#0d0887\"], [0.1111111111111111, \"#46039f\"], [0.2222222222222222, \"#7201a8\"], [0.3333333333333333, \"#9c179e\"], [0.4444444444444444, \"#bd3786\"], [0.5555555555555556, \"#d8576b\"], [0.6666666666666666, \"#ed7953\"], [0.7777777777777778, \"#fb9f3a\"], [0.8888888888888888, \"#fdca26\"], [1.0, \"#f0f921\"]], \"type\": \"contour\"}], \"contourcarpet\": [{\"colorbar\": {\"outlinewidth\": 0, \"ticks\": \"\"}, \"type\": \"contourcarpet\"}], \"heatmap\": [{\"colorbar\": {\"outlinewidth\": 0, \"ticks\": \"\"}, \"colorscale\": [[0.0, \"#0d0887\"], [0.1111111111111111, \"#46039f\"], [0.2222222222222222, \"#7201a8\"], [0.3333333333333333, \"#9c179e\"], [0.4444444444444444, \"#bd3786\"], [0.5555555555555556, \"#d8576b\"], [0.6666666666666666, \"#ed7953\"], [0.7777777777777778, \"#fb9f3a\"], [0.8888888888888888, \"#fdca26\"], [1.0, \"#f0f921\"]], \"type\": \"heatmap\"}], \"heatmapgl\": [{\"colorbar\": {\"outlinewidth\": 0, \"ticks\": \"\"}, \"colorscale\": [[0.0, \"#0d0887\"], [0.1111111111111111, \"#46039f\"], [0.2222222222222222, \"#7201a8\"], [0.3333333333333333, \"#9c179e\"], [0.4444444444444444, \"#bd3786\"], [0.5555555555555556, \"#d8576b\"], [0.6666666666666666, \"#ed7953\"], [0.7777777777777778, \"#fb9f3a\"], [0.8888888888888888, \"#fdca26\"], [1.0, \"#f0f921\"]], \"type\": \"heatmapgl\"}], \"histogram\": [{\"marker\": {\"colorbar\": {\"outlinewidth\": 0, \"ticks\": \"\"}}, \"type\": \"histogram\"}], \"histogram2d\": [{\"colorbar\": {\"outlinewidth\": 0, \"ticks\": \"\"}, \"colorscale\": [[0.0, \"#0d0887\"], [0.1111111111111111, \"#46039f\"], [0.2222222222222222, \"#7201a8\"], [0.3333333333333333, \"#9c179e\"], [0.4444444444444444, \"#bd3786\"], [0.5555555555555556, \"#d8576b\"], [0.6666666666666666, \"#ed7953\"], [0.7777777777777778, \"#fb9f3a\"], [0.8888888888888888, \"#fdca26\"], [1.0, \"#f0f921\"]], \"type\": \"histogram2d\"}], \"histogram2dcontour\": [{\"colorbar\": {\"outlinewidth\": 0, \"ticks\": \"\"}, \"colorscale\": [[0.0, \"#0d0887\"], [0.1111111111111111, \"#46039f\"], [0.2222222222222222, \"#7201a8\"], [0.3333333333333333, \"#9c179e\"], [0.4444444444444444, \"#bd3786\"], [0.5555555555555556, \"#d8576b\"], [0.6666666666666666, \"#ed7953\"], [0.7777777777777778, \"#fb9f3a\"], [0.8888888888888888, \"#fdca26\"], [1.0, \"#f0f921\"]], \"type\": \"histogram2dcontour\"}], \"mesh3d\": [{\"colorbar\": {\"outlinewidth\": 0, \"ticks\": \"\"}, \"type\": \"mesh3d\"}], \"parcoords\": [{\"line\": {\"colorbar\": {\"outlinewidth\": 0, \"ticks\": \"\"}}, \"type\": \"parcoords\"}], \"pie\": [{\"automargin\": true, \"type\": \"pie\"}], \"scatter\": [{\"marker\": {\"colorbar\": {\"outlinewidth\": 0, \"ticks\": \"\"}}, \"type\": \"scatter\"}], \"scatter3d\": [{\"line\": {\"colorbar\": {\"outlinewidth\": 0, \"ticks\": \"\"}}, \"marker\": {\"colorbar\": {\"outlinewidth\": 0, \"ticks\": \"\"}}, \"type\": \"scatter3d\"}], \"scattercarpet\": [{\"marker\": {\"colorbar\": {\"outlinewidth\": 0, \"ticks\": \"\"}}, \"type\": \"scattercarpet\"}], \"scattergeo\": [{\"marker\": {\"colorbar\": {\"outlinewidth\": 0, \"ticks\": \"\"}}, \"type\": \"scattergeo\"}], \"scattergl\": [{\"marker\": {\"colorbar\": {\"outlinewidth\": 0, \"ticks\": \"\"}}, \"type\": \"scattergl\"}], \"scattermapbox\": [{\"marker\": {\"colorbar\": {\"outlinewidth\": 0, \"ticks\": \"\"}}, \"type\": \"scattermapbox\"}], \"scatterpolar\": [{\"marker\": {\"colorbar\": {\"outlinewidth\": 0, \"ticks\": \"\"}}, \"type\": \"scatterpolar\"}], \"scatterpolargl\": [{\"marker\": {\"colorbar\": {\"outlinewidth\": 0, \"ticks\": \"\"}}, \"type\": \"scatterpolargl\"}], \"scatterternary\": [{\"marker\": {\"colorbar\": {\"outlinewidth\": 0, \"ticks\": \"\"}}, \"type\": \"scatterternary\"}], \"surface\": [{\"colorbar\": {\"outlinewidth\": 0, \"ticks\": \"\"}, \"colorscale\": [[0.0, \"#0d0887\"], [0.1111111111111111, \"#46039f\"], [0.2222222222222222, \"#7201a8\"], [0.3333333333333333, \"#9c179e\"], [0.4444444444444444, \"#bd3786\"], [0.5555555555555556, \"#d8576b\"], [0.6666666666666666, \"#ed7953\"], [0.7777777777777778, \"#fb9f3a\"], [0.8888888888888888, \"#fdca26\"], [1.0, \"#f0f921\"]], \"type\": \"surface\"}], \"table\": [{\"cells\": {\"fill\": {\"color\": \"#EBF0F8\"}, \"line\": {\"color\": \"white\"}}, \"header\": {\"fill\": {\"color\": \"#C8D4E3\"}, \"line\": {\"color\": \"white\"}}, \"type\": \"table\"}]}, \"layout\": {\"annotationdefaults\": {\"arrowcolor\": \"#2a3f5f\", \"arrowhead\": 0, \"arrowwidth\": 1}, \"coloraxis\": {\"colorbar\": {\"outlinewidth\": 0, \"ticks\": \"\"}}, \"colorscale\": {\"diverging\": [[0, \"#8e0152\"], [0.1, \"#c51b7d\"], [0.2, \"#de77ae\"], [0.3, \"#f1b6da\"], [0.4, \"#fde0ef\"], [0.5, \"#f7f7f7\"], [0.6, \"#e6f5d0\"], [0.7, \"#b8e186\"], [0.8, \"#7fbc41\"], [0.9, \"#4d9221\"], [1, \"#276419\"]], \"sequential\": [[0.0, \"#0d0887\"], [0.1111111111111111, \"#46039f\"], [0.2222222222222222, \"#7201a8\"], [0.3333333333333333, \"#9c179e\"], [0.4444444444444444, \"#bd3786\"], [0.5555555555555556, \"#d8576b\"], [0.6666666666666666, \"#ed7953\"], [0.7777777777777778, \"#fb9f3a\"], [0.8888888888888888, \"#fdca26\"], [1.0, \"#f0f921\"]], \"sequentialminus\": [[0.0, \"#0d0887\"], [0.1111111111111111, \"#46039f\"], [0.2222222222222222, \"#7201a8\"], [0.3333333333333333, \"#9c179e\"], [0.4444444444444444, \"#bd3786\"], [0.5555555555555556, \"#d8576b\"], [0.6666666666666666, \"#ed7953\"], [0.7777777777777778, \"#fb9f3a\"], [0.8888888888888888, \"#fdca26\"], [1.0, \"#f0f921\"]]}, \"colorway\": [\"#636efa\", \"#EF553B\", \"#00cc96\", \"#ab63fa\", \"#FFA15A\", \"#19d3f3\", \"#FF6692\", \"#B6E880\", \"#FF97FF\", \"#FECB52\"], \"font\": {\"color\": \"#2a3f5f\"}, \"geo\": {\"bgcolor\": \"white\", \"lakecolor\": \"white\", \"landcolor\": \"#E5ECF6\", \"showlakes\": true, \"showland\": true, \"subunitcolor\": \"white\"}, \"hoverlabel\": {\"align\": \"left\"}, \"hovermode\": \"closest\", \"mapbox\": {\"style\": \"light\"}, \"paper_bgcolor\": \"white\", \"plot_bgcolor\": \"#E5ECF6\", \"polar\": {\"angularaxis\": {\"gridcolor\": \"white\", \"linecolor\": \"white\", \"ticks\": \"\"}, \"bgcolor\": \"#E5ECF6\", \"radialaxis\": {\"gridcolor\": \"white\", \"linecolor\": \"white\", \"ticks\": \"\"}}, \"scene\": {\"xaxis\": {\"backgroundcolor\": \"#E5ECF6\", \"gridcolor\": \"white\", \"gridwidth\": 2, \"linecolor\": \"white\", \"showbackground\": true, \"ticks\": \"\", \"zerolinecolor\": \"white\"}, \"yaxis\": {\"backgroundcolor\": \"#E5ECF6\", \"gridcolor\": \"white\", \"gridwidth\": 2, \"linecolor\": \"white\", \"showbackground\": true, \"ticks\": \"\", \"zerolinecolor\": \"white\"}, \"zaxis\": {\"backgroundcolor\": \"#E5ECF6\", \"gridcolor\": \"white\", \"gridwidth\": 2, \"linecolor\": \"white\", \"showbackground\": true, \"ticks\": \"\", \"zerolinecolor\": \"white\"}}, \"shapedefaults\": {\"line\": {\"color\": \"#2a3f5f\"}}, \"ternary\": {\"aaxis\": {\"gridcolor\": \"white\", \"linecolor\": \"white\", \"ticks\": \"\"}, \"baxis\": {\"gridcolor\": \"white\", \"linecolor\": \"white\", \"ticks\": \"\"}, \"bgcolor\": \"#E5ECF6\", \"caxis\": {\"gridcolor\": \"white\", \"linecolor\": \"white\", \"ticks\": \"\"}}, \"title\": {\"x\": 0.05}, \"xaxis\": {\"automargin\": true, \"gridcolor\": \"white\", \"linecolor\": \"white\", \"ticks\": \"\", \"title\": {\"standoff\": 15}, \"zerolinecolor\": \"white\", \"zerolinewidth\": 2}, \"yaxis\": {\"automargin\": true, \"gridcolor\": \"white\", \"linecolor\": \"white\", \"ticks\": \"\", \"title\": {\"standoff\": 15}, \"zerolinecolor\": \"white\", \"zerolinewidth\": 2}}}, \"title\": {\"text\": \"Experiment times of GraphFrames implementations for threshold=0.8 and threshold=0.5 | Normal Distribution\"}, \"xaxis\": {\"title\": {\"text\": \"k\"}, \"type\": \"log\"}, \"yaxis\": {\"title\": {\"text\": \"time (sec)\"}}},                        {\"responsive\": true}                    ).then(function(){\n",
       "                            \n",
       "var gd = document.getElementById('1e277110-bf44-48cc-b2b5-e5a3b7cfebf9');\n",
       "var x = new MutationObserver(function (mutations, observer) {{\n",
       "        var display = window.getComputedStyle(gd).display;\n",
       "        if (!display || display === 'none') {{\n",
       "            console.log([gd, 'removed!']);\n",
       "            Plotly.purge(gd);\n",
       "            observer.disconnect();\n",
       "        }}\n",
       "}});\n",
       "\n",
       "// Listen for the removal of the full notebook cells\n",
       "var notebookContainer = gd.closest('#notebook-container');\n",
       "if (notebookContainer) {{\n",
       "    x.observe(notebookContainer, {childList: true});\n",
       "}}\n",
       "\n",
       "// Listen for the clearing of the current output cell\n",
       "var outputEl = gd.closest('.output');\n",
       "if (outputEl) {{\n",
       "    x.observe(outputEl, {childList: true});\n",
       "}}\n",
       "\n",
       "                        })                };                });            </script>        </div>"
      ]
     },
     "metadata": {},
     "output_type": "display_data"
    }
   ],
   "source": [
    "## Compare graphframes_fast and graphframes_fast_bv \n",
    "# with threshold=0.8 and threshold=0.5 for Normal distribution\n",
    "\n",
    "fig = go.Figure()\n",
    "\n",
    "\n",
    "## --> Extract times:\n",
    "# bs, optimization 1, optimization 2\n",
    "# threshold 0.5, 0.8\n",
    "\n",
    "df_bs_08 = (experiments_df\n",
    "            [(experiments_df[\"cores\"]==8) &\n",
    "             (experiments_df[\"dataset\"]==\"artists_normal\") &             \n",
    "             (experiments_df[\"algorithm\"] == \"graphframe_bs\")])\n",
    "\n",
    "df_opt1_08 = (experiments_df\n",
    "            [(experiments_df[\"cores\"]==8) &\n",
    "             (experiments_df[\"dataset\"]==\"artists_normal\") &             \n",
    "             (experiments_df[\"algorithm\"] == \"graphframe_fast\")])\n",
    "\n",
    "df_opt2_08 = (experiments_df\n",
    "             [(experiments_df[\"cores\"]==8) &\n",
    "             (experiments_df[\"dataset\"]==\"artists_normal\") &             \n",
    "             (experiments_df[\"algorithm\"] == \"graphframe_fast_bv\")])\n",
    "\n",
    "\n",
    "df_opt1_05 = (experiments_threshold_05_df\n",
    "              [experiments_threshold_05_df[\"algorithm\"] == \"graphframe_fast\"])\n",
    "\n",
    "\n",
    "df_opt2_05 = (experiments_threshold_05_df\n",
    "              [experiments_threshold_05_df[\"algorithm\"] == \"graphframe_fast_bv\"])\n",
    "\n",
    "\n",
    "\n",
    "\n",
    "## Add lines\n",
    "\n",
    "# 1. df_bs_08\n",
    "fig.add_trace(go.Scatter(\n",
    "    x = df_bs_08[\"k\"],\n",
    "    y = df_bs_08[\"time (sec)\"],\n",
    "    name=\"baseline\"\n",
    "))\n",
    "\n",
    "\n",
    "# 2. df_opt1_08\n",
    "fig.add_trace(go.Scatter(\n",
    "    x = df_opt1_08[\"k\"],\n",
    "    y = df_opt1_08[\"time (sec)\"],\n",
    "    name=\"optimization 1, threshold=0.8\",\n",
    "    line = dict(color='firebrick')\n",
    "))\n",
    "\n",
    "# 3. df_opt2_08\n",
    "fig.add_trace(go.Scatter(\n",
    "    x = df_opt2_08[\"k\"],\n",
    "    y = df_opt2_08[\"time (sec)\"],\n",
    "    name=\"optimization 2, threshold=0.8\",\n",
    "    line = dict(color='#00CC96')\n",
    "))\n",
    "\n",
    "\n",
    "# 4. df_opt1_05\n",
    "fig.add_trace(go.Scatter(\n",
    "    x = df_opt1_05[\"k\"],\n",
    "    y = df_opt1_05[\"time (sec)\"],\n",
    "    name=\"optimization 1, threshold=0.5\",\n",
    "    line = dict(color='firebrick',dash='dash')\n",
    "))\n",
    "\n",
    "\n",
    "# 5. df_opt2_05\n",
    "fig.add_trace(go.Scatter(\n",
    "    x = df_opt2_05[\"k\"],\n",
    "    y = df_opt2_05[\"time (sec)\"],\n",
    "    name=\"optimization 2, threshold=0.5\",\n",
    "    line = dict(color='#00CC96',dash='dash')\n",
    "))\n",
    "\n",
    "fig.update_layout(\n",
    "    title=f\"Experiment times of GraphFrames implementations for threshold=0.8 and threshold=0.5 | Normal Distribution\",\n",
    "    xaxis_title=\"k\",\n",
    "    yaxis_title=\"time (sec)\",\n",
    ")\n",
    "\n",
    "fig.update_xaxes(type=\"log\")\n",
    "\n",
    "fig.show()"
   ]
  },
  {
   "cell_type": "code",
   "execution_count": 56,
   "id": "least-system",
   "metadata": {},
   "outputs": [
    {
     "data": {
      "application/vnd.plotly.v1+json": {
       "config": {
        "plotlyServerURL": "https://plot.ly"
       },
       "data": [
        {
         "name": "baseline",
         "type": "scatter",
         "x": [
          100,
          1000,
          10000
         ],
         "y": [
          696.673889875412,
          734.6965224742889,
          791.7715582847595
         ]
        },
        {
         "line": {
          "color": "firebrick"
         },
         "name": "optimization 1, threshold=0.8",
         "type": "scatter",
         "x": [
          100,
          1000,
          10000
         ],
         "y": [
          634.0738084316254,
          707.041615486145,
          975.3380653858184
         ]
        },
        {
         "line": {
          "color": "#00CC96"
         },
         "name": "optimization 2, threshold=0.8",
         "type": "scatter",
         "x": [
          100,
          1000,
          10000
         ],
         "y": [
          529.030965089798,
          648.8940119743347,
          944.360522031784
         ]
        },
        {
         "line": {
          "color": "firebrick",
          "dash": "dash"
         },
         "name": "optimization 1, threshold=0.5",
         "type": "scatter",
         "x": [
          100,
          1000,
          10000
         ],
         "y": [
          612.6360807418823,
          601.980574131012,
          631.1079804897308
         ]
        },
        {
         "line": {
          "color": "#00CC96",
          "dash": "dash"
         },
         "name": "optimization 2, threshold=0.5",
         "type": "scatter",
         "x": [
          100,
          1000,
          10000
         ],
         "y": [
          509.0340631008148,
          593.5640158653259,
          618.9584267139435
         ]
        }
       ],
       "layout": {
        "template": {
         "data": {
          "bar": [
           {
            "error_x": {
             "color": "#2a3f5f"
            },
            "error_y": {
             "color": "#2a3f5f"
            },
            "marker": {
             "line": {
              "color": "#E5ECF6",
              "width": 0.5
             }
            },
            "type": "bar"
           }
          ],
          "barpolar": [
           {
            "marker": {
             "line": {
              "color": "#E5ECF6",
              "width": 0.5
             }
            },
            "type": "barpolar"
           }
          ],
          "carpet": [
           {
            "aaxis": {
             "endlinecolor": "#2a3f5f",
             "gridcolor": "white",
             "linecolor": "white",
             "minorgridcolor": "white",
             "startlinecolor": "#2a3f5f"
            },
            "baxis": {
             "endlinecolor": "#2a3f5f",
             "gridcolor": "white",
             "linecolor": "white",
             "minorgridcolor": "white",
             "startlinecolor": "#2a3f5f"
            },
            "type": "carpet"
           }
          ],
          "choropleth": [
           {
            "colorbar": {
             "outlinewidth": 0,
             "ticks": ""
            },
            "type": "choropleth"
           }
          ],
          "contour": [
           {
            "colorbar": {
             "outlinewidth": 0,
             "ticks": ""
            },
            "colorscale": [
             [
              0,
              "#0d0887"
             ],
             [
              0.1111111111111111,
              "#46039f"
             ],
             [
              0.2222222222222222,
              "#7201a8"
             ],
             [
              0.3333333333333333,
              "#9c179e"
             ],
             [
              0.4444444444444444,
              "#bd3786"
             ],
             [
              0.5555555555555556,
              "#d8576b"
             ],
             [
              0.6666666666666666,
              "#ed7953"
             ],
             [
              0.7777777777777778,
              "#fb9f3a"
             ],
             [
              0.8888888888888888,
              "#fdca26"
             ],
             [
              1,
              "#f0f921"
             ]
            ],
            "type": "contour"
           }
          ],
          "contourcarpet": [
           {
            "colorbar": {
             "outlinewidth": 0,
             "ticks": ""
            },
            "type": "contourcarpet"
           }
          ],
          "heatmap": [
           {
            "colorbar": {
             "outlinewidth": 0,
             "ticks": ""
            },
            "colorscale": [
             [
              0,
              "#0d0887"
             ],
             [
              0.1111111111111111,
              "#46039f"
             ],
             [
              0.2222222222222222,
              "#7201a8"
             ],
             [
              0.3333333333333333,
              "#9c179e"
             ],
             [
              0.4444444444444444,
              "#bd3786"
             ],
             [
              0.5555555555555556,
              "#d8576b"
             ],
             [
              0.6666666666666666,
              "#ed7953"
             ],
             [
              0.7777777777777778,
              "#fb9f3a"
             ],
             [
              0.8888888888888888,
              "#fdca26"
             ],
             [
              1,
              "#f0f921"
             ]
            ],
            "type": "heatmap"
           }
          ],
          "heatmapgl": [
           {
            "colorbar": {
             "outlinewidth": 0,
             "ticks": ""
            },
            "colorscale": [
             [
              0,
              "#0d0887"
             ],
             [
              0.1111111111111111,
              "#46039f"
             ],
             [
              0.2222222222222222,
              "#7201a8"
             ],
             [
              0.3333333333333333,
              "#9c179e"
             ],
             [
              0.4444444444444444,
              "#bd3786"
             ],
             [
              0.5555555555555556,
              "#d8576b"
             ],
             [
              0.6666666666666666,
              "#ed7953"
             ],
             [
              0.7777777777777778,
              "#fb9f3a"
             ],
             [
              0.8888888888888888,
              "#fdca26"
             ],
             [
              1,
              "#f0f921"
             ]
            ],
            "type": "heatmapgl"
           }
          ],
          "histogram": [
           {
            "marker": {
             "colorbar": {
              "outlinewidth": 0,
              "ticks": ""
             }
            },
            "type": "histogram"
           }
          ],
          "histogram2d": [
           {
            "colorbar": {
             "outlinewidth": 0,
             "ticks": ""
            },
            "colorscale": [
             [
              0,
              "#0d0887"
             ],
             [
              0.1111111111111111,
              "#46039f"
             ],
             [
              0.2222222222222222,
              "#7201a8"
             ],
             [
              0.3333333333333333,
              "#9c179e"
             ],
             [
              0.4444444444444444,
              "#bd3786"
             ],
             [
              0.5555555555555556,
              "#d8576b"
             ],
             [
              0.6666666666666666,
              "#ed7953"
             ],
             [
              0.7777777777777778,
              "#fb9f3a"
             ],
             [
              0.8888888888888888,
              "#fdca26"
             ],
             [
              1,
              "#f0f921"
             ]
            ],
            "type": "histogram2d"
           }
          ],
          "histogram2dcontour": [
           {
            "colorbar": {
             "outlinewidth": 0,
             "ticks": ""
            },
            "colorscale": [
             [
              0,
              "#0d0887"
             ],
             [
              0.1111111111111111,
              "#46039f"
             ],
             [
              0.2222222222222222,
              "#7201a8"
             ],
             [
              0.3333333333333333,
              "#9c179e"
             ],
             [
              0.4444444444444444,
              "#bd3786"
             ],
             [
              0.5555555555555556,
              "#d8576b"
             ],
             [
              0.6666666666666666,
              "#ed7953"
             ],
             [
              0.7777777777777778,
              "#fb9f3a"
             ],
             [
              0.8888888888888888,
              "#fdca26"
             ],
             [
              1,
              "#f0f921"
             ]
            ],
            "type": "histogram2dcontour"
           }
          ],
          "mesh3d": [
           {
            "colorbar": {
             "outlinewidth": 0,
             "ticks": ""
            },
            "type": "mesh3d"
           }
          ],
          "parcoords": [
           {
            "line": {
             "colorbar": {
              "outlinewidth": 0,
              "ticks": ""
             }
            },
            "type": "parcoords"
           }
          ],
          "pie": [
           {
            "automargin": true,
            "type": "pie"
           }
          ],
          "scatter": [
           {
            "marker": {
             "colorbar": {
              "outlinewidth": 0,
              "ticks": ""
             }
            },
            "type": "scatter"
           }
          ],
          "scatter3d": [
           {
            "line": {
             "colorbar": {
              "outlinewidth": 0,
              "ticks": ""
             }
            },
            "marker": {
             "colorbar": {
              "outlinewidth": 0,
              "ticks": ""
             }
            },
            "type": "scatter3d"
           }
          ],
          "scattercarpet": [
           {
            "marker": {
             "colorbar": {
              "outlinewidth": 0,
              "ticks": ""
             }
            },
            "type": "scattercarpet"
           }
          ],
          "scattergeo": [
           {
            "marker": {
             "colorbar": {
              "outlinewidth": 0,
              "ticks": ""
             }
            },
            "type": "scattergeo"
           }
          ],
          "scattergl": [
           {
            "marker": {
             "colorbar": {
              "outlinewidth": 0,
              "ticks": ""
             }
            },
            "type": "scattergl"
           }
          ],
          "scattermapbox": [
           {
            "marker": {
             "colorbar": {
              "outlinewidth": 0,
              "ticks": ""
             }
            },
            "type": "scattermapbox"
           }
          ],
          "scatterpolar": [
           {
            "marker": {
             "colorbar": {
              "outlinewidth": 0,
              "ticks": ""
             }
            },
            "type": "scatterpolar"
           }
          ],
          "scatterpolargl": [
           {
            "marker": {
             "colorbar": {
              "outlinewidth": 0,
              "ticks": ""
             }
            },
            "type": "scatterpolargl"
           }
          ],
          "scatterternary": [
           {
            "marker": {
             "colorbar": {
              "outlinewidth": 0,
              "ticks": ""
             }
            },
            "type": "scatterternary"
           }
          ],
          "surface": [
           {
            "colorbar": {
             "outlinewidth": 0,
             "ticks": ""
            },
            "colorscale": [
             [
              0,
              "#0d0887"
             ],
             [
              0.1111111111111111,
              "#46039f"
             ],
             [
              0.2222222222222222,
              "#7201a8"
             ],
             [
              0.3333333333333333,
              "#9c179e"
             ],
             [
              0.4444444444444444,
              "#bd3786"
             ],
             [
              0.5555555555555556,
              "#d8576b"
             ],
             [
              0.6666666666666666,
              "#ed7953"
             ],
             [
              0.7777777777777778,
              "#fb9f3a"
             ],
             [
              0.8888888888888888,
              "#fdca26"
             ],
             [
              1,
              "#f0f921"
             ]
            ],
            "type": "surface"
           }
          ],
          "table": [
           {
            "cells": {
             "fill": {
              "color": "#EBF0F8"
             },
             "line": {
              "color": "white"
             }
            },
            "header": {
             "fill": {
              "color": "#C8D4E3"
             },
             "line": {
              "color": "white"
             }
            },
            "type": "table"
           }
          ]
         },
         "layout": {
          "annotationdefaults": {
           "arrowcolor": "#2a3f5f",
           "arrowhead": 0,
           "arrowwidth": 1
          },
          "coloraxis": {
           "colorbar": {
            "outlinewidth": 0,
            "ticks": ""
           }
          },
          "colorscale": {
           "diverging": [
            [
             0,
             "#8e0152"
            ],
            [
             0.1,
             "#c51b7d"
            ],
            [
             0.2,
             "#de77ae"
            ],
            [
             0.3,
             "#f1b6da"
            ],
            [
             0.4,
             "#fde0ef"
            ],
            [
             0.5,
             "#f7f7f7"
            ],
            [
             0.6,
             "#e6f5d0"
            ],
            [
             0.7,
             "#b8e186"
            ],
            [
             0.8,
             "#7fbc41"
            ],
            [
             0.9,
             "#4d9221"
            ],
            [
             1,
             "#276419"
            ]
           ],
           "sequential": [
            [
             0,
             "#0d0887"
            ],
            [
             0.1111111111111111,
             "#46039f"
            ],
            [
             0.2222222222222222,
             "#7201a8"
            ],
            [
             0.3333333333333333,
             "#9c179e"
            ],
            [
             0.4444444444444444,
             "#bd3786"
            ],
            [
             0.5555555555555556,
             "#d8576b"
            ],
            [
             0.6666666666666666,
             "#ed7953"
            ],
            [
             0.7777777777777778,
             "#fb9f3a"
            ],
            [
             0.8888888888888888,
             "#fdca26"
            ],
            [
             1,
             "#f0f921"
            ]
           ],
           "sequentialminus": [
            [
             0,
             "#0d0887"
            ],
            [
             0.1111111111111111,
             "#46039f"
            ],
            [
             0.2222222222222222,
             "#7201a8"
            ],
            [
             0.3333333333333333,
             "#9c179e"
            ],
            [
             0.4444444444444444,
             "#bd3786"
            ],
            [
             0.5555555555555556,
             "#d8576b"
            ],
            [
             0.6666666666666666,
             "#ed7953"
            ],
            [
             0.7777777777777778,
             "#fb9f3a"
            ],
            [
             0.8888888888888888,
             "#fdca26"
            ],
            [
             1,
             "#f0f921"
            ]
           ]
          },
          "colorway": [
           "#636efa",
           "#EF553B",
           "#00cc96",
           "#ab63fa",
           "#FFA15A",
           "#19d3f3",
           "#FF6692",
           "#B6E880",
           "#FF97FF",
           "#FECB52"
          ],
          "font": {
           "color": "#2a3f5f"
          },
          "geo": {
           "bgcolor": "white",
           "lakecolor": "white",
           "landcolor": "#E5ECF6",
           "showlakes": true,
           "showland": true,
           "subunitcolor": "white"
          },
          "hoverlabel": {
           "align": "left"
          },
          "hovermode": "closest",
          "mapbox": {
           "style": "light"
          },
          "paper_bgcolor": "white",
          "plot_bgcolor": "#E5ECF6",
          "polar": {
           "angularaxis": {
            "gridcolor": "white",
            "linecolor": "white",
            "ticks": ""
           },
           "bgcolor": "#E5ECF6",
           "radialaxis": {
            "gridcolor": "white",
            "linecolor": "white",
            "ticks": ""
           }
          },
          "scene": {
           "xaxis": {
            "backgroundcolor": "#E5ECF6",
            "gridcolor": "white",
            "gridwidth": 2,
            "linecolor": "white",
            "showbackground": true,
            "ticks": "",
            "zerolinecolor": "white"
           },
           "yaxis": {
            "backgroundcolor": "#E5ECF6",
            "gridcolor": "white",
            "gridwidth": 2,
            "linecolor": "white",
            "showbackground": true,
            "ticks": "",
            "zerolinecolor": "white"
           },
           "zaxis": {
            "backgroundcolor": "#E5ECF6",
            "gridcolor": "white",
            "gridwidth": 2,
            "linecolor": "white",
            "showbackground": true,
            "ticks": "",
            "zerolinecolor": "white"
           }
          },
          "shapedefaults": {
           "line": {
            "color": "#2a3f5f"
           }
          },
          "ternary": {
           "aaxis": {
            "gridcolor": "white",
            "linecolor": "white",
            "ticks": ""
           },
           "baxis": {
            "gridcolor": "white",
            "linecolor": "white",
            "ticks": ""
           },
           "bgcolor": "#E5ECF6",
           "caxis": {
            "gridcolor": "white",
            "linecolor": "white",
            "ticks": ""
           }
          },
          "title": {
           "x": 0.05
          },
          "xaxis": {
           "automargin": true,
           "gridcolor": "white",
           "linecolor": "white",
           "ticks": "",
           "title": {
            "standoff": 15
           },
           "zerolinecolor": "white",
           "zerolinewidth": 2
          },
          "yaxis": {
           "automargin": true,
           "gridcolor": "white",
           "linecolor": "white",
           "ticks": "",
           "title": {
            "standoff": 15
           },
           "zerolinecolor": "white",
           "zerolinewidth": 2
          }
         }
        },
        "title": {
         "text": "Experiment times of RDD implementations for threshold=0.8 and threshold=0.5 | Normal Distribution"
        },
        "xaxis": {
         "title": {
          "text": "k"
         },
         "type": "log"
        },
        "yaxis": {
         "title": {
          "text": "time (sec)"
         }
        }
       }
      },
      "text/html": [
       "<div>                            <div id=\"8435edf2-4c9c-4886-b838-82300ffc1c56\" class=\"plotly-graph-div\" style=\"height:525px; width:100%;\"></div>            <script type=\"text/javascript\">                require([\"plotly\"], function(Plotly) {                    window.PLOTLYENV=window.PLOTLYENV || {};                                    if (document.getElementById(\"8435edf2-4c9c-4886-b838-82300ffc1c56\")) {                    Plotly.newPlot(                        \"8435edf2-4c9c-4886-b838-82300ffc1c56\",                        [{\"name\": \"baseline\", \"type\": \"scatter\", \"x\": [100, 1000, 10000], \"y\": [696.673889875412, 734.6965224742889, 791.7715582847595]}, {\"line\": {\"color\": \"firebrick\"}, \"name\": \"optimization 1, threshold=0.8\", \"type\": \"scatter\", \"x\": [100, 1000, 10000], \"y\": [634.0738084316254, 707.041615486145, 975.3380653858184]}, {\"line\": {\"color\": \"#00CC96\"}, \"name\": \"optimization 2, threshold=0.8\", \"type\": \"scatter\", \"x\": [100, 1000, 10000], \"y\": [529.030965089798, 648.8940119743347, 944.360522031784]}, {\"line\": {\"color\": \"firebrick\", \"dash\": \"dash\"}, \"name\": \"optimization 1, threshold=0.5\", \"type\": \"scatter\", \"x\": [100, 1000, 10000], \"y\": [612.6360807418823, 601.980574131012, 631.1079804897308]}, {\"line\": {\"color\": \"#00CC96\", \"dash\": \"dash\"}, \"name\": \"optimization 2, threshold=0.5\", \"type\": \"scatter\", \"x\": [100, 1000, 10000], \"y\": [509.0340631008148, 593.5640158653259, 618.9584267139435]}],                        {\"template\": {\"data\": {\"bar\": [{\"error_x\": {\"color\": \"#2a3f5f\"}, \"error_y\": {\"color\": \"#2a3f5f\"}, \"marker\": {\"line\": {\"color\": \"#E5ECF6\", \"width\": 0.5}}, \"type\": \"bar\"}], \"barpolar\": [{\"marker\": {\"line\": {\"color\": \"#E5ECF6\", \"width\": 0.5}}, \"type\": \"barpolar\"}], \"carpet\": [{\"aaxis\": {\"endlinecolor\": \"#2a3f5f\", \"gridcolor\": \"white\", \"linecolor\": \"white\", \"minorgridcolor\": \"white\", \"startlinecolor\": \"#2a3f5f\"}, \"baxis\": {\"endlinecolor\": \"#2a3f5f\", \"gridcolor\": \"white\", \"linecolor\": \"white\", \"minorgridcolor\": \"white\", \"startlinecolor\": \"#2a3f5f\"}, \"type\": \"carpet\"}], \"choropleth\": [{\"colorbar\": {\"outlinewidth\": 0, \"ticks\": \"\"}, \"type\": \"choropleth\"}], \"contour\": [{\"colorbar\": {\"outlinewidth\": 0, \"ticks\": \"\"}, \"colorscale\": [[0.0, \"#0d0887\"], [0.1111111111111111, \"#46039f\"], [0.2222222222222222, \"#7201a8\"], [0.3333333333333333, \"#9c179e\"], [0.4444444444444444, \"#bd3786\"], [0.5555555555555556, \"#d8576b\"], [0.6666666666666666, \"#ed7953\"], [0.7777777777777778, \"#fb9f3a\"], [0.8888888888888888, \"#fdca26\"], [1.0, \"#f0f921\"]], \"type\": \"contour\"}], \"contourcarpet\": [{\"colorbar\": {\"outlinewidth\": 0, \"ticks\": \"\"}, \"type\": \"contourcarpet\"}], \"heatmap\": [{\"colorbar\": {\"outlinewidth\": 0, \"ticks\": \"\"}, \"colorscale\": [[0.0, \"#0d0887\"], [0.1111111111111111, \"#46039f\"], [0.2222222222222222, \"#7201a8\"], [0.3333333333333333, \"#9c179e\"], [0.4444444444444444, \"#bd3786\"], [0.5555555555555556, \"#d8576b\"], [0.6666666666666666, \"#ed7953\"], [0.7777777777777778, \"#fb9f3a\"], [0.8888888888888888, \"#fdca26\"], [1.0, \"#f0f921\"]], \"type\": \"heatmap\"}], \"heatmapgl\": [{\"colorbar\": {\"outlinewidth\": 0, \"ticks\": \"\"}, \"colorscale\": [[0.0, \"#0d0887\"], [0.1111111111111111, \"#46039f\"], [0.2222222222222222, \"#7201a8\"], [0.3333333333333333, \"#9c179e\"], [0.4444444444444444, \"#bd3786\"], [0.5555555555555556, \"#d8576b\"], [0.6666666666666666, \"#ed7953\"], [0.7777777777777778, \"#fb9f3a\"], [0.8888888888888888, \"#fdca26\"], [1.0, \"#f0f921\"]], \"type\": \"heatmapgl\"}], \"histogram\": [{\"marker\": {\"colorbar\": {\"outlinewidth\": 0, \"ticks\": \"\"}}, \"type\": \"histogram\"}], \"histogram2d\": [{\"colorbar\": {\"outlinewidth\": 0, \"ticks\": \"\"}, \"colorscale\": [[0.0, \"#0d0887\"], [0.1111111111111111, \"#46039f\"], [0.2222222222222222, \"#7201a8\"], [0.3333333333333333, \"#9c179e\"], [0.4444444444444444, \"#bd3786\"], [0.5555555555555556, \"#d8576b\"], [0.6666666666666666, \"#ed7953\"], [0.7777777777777778, \"#fb9f3a\"], [0.8888888888888888, \"#fdca26\"], [1.0, \"#f0f921\"]], \"type\": \"histogram2d\"}], \"histogram2dcontour\": [{\"colorbar\": {\"outlinewidth\": 0, \"ticks\": \"\"}, \"colorscale\": [[0.0, \"#0d0887\"], [0.1111111111111111, \"#46039f\"], [0.2222222222222222, \"#7201a8\"], [0.3333333333333333, \"#9c179e\"], [0.4444444444444444, \"#bd3786\"], [0.5555555555555556, \"#d8576b\"], [0.6666666666666666, \"#ed7953\"], [0.7777777777777778, \"#fb9f3a\"], [0.8888888888888888, \"#fdca26\"], [1.0, \"#f0f921\"]], \"type\": \"histogram2dcontour\"}], \"mesh3d\": [{\"colorbar\": {\"outlinewidth\": 0, \"ticks\": \"\"}, \"type\": \"mesh3d\"}], \"parcoords\": [{\"line\": {\"colorbar\": {\"outlinewidth\": 0, \"ticks\": \"\"}}, \"type\": \"parcoords\"}], \"pie\": [{\"automargin\": true, \"type\": \"pie\"}], \"scatter\": [{\"marker\": {\"colorbar\": {\"outlinewidth\": 0, \"ticks\": \"\"}}, \"type\": \"scatter\"}], \"scatter3d\": [{\"line\": {\"colorbar\": {\"outlinewidth\": 0, \"ticks\": \"\"}}, \"marker\": {\"colorbar\": {\"outlinewidth\": 0, \"ticks\": \"\"}}, \"type\": \"scatter3d\"}], \"scattercarpet\": [{\"marker\": {\"colorbar\": {\"outlinewidth\": 0, \"ticks\": \"\"}}, \"type\": \"scattercarpet\"}], \"scattergeo\": [{\"marker\": {\"colorbar\": {\"outlinewidth\": 0, \"ticks\": \"\"}}, \"type\": \"scattergeo\"}], \"scattergl\": [{\"marker\": {\"colorbar\": {\"outlinewidth\": 0, \"ticks\": \"\"}}, \"type\": \"scattergl\"}], \"scattermapbox\": [{\"marker\": {\"colorbar\": {\"outlinewidth\": 0, \"ticks\": \"\"}}, \"type\": \"scattermapbox\"}], \"scatterpolar\": [{\"marker\": {\"colorbar\": {\"outlinewidth\": 0, \"ticks\": \"\"}}, \"type\": \"scatterpolar\"}], \"scatterpolargl\": [{\"marker\": {\"colorbar\": {\"outlinewidth\": 0, \"ticks\": \"\"}}, \"type\": \"scatterpolargl\"}], \"scatterternary\": [{\"marker\": {\"colorbar\": {\"outlinewidth\": 0, \"ticks\": \"\"}}, \"type\": \"scatterternary\"}], \"surface\": [{\"colorbar\": {\"outlinewidth\": 0, \"ticks\": \"\"}, \"colorscale\": [[0.0, \"#0d0887\"], [0.1111111111111111, \"#46039f\"], [0.2222222222222222, \"#7201a8\"], [0.3333333333333333, \"#9c179e\"], [0.4444444444444444, \"#bd3786\"], [0.5555555555555556, \"#d8576b\"], [0.6666666666666666, \"#ed7953\"], [0.7777777777777778, \"#fb9f3a\"], [0.8888888888888888, \"#fdca26\"], [1.0, \"#f0f921\"]], \"type\": \"surface\"}], \"table\": [{\"cells\": {\"fill\": {\"color\": \"#EBF0F8\"}, \"line\": {\"color\": \"white\"}}, \"header\": {\"fill\": {\"color\": \"#C8D4E3\"}, \"line\": {\"color\": \"white\"}}, \"type\": \"table\"}]}, \"layout\": {\"annotationdefaults\": {\"arrowcolor\": \"#2a3f5f\", \"arrowhead\": 0, \"arrowwidth\": 1}, \"coloraxis\": {\"colorbar\": {\"outlinewidth\": 0, \"ticks\": \"\"}}, \"colorscale\": {\"diverging\": [[0, \"#8e0152\"], [0.1, \"#c51b7d\"], [0.2, \"#de77ae\"], [0.3, \"#f1b6da\"], [0.4, \"#fde0ef\"], [0.5, \"#f7f7f7\"], [0.6, \"#e6f5d0\"], [0.7, \"#b8e186\"], [0.8, \"#7fbc41\"], [0.9, \"#4d9221\"], [1, \"#276419\"]], \"sequential\": [[0.0, \"#0d0887\"], [0.1111111111111111, \"#46039f\"], [0.2222222222222222, \"#7201a8\"], [0.3333333333333333, \"#9c179e\"], [0.4444444444444444, \"#bd3786\"], [0.5555555555555556, \"#d8576b\"], [0.6666666666666666, \"#ed7953\"], [0.7777777777777778, \"#fb9f3a\"], [0.8888888888888888, \"#fdca26\"], [1.0, \"#f0f921\"]], \"sequentialminus\": [[0.0, \"#0d0887\"], [0.1111111111111111, \"#46039f\"], [0.2222222222222222, \"#7201a8\"], [0.3333333333333333, \"#9c179e\"], [0.4444444444444444, \"#bd3786\"], [0.5555555555555556, \"#d8576b\"], [0.6666666666666666, \"#ed7953\"], [0.7777777777777778, \"#fb9f3a\"], [0.8888888888888888, \"#fdca26\"], [1.0, \"#f0f921\"]]}, \"colorway\": [\"#636efa\", \"#EF553B\", \"#00cc96\", \"#ab63fa\", \"#FFA15A\", \"#19d3f3\", \"#FF6692\", \"#B6E880\", \"#FF97FF\", \"#FECB52\"], \"font\": {\"color\": \"#2a3f5f\"}, \"geo\": {\"bgcolor\": \"white\", \"lakecolor\": \"white\", \"landcolor\": \"#E5ECF6\", \"showlakes\": true, \"showland\": true, \"subunitcolor\": \"white\"}, \"hoverlabel\": {\"align\": \"left\"}, \"hovermode\": \"closest\", \"mapbox\": {\"style\": \"light\"}, \"paper_bgcolor\": \"white\", \"plot_bgcolor\": \"#E5ECF6\", \"polar\": {\"angularaxis\": {\"gridcolor\": \"white\", \"linecolor\": \"white\", \"ticks\": \"\"}, \"bgcolor\": \"#E5ECF6\", \"radialaxis\": {\"gridcolor\": \"white\", \"linecolor\": \"white\", \"ticks\": \"\"}}, \"scene\": {\"xaxis\": {\"backgroundcolor\": \"#E5ECF6\", \"gridcolor\": \"white\", \"gridwidth\": 2, \"linecolor\": \"white\", \"showbackground\": true, \"ticks\": \"\", \"zerolinecolor\": \"white\"}, \"yaxis\": {\"backgroundcolor\": \"#E5ECF6\", \"gridcolor\": \"white\", \"gridwidth\": 2, \"linecolor\": \"white\", \"showbackground\": true, \"ticks\": \"\", \"zerolinecolor\": \"white\"}, \"zaxis\": {\"backgroundcolor\": \"#E5ECF6\", \"gridcolor\": \"white\", \"gridwidth\": 2, \"linecolor\": \"white\", \"showbackground\": true, \"ticks\": \"\", \"zerolinecolor\": \"white\"}}, \"shapedefaults\": {\"line\": {\"color\": \"#2a3f5f\"}}, \"ternary\": {\"aaxis\": {\"gridcolor\": \"white\", \"linecolor\": \"white\", \"ticks\": \"\"}, \"baxis\": {\"gridcolor\": \"white\", \"linecolor\": \"white\", \"ticks\": \"\"}, \"bgcolor\": \"#E5ECF6\", \"caxis\": {\"gridcolor\": \"white\", \"linecolor\": \"white\", \"ticks\": \"\"}}, \"title\": {\"x\": 0.05}, \"xaxis\": {\"automargin\": true, \"gridcolor\": \"white\", \"linecolor\": \"white\", \"ticks\": \"\", \"title\": {\"standoff\": 15}, \"zerolinecolor\": \"white\", \"zerolinewidth\": 2}, \"yaxis\": {\"automargin\": true, \"gridcolor\": \"white\", \"linecolor\": \"white\", \"ticks\": \"\", \"title\": {\"standoff\": 15}, \"zerolinecolor\": \"white\", \"zerolinewidth\": 2}}}, \"title\": {\"text\": \"Experiment times of RDD implementations for threshold=0.8 and threshold=0.5 | Normal Distribution\"}, \"xaxis\": {\"title\": {\"text\": \"k\"}, \"type\": \"log\"}, \"yaxis\": {\"title\": {\"text\": \"time (sec)\"}}},                        {\"responsive\": true}                    ).then(function(){\n",
       "                            \n",
       "var gd = document.getElementById('8435edf2-4c9c-4886-b838-82300ffc1c56');\n",
       "var x = new MutationObserver(function (mutations, observer) {{\n",
       "        var display = window.getComputedStyle(gd).display;\n",
       "        if (!display || display === 'none') {{\n",
       "            console.log([gd, 'removed!']);\n",
       "            Plotly.purge(gd);\n",
       "            observer.disconnect();\n",
       "        }}\n",
       "}});\n",
       "\n",
       "// Listen for the removal of the full notebook cells\n",
       "var notebookContainer = gd.closest('#notebook-container');\n",
       "if (notebookContainer) {{\n",
       "    x.observe(notebookContainer, {childList: true});\n",
       "}}\n",
       "\n",
       "// Listen for the clearing of the current output cell\n",
       "var outputEl = gd.closest('.output');\n",
       "if (outputEl) {{\n",
       "    x.observe(outputEl, {childList: true});\n",
       "}}\n",
       "\n",
       "                        })                };                });            </script>        </div>"
      ]
     },
     "metadata": {},
     "output_type": "display_data"
    }
   ],
   "source": [
    "## Compare rdd_fast and rdd_fast_bv\n",
    "# with threshold=0.8 and threshold=0.5 for Normal distribution\n",
    "\n",
    "fig = go.Figure()\n",
    "\n",
    "\n",
    "## --> Extract times:\n",
    "# bs, optimization 1, optimization 2\n",
    "# threshold 0.5, 0.8\n",
    "\n",
    "df_bs_08 = (experiments_df\n",
    "            [(experiments_df[\"cores\"]==8) &\n",
    "             (experiments_df[\"dataset\"]==\"artists_normal\") &             \n",
    "             (experiments_df[\"algorithm\"] == \"rdd_bs\")])\n",
    "\n",
    "df_opt1_08 = (experiments_df\n",
    "            [(experiments_df[\"cores\"]==8) &\n",
    "             (experiments_df[\"dataset\"]==\"artists_normal\") &             \n",
    "             (experiments_df[\"algorithm\"] == \"rdd_fast\")])\n",
    "\n",
    "df_opt2_08 = (experiments_df\n",
    "             [(experiments_df[\"cores\"]==8) &\n",
    "             (experiments_df[\"dataset\"]==\"artists_normal\") &             \n",
    "             (experiments_df[\"algorithm\"] == \"rdd_fast_bv\")])\n",
    "\n",
    "\n",
    "df_opt1_05 = (experiments_threshold_05_df\n",
    "              [experiments_threshold_05_df[\"algorithm\"] == \"rdd_fast\"])\n",
    "\n",
    "\n",
    "df_opt2_05 = (experiments_threshold_05_df\n",
    "              [experiments_threshold_05_df[\"algorithm\"] == \"rdd_fast_bv\"])\n",
    "\n",
    "\n",
    "\n",
    "\n",
    "## Add lines\n",
    "\n",
    "# 1. df_bs_08\n",
    "fig.add_trace(go.Scatter(\n",
    "    x = df_bs_08[\"k\"],\n",
    "    y = df_bs_08[\"time (sec)\"],\n",
    "    name=\"baseline\"\n",
    "))\n",
    "\n",
    "\n",
    "# 2. df_opt1_08\n",
    "fig.add_trace(go.Scatter(\n",
    "    x = df_opt1_08[\"k\"],\n",
    "    y = df_opt1_08[\"time (sec)\"],\n",
    "    name=\"optimization 1, threshold=0.8\",\n",
    "    line = dict(color='firebrick')\n",
    "))\n",
    "\n",
    "# 3. df_opt2_08\n",
    "fig.add_trace(go.Scatter(\n",
    "    x = df_opt2_08[\"k\"],\n",
    "    y = df_opt2_08[\"time (sec)\"],\n",
    "    name=\"optimization 2, threshold=0.8\",\n",
    "    line = dict(color='#00CC96')\n",
    "))\n",
    "\n",
    "\n",
    "# 4. df_opt1_05\n",
    "fig.add_trace(go.Scatter(\n",
    "    x = df_opt1_05[\"k\"],\n",
    "    y = df_opt1_05[\"time (sec)\"],\n",
    "    name=\"optimization 1, threshold=0.5\",\n",
    "    line = dict(color='firebrick',dash='dash')\n",
    "))\n",
    "\n",
    "\n",
    "# 5. df_opt2_05\n",
    "fig.add_trace(go.Scatter(\n",
    "    x = df_opt2_05[\"k\"],\n",
    "    y = df_opt2_05[\"time (sec)\"],\n",
    "    name=\"optimization 2, threshold=0.5\",\n",
    "    line = dict(color='#00CC96',dash='dash')\n",
    "))\n",
    "\n",
    "fig.update_layout(\n",
    "    title=f\"Experiment times of RDD implementations for threshold=0.8 and threshold=0.5 | Normal Distribution\",\n",
    "    xaxis_title=\"k\",\n",
    "    yaxis_title=\"time (sec)\",\n",
    ")\n",
    "\n",
    "fig.update_xaxes(type=\"log\")\n",
    "\n",
    "fig.show()"
   ]
  },
  {
   "cell_type": "markdown",
   "id": "democratic-schedule",
   "metadata": {},
   "source": [
    "## Experiments (k = triangles + 1)"
   ]
  },
  {
   "cell_type": "markdown",
   "id": "noble-sheffield",
   "metadata": {},
   "source": [
    "Compare `optimization 1` and `optimization 2` (with and without broadcast variable)\n"
   ]
  },
  {
   "cell_type": "markdown",
   "id": "impossible-qualification",
   "metadata": {},
   "source": [
    "Αυτά τα πειράματα δεν έτρεξαν λόγω μνήμης.\n",
    "```\n",
    "java.lang.OutOfMemoryError\n",
    "```"
   ]
  },
  {
   "cell_type": "code",
   "execution_count": 98,
   "id": "cordless-somewhere",
   "metadata": {},
   "outputs": [],
   "source": [
    "# experiments_df[(experiments_df[\"cores\"] == 8) &\n",
    "#                (experiments_df[\"algorithm\"] == \"graphframe_bs\")]"
   ]
  },
  {
   "cell_type": "code",
   "execution_count": 99,
   "id": "forty-fitting",
   "metadata": {},
   "outputs": [
    {
     "data": {
      "text/html": [
       "<div>\n",
       "<style scoped>\n",
       "    .dataframe tbody tr th:only-of-type {\n",
       "        vertical-align: middle;\n",
       "    }\n",
       "\n",
       "    .dataframe tbody tr th {\n",
       "        vertical-align: top;\n",
       "    }\n",
       "\n",
       "    .dataframe thead th {\n",
       "        text-align: right;\n",
       "    }\n",
       "</style>\n",
       "<table border=\"1\" class=\"dataframe\">\n",
       "  <thead>\n",
       "    <tr style=\"text-align: right;\">\n",
       "      <th></th>\n",
       "      <th>algorithm</th>\n",
       "      <th>cores</th>\n",
       "      <th>dataset</th>\n",
       "      <th>k</th>\n",
       "      <th>time (sec)</th>\n",
       "      <th>distribution</th>\n",
       "    </tr>\n",
       "  </thead>\n",
       "  <tbody>\n",
       "    <tr>\n",
       "      <th>0</th>\n",
       "      <td>graphframe_fast</td>\n",
       "      <td>8</td>\n",
       "      <td>artists_normal</td>\n",
       "      <td>2300000</td>\n",
       "      <td>495.972560</td>\n",
       "      <td>normal</td>\n",
       "    </tr>\n",
       "    <tr>\n",
       "      <th>1</th>\n",
       "      <td>graphframe_fast_bv</td>\n",
       "      <td>8</td>\n",
       "      <td>artists_normal</td>\n",
       "      <td>2300000</td>\n",
       "      <td>603.951977</td>\n",
       "      <td>normal</td>\n",
       "    </tr>\n",
       "    <tr>\n",
       "      <th>2</th>\n",
       "      <td>rdd_fast</td>\n",
       "      <td>8</td>\n",
       "      <td>artists_normal</td>\n",
       "      <td>2300000</td>\n",
       "      <td>2809.191476</td>\n",
       "      <td>normal</td>\n",
       "    </tr>\n",
       "    <tr>\n",
       "      <th>3</th>\n",
       "      <td>rdd_fast_bv</td>\n",
       "      <td>8</td>\n",
       "      <td>artists_normal</td>\n",
       "      <td>2300000</td>\n",
       "      <td>2392.731071</td>\n",
       "      <td>normal</td>\n",
       "    </tr>\n",
       "    <tr>\n",
       "      <th>4</th>\n",
       "      <td>graphframe_fast</td>\n",
       "      <td>8</td>\n",
       "      <td>artists_uniform</td>\n",
       "      <td>2300000</td>\n",
       "      <td>388.310840</td>\n",
       "      <td>uniform</td>\n",
       "    </tr>\n",
       "    <tr>\n",
       "      <th>5</th>\n",
       "      <td>graphframe_fast_bv</td>\n",
       "      <td>8</td>\n",
       "      <td>artists_uniform</td>\n",
       "      <td>2300000</td>\n",
       "      <td>1151.034513</td>\n",
       "      <td>uniform</td>\n",
       "    </tr>\n",
       "    <tr>\n",
       "      <th>6</th>\n",
       "      <td>rdd_fast</td>\n",
       "      <td>8</td>\n",
       "      <td>artists_uniform</td>\n",
       "      <td>2300000</td>\n",
       "      <td>1752.329388</td>\n",
       "      <td>uniform</td>\n",
       "    </tr>\n",
       "    <tr>\n",
       "      <th>7</th>\n",
       "      <td>rdd_fast_bv</td>\n",
       "      <td>8</td>\n",
       "      <td>artists_uniform</td>\n",
       "      <td>2300000</td>\n",
       "      <td>1583.311131</td>\n",
       "      <td>uniform</td>\n",
       "    </tr>\n",
       "    <tr>\n",
       "      <th>8</th>\n",
       "      <td>graphframe_fast</td>\n",
       "      <td>8</td>\n",
       "      <td>artists_power_law</td>\n",
       "      <td>2300000</td>\n",
       "      <td>356.513438</td>\n",
       "      <td>power_law</td>\n",
       "    </tr>\n",
       "    <tr>\n",
       "      <th>9</th>\n",
       "      <td>graphframe_fast_bv</td>\n",
       "      <td>8</td>\n",
       "      <td>artists_power_law</td>\n",
       "      <td>2300000</td>\n",
       "      <td>1092.251604</td>\n",
       "      <td>power_law</td>\n",
       "    </tr>\n",
       "    <tr>\n",
       "      <th>10</th>\n",
       "      <td>rdd_fast</td>\n",
       "      <td>8</td>\n",
       "      <td>artists_power_law</td>\n",
       "      <td>2300000</td>\n",
       "      <td>1235.505235</td>\n",
       "      <td>power_law</td>\n",
       "    </tr>\n",
       "    <tr>\n",
       "      <th>11</th>\n",
       "      <td>rdd_fast_bv</td>\n",
       "      <td>8</td>\n",
       "      <td>artists_power_law</td>\n",
       "      <td>2300000</td>\n",
       "      <td>1198.138226</td>\n",
       "      <td>power_law</td>\n",
       "    </tr>\n",
       "    <tr>\n",
       "      <th>12</th>\n",
       "      <td>graphframe_bs</td>\n",
       "      <td>8</td>\n",
       "      <td>artists_uniform</td>\n",
       "      <td>2300000</td>\n",
       "      <td>191.203403</td>\n",
       "      <td>uniform</td>\n",
       "    </tr>\n",
       "    <tr>\n",
       "      <th>13</th>\n",
       "      <td>rdd_bs</td>\n",
       "      <td>8</td>\n",
       "      <td>artists_uniform</td>\n",
       "      <td>2300000</td>\n",
       "      <td>658.411500</td>\n",
       "      <td>uniform</td>\n",
       "    </tr>\n",
       "    <tr>\n",
       "      <th>14</th>\n",
       "      <td>graphframe_bs</td>\n",
       "      <td>8</td>\n",
       "      <td>artists_normal</td>\n",
       "      <td>2300000</td>\n",
       "      <td>150.388687</td>\n",
       "      <td>normal</td>\n",
       "    </tr>\n",
       "    <tr>\n",
       "      <th>15</th>\n",
       "      <td>rdd_bs</td>\n",
       "      <td>8</td>\n",
       "      <td>artists_normal</td>\n",
       "      <td>2300000</td>\n",
       "      <td>832.771558</td>\n",
       "      <td>normal</td>\n",
       "    </tr>\n",
       "    <tr>\n",
       "      <th>16</th>\n",
       "      <td>graphframe_bs</td>\n",
       "      <td>8</td>\n",
       "      <td>artists_power_law</td>\n",
       "      <td>2300000</td>\n",
       "      <td>126.027990</td>\n",
       "      <td>power_law</td>\n",
       "    </tr>\n",
       "    <tr>\n",
       "      <th>17</th>\n",
       "      <td>rdd_bs</td>\n",
       "      <td>8</td>\n",
       "      <td>artists_power_law</td>\n",
       "      <td>2300000</td>\n",
       "      <td>671.243295</td>\n",
       "      <td>power_law</td>\n",
       "    </tr>\n",
       "  </tbody>\n",
       "</table>\n",
       "</div>"
      ],
      "text/plain": [
       "             algorithm  cores            dataset        k   time (sec)  \\\n",
       "0      graphframe_fast      8     artists_normal  2300000   495.972560   \n",
       "1   graphframe_fast_bv      8     artists_normal  2300000   603.951977   \n",
       "2             rdd_fast      8     artists_normal  2300000  2809.191476   \n",
       "3          rdd_fast_bv      8     artists_normal  2300000  2392.731071   \n",
       "4      graphframe_fast      8    artists_uniform  2300000   388.310840   \n",
       "5   graphframe_fast_bv      8    artists_uniform  2300000  1151.034513   \n",
       "6             rdd_fast      8    artists_uniform  2300000  1752.329388   \n",
       "7          rdd_fast_bv      8    artists_uniform  2300000  1583.311131   \n",
       "8      graphframe_fast      8  artists_power_law  2300000   356.513438   \n",
       "9   graphframe_fast_bv      8  artists_power_law  2300000  1092.251604   \n",
       "10            rdd_fast      8  artists_power_law  2300000  1235.505235   \n",
       "11         rdd_fast_bv      8  artists_power_law  2300000  1198.138226   \n",
       "12       graphframe_bs      8    artists_uniform  2300000   191.203403   \n",
       "13              rdd_bs      8    artists_uniform  2300000   658.411500   \n",
       "14       graphframe_bs      8     artists_normal  2300000   150.388687   \n",
       "15              rdd_bs      8     artists_normal  2300000   832.771558   \n",
       "16       graphframe_bs      8  artists_power_law  2300000   126.027990   \n",
       "17              rdd_bs      8  artists_power_law  2300000   671.243295   \n",
       "\n",
       "   distribution  \n",
       "0        normal  \n",
       "1        normal  \n",
       "2        normal  \n",
       "3        normal  \n",
       "4       uniform  \n",
       "5       uniform  \n",
       "6       uniform  \n",
       "7       uniform  \n",
       "8     power_law  \n",
       "9     power_law  \n",
       "10    power_law  \n",
       "11    power_law  \n",
       "12      uniform  \n",
       "13      uniform  \n",
       "14       normal  \n",
       "15       normal  \n",
       "16    power_law  \n",
       "17    power_law  "
      ]
     },
     "execution_count": 99,
     "metadata": {},
     "output_type": "execute_result"
    }
   ],
   "source": [
    "experiments_k_large_df"
   ]
  },
  {
   "cell_type": "code",
   "execution_count": 100,
   "id": "successful-progressive",
   "metadata": {},
   "outputs": [
    {
     "data": {
      "application/vnd.plotly.v1+json": {
       "config": {
        "plotlyServerURL": "https://plot.ly"
       },
       "data": [
        {
         "name": "Baseline",
         "type": "bar",
         "x": [
          "uniform",
          "normal",
          "power_law"
         ],
         "y": [
          191.20340251922607,
          150.3886866569519,
          126.0279896259308
         ]
        },
        {
         "name": "Optimization 1",
         "type": "bar",
         "x": [
          "normal",
          "uniform",
          "power_law"
         ],
         "y": [
          495.9725599288941,
          388.3108396530152,
          356.51343846321106
         ]
        },
        {
         "name": "Optimization 2",
         "type": "bar",
         "x": [
          "normal",
          "uniform",
          "power_law"
         ],
         "y": [
          603.9519772529602,
          1151.0345129966736,
          1092.2516040802002
         ]
        }
       ],
       "layout": {
        "template": {
         "data": {
          "bar": [
           {
            "error_x": {
             "color": "#2a3f5f"
            },
            "error_y": {
             "color": "#2a3f5f"
            },
            "marker": {
             "line": {
              "color": "#E5ECF6",
              "width": 0.5
             }
            },
            "type": "bar"
           }
          ],
          "barpolar": [
           {
            "marker": {
             "line": {
              "color": "#E5ECF6",
              "width": 0.5
             }
            },
            "type": "barpolar"
           }
          ],
          "carpet": [
           {
            "aaxis": {
             "endlinecolor": "#2a3f5f",
             "gridcolor": "white",
             "linecolor": "white",
             "minorgridcolor": "white",
             "startlinecolor": "#2a3f5f"
            },
            "baxis": {
             "endlinecolor": "#2a3f5f",
             "gridcolor": "white",
             "linecolor": "white",
             "minorgridcolor": "white",
             "startlinecolor": "#2a3f5f"
            },
            "type": "carpet"
           }
          ],
          "choropleth": [
           {
            "colorbar": {
             "outlinewidth": 0,
             "ticks": ""
            },
            "type": "choropleth"
           }
          ],
          "contour": [
           {
            "colorbar": {
             "outlinewidth": 0,
             "ticks": ""
            },
            "colorscale": [
             [
              0,
              "#0d0887"
             ],
             [
              0.1111111111111111,
              "#46039f"
             ],
             [
              0.2222222222222222,
              "#7201a8"
             ],
             [
              0.3333333333333333,
              "#9c179e"
             ],
             [
              0.4444444444444444,
              "#bd3786"
             ],
             [
              0.5555555555555556,
              "#d8576b"
             ],
             [
              0.6666666666666666,
              "#ed7953"
             ],
             [
              0.7777777777777778,
              "#fb9f3a"
             ],
             [
              0.8888888888888888,
              "#fdca26"
             ],
             [
              1,
              "#f0f921"
             ]
            ],
            "type": "contour"
           }
          ],
          "contourcarpet": [
           {
            "colorbar": {
             "outlinewidth": 0,
             "ticks": ""
            },
            "type": "contourcarpet"
           }
          ],
          "heatmap": [
           {
            "colorbar": {
             "outlinewidth": 0,
             "ticks": ""
            },
            "colorscale": [
             [
              0,
              "#0d0887"
             ],
             [
              0.1111111111111111,
              "#46039f"
             ],
             [
              0.2222222222222222,
              "#7201a8"
             ],
             [
              0.3333333333333333,
              "#9c179e"
             ],
             [
              0.4444444444444444,
              "#bd3786"
             ],
             [
              0.5555555555555556,
              "#d8576b"
             ],
             [
              0.6666666666666666,
              "#ed7953"
             ],
             [
              0.7777777777777778,
              "#fb9f3a"
             ],
             [
              0.8888888888888888,
              "#fdca26"
             ],
             [
              1,
              "#f0f921"
             ]
            ],
            "type": "heatmap"
           }
          ],
          "heatmapgl": [
           {
            "colorbar": {
             "outlinewidth": 0,
             "ticks": ""
            },
            "colorscale": [
             [
              0,
              "#0d0887"
             ],
             [
              0.1111111111111111,
              "#46039f"
             ],
             [
              0.2222222222222222,
              "#7201a8"
             ],
             [
              0.3333333333333333,
              "#9c179e"
             ],
             [
              0.4444444444444444,
              "#bd3786"
             ],
             [
              0.5555555555555556,
              "#d8576b"
             ],
             [
              0.6666666666666666,
              "#ed7953"
             ],
             [
              0.7777777777777778,
              "#fb9f3a"
             ],
             [
              0.8888888888888888,
              "#fdca26"
             ],
             [
              1,
              "#f0f921"
             ]
            ],
            "type": "heatmapgl"
           }
          ],
          "histogram": [
           {
            "marker": {
             "colorbar": {
              "outlinewidth": 0,
              "ticks": ""
             }
            },
            "type": "histogram"
           }
          ],
          "histogram2d": [
           {
            "colorbar": {
             "outlinewidth": 0,
             "ticks": ""
            },
            "colorscale": [
             [
              0,
              "#0d0887"
             ],
             [
              0.1111111111111111,
              "#46039f"
             ],
             [
              0.2222222222222222,
              "#7201a8"
             ],
             [
              0.3333333333333333,
              "#9c179e"
             ],
             [
              0.4444444444444444,
              "#bd3786"
             ],
             [
              0.5555555555555556,
              "#d8576b"
             ],
             [
              0.6666666666666666,
              "#ed7953"
             ],
             [
              0.7777777777777778,
              "#fb9f3a"
             ],
             [
              0.8888888888888888,
              "#fdca26"
             ],
             [
              1,
              "#f0f921"
             ]
            ],
            "type": "histogram2d"
           }
          ],
          "histogram2dcontour": [
           {
            "colorbar": {
             "outlinewidth": 0,
             "ticks": ""
            },
            "colorscale": [
             [
              0,
              "#0d0887"
             ],
             [
              0.1111111111111111,
              "#46039f"
             ],
             [
              0.2222222222222222,
              "#7201a8"
             ],
             [
              0.3333333333333333,
              "#9c179e"
             ],
             [
              0.4444444444444444,
              "#bd3786"
             ],
             [
              0.5555555555555556,
              "#d8576b"
             ],
             [
              0.6666666666666666,
              "#ed7953"
             ],
             [
              0.7777777777777778,
              "#fb9f3a"
             ],
             [
              0.8888888888888888,
              "#fdca26"
             ],
             [
              1,
              "#f0f921"
             ]
            ],
            "type": "histogram2dcontour"
           }
          ],
          "mesh3d": [
           {
            "colorbar": {
             "outlinewidth": 0,
             "ticks": ""
            },
            "type": "mesh3d"
           }
          ],
          "parcoords": [
           {
            "line": {
             "colorbar": {
              "outlinewidth": 0,
              "ticks": ""
             }
            },
            "type": "parcoords"
           }
          ],
          "pie": [
           {
            "automargin": true,
            "type": "pie"
           }
          ],
          "scatter": [
           {
            "marker": {
             "colorbar": {
              "outlinewidth": 0,
              "ticks": ""
             }
            },
            "type": "scatter"
           }
          ],
          "scatter3d": [
           {
            "line": {
             "colorbar": {
              "outlinewidth": 0,
              "ticks": ""
             }
            },
            "marker": {
             "colorbar": {
              "outlinewidth": 0,
              "ticks": ""
             }
            },
            "type": "scatter3d"
           }
          ],
          "scattercarpet": [
           {
            "marker": {
             "colorbar": {
              "outlinewidth": 0,
              "ticks": ""
             }
            },
            "type": "scattercarpet"
           }
          ],
          "scattergeo": [
           {
            "marker": {
             "colorbar": {
              "outlinewidth": 0,
              "ticks": ""
             }
            },
            "type": "scattergeo"
           }
          ],
          "scattergl": [
           {
            "marker": {
             "colorbar": {
              "outlinewidth": 0,
              "ticks": ""
             }
            },
            "type": "scattergl"
           }
          ],
          "scattermapbox": [
           {
            "marker": {
             "colorbar": {
              "outlinewidth": 0,
              "ticks": ""
             }
            },
            "type": "scattermapbox"
           }
          ],
          "scatterpolar": [
           {
            "marker": {
             "colorbar": {
              "outlinewidth": 0,
              "ticks": ""
             }
            },
            "type": "scatterpolar"
           }
          ],
          "scatterpolargl": [
           {
            "marker": {
             "colorbar": {
              "outlinewidth": 0,
              "ticks": ""
             }
            },
            "type": "scatterpolargl"
           }
          ],
          "scatterternary": [
           {
            "marker": {
             "colorbar": {
              "outlinewidth": 0,
              "ticks": ""
             }
            },
            "type": "scatterternary"
           }
          ],
          "surface": [
           {
            "colorbar": {
             "outlinewidth": 0,
             "ticks": ""
            },
            "colorscale": [
             [
              0,
              "#0d0887"
             ],
             [
              0.1111111111111111,
              "#46039f"
             ],
             [
              0.2222222222222222,
              "#7201a8"
             ],
             [
              0.3333333333333333,
              "#9c179e"
             ],
             [
              0.4444444444444444,
              "#bd3786"
             ],
             [
              0.5555555555555556,
              "#d8576b"
             ],
             [
              0.6666666666666666,
              "#ed7953"
             ],
             [
              0.7777777777777778,
              "#fb9f3a"
             ],
             [
              0.8888888888888888,
              "#fdca26"
             ],
             [
              1,
              "#f0f921"
             ]
            ],
            "type": "surface"
           }
          ],
          "table": [
           {
            "cells": {
             "fill": {
              "color": "#EBF0F8"
             },
             "line": {
              "color": "white"
             }
            },
            "header": {
             "fill": {
              "color": "#C8D4E3"
             },
             "line": {
              "color": "white"
             }
            },
            "type": "table"
           }
          ]
         },
         "layout": {
          "annotationdefaults": {
           "arrowcolor": "#2a3f5f",
           "arrowhead": 0,
           "arrowwidth": 1
          },
          "coloraxis": {
           "colorbar": {
            "outlinewidth": 0,
            "ticks": ""
           }
          },
          "colorscale": {
           "diverging": [
            [
             0,
             "#8e0152"
            ],
            [
             0.1,
             "#c51b7d"
            ],
            [
             0.2,
             "#de77ae"
            ],
            [
             0.3,
             "#f1b6da"
            ],
            [
             0.4,
             "#fde0ef"
            ],
            [
             0.5,
             "#f7f7f7"
            ],
            [
             0.6,
             "#e6f5d0"
            ],
            [
             0.7,
             "#b8e186"
            ],
            [
             0.8,
             "#7fbc41"
            ],
            [
             0.9,
             "#4d9221"
            ],
            [
             1,
             "#276419"
            ]
           ],
           "sequential": [
            [
             0,
             "#0d0887"
            ],
            [
             0.1111111111111111,
             "#46039f"
            ],
            [
             0.2222222222222222,
             "#7201a8"
            ],
            [
             0.3333333333333333,
             "#9c179e"
            ],
            [
             0.4444444444444444,
             "#bd3786"
            ],
            [
             0.5555555555555556,
             "#d8576b"
            ],
            [
             0.6666666666666666,
             "#ed7953"
            ],
            [
             0.7777777777777778,
             "#fb9f3a"
            ],
            [
             0.8888888888888888,
             "#fdca26"
            ],
            [
             1,
             "#f0f921"
            ]
           ],
           "sequentialminus": [
            [
             0,
             "#0d0887"
            ],
            [
             0.1111111111111111,
             "#46039f"
            ],
            [
             0.2222222222222222,
             "#7201a8"
            ],
            [
             0.3333333333333333,
             "#9c179e"
            ],
            [
             0.4444444444444444,
             "#bd3786"
            ],
            [
             0.5555555555555556,
             "#d8576b"
            ],
            [
             0.6666666666666666,
             "#ed7953"
            ],
            [
             0.7777777777777778,
             "#fb9f3a"
            ],
            [
             0.8888888888888888,
             "#fdca26"
            ],
            [
             1,
             "#f0f921"
            ]
           ]
          },
          "colorway": [
           "#636efa",
           "#EF553B",
           "#00cc96",
           "#ab63fa",
           "#FFA15A",
           "#19d3f3",
           "#FF6692",
           "#B6E880",
           "#FF97FF",
           "#FECB52"
          ],
          "font": {
           "color": "#2a3f5f"
          },
          "geo": {
           "bgcolor": "white",
           "lakecolor": "white",
           "landcolor": "#E5ECF6",
           "showlakes": true,
           "showland": true,
           "subunitcolor": "white"
          },
          "hoverlabel": {
           "align": "left"
          },
          "hovermode": "closest",
          "mapbox": {
           "style": "light"
          },
          "paper_bgcolor": "white",
          "plot_bgcolor": "#E5ECF6",
          "polar": {
           "angularaxis": {
            "gridcolor": "white",
            "linecolor": "white",
            "ticks": ""
           },
           "bgcolor": "#E5ECF6",
           "radialaxis": {
            "gridcolor": "white",
            "linecolor": "white",
            "ticks": ""
           }
          },
          "scene": {
           "xaxis": {
            "backgroundcolor": "#E5ECF6",
            "gridcolor": "white",
            "gridwidth": 2,
            "linecolor": "white",
            "showbackground": true,
            "ticks": "",
            "zerolinecolor": "white"
           },
           "yaxis": {
            "backgroundcolor": "#E5ECF6",
            "gridcolor": "white",
            "gridwidth": 2,
            "linecolor": "white",
            "showbackground": true,
            "ticks": "",
            "zerolinecolor": "white"
           },
           "zaxis": {
            "backgroundcolor": "#E5ECF6",
            "gridcolor": "white",
            "gridwidth": 2,
            "linecolor": "white",
            "showbackground": true,
            "ticks": "",
            "zerolinecolor": "white"
           }
          },
          "shapedefaults": {
           "line": {
            "color": "#2a3f5f"
           }
          },
          "ternary": {
           "aaxis": {
            "gridcolor": "white",
            "linecolor": "white",
            "ticks": ""
           },
           "baxis": {
            "gridcolor": "white",
            "linecolor": "white",
            "ticks": ""
           },
           "bgcolor": "#E5ECF6",
           "caxis": {
            "gridcolor": "white",
            "linecolor": "white",
            "ticks": ""
           }
          },
          "title": {
           "x": 0.05
          },
          "xaxis": {
           "automargin": true,
           "gridcolor": "white",
           "linecolor": "white",
           "ticks": "",
           "title": {
            "standoff": 15
           },
           "zerolinecolor": "white",
           "zerolinewidth": 2
          },
          "yaxis": {
           "automargin": true,
           "gridcolor": "white",
           "linecolor": "white",
           "ticks": "",
           "title": {
            "standoff": 15
           },
           "zerolinecolor": "white",
           "zerolinewidth": 2
          }
         }
        },
        "title": {
         "text": "Stress test: GraphFrames implementations for k > total number of triangles"
        },
        "xaxis": {
         "title": {
          "text": "distribution"
         }
        },
        "yaxis": {
         "title": {
          "text": "time (sec)"
         }
        }
       }
      },
      "text/html": [
       "<div>                            <div id=\"a7befb34-54d5-47b2-9d39-070aaff18e00\" class=\"plotly-graph-div\" style=\"height:525px; width:100%;\"></div>            <script type=\"text/javascript\">                require([\"plotly\"], function(Plotly) {                    window.PLOTLYENV=window.PLOTLYENV || {};                                    if (document.getElementById(\"a7befb34-54d5-47b2-9d39-070aaff18e00\")) {                    Plotly.newPlot(                        \"a7befb34-54d5-47b2-9d39-070aaff18e00\",                        [{\"name\": \"Baseline\", \"type\": \"bar\", \"x\": [\"uniform\", \"normal\", \"power_law\"], \"y\": [191.20340251922607, 150.3886866569519, 126.0279896259308]}, {\"name\": \"Optimization 1\", \"type\": \"bar\", \"x\": [\"normal\", \"uniform\", \"power_law\"], \"y\": [495.9725599288941, 388.3108396530152, 356.51343846321106]}, {\"name\": \"Optimization 2\", \"type\": \"bar\", \"x\": [\"normal\", \"uniform\", \"power_law\"], \"y\": [603.9519772529602, 1151.0345129966736, 1092.2516040802002]}],                        {\"template\": {\"data\": {\"bar\": [{\"error_x\": {\"color\": \"#2a3f5f\"}, \"error_y\": {\"color\": \"#2a3f5f\"}, \"marker\": {\"line\": {\"color\": \"#E5ECF6\", \"width\": 0.5}}, \"type\": \"bar\"}], \"barpolar\": [{\"marker\": {\"line\": {\"color\": \"#E5ECF6\", \"width\": 0.5}}, \"type\": \"barpolar\"}], \"carpet\": [{\"aaxis\": {\"endlinecolor\": \"#2a3f5f\", \"gridcolor\": \"white\", \"linecolor\": \"white\", \"minorgridcolor\": \"white\", \"startlinecolor\": \"#2a3f5f\"}, \"baxis\": {\"endlinecolor\": \"#2a3f5f\", \"gridcolor\": \"white\", \"linecolor\": \"white\", \"minorgridcolor\": \"white\", \"startlinecolor\": \"#2a3f5f\"}, \"type\": \"carpet\"}], \"choropleth\": [{\"colorbar\": {\"outlinewidth\": 0, \"ticks\": \"\"}, \"type\": \"choropleth\"}], \"contour\": [{\"colorbar\": {\"outlinewidth\": 0, \"ticks\": \"\"}, \"colorscale\": [[0.0, \"#0d0887\"], [0.1111111111111111, \"#46039f\"], [0.2222222222222222, \"#7201a8\"], [0.3333333333333333, \"#9c179e\"], [0.4444444444444444, \"#bd3786\"], [0.5555555555555556, \"#d8576b\"], [0.6666666666666666, \"#ed7953\"], [0.7777777777777778, \"#fb9f3a\"], [0.8888888888888888, \"#fdca26\"], [1.0, \"#f0f921\"]], \"type\": \"contour\"}], \"contourcarpet\": [{\"colorbar\": {\"outlinewidth\": 0, \"ticks\": \"\"}, \"type\": \"contourcarpet\"}], \"heatmap\": [{\"colorbar\": {\"outlinewidth\": 0, \"ticks\": \"\"}, \"colorscale\": [[0.0, \"#0d0887\"], [0.1111111111111111, \"#46039f\"], [0.2222222222222222, \"#7201a8\"], [0.3333333333333333, \"#9c179e\"], [0.4444444444444444, \"#bd3786\"], [0.5555555555555556, \"#d8576b\"], [0.6666666666666666, \"#ed7953\"], [0.7777777777777778, \"#fb9f3a\"], [0.8888888888888888, \"#fdca26\"], [1.0, \"#f0f921\"]], \"type\": \"heatmap\"}], \"heatmapgl\": [{\"colorbar\": {\"outlinewidth\": 0, \"ticks\": \"\"}, \"colorscale\": [[0.0, \"#0d0887\"], [0.1111111111111111, \"#46039f\"], [0.2222222222222222, \"#7201a8\"], [0.3333333333333333, \"#9c179e\"], [0.4444444444444444, \"#bd3786\"], [0.5555555555555556, \"#d8576b\"], [0.6666666666666666, \"#ed7953\"], [0.7777777777777778, \"#fb9f3a\"], [0.8888888888888888, \"#fdca26\"], [1.0, \"#f0f921\"]], \"type\": \"heatmapgl\"}], \"histogram\": [{\"marker\": {\"colorbar\": {\"outlinewidth\": 0, \"ticks\": \"\"}}, \"type\": \"histogram\"}], \"histogram2d\": [{\"colorbar\": {\"outlinewidth\": 0, \"ticks\": \"\"}, \"colorscale\": [[0.0, \"#0d0887\"], [0.1111111111111111, \"#46039f\"], [0.2222222222222222, \"#7201a8\"], [0.3333333333333333, \"#9c179e\"], [0.4444444444444444, \"#bd3786\"], [0.5555555555555556, \"#d8576b\"], [0.6666666666666666, \"#ed7953\"], [0.7777777777777778, \"#fb9f3a\"], [0.8888888888888888, \"#fdca26\"], [1.0, \"#f0f921\"]], \"type\": \"histogram2d\"}], \"histogram2dcontour\": [{\"colorbar\": {\"outlinewidth\": 0, \"ticks\": \"\"}, \"colorscale\": [[0.0, \"#0d0887\"], [0.1111111111111111, \"#46039f\"], [0.2222222222222222, \"#7201a8\"], [0.3333333333333333, \"#9c179e\"], [0.4444444444444444, \"#bd3786\"], [0.5555555555555556, \"#d8576b\"], [0.6666666666666666, \"#ed7953\"], [0.7777777777777778, \"#fb9f3a\"], [0.8888888888888888, \"#fdca26\"], [1.0, \"#f0f921\"]], \"type\": \"histogram2dcontour\"}], \"mesh3d\": [{\"colorbar\": {\"outlinewidth\": 0, \"ticks\": \"\"}, \"type\": \"mesh3d\"}], \"parcoords\": [{\"line\": {\"colorbar\": {\"outlinewidth\": 0, \"ticks\": \"\"}}, \"type\": \"parcoords\"}], \"pie\": [{\"automargin\": true, \"type\": \"pie\"}], \"scatter\": [{\"marker\": {\"colorbar\": {\"outlinewidth\": 0, \"ticks\": \"\"}}, \"type\": \"scatter\"}], \"scatter3d\": [{\"line\": {\"colorbar\": {\"outlinewidth\": 0, \"ticks\": \"\"}}, \"marker\": {\"colorbar\": {\"outlinewidth\": 0, \"ticks\": \"\"}}, \"type\": \"scatter3d\"}], \"scattercarpet\": [{\"marker\": {\"colorbar\": {\"outlinewidth\": 0, \"ticks\": \"\"}}, \"type\": \"scattercarpet\"}], \"scattergeo\": [{\"marker\": {\"colorbar\": {\"outlinewidth\": 0, \"ticks\": \"\"}}, \"type\": \"scattergeo\"}], \"scattergl\": [{\"marker\": {\"colorbar\": {\"outlinewidth\": 0, \"ticks\": \"\"}}, \"type\": \"scattergl\"}], \"scattermapbox\": [{\"marker\": {\"colorbar\": {\"outlinewidth\": 0, \"ticks\": \"\"}}, \"type\": \"scattermapbox\"}], \"scatterpolar\": [{\"marker\": {\"colorbar\": {\"outlinewidth\": 0, \"ticks\": \"\"}}, \"type\": \"scatterpolar\"}], \"scatterpolargl\": [{\"marker\": {\"colorbar\": {\"outlinewidth\": 0, \"ticks\": \"\"}}, \"type\": \"scatterpolargl\"}], \"scatterternary\": [{\"marker\": {\"colorbar\": {\"outlinewidth\": 0, \"ticks\": \"\"}}, \"type\": \"scatterternary\"}], \"surface\": [{\"colorbar\": {\"outlinewidth\": 0, \"ticks\": \"\"}, \"colorscale\": [[0.0, \"#0d0887\"], [0.1111111111111111, \"#46039f\"], [0.2222222222222222, \"#7201a8\"], [0.3333333333333333, \"#9c179e\"], [0.4444444444444444, \"#bd3786\"], [0.5555555555555556, \"#d8576b\"], [0.6666666666666666, \"#ed7953\"], [0.7777777777777778, \"#fb9f3a\"], [0.8888888888888888, \"#fdca26\"], [1.0, \"#f0f921\"]], \"type\": \"surface\"}], \"table\": [{\"cells\": {\"fill\": {\"color\": \"#EBF0F8\"}, \"line\": {\"color\": \"white\"}}, \"header\": {\"fill\": {\"color\": \"#C8D4E3\"}, \"line\": {\"color\": \"white\"}}, \"type\": \"table\"}]}, \"layout\": {\"annotationdefaults\": {\"arrowcolor\": \"#2a3f5f\", \"arrowhead\": 0, \"arrowwidth\": 1}, \"coloraxis\": {\"colorbar\": {\"outlinewidth\": 0, \"ticks\": \"\"}}, \"colorscale\": {\"diverging\": [[0, \"#8e0152\"], [0.1, \"#c51b7d\"], [0.2, \"#de77ae\"], [0.3, \"#f1b6da\"], [0.4, \"#fde0ef\"], [0.5, \"#f7f7f7\"], [0.6, \"#e6f5d0\"], [0.7, \"#b8e186\"], [0.8, \"#7fbc41\"], [0.9, \"#4d9221\"], [1, \"#276419\"]], \"sequential\": [[0.0, \"#0d0887\"], [0.1111111111111111, \"#46039f\"], [0.2222222222222222, \"#7201a8\"], [0.3333333333333333, \"#9c179e\"], [0.4444444444444444, \"#bd3786\"], [0.5555555555555556, \"#d8576b\"], [0.6666666666666666, \"#ed7953\"], [0.7777777777777778, \"#fb9f3a\"], [0.8888888888888888, \"#fdca26\"], [1.0, \"#f0f921\"]], \"sequentialminus\": [[0.0, \"#0d0887\"], [0.1111111111111111, \"#46039f\"], [0.2222222222222222, \"#7201a8\"], [0.3333333333333333, \"#9c179e\"], [0.4444444444444444, \"#bd3786\"], [0.5555555555555556, \"#d8576b\"], [0.6666666666666666, \"#ed7953\"], [0.7777777777777778, \"#fb9f3a\"], [0.8888888888888888, \"#fdca26\"], [1.0, \"#f0f921\"]]}, \"colorway\": [\"#636efa\", \"#EF553B\", \"#00cc96\", \"#ab63fa\", \"#FFA15A\", \"#19d3f3\", \"#FF6692\", \"#B6E880\", \"#FF97FF\", \"#FECB52\"], \"font\": {\"color\": \"#2a3f5f\"}, \"geo\": {\"bgcolor\": \"white\", \"lakecolor\": \"white\", \"landcolor\": \"#E5ECF6\", \"showlakes\": true, \"showland\": true, \"subunitcolor\": \"white\"}, \"hoverlabel\": {\"align\": \"left\"}, \"hovermode\": \"closest\", \"mapbox\": {\"style\": \"light\"}, \"paper_bgcolor\": \"white\", \"plot_bgcolor\": \"#E5ECF6\", \"polar\": {\"angularaxis\": {\"gridcolor\": \"white\", \"linecolor\": \"white\", \"ticks\": \"\"}, \"bgcolor\": \"#E5ECF6\", \"radialaxis\": {\"gridcolor\": \"white\", \"linecolor\": \"white\", \"ticks\": \"\"}}, \"scene\": {\"xaxis\": {\"backgroundcolor\": \"#E5ECF6\", \"gridcolor\": \"white\", \"gridwidth\": 2, \"linecolor\": \"white\", \"showbackground\": true, \"ticks\": \"\", \"zerolinecolor\": \"white\"}, \"yaxis\": {\"backgroundcolor\": \"#E5ECF6\", \"gridcolor\": \"white\", \"gridwidth\": 2, \"linecolor\": \"white\", \"showbackground\": true, \"ticks\": \"\", \"zerolinecolor\": \"white\"}, \"zaxis\": {\"backgroundcolor\": \"#E5ECF6\", \"gridcolor\": \"white\", \"gridwidth\": 2, \"linecolor\": \"white\", \"showbackground\": true, \"ticks\": \"\", \"zerolinecolor\": \"white\"}}, \"shapedefaults\": {\"line\": {\"color\": \"#2a3f5f\"}}, \"ternary\": {\"aaxis\": {\"gridcolor\": \"white\", \"linecolor\": \"white\", \"ticks\": \"\"}, \"baxis\": {\"gridcolor\": \"white\", \"linecolor\": \"white\", \"ticks\": \"\"}, \"bgcolor\": \"#E5ECF6\", \"caxis\": {\"gridcolor\": \"white\", \"linecolor\": \"white\", \"ticks\": \"\"}}, \"title\": {\"x\": 0.05}, \"xaxis\": {\"automargin\": true, \"gridcolor\": \"white\", \"linecolor\": \"white\", \"ticks\": \"\", \"title\": {\"standoff\": 15}, \"zerolinecolor\": \"white\", \"zerolinewidth\": 2}, \"yaxis\": {\"automargin\": true, \"gridcolor\": \"white\", \"linecolor\": \"white\", \"ticks\": \"\", \"title\": {\"standoff\": 15}, \"zerolinecolor\": \"white\", \"zerolinewidth\": 2}}}, \"title\": {\"text\": \"Stress test: GraphFrames implementations for k > total number of triangles\"}, \"xaxis\": {\"title\": {\"text\": \"distribution\"}}, \"yaxis\": {\"title\": {\"text\": \"time (sec)\"}}},                        {\"responsive\": true}                    ).then(function(){\n",
       "                            \n",
       "var gd = document.getElementById('a7befb34-54d5-47b2-9d39-070aaff18e00');\n",
       "var x = new MutationObserver(function (mutations, observer) {{\n",
       "        var display = window.getComputedStyle(gd).display;\n",
       "        if (!display || display === 'none') {{\n",
       "            console.log([gd, 'removed!']);\n",
       "            Plotly.purge(gd);\n",
       "            observer.disconnect();\n",
       "        }}\n",
       "}});\n",
       "\n",
       "// Listen for the removal of the full notebook cells\n",
       "var notebookContainer = gd.closest('#notebook-container');\n",
       "if (notebookContainer) {{\n",
       "    x.observe(notebookContainer, {childList: true});\n",
       "}}\n",
       "\n",
       "// Listen for the clearing of the current output cell\n",
       "var outputEl = gd.closest('.output');\n",
       "if (outputEl) {{\n",
       "    x.observe(outputEl, {childList: true});\n",
       "}}\n",
       "\n",
       "                        })                };                });            </script>        </div>"
      ]
     },
     "metadata": {},
     "output_type": "display_data"
    }
   ],
   "source": [
    "# Compare baseline implementations for k> total triangles\n",
    "# for Normal distribution\n",
    "\n",
    "fig = go.Figure()\n",
    "\n",
    "\n",
    "## Add Bars\n",
    "\n",
    "# 1. graphframe_bs\n",
    "fig.add_trace(go.Bar(\n",
    "    x = experiments_k_large_df.loc[experiments_k_large_df[\"algorithm\"]==\"graphframe_bs\", \"distribution\"].values,\n",
    "    y = experiments_k_large_df.loc[experiments_k_large_df[\"algorithm\"]==\"graphframe_bs\", \"time (sec)\"].values,\n",
    "    name=\"Baseline\"\n",
    "))\n",
    "\n",
    "\n",
    "# 2. graphframe_fast\n",
    "fig.add_trace(go.Bar(\n",
    "    x = experiments_k_large_df.loc[experiments_k_large_df[\"algorithm\"]==\"graphframe_fast\", \"distribution\"].values,\n",
    "    y = experiments_k_large_df.loc[experiments_k_large_df[\"algorithm\"]==\"graphframe_fast\", \"time (sec)\"].values,\n",
    "    name=\"Optimization 1\"\n",
    "))\n",
    "\n",
    "\n",
    "# 3. graphframe_fast_bv\n",
    "fig.add_trace(go.Bar(\n",
    "    x = experiments_k_large_df.loc[experiments_k_large_df[\"algorithm\"]==\"graphframe_fast_bv\", \"distribution\"].values,\n",
    "    y = experiments_k_large_df.loc[experiments_k_large_df[\"algorithm\"]==\"graphframe_fast_bv\", \"time (sec)\"].values,\n",
    "    name=\"Optimization 2\"\n",
    "))\n",
    "\n",
    "\n",
    "fig.update_layout(\n",
    "    title=f\"Stress test: GraphFrames implementations for k > total number of triangles\",\n",
    "    xaxis_title=\"distribution\",\n",
    "    yaxis_title=\"time (sec)\",\n",
    ")\n",
    "\n",
    "fig.show()"
   ]
  },
  {
   "cell_type": "code",
   "execution_count": 101,
   "id": "automatic-fantasy",
   "metadata": {},
   "outputs": [
    {
     "data": {
      "application/vnd.plotly.v1+json": {
       "config": {
        "plotlyServerURL": "https://plot.ly"
       },
       "data": [
        {
         "name": "Baseline",
         "type": "bar",
         "x": [
          "uniform",
          "normal",
          "power_law"
         ],
         "y": [
          658.4114997386932,
          832.7715582847595,
          671.2432951927185
         ]
        },
        {
         "name": "Optimization 1",
         "type": "bar",
         "x": [
          "normal",
          "uniform",
          "power_law"
         ],
         "y": [
          2809.1914756298065,
          1752.329388380051,
          1235.505234956741
         ]
        },
        {
         "name": "Optimization 2",
         "type": "bar",
         "x": [
          "normal",
          "uniform",
          "power_law"
         ],
         "y": [
          2392.7310712337494,
          1583.311131477356,
          1198.138226032257
         ]
        }
       ],
       "layout": {
        "template": {
         "data": {
          "bar": [
           {
            "error_x": {
             "color": "#2a3f5f"
            },
            "error_y": {
             "color": "#2a3f5f"
            },
            "marker": {
             "line": {
              "color": "#E5ECF6",
              "width": 0.5
             }
            },
            "type": "bar"
           }
          ],
          "barpolar": [
           {
            "marker": {
             "line": {
              "color": "#E5ECF6",
              "width": 0.5
             }
            },
            "type": "barpolar"
           }
          ],
          "carpet": [
           {
            "aaxis": {
             "endlinecolor": "#2a3f5f",
             "gridcolor": "white",
             "linecolor": "white",
             "minorgridcolor": "white",
             "startlinecolor": "#2a3f5f"
            },
            "baxis": {
             "endlinecolor": "#2a3f5f",
             "gridcolor": "white",
             "linecolor": "white",
             "minorgridcolor": "white",
             "startlinecolor": "#2a3f5f"
            },
            "type": "carpet"
           }
          ],
          "choropleth": [
           {
            "colorbar": {
             "outlinewidth": 0,
             "ticks": ""
            },
            "type": "choropleth"
           }
          ],
          "contour": [
           {
            "colorbar": {
             "outlinewidth": 0,
             "ticks": ""
            },
            "colorscale": [
             [
              0,
              "#0d0887"
             ],
             [
              0.1111111111111111,
              "#46039f"
             ],
             [
              0.2222222222222222,
              "#7201a8"
             ],
             [
              0.3333333333333333,
              "#9c179e"
             ],
             [
              0.4444444444444444,
              "#bd3786"
             ],
             [
              0.5555555555555556,
              "#d8576b"
             ],
             [
              0.6666666666666666,
              "#ed7953"
             ],
             [
              0.7777777777777778,
              "#fb9f3a"
             ],
             [
              0.8888888888888888,
              "#fdca26"
             ],
             [
              1,
              "#f0f921"
             ]
            ],
            "type": "contour"
           }
          ],
          "contourcarpet": [
           {
            "colorbar": {
             "outlinewidth": 0,
             "ticks": ""
            },
            "type": "contourcarpet"
           }
          ],
          "heatmap": [
           {
            "colorbar": {
             "outlinewidth": 0,
             "ticks": ""
            },
            "colorscale": [
             [
              0,
              "#0d0887"
             ],
             [
              0.1111111111111111,
              "#46039f"
             ],
             [
              0.2222222222222222,
              "#7201a8"
             ],
             [
              0.3333333333333333,
              "#9c179e"
             ],
             [
              0.4444444444444444,
              "#bd3786"
             ],
             [
              0.5555555555555556,
              "#d8576b"
             ],
             [
              0.6666666666666666,
              "#ed7953"
             ],
             [
              0.7777777777777778,
              "#fb9f3a"
             ],
             [
              0.8888888888888888,
              "#fdca26"
             ],
             [
              1,
              "#f0f921"
             ]
            ],
            "type": "heatmap"
           }
          ],
          "heatmapgl": [
           {
            "colorbar": {
             "outlinewidth": 0,
             "ticks": ""
            },
            "colorscale": [
             [
              0,
              "#0d0887"
             ],
             [
              0.1111111111111111,
              "#46039f"
             ],
             [
              0.2222222222222222,
              "#7201a8"
             ],
             [
              0.3333333333333333,
              "#9c179e"
             ],
             [
              0.4444444444444444,
              "#bd3786"
             ],
             [
              0.5555555555555556,
              "#d8576b"
             ],
             [
              0.6666666666666666,
              "#ed7953"
             ],
             [
              0.7777777777777778,
              "#fb9f3a"
             ],
             [
              0.8888888888888888,
              "#fdca26"
             ],
             [
              1,
              "#f0f921"
             ]
            ],
            "type": "heatmapgl"
           }
          ],
          "histogram": [
           {
            "marker": {
             "colorbar": {
              "outlinewidth": 0,
              "ticks": ""
             }
            },
            "type": "histogram"
           }
          ],
          "histogram2d": [
           {
            "colorbar": {
             "outlinewidth": 0,
             "ticks": ""
            },
            "colorscale": [
             [
              0,
              "#0d0887"
             ],
             [
              0.1111111111111111,
              "#46039f"
             ],
             [
              0.2222222222222222,
              "#7201a8"
             ],
             [
              0.3333333333333333,
              "#9c179e"
             ],
             [
              0.4444444444444444,
              "#bd3786"
             ],
             [
              0.5555555555555556,
              "#d8576b"
             ],
             [
              0.6666666666666666,
              "#ed7953"
             ],
             [
              0.7777777777777778,
              "#fb9f3a"
             ],
             [
              0.8888888888888888,
              "#fdca26"
             ],
             [
              1,
              "#f0f921"
             ]
            ],
            "type": "histogram2d"
           }
          ],
          "histogram2dcontour": [
           {
            "colorbar": {
             "outlinewidth": 0,
             "ticks": ""
            },
            "colorscale": [
             [
              0,
              "#0d0887"
             ],
             [
              0.1111111111111111,
              "#46039f"
             ],
             [
              0.2222222222222222,
              "#7201a8"
             ],
             [
              0.3333333333333333,
              "#9c179e"
             ],
             [
              0.4444444444444444,
              "#bd3786"
             ],
             [
              0.5555555555555556,
              "#d8576b"
             ],
             [
              0.6666666666666666,
              "#ed7953"
             ],
             [
              0.7777777777777778,
              "#fb9f3a"
             ],
             [
              0.8888888888888888,
              "#fdca26"
             ],
             [
              1,
              "#f0f921"
             ]
            ],
            "type": "histogram2dcontour"
           }
          ],
          "mesh3d": [
           {
            "colorbar": {
             "outlinewidth": 0,
             "ticks": ""
            },
            "type": "mesh3d"
           }
          ],
          "parcoords": [
           {
            "line": {
             "colorbar": {
              "outlinewidth": 0,
              "ticks": ""
             }
            },
            "type": "parcoords"
           }
          ],
          "pie": [
           {
            "automargin": true,
            "type": "pie"
           }
          ],
          "scatter": [
           {
            "marker": {
             "colorbar": {
              "outlinewidth": 0,
              "ticks": ""
             }
            },
            "type": "scatter"
           }
          ],
          "scatter3d": [
           {
            "line": {
             "colorbar": {
              "outlinewidth": 0,
              "ticks": ""
             }
            },
            "marker": {
             "colorbar": {
              "outlinewidth": 0,
              "ticks": ""
             }
            },
            "type": "scatter3d"
           }
          ],
          "scattercarpet": [
           {
            "marker": {
             "colorbar": {
              "outlinewidth": 0,
              "ticks": ""
             }
            },
            "type": "scattercarpet"
           }
          ],
          "scattergeo": [
           {
            "marker": {
             "colorbar": {
              "outlinewidth": 0,
              "ticks": ""
             }
            },
            "type": "scattergeo"
           }
          ],
          "scattergl": [
           {
            "marker": {
             "colorbar": {
              "outlinewidth": 0,
              "ticks": ""
             }
            },
            "type": "scattergl"
           }
          ],
          "scattermapbox": [
           {
            "marker": {
             "colorbar": {
              "outlinewidth": 0,
              "ticks": ""
             }
            },
            "type": "scattermapbox"
           }
          ],
          "scatterpolar": [
           {
            "marker": {
             "colorbar": {
              "outlinewidth": 0,
              "ticks": ""
             }
            },
            "type": "scatterpolar"
           }
          ],
          "scatterpolargl": [
           {
            "marker": {
             "colorbar": {
              "outlinewidth": 0,
              "ticks": ""
             }
            },
            "type": "scatterpolargl"
           }
          ],
          "scatterternary": [
           {
            "marker": {
             "colorbar": {
              "outlinewidth": 0,
              "ticks": ""
             }
            },
            "type": "scatterternary"
           }
          ],
          "surface": [
           {
            "colorbar": {
             "outlinewidth": 0,
             "ticks": ""
            },
            "colorscale": [
             [
              0,
              "#0d0887"
             ],
             [
              0.1111111111111111,
              "#46039f"
             ],
             [
              0.2222222222222222,
              "#7201a8"
             ],
             [
              0.3333333333333333,
              "#9c179e"
             ],
             [
              0.4444444444444444,
              "#bd3786"
             ],
             [
              0.5555555555555556,
              "#d8576b"
             ],
             [
              0.6666666666666666,
              "#ed7953"
             ],
             [
              0.7777777777777778,
              "#fb9f3a"
             ],
             [
              0.8888888888888888,
              "#fdca26"
             ],
             [
              1,
              "#f0f921"
             ]
            ],
            "type": "surface"
           }
          ],
          "table": [
           {
            "cells": {
             "fill": {
              "color": "#EBF0F8"
             },
             "line": {
              "color": "white"
             }
            },
            "header": {
             "fill": {
              "color": "#C8D4E3"
             },
             "line": {
              "color": "white"
             }
            },
            "type": "table"
           }
          ]
         },
         "layout": {
          "annotationdefaults": {
           "arrowcolor": "#2a3f5f",
           "arrowhead": 0,
           "arrowwidth": 1
          },
          "coloraxis": {
           "colorbar": {
            "outlinewidth": 0,
            "ticks": ""
           }
          },
          "colorscale": {
           "diverging": [
            [
             0,
             "#8e0152"
            ],
            [
             0.1,
             "#c51b7d"
            ],
            [
             0.2,
             "#de77ae"
            ],
            [
             0.3,
             "#f1b6da"
            ],
            [
             0.4,
             "#fde0ef"
            ],
            [
             0.5,
             "#f7f7f7"
            ],
            [
             0.6,
             "#e6f5d0"
            ],
            [
             0.7,
             "#b8e186"
            ],
            [
             0.8,
             "#7fbc41"
            ],
            [
             0.9,
             "#4d9221"
            ],
            [
             1,
             "#276419"
            ]
           ],
           "sequential": [
            [
             0,
             "#0d0887"
            ],
            [
             0.1111111111111111,
             "#46039f"
            ],
            [
             0.2222222222222222,
             "#7201a8"
            ],
            [
             0.3333333333333333,
             "#9c179e"
            ],
            [
             0.4444444444444444,
             "#bd3786"
            ],
            [
             0.5555555555555556,
             "#d8576b"
            ],
            [
             0.6666666666666666,
             "#ed7953"
            ],
            [
             0.7777777777777778,
             "#fb9f3a"
            ],
            [
             0.8888888888888888,
             "#fdca26"
            ],
            [
             1,
             "#f0f921"
            ]
           ],
           "sequentialminus": [
            [
             0,
             "#0d0887"
            ],
            [
             0.1111111111111111,
             "#46039f"
            ],
            [
             0.2222222222222222,
             "#7201a8"
            ],
            [
             0.3333333333333333,
             "#9c179e"
            ],
            [
             0.4444444444444444,
             "#bd3786"
            ],
            [
             0.5555555555555556,
             "#d8576b"
            ],
            [
             0.6666666666666666,
             "#ed7953"
            ],
            [
             0.7777777777777778,
             "#fb9f3a"
            ],
            [
             0.8888888888888888,
             "#fdca26"
            ],
            [
             1,
             "#f0f921"
            ]
           ]
          },
          "colorway": [
           "#636efa",
           "#EF553B",
           "#00cc96",
           "#ab63fa",
           "#FFA15A",
           "#19d3f3",
           "#FF6692",
           "#B6E880",
           "#FF97FF",
           "#FECB52"
          ],
          "font": {
           "color": "#2a3f5f"
          },
          "geo": {
           "bgcolor": "white",
           "lakecolor": "white",
           "landcolor": "#E5ECF6",
           "showlakes": true,
           "showland": true,
           "subunitcolor": "white"
          },
          "hoverlabel": {
           "align": "left"
          },
          "hovermode": "closest",
          "mapbox": {
           "style": "light"
          },
          "paper_bgcolor": "white",
          "plot_bgcolor": "#E5ECF6",
          "polar": {
           "angularaxis": {
            "gridcolor": "white",
            "linecolor": "white",
            "ticks": ""
           },
           "bgcolor": "#E5ECF6",
           "radialaxis": {
            "gridcolor": "white",
            "linecolor": "white",
            "ticks": ""
           }
          },
          "scene": {
           "xaxis": {
            "backgroundcolor": "#E5ECF6",
            "gridcolor": "white",
            "gridwidth": 2,
            "linecolor": "white",
            "showbackground": true,
            "ticks": "",
            "zerolinecolor": "white"
           },
           "yaxis": {
            "backgroundcolor": "#E5ECF6",
            "gridcolor": "white",
            "gridwidth": 2,
            "linecolor": "white",
            "showbackground": true,
            "ticks": "",
            "zerolinecolor": "white"
           },
           "zaxis": {
            "backgroundcolor": "#E5ECF6",
            "gridcolor": "white",
            "gridwidth": 2,
            "linecolor": "white",
            "showbackground": true,
            "ticks": "",
            "zerolinecolor": "white"
           }
          },
          "shapedefaults": {
           "line": {
            "color": "#2a3f5f"
           }
          },
          "ternary": {
           "aaxis": {
            "gridcolor": "white",
            "linecolor": "white",
            "ticks": ""
           },
           "baxis": {
            "gridcolor": "white",
            "linecolor": "white",
            "ticks": ""
           },
           "bgcolor": "#E5ECF6",
           "caxis": {
            "gridcolor": "white",
            "linecolor": "white",
            "ticks": ""
           }
          },
          "title": {
           "x": 0.05
          },
          "xaxis": {
           "automargin": true,
           "gridcolor": "white",
           "linecolor": "white",
           "ticks": "",
           "title": {
            "standoff": 15
           },
           "zerolinecolor": "white",
           "zerolinewidth": 2
          },
          "yaxis": {
           "automargin": true,
           "gridcolor": "white",
           "linecolor": "white",
           "ticks": "",
           "title": {
            "standoff": 15
           },
           "zerolinecolor": "white",
           "zerolinewidth": 2
          }
         }
        },
        "title": {
         "text": "Stress test: RDD implementations for k > total number of triangles"
        },
        "xaxis": {
         "title": {
          "text": "distribution"
         }
        },
        "yaxis": {
         "title": {
          "text": "time (sec)"
         }
        }
       }
      },
      "text/html": [
       "<div>                            <div id=\"14df5c9a-8feb-4390-9dee-8f4c99310b64\" class=\"plotly-graph-div\" style=\"height:525px; width:100%;\"></div>            <script type=\"text/javascript\">                require([\"plotly\"], function(Plotly) {                    window.PLOTLYENV=window.PLOTLYENV || {};                                    if (document.getElementById(\"14df5c9a-8feb-4390-9dee-8f4c99310b64\")) {                    Plotly.newPlot(                        \"14df5c9a-8feb-4390-9dee-8f4c99310b64\",                        [{\"name\": \"Baseline\", \"type\": \"bar\", \"x\": [\"uniform\", \"normal\", \"power_law\"], \"y\": [658.4114997386932, 832.7715582847595, 671.2432951927185]}, {\"name\": \"Optimization 1\", \"type\": \"bar\", \"x\": [\"normal\", \"uniform\", \"power_law\"], \"y\": [2809.1914756298065, 1752.329388380051, 1235.505234956741]}, {\"name\": \"Optimization 2\", \"type\": \"bar\", \"x\": [\"normal\", \"uniform\", \"power_law\"], \"y\": [2392.7310712337494, 1583.311131477356, 1198.138226032257]}],                        {\"template\": {\"data\": {\"bar\": [{\"error_x\": {\"color\": \"#2a3f5f\"}, \"error_y\": {\"color\": \"#2a3f5f\"}, \"marker\": {\"line\": {\"color\": \"#E5ECF6\", \"width\": 0.5}}, \"type\": \"bar\"}], \"barpolar\": [{\"marker\": {\"line\": {\"color\": \"#E5ECF6\", \"width\": 0.5}}, \"type\": \"barpolar\"}], \"carpet\": [{\"aaxis\": {\"endlinecolor\": \"#2a3f5f\", \"gridcolor\": \"white\", \"linecolor\": \"white\", \"minorgridcolor\": \"white\", \"startlinecolor\": \"#2a3f5f\"}, \"baxis\": {\"endlinecolor\": \"#2a3f5f\", \"gridcolor\": \"white\", \"linecolor\": \"white\", \"minorgridcolor\": \"white\", \"startlinecolor\": \"#2a3f5f\"}, \"type\": \"carpet\"}], \"choropleth\": [{\"colorbar\": {\"outlinewidth\": 0, \"ticks\": \"\"}, \"type\": \"choropleth\"}], \"contour\": [{\"colorbar\": {\"outlinewidth\": 0, \"ticks\": \"\"}, \"colorscale\": [[0.0, \"#0d0887\"], [0.1111111111111111, \"#46039f\"], [0.2222222222222222, \"#7201a8\"], [0.3333333333333333, \"#9c179e\"], [0.4444444444444444, \"#bd3786\"], [0.5555555555555556, \"#d8576b\"], [0.6666666666666666, \"#ed7953\"], [0.7777777777777778, \"#fb9f3a\"], [0.8888888888888888, \"#fdca26\"], [1.0, \"#f0f921\"]], \"type\": \"contour\"}], \"contourcarpet\": [{\"colorbar\": {\"outlinewidth\": 0, \"ticks\": \"\"}, \"type\": \"contourcarpet\"}], \"heatmap\": [{\"colorbar\": {\"outlinewidth\": 0, \"ticks\": \"\"}, \"colorscale\": [[0.0, \"#0d0887\"], [0.1111111111111111, \"#46039f\"], [0.2222222222222222, \"#7201a8\"], [0.3333333333333333, \"#9c179e\"], [0.4444444444444444, \"#bd3786\"], [0.5555555555555556, \"#d8576b\"], [0.6666666666666666, \"#ed7953\"], [0.7777777777777778, \"#fb9f3a\"], [0.8888888888888888, \"#fdca26\"], [1.0, \"#f0f921\"]], \"type\": \"heatmap\"}], \"heatmapgl\": [{\"colorbar\": {\"outlinewidth\": 0, \"ticks\": \"\"}, \"colorscale\": [[0.0, \"#0d0887\"], [0.1111111111111111, \"#46039f\"], [0.2222222222222222, \"#7201a8\"], [0.3333333333333333, \"#9c179e\"], [0.4444444444444444, \"#bd3786\"], [0.5555555555555556, \"#d8576b\"], [0.6666666666666666, \"#ed7953\"], [0.7777777777777778, \"#fb9f3a\"], [0.8888888888888888, \"#fdca26\"], [1.0, \"#f0f921\"]], \"type\": \"heatmapgl\"}], \"histogram\": [{\"marker\": {\"colorbar\": {\"outlinewidth\": 0, \"ticks\": \"\"}}, \"type\": \"histogram\"}], \"histogram2d\": [{\"colorbar\": {\"outlinewidth\": 0, \"ticks\": \"\"}, \"colorscale\": [[0.0, \"#0d0887\"], [0.1111111111111111, \"#46039f\"], [0.2222222222222222, \"#7201a8\"], [0.3333333333333333, \"#9c179e\"], [0.4444444444444444, \"#bd3786\"], [0.5555555555555556, \"#d8576b\"], [0.6666666666666666, \"#ed7953\"], [0.7777777777777778, \"#fb9f3a\"], [0.8888888888888888, \"#fdca26\"], [1.0, \"#f0f921\"]], \"type\": \"histogram2d\"}], \"histogram2dcontour\": [{\"colorbar\": {\"outlinewidth\": 0, \"ticks\": \"\"}, \"colorscale\": [[0.0, \"#0d0887\"], [0.1111111111111111, \"#46039f\"], [0.2222222222222222, \"#7201a8\"], [0.3333333333333333, \"#9c179e\"], [0.4444444444444444, \"#bd3786\"], [0.5555555555555556, \"#d8576b\"], [0.6666666666666666, \"#ed7953\"], [0.7777777777777778, \"#fb9f3a\"], [0.8888888888888888, \"#fdca26\"], [1.0, \"#f0f921\"]], \"type\": \"histogram2dcontour\"}], \"mesh3d\": [{\"colorbar\": {\"outlinewidth\": 0, \"ticks\": \"\"}, \"type\": \"mesh3d\"}], \"parcoords\": [{\"line\": {\"colorbar\": {\"outlinewidth\": 0, \"ticks\": \"\"}}, \"type\": \"parcoords\"}], \"pie\": [{\"automargin\": true, \"type\": \"pie\"}], \"scatter\": [{\"marker\": {\"colorbar\": {\"outlinewidth\": 0, \"ticks\": \"\"}}, \"type\": \"scatter\"}], \"scatter3d\": [{\"line\": {\"colorbar\": {\"outlinewidth\": 0, \"ticks\": \"\"}}, \"marker\": {\"colorbar\": {\"outlinewidth\": 0, \"ticks\": \"\"}}, \"type\": \"scatter3d\"}], \"scattercarpet\": [{\"marker\": {\"colorbar\": {\"outlinewidth\": 0, \"ticks\": \"\"}}, \"type\": \"scattercarpet\"}], \"scattergeo\": [{\"marker\": {\"colorbar\": {\"outlinewidth\": 0, \"ticks\": \"\"}}, \"type\": \"scattergeo\"}], \"scattergl\": [{\"marker\": {\"colorbar\": {\"outlinewidth\": 0, \"ticks\": \"\"}}, \"type\": \"scattergl\"}], \"scattermapbox\": [{\"marker\": {\"colorbar\": {\"outlinewidth\": 0, \"ticks\": \"\"}}, \"type\": \"scattermapbox\"}], \"scatterpolar\": [{\"marker\": {\"colorbar\": {\"outlinewidth\": 0, \"ticks\": \"\"}}, \"type\": \"scatterpolar\"}], \"scatterpolargl\": [{\"marker\": {\"colorbar\": {\"outlinewidth\": 0, \"ticks\": \"\"}}, \"type\": \"scatterpolargl\"}], \"scatterternary\": [{\"marker\": {\"colorbar\": {\"outlinewidth\": 0, \"ticks\": \"\"}}, \"type\": \"scatterternary\"}], \"surface\": [{\"colorbar\": {\"outlinewidth\": 0, \"ticks\": \"\"}, \"colorscale\": [[0.0, \"#0d0887\"], [0.1111111111111111, \"#46039f\"], [0.2222222222222222, \"#7201a8\"], [0.3333333333333333, \"#9c179e\"], [0.4444444444444444, \"#bd3786\"], [0.5555555555555556, \"#d8576b\"], [0.6666666666666666, \"#ed7953\"], [0.7777777777777778, \"#fb9f3a\"], [0.8888888888888888, \"#fdca26\"], [1.0, \"#f0f921\"]], \"type\": \"surface\"}], \"table\": [{\"cells\": {\"fill\": {\"color\": \"#EBF0F8\"}, \"line\": {\"color\": \"white\"}}, \"header\": {\"fill\": {\"color\": \"#C8D4E3\"}, \"line\": {\"color\": \"white\"}}, \"type\": \"table\"}]}, \"layout\": {\"annotationdefaults\": {\"arrowcolor\": \"#2a3f5f\", \"arrowhead\": 0, \"arrowwidth\": 1}, \"coloraxis\": {\"colorbar\": {\"outlinewidth\": 0, \"ticks\": \"\"}}, \"colorscale\": {\"diverging\": [[0, \"#8e0152\"], [0.1, \"#c51b7d\"], [0.2, \"#de77ae\"], [0.3, \"#f1b6da\"], [0.4, \"#fde0ef\"], [0.5, \"#f7f7f7\"], [0.6, \"#e6f5d0\"], [0.7, \"#b8e186\"], [0.8, \"#7fbc41\"], [0.9, \"#4d9221\"], [1, \"#276419\"]], \"sequential\": [[0.0, \"#0d0887\"], [0.1111111111111111, \"#46039f\"], [0.2222222222222222, \"#7201a8\"], [0.3333333333333333, \"#9c179e\"], [0.4444444444444444, \"#bd3786\"], [0.5555555555555556, \"#d8576b\"], [0.6666666666666666, \"#ed7953\"], [0.7777777777777778, \"#fb9f3a\"], [0.8888888888888888, \"#fdca26\"], [1.0, \"#f0f921\"]], \"sequentialminus\": [[0.0, \"#0d0887\"], [0.1111111111111111, \"#46039f\"], [0.2222222222222222, \"#7201a8\"], [0.3333333333333333, \"#9c179e\"], [0.4444444444444444, \"#bd3786\"], [0.5555555555555556, \"#d8576b\"], [0.6666666666666666, \"#ed7953\"], [0.7777777777777778, \"#fb9f3a\"], [0.8888888888888888, \"#fdca26\"], [1.0, \"#f0f921\"]]}, \"colorway\": [\"#636efa\", \"#EF553B\", \"#00cc96\", \"#ab63fa\", \"#FFA15A\", \"#19d3f3\", \"#FF6692\", \"#B6E880\", \"#FF97FF\", \"#FECB52\"], \"font\": {\"color\": \"#2a3f5f\"}, \"geo\": {\"bgcolor\": \"white\", \"lakecolor\": \"white\", \"landcolor\": \"#E5ECF6\", \"showlakes\": true, \"showland\": true, \"subunitcolor\": \"white\"}, \"hoverlabel\": {\"align\": \"left\"}, \"hovermode\": \"closest\", \"mapbox\": {\"style\": \"light\"}, \"paper_bgcolor\": \"white\", \"plot_bgcolor\": \"#E5ECF6\", \"polar\": {\"angularaxis\": {\"gridcolor\": \"white\", \"linecolor\": \"white\", \"ticks\": \"\"}, \"bgcolor\": \"#E5ECF6\", \"radialaxis\": {\"gridcolor\": \"white\", \"linecolor\": \"white\", \"ticks\": \"\"}}, \"scene\": {\"xaxis\": {\"backgroundcolor\": \"#E5ECF6\", \"gridcolor\": \"white\", \"gridwidth\": 2, \"linecolor\": \"white\", \"showbackground\": true, \"ticks\": \"\", \"zerolinecolor\": \"white\"}, \"yaxis\": {\"backgroundcolor\": \"#E5ECF6\", \"gridcolor\": \"white\", \"gridwidth\": 2, \"linecolor\": \"white\", \"showbackground\": true, \"ticks\": \"\", \"zerolinecolor\": \"white\"}, \"zaxis\": {\"backgroundcolor\": \"#E5ECF6\", \"gridcolor\": \"white\", \"gridwidth\": 2, \"linecolor\": \"white\", \"showbackground\": true, \"ticks\": \"\", \"zerolinecolor\": \"white\"}}, \"shapedefaults\": {\"line\": {\"color\": \"#2a3f5f\"}}, \"ternary\": {\"aaxis\": {\"gridcolor\": \"white\", \"linecolor\": \"white\", \"ticks\": \"\"}, \"baxis\": {\"gridcolor\": \"white\", \"linecolor\": \"white\", \"ticks\": \"\"}, \"bgcolor\": \"#E5ECF6\", \"caxis\": {\"gridcolor\": \"white\", \"linecolor\": \"white\", \"ticks\": \"\"}}, \"title\": {\"x\": 0.05}, \"xaxis\": {\"automargin\": true, \"gridcolor\": \"white\", \"linecolor\": \"white\", \"ticks\": \"\", \"title\": {\"standoff\": 15}, \"zerolinecolor\": \"white\", \"zerolinewidth\": 2}, \"yaxis\": {\"automargin\": true, \"gridcolor\": \"white\", \"linecolor\": \"white\", \"ticks\": \"\", \"title\": {\"standoff\": 15}, \"zerolinecolor\": \"white\", \"zerolinewidth\": 2}}}, \"title\": {\"text\": \"Stress test: RDD implementations for k > total number of triangles\"}, \"xaxis\": {\"title\": {\"text\": \"distribution\"}}, \"yaxis\": {\"title\": {\"text\": \"time (sec)\"}}},                        {\"responsive\": true}                    ).then(function(){\n",
       "                            \n",
       "var gd = document.getElementById('14df5c9a-8feb-4390-9dee-8f4c99310b64');\n",
       "var x = new MutationObserver(function (mutations, observer) {{\n",
       "        var display = window.getComputedStyle(gd).display;\n",
       "        if (!display || display === 'none') {{\n",
       "            console.log([gd, 'removed!']);\n",
       "            Plotly.purge(gd);\n",
       "            observer.disconnect();\n",
       "        }}\n",
       "}});\n",
       "\n",
       "// Listen for the removal of the full notebook cells\n",
       "var notebookContainer = gd.closest('#notebook-container');\n",
       "if (notebookContainer) {{\n",
       "    x.observe(notebookContainer, {childList: true});\n",
       "}}\n",
       "\n",
       "// Listen for the clearing of the current output cell\n",
       "var outputEl = gd.closest('.output');\n",
       "if (outputEl) {{\n",
       "    x.observe(outputEl, {childList: true});\n",
       "}}\n",
       "\n",
       "                        })                };                });            </script>        </div>"
      ]
     },
     "metadata": {},
     "output_type": "display_data"
    }
   ],
   "source": [
    "# Compare baseline implementations for k> total triangles\n",
    "# for Normal distribution\n",
    "\n",
    "fig = go.Figure()\n",
    "\n",
    "\n",
    "## Add Bars\n",
    "\n",
    "# 1. graphframe_bs\n",
    "fig.add_trace(go.Bar(\n",
    "    x = experiments_k_large_df.loc[experiments_k_large_df[\"algorithm\"]==\"rdd_bs\", \"distribution\"].values,\n",
    "    y = experiments_k_large_df.loc[experiments_k_large_df[\"algorithm\"]==\"rdd_bs\", \"time (sec)\"].values,\n",
    "    name=\"Baseline\"\n",
    "))\n",
    "\n",
    "\n",
    "# 2. graphframe_fast\n",
    "fig.add_trace(go.Bar(\n",
    "    x = experiments_k_large_df.loc[experiments_k_large_df[\"algorithm\"]==\"rdd_fast\", \"distribution\"].values,\n",
    "    y = experiments_k_large_df.loc[experiments_k_large_df[\"algorithm\"]==\"rdd_fast\", \"time (sec)\"].values,\n",
    "    name=\"Optimization 1\"\n",
    "))\n",
    "\n",
    "\n",
    "# 3. graphframe_fast_bv\n",
    "fig.add_trace(go.Bar(\n",
    "    x = experiments_k_large_df.loc[experiments_k_large_df[\"algorithm\"]==\"rdd_fast_bv\", \"distribution\"].values,\n",
    "    y = experiments_k_large_df.loc[experiments_k_large_df[\"algorithm\"]==\"rdd_fast_bv\", \"time (sec)\"].values,\n",
    "    name=\"Optimization 2\"\n",
    "))\n",
    "\n",
    "\n",
    "fig.update_layout(\n",
    "    title=f\"Stress test: RDD implementations for k > total number of triangles\",\n",
    "    xaxis_title=\"distribution\",\n",
    "    yaxis_title=\"time (sec)\",\n",
    ")\n",
    "\n",
    "fig.show()"
   ]
  },
  {
   "cell_type": "markdown",
   "id": "caroline-millennium",
   "metadata": {},
   "source": [
    "## GraphFrames vs RDD"
   ]
  },
  {
   "cell_type": "code",
   "execution_count": 24,
   "id": "alive-grave",
   "metadata": {},
   "outputs": [
    {
     "data": {
      "application/vnd.plotly.v1+json": {
       "config": {
        "plotlyServerURL": "https://plot.ly"
       },
       "data": [
        {
         "hovertemplate": "algorithm=optimization 1 - GraphFrames<br>distribution=uniform<br>k=%{x}<br>time (sec)=%{y}<extra></extra>",
         "legendgroup": "optimization 1 - GraphFrames",
         "line": {
          "color": "#636efa",
          "dash": "solid"
         },
         "mode": "markers+lines",
         "name": "optimization 1 - GraphFrames",
         "orientation": "v",
         "showlegend": true,
         "type": "scatter",
         "x": [
          100,
          1000,
          10000
         ],
         "xaxis": "x",
         "y": [
          30.66333675384521,
          30.346402883529663,
          54.65762805938721
         ],
         "yaxis": "y"
        },
        {
         "hovertemplate": "algorithm=optimization 1 - GraphFrames<br>distribution=normal<br>k=%{x}<br>time (sec)=%{y}<extra></extra>",
         "legendgroup": "optimization 1 - GraphFrames",
         "line": {
          "color": "#636efa",
          "dash": "solid"
         },
         "mode": "markers+lines",
         "name": "optimization 1 - GraphFrames",
         "orientation": "v",
         "showlegend": false,
         "type": "scatter",
         "x": [
          100,
          1000,
          10000
         ],
         "xaxis": "x2",
         "y": [
          151.72542548179626,
          156.45248651504517,
          161.0106325149536
         ],
         "yaxis": "y2"
        },
        {
         "hovertemplate": "algorithm=optimization 1 - GraphFrames<br>distribution=power_law<br>k=%{x}<br>time (sec)=%{y}<extra></extra>",
         "legendgroup": "optimization 1 - GraphFrames",
         "line": {
          "color": "#636efa",
          "dash": "solid"
         },
         "mode": "markers+lines",
         "name": "optimization 1 - GraphFrames",
         "orientation": "v",
         "showlegend": false,
         "type": "scatter",
         "x": [
          100,
          1000,
          10000
         ],
         "xaxis": "x3",
         "y": [
          31.978121042251587,
          31.58792734146118,
          73.00699543952942
         ],
         "yaxis": "y3"
        },
        {
         "hovertemplate": "algorithm=optimization 1 - RDD<br>distribution=uniform<br>k=%{x}<br>time (sec)=%{y}<extra></extra>",
         "legendgroup": "optimization 1 - RDD",
         "line": {
          "color": "#EF553B",
          "dash": "solid"
         },
         "mode": "markers+lines",
         "name": "optimization 1 - RDD",
         "orientation": "v",
         "showlegend": true,
         "type": "scatter",
         "x": [
          100,
          1000,
          10000
         ],
         "xaxis": "x",
         "y": [
          39.99889254570007,
          40.62188172340393,
          39.82012391090393
         ],
         "yaxis": "y"
        },
        {
         "hovertemplate": "algorithm=optimization 1 - RDD<br>distribution=normal<br>k=%{x}<br>time (sec)=%{y}<extra></extra>",
         "legendgroup": "optimization 1 - RDD",
         "line": {
          "color": "#EF553B",
          "dash": "solid"
         },
         "mode": "markers+lines",
         "name": "optimization 1 - RDD",
         "orientation": "v",
         "showlegend": false,
         "type": "scatter",
         "x": [
          100,
          1000,
          10000
         ],
         "xaxis": "x2",
         "y": [
          634.0738084316254,
          707.041615486145,
          975.3380653858184
         ],
         "yaxis": "y2"
        },
        {
         "hovertemplate": "algorithm=optimization 1 - RDD<br>distribution=power_law<br>k=%{x}<br>time (sec)=%{y}<extra></extra>",
         "legendgroup": "optimization 1 - RDD",
         "line": {
          "color": "#EF553B",
          "dash": "solid"
         },
         "mode": "markers+lines",
         "name": "optimization 1 - RDD",
         "orientation": "v",
         "showlegend": false,
         "type": "scatter",
         "x": [
          100,
          1000,
          10000
         ],
         "xaxis": "x3",
         "y": [
          30.933136701583862,
          30.633402824401852,
          52.499242544174194
         ],
         "yaxis": "y3"
        },
        {
         "hovertemplate": "algorithm=optimization 2 - RDD<br>distribution=uniform<br>k=%{x}<br>time (sec)=%{y}<extra></extra>",
         "legendgroup": "optimization 2 - RDD",
         "line": {
          "color": "#00cc96",
          "dash": "solid"
         },
         "mode": "markers+lines",
         "name": "optimization 2 - RDD",
         "orientation": "v",
         "showlegend": true,
         "type": "scatter",
         "x": [
          100,
          1000,
          10000
         ],
         "xaxis": "x",
         "y": [
          40.26518940925598,
          40.49058985710144,
          40.43294906616211
         ],
         "yaxis": "y"
        },
        {
         "hovertemplate": "algorithm=optimization 2 - RDD<br>distribution=normal<br>k=%{x}<br>time (sec)=%{y}<extra></extra>",
         "legendgroup": "optimization 2 - RDD",
         "line": {
          "color": "#00cc96",
          "dash": "solid"
         },
         "mode": "markers+lines",
         "name": "optimization 2 - RDD",
         "orientation": "v",
         "showlegend": false,
         "type": "scatter",
         "x": [
          100,
          1000,
          10000
         ],
         "xaxis": "x2",
         "y": [
          529.030965089798,
          648.8940119743347,
          944.360522031784
         ],
         "yaxis": "y2"
        },
        {
         "hovertemplate": "algorithm=optimization 2 - RDD<br>distribution=power_law<br>k=%{x}<br>time (sec)=%{y}<extra></extra>",
         "legendgroup": "optimization 2 - RDD",
         "line": {
          "color": "#00cc96",
          "dash": "solid"
         },
         "mode": "markers+lines",
         "name": "optimization 2 - RDD",
         "orientation": "v",
         "showlegend": false,
         "type": "scatter",
         "x": [
          100,
          1000,
          10000
         ],
         "xaxis": "x3",
         "y": [
          31.493059635162357,
          31.303999423980716,
          55.57954025268555
         ],
         "yaxis": "y3"
        }
       ],
       "layout": {
        "annotations": [
         {
          "font": {},
          "showarrow": false,
          "text": "distribution=uniform",
          "x": 0.15999999999999998,
          "xanchor": "center",
          "xref": "paper",
          "y": 1,
          "yanchor": "bottom",
          "yref": "paper"
         },
         {
          "font": {},
          "showarrow": false,
          "text": "distribution=normal",
          "x": 0.49999999999999994,
          "xanchor": "center",
          "xref": "paper",
          "y": 1,
          "yanchor": "bottom",
          "yref": "paper"
         },
         {
          "font": {},
          "showarrow": false,
          "text": "distribution=power_law",
          "x": 0.8399999999999999,
          "xanchor": "center",
          "xref": "paper",
          "y": 1,
          "yanchor": "bottom",
          "yref": "paper"
         }
        ],
        "autosize": false,
        "height": 500,
        "legend": {
         "title": {
          "text": "algorithm"
         },
         "tracegroupgap": 0
        },
        "margin": {
         "t": 60
        },
        "template": {
         "data": {
          "bar": [
           {
            "error_x": {
             "color": "#2a3f5f"
            },
            "error_y": {
             "color": "#2a3f5f"
            },
            "marker": {
             "line": {
              "color": "#E5ECF6",
              "width": 0.5
             }
            },
            "type": "bar"
           }
          ],
          "barpolar": [
           {
            "marker": {
             "line": {
              "color": "#E5ECF6",
              "width": 0.5
             }
            },
            "type": "barpolar"
           }
          ],
          "carpet": [
           {
            "aaxis": {
             "endlinecolor": "#2a3f5f",
             "gridcolor": "white",
             "linecolor": "white",
             "minorgridcolor": "white",
             "startlinecolor": "#2a3f5f"
            },
            "baxis": {
             "endlinecolor": "#2a3f5f",
             "gridcolor": "white",
             "linecolor": "white",
             "minorgridcolor": "white",
             "startlinecolor": "#2a3f5f"
            },
            "type": "carpet"
           }
          ],
          "choropleth": [
           {
            "colorbar": {
             "outlinewidth": 0,
             "ticks": ""
            },
            "type": "choropleth"
           }
          ],
          "contour": [
           {
            "colorbar": {
             "outlinewidth": 0,
             "ticks": ""
            },
            "colorscale": [
             [
              0,
              "#0d0887"
             ],
             [
              0.1111111111111111,
              "#46039f"
             ],
             [
              0.2222222222222222,
              "#7201a8"
             ],
             [
              0.3333333333333333,
              "#9c179e"
             ],
             [
              0.4444444444444444,
              "#bd3786"
             ],
             [
              0.5555555555555556,
              "#d8576b"
             ],
             [
              0.6666666666666666,
              "#ed7953"
             ],
             [
              0.7777777777777778,
              "#fb9f3a"
             ],
             [
              0.8888888888888888,
              "#fdca26"
             ],
             [
              1,
              "#f0f921"
             ]
            ],
            "type": "contour"
           }
          ],
          "contourcarpet": [
           {
            "colorbar": {
             "outlinewidth": 0,
             "ticks": ""
            },
            "type": "contourcarpet"
           }
          ],
          "heatmap": [
           {
            "colorbar": {
             "outlinewidth": 0,
             "ticks": ""
            },
            "colorscale": [
             [
              0,
              "#0d0887"
             ],
             [
              0.1111111111111111,
              "#46039f"
             ],
             [
              0.2222222222222222,
              "#7201a8"
             ],
             [
              0.3333333333333333,
              "#9c179e"
             ],
             [
              0.4444444444444444,
              "#bd3786"
             ],
             [
              0.5555555555555556,
              "#d8576b"
             ],
             [
              0.6666666666666666,
              "#ed7953"
             ],
             [
              0.7777777777777778,
              "#fb9f3a"
             ],
             [
              0.8888888888888888,
              "#fdca26"
             ],
             [
              1,
              "#f0f921"
             ]
            ],
            "type": "heatmap"
           }
          ],
          "heatmapgl": [
           {
            "colorbar": {
             "outlinewidth": 0,
             "ticks": ""
            },
            "colorscale": [
             [
              0,
              "#0d0887"
             ],
             [
              0.1111111111111111,
              "#46039f"
             ],
             [
              0.2222222222222222,
              "#7201a8"
             ],
             [
              0.3333333333333333,
              "#9c179e"
             ],
             [
              0.4444444444444444,
              "#bd3786"
             ],
             [
              0.5555555555555556,
              "#d8576b"
             ],
             [
              0.6666666666666666,
              "#ed7953"
             ],
             [
              0.7777777777777778,
              "#fb9f3a"
             ],
             [
              0.8888888888888888,
              "#fdca26"
             ],
             [
              1,
              "#f0f921"
             ]
            ],
            "type": "heatmapgl"
           }
          ],
          "histogram": [
           {
            "marker": {
             "colorbar": {
              "outlinewidth": 0,
              "ticks": ""
             }
            },
            "type": "histogram"
           }
          ],
          "histogram2d": [
           {
            "colorbar": {
             "outlinewidth": 0,
             "ticks": ""
            },
            "colorscale": [
             [
              0,
              "#0d0887"
             ],
             [
              0.1111111111111111,
              "#46039f"
             ],
             [
              0.2222222222222222,
              "#7201a8"
             ],
             [
              0.3333333333333333,
              "#9c179e"
             ],
             [
              0.4444444444444444,
              "#bd3786"
             ],
             [
              0.5555555555555556,
              "#d8576b"
             ],
             [
              0.6666666666666666,
              "#ed7953"
             ],
             [
              0.7777777777777778,
              "#fb9f3a"
             ],
             [
              0.8888888888888888,
              "#fdca26"
             ],
             [
              1,
              "#f0f921"
             ]
            ],
            "type": "histogram2d"
           }
          ],
          "histogram2dcontour": [
           {
            "colorbar": {
             "outlinewidth": 0,
             "ticks": ""
            },
            "colorscale": [
             [
              0,
              "#0d0887"
             ],
             [
              0.1111111111111111,
              "#46039f"
             ],
             [
              0.2222222222222222,
              "#7201a8"
             ],
             [
              0.3333333333333333,
              "#9c179e"
             ],
             [
              0.4444444444444444,
              "#bd3786"
             ],
             [
              0.5555555555555556,
              "#d8576b"
             ],
             [
              0.6666666666666666,
              "#ed7953"
             ],
             [
              0.7777777777777778,
              "#fb9f3a"
             ],
             [
              0.8888888888888888,
              "#fdca26"
             ],
             [
              1,
              "#f0f921"
             ]
            ],
            "type": "histogram2dcontour"
           }
          ],
          "mesh3d": [
           {
            "colorbar": {
             "outlinewidth": 0,
             "ticks": ""
            },
            "type": "mesh3d"
           }
          ],
          "parcoords": [
           {
            "line": {
             "colorbar": {
              "outlinewidth": 0,
              "ticks": ""
             }
            },
            "type": "parcoords"
           }
          ],
          "pie": [
           {
            "automargin": true,
            "type": "pie"
           }
          ],
          "scatter": [
           {
            "marker": {
             "colorbar": {
              "outlinewidth": 0,
              "ticks": ""
             }
            },
            "type": "scatter"
           }
          ],
          "scatter3d": [
           {
            "line": {
             "colorbar": {
              "outlinewidth": 0,
              "ticks": ""
             }
            },
            "marker": {
             "colorbar": {
              "outlinewidth": 0,
              "ticks": ""
             }
            },
            "type": "scatter3d"
           }
          ],
          "scattercarpet": [
           {
            "marker": {
             "colorbar": {
              "outlinewidth": 0,
              "ticks": ""
             }
            },
            "type": "scattercarpet"
           }
          ],
          "scattergeo": [
           {
            "marker": {
             "colorbar": {
              "outlinewidth": 0,
              "ticks": ""
             }
            },
            "type": "scattergeo"
           }
          ],
          "scattergl": [
           {
            "marker": {
             "colorbar": {
              "outlinewidth": 0,
              "ticks": ""
             }
            },
            "type": "scattergl"
           }
          ],
          "scattermapbox": [
           {
            "marker": {
             "colorbar": {
              "outlinewidth": 0,
              "ticks": ""
             }
            },
            "type": "scattermapbox"
           }
          ],
          "scatterpolar": [
           {
            "marker": {
             "colorbar": {
              "outlinewidth": 0,
              "ticks": ""
             }
            },
            "type": "scatterpolar"
           }
          ],
          "scatterpolargl": [
           {
            "marker": {
             "colorbar": {
              "outlinewidth": 0,
              "ticks": ""
             }
            },
            "type": "scatterpolargl"
           }
          ],
          "scatterternary": [
           {
            "marker": {
             "colorbar": {
              "outlinewidth": 0,
              "ticks": ""
             }
            },
            "type": "scatterternary"
           }
          ],
          "surface": [
           {
            "colorbar": {
             "outlinewidth": 0,
             "ticks": ""
            },
            "colorscale": [
             [
              0,
              "#0d0887"
             ],
             [
              0.1111111111111111,
              "#46039f"
             ],
             [
              0.2222222222222222,
              "#7201a8"
             ],
             [
              0.3333333333333333,
              "#9c179e"
             ],
             [
              0.4444444444444444,
              "#bd3786"
             ],
             [
              0.5555555555555556,
              "#d8576b"
             ],
             [
              0.6666666666666666,
              "#ed7953"
             ],
             [
              0.7777777777777778,
              "#fb9f3a"
             ],
             [
              0.8888888888888888,
              "#fdca26"
             ],
             [
              1,
              "#f0f921"
             ]
            ],
            "type": "surface"
           }
          ],
          "table": [
           {
            "cells": {
             "fill": {
              "color": "#EBF0F8"
             },
             "line": {
              "color": "white"
             }
            },
            "header": {
             "fill": {
              "color": "#C8D4E3"
             },
             "line": {
              "color": "white"
             }
            },
            "type": "table"
           }
          ]
         },
         "layout": {
          "annotationdefaults": {
           "arrowcolor": "#2a3f5f",
           "arrowhead": 0,
           "arrowwidth": 1
          },
          "coloraxis": {
           "colorbar": {
            "outlinewidth": 0,
            "ticks": ""
           }
          },
          "colorscale": {
           "diverging": [
            [
             0,
             "#8e0152"
            ],
            [
             0.1,
             "#c51b7d"
            ],
            [
             0.2,
             "#de77ae"
            ],
            [
             0.3,
             "#f1b6da"
            ],
            [
             0.4,
             "#fde0ef"
            ],
            [
             0.5,
             "#f7f7f7"
            ],
            [
             0.6,
             "#e6f5d0"
            ],
            [
             0.7,
             "#b8e186"
            ],
            [
             0.8,
             "#7fbc41"
            ],
            [
             0.9,
             "#4d9221"
            ],
            [
             1,
             "#276419"
            ]
           ],
           "sequential": [
            [
             0,
             "#0d0887"
            ],
            [
             0.1111111111111111,
             "#46039f"
            ],
            [
             0.2222222222222222,
             "#7201a8"
            ],
            [
             0.3333333333333333,
             "#9c179e"
            ],
            [
             0.4444444444444444,
             "#bd3786"
            ],
            [
             0.5555555555555556,
             "#d8576b"
            ],
            [
             0.6666666666666666,
             "#ed7953"
            ],
            [
             0.7777777777777778,
             "#fb9f3a"
            ],
            [
             0.8888888888888888,
             "#fdca26"
            ],
            [
             1,
             "#f0f921"
            ]
           ],
           "sequentialminus": [
            [
             0,
             "#0d0887"
            ],
            [
             0.1111111111111111,
             "#46039f"
            ],
            [
             0.2222222222222222,
             "#7201a8"
            ],
            [
             0.3333333333333333,
             "#9c179e"
            ],
            [
             0.4444444444444444,
             "#bd3786"
            ],
            [
             0.5555555555555556,
             "#d8576b"
            ],
            [
             0.6666666666666666,
             "#ed7953"
            ],
            [
             0.7777777777777778,
             "#fb9f3a"
            ],
            [
             0.8888888888888888,
             "#fdca26"
            ],
            [
             1,
             "#f0f921"
            ]
           ]
          },
          "colorway": [
           "#636efa",
           "#EF553B",
           "#00cc96",
           "#ab63fa",
           "#FFA15A",
           "#19d3f3",
           "#FF6692",
           "#B6E880",
           "#FF97FF",
           "#FECB52"
          ],
          "font": {
           "color": "#2a3f5f"
          },
          "geo": {
           "bgcolor": "white",
           "lakecolor": "white",
           "landcolor": "#E5ECF6",
           "showlakes": true,
           "showland": true,
           "subunitcolor": "white"
          },
          "hoverlabel": {
           "align": "left"
          },
          "hovermode": "closest",
          "mapbox": {
           "style": "light"
          },
          "paper_bgcolor": "white",
          "plot_bgcolor": "#E5ECF6",
          "polar": {
           "angularaxis": {
            "gridcolor": "white",
            "linecolor": "white",
            "ticks": ""
           },
           "bgcolor": "#E5ECF6",
           "radialaxis": {
            "gridcolor": "white",
            "linecolor": "white",
            "ticks": ""
           }
          },
          "scene": {
           "xaxis": {
            "backgroundcolor": "#E5ECF6",
            "gridcolor": "white",
            "gridwidth": 2,
            "linecolor": "white",
            "showbackground": true,
            "ticks": "",
            "zerolinecolor": "white"
           },
           "yaxis": {
            "backgroundcolor": "#E5ECF6",
            "gridcolor": "white",
            "gridwidth": 2,
            "linecolor": "white",
            "showbackground": true,
            "ticks": "",
            "zerolinecolor": "white"
           },
           "zaxis": {
            "backgroundcolor": "#E5ECF6",
            "gridcolor": "white",
            "gridwidth": 2,
            "linecolor": "white",
            "showbackground": true,
            "ticks": "",
            "zerolinecolor": "white"
           }
          },
          "shapedefaults": {
           "line": {
            "color": "#2a3f5f"
           }
          },
          "ternary": {
           "aaxis": {
            "gridcolor": "white",
            "linecolor": "white",
            "ticks": ""
           },
           "baxis": {
            "gridcolor": "white",
            "linecolor": "white",
            "ticks": ""
           },
           "bgcolor": "#E5ECF6",
           "caxis": {
            "gridcolor": "white",
            "linecolor": "white",
            "ticks": ""
           }
          },
          "title": {
           "x": 0.05
          },
          "xaxis": {
           "automargin": true,
           "gridcolor": "white",
           "linecolor": "white",
           "ticks": "",
           "title": {
            "standoff": 15
           },
           "zerolinecolor": "white",
           "zerolinewidth": 2
          },
          "yaxis": {
           "automargin": true,
           "gridcolor": "white",
           "linecolor": "white",
           "ticks": "",
           "title": {
            "standoff": 15
           },
           "zerolinecolor": "white",
           "zerolinewidth": 2
          }
         }
        },
        "title": {
         "text": "Results comparison: GraphFrames vs RDD implementations"
        },
        "width": 1000,
        "xaxis": {
         "anchor": "y",
         "domain": [
          0,
          0.31999999999999995
         ],
         "title": {
          "text": "k"
         },
         "type": "log"
        },
        "xaxis2": {
         "anchor": "y2",
         "domain": [
          0.33999999999999997,
          0.6599999999999999
         ],
         "matches": "x",
         "title": {
          "text": "k"
         },
         "type": "log"
        },
        "xaxis3": {
         "anchor": "y3",
         "domain": [
          0.6799999999999999,
          0.9999999999999999
         ],
         "matches": "x",
         "title": {
          "text": "k"
         },
         "type": "log"
        },
        "yaxis": {
         "anchor": "x",
         "domain": [
          0,
          1
         ],
         "title": {
          "text": "time (sec)"
         },
         "type": "log"
        },
        "yaxis2": {
         "anchor": "x2",
         "domain": [
          0,
          1
         ],
         "matches": "y",
         "showticklabels": false,
         "type": "log"
        },
        "yaxis3": {
         "anchor": "x3",
         "domain": [
          0,
          1
         ],
         "matches": "y",
         "showticklabels": false,
         "type": "log"
        }
       }
      },
      "text/html": [
       "<div>                            <div id=\"5eee036c-9497-4f0f-8a05-866e5ac72ff9\" class=\"plotly-graph-div\" style=\"height:500px; width:1000px;\"></div>            <script type=\"text/javascript\">                require([\"plotly\"], function(Plotly) {                    window.PLOTLYENV=window.PLOTLYENV || {};                                    if (document.getElementById(\"5eee036c-9497-4f0f-8a05-866e5ac72ff9\")) {                    Plotly.newPlot(                        \"5eee036c-9497-4f0f-8a05-866e5ac72ff9\",                        [{\"hovertemplate\": \"algorithm=optimization 1 - GraphFrames<br>distribution=uniform<br>k=%{x}<br>time (sec)=%{y}<extra></extra>\", \"legendgroup\": \"optimization 1 - GraphFrames\", \"line\": {\"color\": \"#636efa\", \"dash\": \"solid\"}, \"mode\": \"markers+lines\", \"name\": \"optimization 1 - GraphFrames\", \"orientation\": \"v\", \"showlegend\": true, \"type\": \"scatter\", \"x\": [100, 1000, 10000], \"xaxis\": \"x\", \"y\": [30.66333675384521, 30.346402883529663, 54.65762805938721], \"yaxis\": \"y\"}, {\"hovertemplate\": \"algorithm=optimization 1 - GraphFrames<br>distribution=normal<br>k=%{x}<br>time (sec)=%{y}<extra></extra>\", \"legendgroup\": \"optimization 1 - GraphFrames\", \"line\": {\"color\": \"#636efa\", \"dash\": \"solid\"}, \"mode\": \"markers+lines\", \"name\": \"optimization 1 - GraphFrames\", \"orientation\": \"v\", \"showlegend\": false, \"type\": \"scatter\", \"x\": [100, 1000, 10000], \"xaxis\": \"x2\", \"y\": [151.72542548179626, 156.45248651504517, 161.0106325149536], \"yaxis\": \"y2\"}, {\"hovertemplate\": \"algorithm=optimization 1 - GraphFrames<br>distribution=power_law<br>k=%{x}<br>time (sec)=%{y}<extra></extra>\", \"legendgroup\": \"optimization 1 - GraphFrames\", \"line\": {\"color\": \"#636efa\", \"dash\": \"solid\"}, \"mode\": \"markers+lines\", \"name\": \"optimization 1 - GraphFrames\", \"orientation\": \"v\", \"showlegend\": false, \"type\": \"scatter\", \"x\": [100, 1000, 10000], \"xaxis\": \"x3\", \"y\": [31.978121042251587, 31.58792734146118, 73.00699543952942], \"yaxis\": \"y3\"}, {\"hovertemplate\": \"algorithm=optimization 1 - RDD<br>distribution=uniform<br>k=%{x}<br>time (sec)=%{y}<extra></extra>\", \"legendgroup\": \"optimization 1 - RDD\", \"line\": {\"color\": \"#EF553B\", \"dash\": \"solid\"}, \"mode\": \"markers+lines\", \"name\": \"optimization 1 - RDD\", \"orientation\": \"v\", \"showlegend\": true, \"type\": \"scatter\", \"x\": [100, 1000, 10000], \"xaxis\": \"x\", \"y\": [39.99889254570007, 40.62188172340393, 39.82012391090393], \"yaxis\": \"y\"}, {\"hovertemplate\": \"algorithm=optimization 1 - RDD<br>distribution=normal<br>k=%{x}<br>time (sec)=%{y}<extra></extra>\", \"legendgroup\": \"optimization 1 - RDD\", \"line\": {\"color\": \"#EF553B\", \"dash\": \"solid\"}, \"mode\": \"markers+lines\", \"name\": \"optimization 1 - RDD\", \"orientation\": \"v\", \"showlegend\": false, \"type\": \"scatter\", \"x\": [100, 1000, 10000], \"xaxis\": \"x2\", \"y\": [634.0738084316254, 707.041615486145, 975.3380653858184], \"yaxis\": \"y2\"}, {\"hovertemplate\": \"algorithm=optimization 1 - RDD<br>distribution=power_law<br>k=%{x}<br>time (sec)=%{y}<extra></extra>\", \"legendgroup\": \"optimization 1 - RDD\", \"line\": {\"color\": \"#EF553B\", \"dash\": \"solid\"}, \"mode\": \"markers+lines\", \"name\": \"optimization 1 - RDD\", \"orientation\": \"v\", \"showlegend\": false, \"type\": \"scatter\", \"x\": [100, 1000, 10000], \"xaxis\": \"x3\", \"y\": [30.933136701583862, 30.633402824401852, 52.499242544174194], \"yaxis\": \"y3\"}, {\"hovertemplate\": \"algorithm=optimization 2 - RDD<br>distribution=uniform<br>k=%{x}<br>time (sec)=%{y}<extra></extra>\", \"legendgroup\": \"optimization 2 - RDD\", \"line\": {\"color\": \"#00cc96\", \"dash\": \"solid\"}, \"mode\": \"markers+lines\", \"name\": \"optimization 2 - RDD\", \"orientation\": \"v\", \"showlegend\": true, \"type\": \"scatter\", \"x\": [100, 1000, 10000], \"xaxis\": \"x\", \"y\": [40.26518940925598, 40.49058985710144, 40.43294906616211], \"yaxis\": \"y\"}, {\"hovertemplate\": \"algorithm=optimization 2 - RDD<br>distribution=normal<br>k=%{x}<br>time (sec)=%{y}<extra></extra>\", \"legendgroup\": \"optimization 2 - RDD\", \"line\": {\"color\": \"#00cc96\", \"dash\": \"solid\"}, \"mode\": \"markers+lines\", \"name\": \"optimization 2 - RDD\", \"orientation\": \"v\", \"showlegend\": false, \"type\": \"scatter\", \"x\": [100, 1000, 10000], \"xaxis\": \"x2\", \"y\": [529.030965089798, 648.8940119743347, 944.360522031784], \"yaxis\": \"y2\"}, {\"hovertemplate\": \"algorithm=optimization 2 - RDD<br>distribution=power_law<br>k=%{x}<br>time (sec)=%{y}<extra></extra>\", \"legendgroup\": \"optimization 2 - RDD\", \"line\": {\"color\": \"#00cc96\", \"dash\": \"solid\"}, \"mode\": \"markers+lines\", \"name\": \"optimization 2 - RDD\", \"orientation\": \"v\", \"showlegend\": false, \"type\": \"scatter\", \"x\": [100, 1000, 10000], \"xaxis\": \"x3\", \"y\": [31.493059635162357, 31.303999423980716, 55.57954025268555], \"yaxis\": \"y3\"}],                        {\"annotations\": [{\"font\": {}, \"showarrow\": false, \"text\": \"distribution=uniform\", \"x\": 0.15999999999999998, \"xanchor\": \"center\", \"xref\": \"paper\", \"y\": 1.0, \"yanchor\": \"bottom\", \"yref\": \"paper\"}, {\"font\": {}, \"showarrow\": false, \"text\": \"distribution=normal\", \"x\": 0.49999999999999994, \"xanchor\": \"center\", \"xref\": \"paper\", \"y\": 1.0, \"yanchor\": \"bottom\", \"yref\": \"paper\"}, {\"font\": {}, \"showarrow\": false, \"text\": \"distribution=power_law\", \"x\": 0.8399999999999999, \"xanchor\": \"center\", \"xref\": \"paper\", \"y\": 1.0, \"yanchor\": \"bottom\", \"yref\": \"paper\"}], \"autosize\": false, \"height\": 500, \"legend\": {\"title\": {\"text\": \"algorithm\"}, \"tracegroupgap\": 0}, \"margin\": {\"t\": 60}, \"template\": {\"data\": {\"bar\": [{\"error_x\": {\"color\": \"#2a3f5f\"}, \"error_y\": {\"color\": \"#2a3f5f\"}, \"marker\": {\"line\": {\"color\": \"#E5ECF6\", \"width\": 0.5}}, \"type\": \"bar\"}], \"barpolar\": [{\"marker\": {\"line\": {\"color\": \"#E5ECF6\", \"width\": 0.5}}, \"type\": \"barpolar\"}], \"carpet\": [{\"aaxis\": {\"endlinecolor\": \"#2a3f5f\", \"gridcolor\": \"white\", \"linecolor\": \"white\", \"minorgridcolor\": \"white\", \"startlinecolor\": \"#2a3f5f\"}, \"baxis\": {\"endlinecolor\": \"#2a3f5f\", \"gridcolor\": \"white\", \"linecolor\": \"white\", \"minorgridcolor\": \"white\", \"startlinecolor\": \"#2a3f5f\"}, \"type\": \"carpet\"}], \"choropleth\": [{\"colorbar\": {\"outlinewidth\": 0, \"ticks\": \"\"}, \"type\": \"choropleth\"}], \"contour\": [{\"colorbar\": {\"outlinewidth\": 0, \"ticks\": \"\"}, \"colorscale\": [[0.0, \"#0d0887\"], [0.1111111111111111, \"#46039f\"], [0.2222222222222222, \"#7201a8\"], [0.3333333333333333, \"#9c179e\"], [0.4444444444444444, \"#bd3786\"], [0.5555555555555556, \"#d8576b\"], [0.6666666666666666, \"#ed7953\"], [0.7777777777777778, \"#fb9f3a\"], [0.8888888888888888, \"#fdca26\"], [1.0, \"#f0f921\"]], \"type\": \"contour\"}], \"contourcarpet\": [{\"colorbar\": {\"outlinewidth\": 0, \"ticks\": \"\"}, \"type\": \"contourcarpet\"}], \"heatmap\": [{\"colorbar\": {\"outlinewidth\": 0, \"ticks\": \"\"}, \"colorscale\": [[0.0, \"#0d0887\"], [0.1111111111111111, \"#46039f\"], [0.2222222222222222, \"#7201a8\"], [0.3333333333333333, \"#9c179e\"], [0.4444444444444444, \"#bd3786\"], [0.5555555555555556, \"#d8576b\"], [0.6666666666666666, \"#ed7953\"], [0.7777777777777778, \"#fb9f3a\"], [0.8888888888888888, \"#fdca26\"], [1.0, \"#f0f921\"]], \"type\": \"heatmap\"}], \"heatmapgl\": [{\"colorbar\": {\"outlinewidth\": 0, \"ticks\": \"\"}, \"colorscale\": [[0.0, \"#0d0887\"], [0.1111111111111111, \"#46039f\"], [0.2222222222222222, \"#7201a8\"], [0.3333333333333333, \"#9c179e\"], [0.4444444444444444, \"#bd3786\"], [0.5555555555555556, \"#d8576b\"], [0.6666666666666666, \"#ed7953\"], [0.7777777777777778, \"#fb9f3a\"], [0.8888888888888888, \"#fdca26\"], [1.0, \"#f0f921\"]], \"type\": \"heatmapgl\"}], \"histogram\": [{\"marker\": {\"colorbar\": {\"outlinewidth\": 0, \"ticks\": \"\"}}, \"type\": \"histogram\"}], \"histogram2d\": [{\"colorbar\": {\"outlinewidth\": 0, \"ticks\": \"\"}, \"colorscale\": [[0.0, \"#0d0887\"], [0.1111111111111111, \"#46039f\"], [0.2222222222222222, \"#7201a8\"], [0.3333333333333333, \"#9c179e\"], [0.4444444444444444, \"#bd3786\"], [0.5555555555555556, \"#d8576b\"], [0.6666666666666666, \"#ed7953\"], [0.7777777777777778, \"#fb9f3a\"], [0.8888888888888888, \"#fdca26\"], [1.0, \"#f0f921\"]], \"type\": \"histogram2d\"}], \"histogram2dcontour\": [{\"colorbar\": {\"outlinewidth\": 0, \"ticks\": \"\"}, \"colorscale\": [[0.0, \"#0d0887\"], [0.1111111111111111, \"#46039f\"], [0.2222222222222222, \"#7201a8\"], [0.3333333333333333, \"#9c179e\"], [0.4444444444444444, \"#bd3786\"], [0.5555555555555556, \"#d8576b\"], [0.6666666666666666, \"#ed7953\"], [0.7777777777777778, \"#fb9f3a\"], [0.8888888888888888, \"#fdca26\"], [1.0, \"#f0f921\"]], \"type\": \"histogram2dcontour\"}], \"mesh3d\": [{\"colorbar\": {\"outlinewidth\": 0, \"ticks\": \"\"}, \"type\": \"mesh3d\"}], \"parcoords\": [{\"line\": {\"colorbar\": {\"outlinewidth\": 0, \"ticks\": \"\"}}, \"type\": \"parcoords\"}], \"pie\": [{\"automargin\": true, \"type\": \"pie\"}], \"scatter\": [{\"marker\": {\"colorbar\": {\"outlinewidth\": 0, \"ticks\": \"\"}}, \"type\": \"scatter\"}], \"scatter3d\": [{\"line\": {\"colorbar\": {\"outlinewidth\": 0, \"ticks\": \"\"}}, \"marker\": {\"colorbar\": {\"outlinewidth\": 0, \"ticks\": \"\"}}, \"type\": \"scatter3d\"}], \"scattercarpet\": [{\"marker\": {\"colorbar\": {\"outlinewidth\": 0, \"ticks\": \"\"}}, \"type\": \"scattercarpet\"}], \"scattergeo\": [{\"marker\": {\"colorbar\": {\"outlinewidth\": 0, \"ticks\": \"\"}}, \"type\": \"scattergeo\"}], \"scattergl\": [{\"marker\": {\"colorbar\": {\"outlinewidth\": 0, \"ticks\": \"\"}}, \"type\": \"scattergl\"}], \"scattermapbox\": [{\"marker\": {\"colorbar\": {\"outlinewidth\": 0, \"ticks\": \"\"}}, \"type\": \"scattermapbox\"}], \"scatterpolar\": [{\"marker\": {\"colorbar\": {\"outlinewidth\": 0, \"ticks\": \"\"}}, \"type\": \"scatterpolar\"}], \"scatterpolargl\": [{\"marker\": {\"colorbar\": {\"outlinewidth\": 0, \"ticks\": \"\"}}, \"type\": \"scatterpolargl\"}], \"scatterternary\": [{\"marker\": {\"colorbar\": {\"outlinewidth\": 0, \"ticks\": \"\"}}, \"type\": \"scatterternary\"}], \"surface\": [{\"colorbar\": {\"outlinewidth\": 0, \"ticks\": \"\"}, \"colorscale\": [[0.0, \"#0d0887\"], [0.1111111111111111, \"#46039f\"], [0.2222222222222222, \"#7201a8\"], [0.3333333333333333, \"#9c179e\"], [0.4444444444444444, \"#bd3786\"], [0.5555555555555556, \"#d8576b\"], [0.6666666666666666, \"#ed7953\"], [0.7777777777777778, \"#fb9f3a\"], [0.8888888888888888, \"#fdca26\"], [1.0, \"#f0f921\"]], \"type\": \"surface\"}], \"table\": [{\"cells\": {\"fill\": {\"color\": \"#EBF0F8\"}, \"line\": {\"color\": \"white\"}}, \"header\": {\"fill\": {\"color\": \"#C8D4E3\"}, \"line\": {\"color\": \"white\"}}, \"type\": \"table\"}]}, \"layout\": {\"annotationdefaults\": {\"arrowcolor\": \"#2a3f5f\", \"arrowhead\": 0, \"arrowwidth\": 1}, \"coloraxis\": {\"colorbar\": {\"outlinewidth\": 0, \"ticks\": \"\"}}, \"colorscale\": {\"diverging\": [[0, \"#8e0152\"], [0.1, \"#c51b7d\"], [0.2, \"#de77ae\"], [0.3, \"#f1b6da\"], [0.4, \"#fde0ef\"], [0.5, \"#f7f7f7\"], [0.6, \"#e6f5d0\"], [0.7, \"#b8e186\"], [0.8, \"#7fbc41\"], [0.9, \"#4d9221\"], [1, \"#276419\"]], \"sequential\": [[0.0, \"#0d0887\"], [0.1111111111111111, \"#46039f\"], [0.2222222222222222, \"#7201a8\"], [0.3333333333333333, \"#9c179e\"], [0.4444444444444444, \"#bd3786\"], [0.5555555555555556, \"#d8576b\"], [0.6666666666666666, \"#ed7953\"], [0.7777777777777778, \"#fb9f3a\"], [0.8888888888888888, \"#fdca26\"], [1.0, \"#f0f921\"]], \"sequentialminus\": [[0.0, \"#0d0887\"], [0.1111111111111111, \"#46039f\"], [0.2222222222222222, \"#7201a8\"], [0.3333333333333333, \"#9c179e\"], [0.4444444444444444, \"#bd3786\"], [0.5555555555555556, \"#d8576b\"], [0.6666666666666666, \"#ed7953\"], [0.7777777777777778, \"#fb9f3a\"], [0.8888888888888888, \"#fdca26\"], [1.0, \"#f0f921\"]]}, \"colorway\": [\"#636efa\", \"#EF553B\", \"#00cc96\", \"#ab63fa\", \"#FFA15A\", \"#19d3f3\", \"#FF6692\", \"#B6E880\", \"#FF97FF\", \"#FECB52\"], \"font\": {\"color\": \"#2a3f5f\"}, \"geo\": {\"bgcolor\": \"white\", \"lakecolor\": \"white\", \"landcolor\": \"#E5ECF6\", \"showlakes\": true, \"showland\": true, \"subunitcolor\": \"white\"}, \"hoverlabel\": {\"align\": \"left\"}, \"hovermode\": \"closest\", \"mapbox\": {\"style\": \"light\"}, \"paper_bgcolor\": \"white\", \"plot_bgcolor\": \"#E5ECF6\", \"polar\": {\"angularaxis\": {\"gridcolor\": \"white\", \"linecolor\": \"white\", \"ticks\": \"\"}, \"bgcolor\": \"#E5ECF6\", \"radialaxis\": {\"gridcolor\": \"white\", \"linecolor\": \"white\", \"ticks\": \"\"}}, \"scene\": {\"xaxis\": {\"backgroundcolor\": \"#E5ECF6\", \"gridcolor\": \"white\", \"gridwidth\": 2, \"linecolor\": \"white\", \"showbackground\": true, \"ticks\": \"\", \"zerolinecolor\": \"white\"}, \"yaxis\": {\"backgroundcolor\": \"#E5ECF6\", \"gridcolor\": \"white\", \"gridwidth\": 2, \"linecolor\": \"white\", \"showbackground\": true, \"ticks\": \"\", \"zerolinecolor\": \"white\"}, \"zaxis\": {\"backgroundcolor\": \"#E5ECF6\", \"gridcolor\": \"white\", \"gridwidth\": 2, \"linecolor\": \"white\", \"showbackground\": true, \"ticks\": \"\", \"zerolinecolor\": \"white\"}}, \"shapedefaults\": {\"line\": {\"color\": \"#2a3f5f\"}}, \"ternary\": {\"aaxis\": {\"gridcolor\": \"white\", \"linecolor\": \"white\", \"ticks\": \"\"}, \"baxis\": {\"gridcolor\": \"white\", \"linecolor\": \"white\", \"ticks\": \"\"}, \"bgcolor\": \"#E5ECF6\", \"caxis\": {\"gridcolor\": \"white\", \"linecolor\": \"white\", \"ticks\": \"\"}}, \"title\": {\"x\": 0.05}, \"xaxis\": {\"automargin\": true, \"gridcolor\": \"white\", \"linecolor\": \"white\", \"ticks\": \"\", \"title\": {\"standoff\": 15}, \"zerolinecolor\": \"white\", \"zerolinewidth\": 2}, \"yaxis\": {\"automargin\": true, \"gridcolor\": \"white\", \"linecolor\": \"white\", \"ticks\": \"\", \"title\": {\"standoff\": 15}, \"zerolinecolor\": \"white\", \"zerolinewidth\": 2}}}, \"title\": {\"text\": \"Results comparison: GraphFrames vs RDD implementations\"}, \"width\": 1000, \"xaxis\": {\"anchor\": \"y\", \"domain\": [0.0, 0.31999999999999995], \"title\": {\"text\": \"k\"}, \"type\": \"log\"}, \"xaxis2\": {\"anchor\": \"y2\", \"domain\": [0.33999999999999997, 0.6599999999999999], \"matches\": \"x\", \"title\": {\"text\": \"k\"}, \"type\": \"log\"}, \"xaxis3\": {\"anchor\": \"y3\", \"domain\": [0.6799999999999999, 0.9999999999999999], \"matches\": \"x\", \"title\": {\"text\": \"k\"}, \"type\": \"log\"}, \"yaxis\": {\"anchor\": \"x\", \"domain\": [0.0, 1.0], \"title\": {\"text\": \"time (sec)\"}, \"type\": \"log\"}, \"yaxis2\": {\"anchor\": \"x2\", \"domain\": [0.0, 1.0], \"matches\": \"y\", \"showticklabels\": false, \"type\": \"log\"}, \"yaxis3\": {\"anchor\": \"x3\", \"domain\": [0.0, 1.0], \"matches\": \"y\", \"showticklabels\": false, \"type\": \"log\"}},                        {\"responsive\": true}                    ).then(function(){\n",
       "                            \n",
       "var gd = document.getElementById('5eee036c-9497-4f0f-8a05-866e5ac72ff9');\n",
       "var x = new MutationObserver(function (mutations, observer) {{\n",
       "        var display = window.getComputedStyle(gd).display;\n",
       "        if (!display || display === 'none') {{\n",
       "            console.log([gd, 'removed!']);\n",
       "            Plotly.purge(gd);\n",
       "            observer.disconnect();\n",
       "        }}\n",
       "}});\n",
       "\n",
       "// Listen for the removal of the full notebook cells\n",
       "var notebookContainer = gd.closest('#notebook-container');\n",
       "if (notebookContainer) {{\n",
       "    x.observe(notebookContainer, {childList: true});\n",
       "}}\n",
       "\n",
       "// Listen for the clearing of the current output cell\n",
       "var outputEl = gd.closest('.output');\n",
       "if (outputEl) {{\n",
       "    x.observe(outputEl, {childList: true});\n",
       "}}\n",
       "\n",
       "                        })                };                });            </script>        </div>"
      ]
     },
     "metadata": {},
     "output_type": "display_data"
    }
   ],
   "source": [
    "# 2. Compare graphframes implementations (All distributions)\n",
    "filtered_dataset = experiments_df[(experiments_df[\"cores\"] == 8) &\n",
    "                                  (experiments_df[\"algorithm\"].isin([\"graphframe_fast\",\n",
    "                                                                     \"rdd_fast\",\n",
    "                                                                     \"rdd_fast_bv\"]))].copy()\n",
    "\n",
    "\n",
    "filtered_dataset[\"algorithm\"] = (filtered_dataset[\"algorithm\"]\n",
    "                                 .replace({\"graphframe_fast\":\"optimization 1 - GraphFrames\",\n",
    "                                           \"rdd_fast\":\"optimization 1 - RDD\",\n",
    "                                           \"rdd_fast_bv\":\"optimization 2 - RDD\"}))\n",
    "\n",
    "\n",
    "fig = px.line(filtered_dataset,\n",
    "                 x=\"k\",\n",
    "                 y=\"time (sec)\",\n",
    "                 log_x=True,\n",
    "                 log_y=True,\n",
    "                 facet_col=\"distribution\",\n",
    "                 color=\"algorithm\")\n",
    "\n",
    "fig.update_layout(\n",
    "    title=f\"Results comparison: GraphFrames vs RDD implementations\"\n",
    ")\n",
    "\n",
    "\n",
    "for i in range(len(fig.data)):\n",
    "    fig.data[i].update(mode='markers+lines')\n",
    "\n",
    "fig.update_layout(\n",
    "    autosize=False,\n",
    "    width=1000,\n",
    "    height=500)\n",
    "fig.show()"
   ]
  },
  {
   "cell_type": "code",
   "execution_count": null,
   "id": "essential-bidding",
   "metadata": {},
   "outputs": [],
   "source": [
    "## Compare graphframes_fast and graphframes_fast_bv \n",
    "# with threshold=0.8 and threshold=0.5 for Normal distribution\n",
    "\n",
    "fig = go.Figure()\n",
    "\n",
    "\n",
    "## --> Extract times:\n",
    "# bs, optimization 1, optimization 2\n",
    "# threshold 0.5, 0.8\n",
    "\n",
    "df_bs_08 = (experiments_df\n",
    "            [(experiments_df[\"cores\"]==8) &\n",
    "             (experiments_df[\"dataset\"]==\"artists_normal\") &             \n",
    "             (experiments_df[\"algorithm\"] == \"graphframe_bs\")])\n",
    "\n",
    "df_opt1_08 = (experiments_df\n",
    "            [(experiments_df[\"cores\"]==8) &\n",
    "             (experiments_df[\"dataset\"]==\"artists_normal\") &             \n",
    "             (experiments_df[\"algorithm\"] == \"graphframe_fast\")])\n",
    "\n",
    "df_opt2_08 = (experiments_df\n",
    "             [(experiments_df[\"cores\"]==8) &\n",
    "             (experiments_df[\"dataset\"]==\"artists_normal\") &             \n",
    "             (experiments_df[\"algorithm\"] == \"graphframe_fast_bv\")])\n",
    "\n",
    "\n",
    "df_opt1_05 = (experiments_threshold_05_df\n",
    "              [experiments_threshold_05_df[\"algorithm\"] == \"graphframe_fast\"])\n",
    "\n",
    "\n",
    "df_opt2_05 = (experiments_threshold_05_df\n",
    "              [experiments_threshold_05_df[\"algorithm\"] == \"graphframe_fast_bv\"])\n",
    "\n",
    "\n",
    "\n",
    "\n",
    "## Add lines\n",
    "\n",
    "# 1. df_bs_08\n",
    "fig.add_trace(go.Scatter(\n",
    "    x = df_bs_08[\"k\"],\n",
    "    y = df_bs_08[\"time (sec)\"],\n",
    "    name=\"baseline\"\n",
    "))\n",
    "\n",
    "\n",
    "# 2. df_opt1_08\n",
    "fig.add_trace(go.Scatter(\n",
    "    x = df_opt1_08[\"k\"],\n",
    "    y = df_opt1_08[\"time (sec)\"],\n",
    "    name=\"optimization 1, threshold=0.8\",\n",
    "    line = dict(color='firebrick')\n",
    "))\n",
    "\n",
    "# 3. df_opt2_08\n",
    "fig.add_trace(go.Scatter(\n",
    "    x = df_opt2_08[\"k\"],\n",
    "    y = df_opt2_08[\"time (sec)\"],\n",
    "    name=\"optimization 2, threshold=0.8\",\n",
    "    line = dict(color='#00CC96')\n",
    "))\n",
    "\n",
    "\n",
    "# 4. df_opt1_05\n",
    "fig.add_trace(go.Scatter(\n",
    "    x = df_opt1_05[\"k\"],\n",
    "    y = df_opt1_05[\"time (sec)\"],\n",
    "    name=\"optimization 1, threshold=0.5\",\n",
    "    line = dict(color='firebrick',dash='dash')\n",
    "))\n",
    "\n",
    "\n",
    "# 5. df_opt2_05\n",
    "fig.add_trace(go.Scatter(\n",
    "    x = df_opt2_05[\"k\"],\n",
    "    y = df_opt2_05[\"time (sec)\"],\n",
    "    name=\"optimization 2, threshold=0.5\",\n",
    "    line = dict(color='#00CC96',dash='dash')\n",
    "))\n",
    "\n",
    "\n",
    "fig.update_xaxes(type=\"log\")\n",
    "\n",
    "\n",
    "fig.update_layout(\n",
    "    title=f\"Results comparison: GraphFrames vs RDD\",\n",
    "    xaxis_title=\"distribution\",\n",
    "    yaxis_title=\"time (sec)\",\n",
    ")\n",
    "\n",
    "fig.show()"
   ]
  },
  {
   "cell_type": "code",
   "execution_count": null,
   "id": "protected-species",
   "metadata": {},
   "outputs": [],
   "source": []
  },
  {
   "cell_type": "code",
   "execution_count": null,
   "id": "legislative-praise",
   "metadata": {},
   "outputs": [],
   "source": []
  },
  {
   "cell_type": "markdown",
   "id": "physical-corps",
   "metadata": {},
   "source": [
    "## Legacy plots"
   ]
  },
  {
   "cell_type": "code",
   "execution_count": null,
   "id": "advance-receipt",
   "metadata": {},
   "outputs": [],
   "source": [
    "## Compare rdd_fast and rdd_fast_bv\n",
    "# with threshold=0.8 and threshold=0.5 for Normal distribution\n",
    "\n",
    "fig = go.Figure()\n",
    "\n",
    "\n",
    "## Add lines\n",
    "\n",
    "# 1. graphframe_fast\n",
    "fig.add_trace(go.Scatter(\n",
    "    x = experiments_k_large_df.loc[experiments_k_large_df[\"algorithm\"]==\"graphframe_fast\", \"dataset\"].values,\n",
    "    y = experiments_k_large_df.loc[experiments_k_large_df[\"algorithm\"]==\"graphframe_fast\", \"time (sec)\"].values,\n",
    "    name=\"Graphframes, optimization 1\",\n",
    "    line = dict(color='#00CC96')\n",
    "))\n",
    "\n",
    "\n",
    "# 2. graphframe_fast_bv\n",
    "fig.add_trace(go.Scatter(\n",
    "    x = experiments_k_large_df.loc[experiments_k_large_df[\"algorithm\"]==\"graphframe_fast_bv\", \"dataset\"].values,\n",
    "    y = experiments_k_large_df.loc[experiments_k_large_df[\"algorithm\"]==\"graphframe_fast_bv\", \"time (sec)\"].values,\n",
    "    name=\"Graphframes, optimization 2\",\n",
    "    line = dict(color='#00CC96',dash='dash')\n",
    "))\n",
    "\n",
    "\n",
    "# 1. rdd_fast\n",
    "fig.add_trace(go.Scatter(\n",
    "    x = experiments_k_large_df.loc[experiments_k_large_df[\"algorithm\"]==\"rdd_fast\", \"dataset\"].values,\n",
    "    y = experiments_k_large_df.loc[experiments_k_large_df[\"algorithm\"]==\"rdd_fast\", \"time (sec)\"].values,\n",
    "    name=\"RDD, optimization 1\",\n",
    "    line = dict(color='royalblue')\n",
    "))\n",
    "\n",
    "\n",
    "# 2. rdd_fast_bv\n",
    "fig.add_trace(go.Scatter(\n",
    "    x = experiments_k_large_df.loc[experiments_k_large_df[\"algorithm\"]==\"rdd_fast_bv\", \"dataset\"].values,\n",
    "    y = experiments_k_large_df.loc[experiments_k_large_df[\"algorithm\"]==\"rdd_fast_bv\", \"time (sec)\"].values,\n",
    "    name=\"RDD, optimization 2\",\n",
    "    line = dict(color='royalblue',dash='dash')\n",
    "))\n",
    "\n",
    "\n",
    "\n",
    "fig.update_layout(\n",
    "    title=f\"Compare Optimization 1 - Optimization 2 (Broadcast variable) | k > total number of triangles\",\n",
    "    xaxis_title=\"distribution\",\n",
    "    yaxis_title=\"time (secs.)\",\n",
    ")\n",
    "\n",
    "fig.show()"
   ]
  },
  {
   "cell_type": "code",
   "execution_count": null,
   "id": "pediatric-overall",
   "metadata": {},
   "outputs": [],
   "source": [
    "# \n",
    "# for cores=8 \n",
    "\n",
    "filtered_dataset = experiments_df[(experiments_df[\"cores\"]==8) &\n",
    "                                  (experiments_df[\"algorithm\"].isin([\"graphframe_fast\", \"graphframe_fast_bv\"]))]\n",
    "\n",
    "fig = px.line(filtered_dataset,\n",
    "                 x=\"k\",\n",
    "                 y=\"time (secs.)\",\n",
    "                 log_x=True,\n",
    "                 log_y=True,\n",
    "                 color=\"algorithm\",\n",
    "                 facet_col=\"dataset\")\n",
    "\n",
    "fig.update_layout(\n",
    "    title=f\"Test\",\n",
    ")\n",
    "\n",
    "for i in range(len(fig.data)):\n",
    "    fig.data[i].update(mode='markers+lines')\n",
    "    \n",
    "fig.show()"
   ]
  },
  {
   "cell_type": "code",
   "execution_count": null,
   "id": "opponent-tunnel",
   "metadata": {},
   "outputs": [],
   "source": [
    "# fig.for_each_annotation(lambda a: a.update(text=\"time (sec.)\"))"
   ]
  },
  {
   "cell_type": "code",
   "execution_count": null,
   "id": "dramatic-lincoln",
   "metadata": {},
   "outputs": [],
   "source": [
    "# 1. Compare graphframes implementations (Single distribution)\n",
    "filtered_dataset = experiments_df[(experiments_df[\"dataset\"]==\"artists_uniform\") &\n",
    "                                  (experiments_df[\"script\"].isin([\"graphframe_bs.py\",\n",
    "                                                                  \"graphframe_fast.py\",\n",
    "                                                                  \"graphframe_fast_bv.py\"]))]\n",
    "\n",
    "fig = px.line(filtered_dataset,\n",
    "                 x=\"k\",\n",
    "                 y=\"time\",\n",
    "                 log_x=True,\n",
    "                 log_y=True,\n",
    "                 color=\"script\",\n",
    "                 facet_col=\"cores\")\n",
    "\n",
    "fig.update_layout(\n",
    "    title=f\"Results of graphframes implementations - Uniform edge-probability distribution\",\n",
    "    yaxis_title=\"time (sec.)\",\n",
    ")\n",
    "\n",
    "\n",
    "for i in range(len(fig.data)):\n",
    "    fig.data[i].update(mode='markers+lines')\n",
    "    \n",
    "fig.show()"
   ]
  },
  {
   "cell_type": "code",
   "execution_count": null,
   "id": "accompanied-cameroon",
   "metadata": {},
   "outputs": [],
   "source": [
    "# Compare graphframe_fast,graphframe_fast_bv, rdd_fast,rdd_fast_bv implementations\n",
    "# for cores=8 \n",
    "\n",
    "filtered_dataset = experiments_df[(experiments_df[\"cores\"]==8) &\n",
    "                                  (experiments_df[\"script\"].isin([\"graphframe_fast.py\",\n",
    "                                                                  \"graphframe_fast_bv.py\",\n",
    "                                                                  \"rdd_fast.py\",\n",
    "                                                                  \"rdd_fast_bv.py\"]))]\n",
    "\n",
    "fig = px.line(filtered_dataset,\n",
    "                 x=\"k\",\n",
    "                 y=\"time\",\n",
    "                 log_x=True,\n",
    "                 log_y=True,\n",
    "                 color=\"script\",\n",
    "                 facet_col=\"dataset\")\n",
    "\n",
    "fig.update_layout(\n",
    "    title=f\"graphframe_fast vs rdd_vs implementations for 8 cores\",\n",
    ")\n",
    "\n",
    "for i in range(len(fig.data)):\n",
    "    fig.data[i].update(mode='markers+lines')\n",
    "    \n",
    "fig.show()"
   ]
  },
  {
   "cell_type": "code",
   "execution_count": null,
   "id": "internal-julian",
   "metadata": {
    "scrolled": true
   },
   "outputs": [],
   "source": [
    "# 2. Compare rdd implementations\n",
    "filtered_dataset = experiments_df[(experiments_df[\"dataset\"]==\"artists_uniform\") &\n",
    "                                  (experiments_df[\"script\"].isin([\"rdd_bs.py\",\n",
    "                                                                  \"rdd_fast.py\",\n",
    "                                                                  \"rdd_fast_bv.py\"]))]\n",
    "\n",
    "fig = px.line(filtered_dataset,\n",
    "                 x=\"k\",\n",
    "                 y=\"time\",\n",
    "                 log_x=True,\n",
    "                 log_y=True,\n",
    "                 color=\"script\",\n",
    "                 facet_col=\"cores\",\n",
    "                 line_dash_map=\"dataset\")\n",
    "\n",
    "fig.update_layout(\n",
    "    title=f\"Graphframes implementations for uniform edge distribution\",\n",
    ")\n",
    "\n",
    "for i in range(len(fig.data)):\n",
    "    fig.data[i].update(mode='markers+lines')\n",
    "    \n",
    "fig.show()"
   ]
  },
  {
   "cell_type": "code",
   "execution_count": null,
   "id": "funky-rover",
   "metadata": {},
   "outputs": [],
   "source": [
    "# 2. Compare distributions for graphframes implementations\n",
    "filtered_dataset = experiments_df[(experiments_df[\"cores\"]==8) &\n",
    "                                  (experiments_df[\"script\"].isin([\"graphframe_bs.py\",\n",
    "                                                                  \"graphframe_fast.py\",\n",
    "                                                                  \"graphframe_fast_bv.py\"]))]\n",
    "\n",
    "fig = px.line(filtered_dataset,\n",
    "                 x=\"k\",\n",
    "                 y=\"time\",\n",
    "                 log_x=True,\n",
    "                 log_y=True,\n",
    "                 color=\"script\",\n",
    "                 facet_col=\"dataset\")\n",
    "\n",
    "fig.update_layout(\n",
    "    title=f\"Compare distributions for graphframes implementations and cores=8\",\n",
    ")\n",
    "\n",
    "for i in range(len(fig.data)):\n",
    "    fig.data[i].update(mode='markers+lines')\n",
    "    \n",
    "fig.show()"
   ]
  },
  {
   "cell_type": "code",
   "execution_count": null,
   "id": "focal-triple",
   "metadata": {},
   "outputs": [],
   "source": [
    "# 2. Compare distributions for rdd implementation\n",
    "filtered_dataset = experiments_df[(experiments_df[\"cores\"]==8) &\n",
    "                                  (experiments_df[\"script\"].isin([\"rdd_bs.py\",\n",
    "                                                                  \"rdd_fast.py\",\n",
    "                                                                  \"rdd_fast_bv.py\"]))]\n",
    "\n",
    "fig = px.line(filtered_dataset,\n",
    "                 x=\"k\",\n",
    "                 y=\"time\",\n",
    "                 log_x=True,\n",
    "                 log_y=True,\n",
    "                 color=\"script\",\n",
    "                 facet_col=\"dataset\")\n",
    "\n",
    "fig.update_layout(\n",
    "    title=f\"Graphframes implementations for uniform edge distribution\",\n",
    ")\n",
    "\n",
    "for i in range(len(fig.data)):\n",
    "    fig.data[i].update(mode='markers+lines')\n",
    "    \n",
    "fig.show()"
   ]
  }
 ],
 "metadata": {
  "kernelspec": {
   "display_name": "Python 3",
   "language": "python",
   "name": "python3"
  },
  "language_info": {
   "codemirror_mode": {
    "name": "ipython",
    "version": 3
   },
   "file_extension": ".py",
   "mimetype": "text/x-python",
   "name": "python",
   "nbconvert_exporter": "python",
   "pygments_lexer": "ipython3",
   "version": "3.7.9"
  },
  "toc": {
   "base_numbering": 1,
   "nav_menu": {},
   "number_sections": true,
   "sideBar": true,
   "skip_h1_title": false,
   "title_cell": "Table of Contents",
   "title_sidebar": "Contents",
   "toc_cell": false,
   "toc_position": {
    "height": "calc(100% - 180px)",
    "left": "10px",
    "top": "150px",
    "width": "384px"
   },
   "toc_section_display": true,
   "toc_window_display": true
  }
 },
 "nbformat": 4,
 "nbformat_minor": 5
}
