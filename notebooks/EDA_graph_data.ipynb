{
 "cells": [
  {
   "cell_type": "markdown",
   "id": "joint-batch",
   "metadata": {},
   "source": [
    "# Exploratory Data Analysis of graph data"
   ]
  },
  {
   "cell_type": "markdown",
   "id": "chinese-terrorism",
   "metadata": {},
   "source": [
    "**Libraries**\n",
    "\n",
    "1. NetworkX: https://networkx.org/\n",
    "2. scikit-network: https://scikit-network.readthedocs.io/en/latest/"
   ]
  },
  {
   "cell_type": "code",
   "execution_count": 1,
   "id": "horizontal-royal",
   "metadata": {},
   "outputs": [],
   "source": [
    "# Load modules\n",
    "import numpy as np\n",
    "import pandas as pd\n",
    "\n",
    "import matplotlib.pyplot as plt\n",
    "import seaborn as sns\n",
    "sns.set(rc={'figure.figsize':(13,6)})\n",
    "\n",
    "import networkx as nx"
   ]
  },
  {
   "cell_type": "code",
   "execution_count": 2,
   "id": "industrial-wound",
   "metadata": {},
   "outputs": [
    {
     "name": "stdout",
     "output_type": "stream",
     "text": [
      "collins.csv\n",
      "ex.csv\n",
      "ex_header.csv\n",
      "gemsec_facebook_dataset\n"
     ]
    }
   ],
   "source": [
    "%%bash\n",
    "cd ../input\n",
    "ls"
   ]
  },
  {
   "cell_type": "code",
   "execution_count": 3,
   "id": "quantitative-beast",
   "metadata": {},
   "outputs": [],
   "source": [
    "# TODO\n",
    "# - Create synthetic datasets or Find an undirected graph\n",
    "# - Plot graph, degrees distribution, edge prob distributions\n",
    "# - Find central nodes"
   ]
  },
  {
   "cell_type": "markdown",
   "id": "obvious-webmaster",
   "metadata": {},
   "source": [
    "## Datasets"
   ]
  },
  {
   "cell_type": "markdown",
   "id": "basic-center",
   "metadata": {},
   "source": [
    "You are free to use any **probabilistic graph** available. A small dataset will be given. However, since not many\n",
    "real-life probabilistic networks are publicly available, you may work use synthetic datasets as follows: you\n",
    "may take any undirected network and simply assign probabilities to the edges by using a probability\n",
    "distribution such as uniform, normal, power-law, etc.\n",
    "\n",
    "Two excellent repositories for graph data are:\n",
    "1. http://snap.stanford.edu/data/index.html\n",
    "2. http://networkrepository.com/"
   ]
  },
  {
   "cell_type": "markdown",
   "id": "fancy-canal",
   "metadata": {},
   "source": [
    "**Graph Embedding with Self Clustering: Facebook** \n",
    "\n",
    "http://snap.stanford.edu/data/gemsec-Facebook.html"
   ]
  },
  {
   "cell_type": "markdown",
   "id": "popular-mother",
   "metadata": {},
   "source": [
    "# Collins"
   ]
  },
  {
   "cell_type": "code",
   "execution_count": 5,
   "id": "recent-delay",
   "metadata": {},
   "outputs": [],
   "source": [
    "# Load datasets\n",
    "collins_df = pd.read_csv(\"../input/collins.csv\",header=None)"
   ]
  },
  {
   "cell_type": "code",
   "execution_count": 6,
   "id": "apparent-conservation",
   "metadata": {},
   "outputs": [],
   "source": [
    "collins_df.columns = [\"src\",\"dst\", \"probability\"]"
   ]
  },
  {
   "cell_type": "code",
   "execution_count": 7,
   "id": "median-injection",
   "metadata": {},
   "outputs": [
    {
     "data": {
      "text/html": [
       "<div>\n",
       "<style scoped>\n",
       "    .dataframe tbody tr th:only-of-type {\n",
       "        vertical-align: middle;\n",
       "    }\n",
       "\n",
       "    .dataframe tbody tr th {\n",
       "        vertical-align: top;\n",
       "    }\n",
       "\n",
       "    .dataframe thead th {\n",
       "        text-align: right;\n",
       "    }\n",
       "</style>\n",
       "<table border=\"1\" class=\"dataframe\">\n",
       "  <thead>\n",
       "    <tr style=\"text-align: right;\">\n",
       "      <th></th>\n",
       "      <th>src</th>\n",
       "      <th>dst</th>\n",
       "      <th>probability</th>\n",
       "    </tr>\n",
       "  </thead>\n",
       "  <tbody>\n",
       "    <tr>\n",
       "      <th>0</th>\n",
       "      <td>0</td>\n",
       "      <td>1</td>\n",
       "      <td>0.983749</td>\n",
       "    </tr>\n",
       "    <tr>\n",
       "      <th>1</th>\n",
       "      <td>0</td>\n",
       "      <td>2</td>\n",
       "      <td>0.983363</td>\n",
       "    </tr>\n",
       "    <tr>\n",
       "      <th>2</th>\n",
       "      <td>0</td>\n",
       "      <td>3</td>\n",
       "      <td>0.952126</td>\n",
       "    </tr>\n",
       "    <tr>\n",
       "      <th>3</th>\n",
       "      <td>0</td>\n",
       "      <td>4</td>\n",
       "      <td>0.990000</td>\n",
       "    </tr>\n",
       "    <tr>\n",
       "      <th>4</th>\n",
       "      <td>0</td>\n",
       "      <td>5</td>\n",
       "      <td>0.948626</td>\n",
       "    </tr>\n",
       "    <tr>\n",
       "      <th>5</th>\n",
       "      <td>6</td>\n",
       "      <td>7</td>\n",
       "      <td>0.896235</td>\n",
       "    </tr>\n",
       "  </tbody>\n",
       "</table>\n",
       "</div>"
      ],
      "text/plain": [
       "   src  dst  probability\n",
       "0    0    1     0.983749\n",
       "1    0    2     0.983363\n",
       "2    0    3     0.952126\n",
       "3    0    4     0.990000\n",
       "4    0    5     0.948626\n",
       "5    6    7     0.896235"
      ]
     },
     "execution_count": 7,
     "metadata": {},
     "output_type": "execute_result"
    }
   ],
   "source": [
    "collins_df.head(6)"
   ]
  },
  {
   "cell_type": "code",
   "execution_count": 8,
   "id": "personalized-violence",
   "metadata": {},
   "outputs": [
    {
     "data": {
      "text/plain": [
       "(9074, 3)"
      ]
     },
     "execution_count": 8,
     "metadata": {},
     "output_type": "execute_result"
    }
   ],
   "source": [
    "collins_df.shape"
   ]
  },
  {
   "cell_type": "code",
   "execution_count": 9,
   "id": "welsh-yukon",
   "metadata": {},
   "outputs": [
    {
     "data": {
      "image/png": "[encoded data removed]",
      "text/plain": [
       "<Figure size 936x432 with 1 Axes>"
      ]
     },
     "metadata": {},
     "output_type": "display_data"
    }
   ],
   "source": [
    "collins_df[\"probability\"].plot.hist(title=\"Edge Probabilities distribution\", bins=100, xlim=[0,1]);"
   ]
  },
  {
   "cell_type": "code",
   "execution_count": 11,
   "id": "driven-helmet",
   "metadata": {},
   "outputs": [],
   "source": [
    "# Create graph\n",
    "G = nx.from_pandas_edgelist(df=collins_df, source='src', target='dst', edge_attr=\"probability\")"
   ]
  },
  {
   "cell_type": "code",
   "execution_count": 12,
   "id": "collect-reynolds",
   "metadata": {},
   "outputs": [
    {
     "name": "stdout",
     "output_type": "stream",
     "text": [
      " Number of nodes: 1622\n",
      " Number of edges: 9074\n",
      " Is directed?: False\n"
     ]
    }
   ],
   "source": [
    "# Print graph properties\n",
    "print(f\" Number of nodes: {G.number_of_nodes()}\")\n",
    "print(f\" Number of edges: {G.number_of_edges()}\")\n",
    "print(f\" Is directed?: {G.is_directed()}\")"
   ]
  },
  {
   "cell_type": "code",
   "execution_count": 13,
   "id": "native-ability",
   "metadata": {
    "scrolled": true
   },
   "outputs": [],
   "source": [
    "# list(G.nodes)"
   ]
  },
  {
   "cell_type": "code",
   "execution_count": 14,
   "id": "hindu-soundtrack",
   "metadata": {},
   "outputs": [
    {
     "data": {
      "image/png": "[encoded data removed]",
      "text/plain": [
       "<Figure size 936x432 with 1 Axes>"
      ]
     },
     "metadata": {},
     "output_type": "display_data"
    }
   ],
   "source": [
    "# Plot degree distribution\n",
    "plt.hist(dict(G.degree()).values(), bins=100)\n",
    "plt.title(\"Degrees distribution\");"
   ]
  },
  {
   "cell_type": "code",
   "execution_count": 16,
   "id": "dangerous-lloyd",
   "metadata": {},
   "outputs": [],
   "source": [
    "# Plot graph\n",
    "# nx.draw(G)"
   ]
  },
  {
   "cell_type": "code",
   "execution_count": 18,
   "id": "challenging-lesson",
   "metadata": {},
   "outputs": [],
   "source": [
    "# nx.draw_spring(G, node_size=100, node_color=\"#00C98D\", with_labels=False)"
   ]
  },
  {
   "cell_type": "markdown",
   "id": "finished-legend",
   "metadata": {},
   "source": [
    "# Facebook datasets"
   ]
  },
  {
   "cell_type": "code",
   "execution_count": 96,
   "id": "secondary-project",
   "metadata": {},
   "outputs": [],
   "source": [
    "# Load datasets\n",
    "artist_edges_df = pd.read_csv(\"../input/gemsec_facebook_dataset/artist_edges.csv\")"
   ]
  },
  {
   "cell_type": "code",
   "execution_count": 97,
   "id": "nasty-stationery",
   "metadata": {
    "scrolled": true
   },
   "outputs": [
    {
     "data": {
      "text/html": [
       "<div>\n",
       "<style scoped>\n",
       "    .dataframe tbody tr th:only-of-type {\n",
       "        vertical-align: middle;\n",
       "    }\n",
       "\n",
       "    .dataframe tbody tr th {\n",
       "        vertical-align: top;\n",
       "    }\n",
       "\n",
       "    .dataframe thead th {\n",
       "        text-align: right;\n",
       "    }\n",
       "</style>\n",
       "<table border=\"1\" class=\"dataframe\">\n",
       "  <thead>\n",
       "    <tr style=\"text-align: right;\">\n",
       "      <th></th>\n",
       "      <th>node_1</th>\n",
       "      <th>node_2</th>\n",
       "    </tr>\n",
       "  </thead>\n",
       "  <tbody>\n",
       "    <tr>\n",
       "      <th>0</th>\n",
       "      <td>0</td>\n",
       "      <td>1794</td>\n",
       "    </tr>\n",
       "    <tr>\n",
       "      <th>1</th>\n",
       "      <td>0</td>\n",
       "      <td>3102</td>\n",
       "    </tr>\n",
       "    <tr>\n",
       "      <th>2</th>\n",
       "      <td>0</td>\n",
       "      <td>16645</td>\n",
       "    </tr>\n",
       "    <tr>\n",
       "      <th>3</th>\n",
       "      <td>0</td>\n",
       "      <td>23490</td>\n",
       "    </tr>\n",
       "    <tr>\n",
       "      <th>4</th>\n",
       "      <td>0</td>\n",
       "      <td>42128</td>\n",
       "    </tr>\n",
       "  </tbody>\n",
       "</table>\n",
       "</div>"
      ],
      "text/plain": [
       "   node_1  node_2\n",
       "0       0    1794\n",
       "1       0    3102\n",
       "2       0   16645\n",
       "3       0   23490\n",
       "4       0   42128"
      ]
     },
     "execution_count": 97,
     "metadata": {},
     "output_type": "execute_result"
    }
   ],
   "source": [
    "artist_edges_df.head()"
   ]
  },
  {
   "cell_type": "code",
   "execution_count": 98,
   "id": "touched-fortune",
   "metadata": {},
   "outputs": [
    {
     "data": {
      "text/plain": [
       "(819306, 2)"
      ]
     },
     "execution_count": 98,
     "metadata": {},
     "output_type": "execute_result"
    }
   ],
   "source": [
    "# Number of edges\n",
    "artist_edges_df.shape"
   ]
  },
  {
   "cell_type": "code",
   "execution_count": 99,
   "id": "friendly-slovak",
   "metadata": {},
   "outputs": [
    {
     "data": {
      "text/plain": [
       "50515"
      ]
     },
     "execution_count": 99,
     "metadata": {},
     "output_type": "execute_result"
    }
   ],
   "source": [
    "# Number of nodes\n",
    "len(np.unique(np.hstack([artist_edges_df[\"node_1\"].values, artist_edges_df[\"node_2\"].values])))"
   ]
  },
  {
   "cell_type": "markdown",
   "id": "reasonable-evening",
   "metadata": {},
   "source": [
    "**Artist Dataset**\n",
    "- Number of edges : 50,515\n",
    "- Number of nodes : 819,306"
   ]
  },
  {
   "cell_type": "markdown",
   "id": "canadian-matrix",
   "metadata": {},
   "source": [
    "**Probability distributions**\n",
    "\n",
    "1. Uniform\n",
    "2. Normal\n",
    "3. Power-Law"
   ]
  },
  {
   "cell_type": "code",
   "execution_count": 100,
   "id": "golden-discharge",
   "metadata": {},
   "outputs": [],
   "source": [
    "## 1. Uniform\n",
    "artist_edges_df[\"probability\"] = np.random.uniform(0,1, size=len(artist_edges_df))"
   ]
  },
  {
   "cell_type": "code",
   "execution_count": 101,
   "id": "abandoned-finger",
   "metadata": {},
   "outputs": [
    {
     "data": {
      "image/png": "[encoded data removed]",
      "text/plain": [
       "<Figure size 936x432 with 1 Axes>"
      ]
     },
     "metadata": {},
     "output_type": "display_data"
    }
   ],
   "source": [
    "(artist_edges_df[\"probability\"]\n",
    " .plot\n",
    " .hist(title=\"Edge Probabilities distribution (Uniform)\", bins=100, xlim=[0,1]));"
   ]
  },
  {
   "cell_type": "code",
   "execution_count": 102,
   "id": "adolescent-russell",
   "metadata": {},
   "outputs": [],
   "source": [
    "# Save dataset\n",
    "artist_edges_df.to_csv(\"../input/artists_uniform.csv\", index=False, header=False)"
   ]
  },
  {
   "cell_type": "code",
   "execution_count": 103,
   "id": "laden-fundamental",
   "metadata": {},
   "outputs": [],
   "source": [
    "## 2. Normal\n",
    "probs = np.random.normal(0.5, 0.10, size=len(artist_edges_df))\n",
    "probs[probs<0]=0\n",
    "probs[probs>1]=0\n",
    "\n",
    "artist_edges_df[\"probability\"] = probs"
   ]
  },
  {
   "cell_type": "code",
   "execution_count": 104,
   "id": "operating-testing",
   "metadata": {},
   "outputs": [
    {
     "data": {
      "image/png": "[encoded data removed]",
      "text/plain": [
       "<Figure size 936x432 with 1 Axes>"
      ]
     },
     "metadata": {},
     "output_type": "display_data"
    }
   ],
   "source": [
    "(artist_edges_df[\"probability\"]\n",
    " .plot\n",
    " .hist(title=\"Edge Probabilities distribution (Normal)\", bins=100, xlim=[0,1]));"
   ]
  },
  {
   "cell_type": "code",
   "execution_count": 105,
   "id": "dangerous-cigarette",
   "metadata": {},
   "outputs": [],
   "source": [
    "# Save dataset\n",
    "artist_edges_df.to_csv(\"../input/artists_normal.csv\", index=False, header=False)"
   ]
  },
  {
   "cell_type": "code",
   "execution_count": 106,
   "id": "promotional-lunch",
   "metadata": {},
   "outputs": [],
   "source": [
    "## 3. Power Law\n",
    "probs = np.random.power(0.7, size=len(artist_edges_df))\n",
    "probs[probs<0]=0\n",
    "probs[probs>1]=0\n",
    "\n",
    "artist_edges_df[\"probability\"] = probs"
   ]
  },
  {
   "cell_type": "code",
   "execution_count": 107,
   "id": "blank-tours",
   "metadata": {},
   "outputs": [
    {
     "data": {
      "image/png": "[encoded data removed]",
      "text/plain": [
       "<Figure size 936x432 with 1 Axes>"
      ]
     },
     "metadata": {},
     "output_type": "display_data"
    }
   ],
   "source": [
    "(artist_edges_df[\"probability\"]\n",
    " .plot\n",
    " .hist(title=\"Edge Probabilities distribution (Power Law)\", bins=100, xlim=[0,1]));"
   ]
  },
  {
   "cell_type": "code",
   "execution_count": 108,
   "id": "black-singing",
   "metadata": {},
   "outputs": [],
   "source": [
    "# Save dataset\n",
    "artist_edges_df.to_csv(\"../input/artists_power_law.csv\", index=False, header=False)"
   ]
  },
  {
   "cell_type": "markdown",
   "id": "corrected-carroll",
   "metadata": {},
   "source": [
    "# Experiment results"
   ]
  },
  {
   "cell_type": "code",
   "execution_count": 110,
   "id": "accurate-findings",
   "metadata": {},
   "outputs": [],
   "source": [
    "import plotly.express as px"
   ]
  },
  {
   "cell_type": "code",
   "execution_count": 111,
   "id": "enclosed-slope",
   "metadata": {},
   "outputs": [],
   "source": [
    "# experiments_df = pd.read_csv(\"../experiments.csv\")\n",
    "experiments_df = experiments_df = pd.read_csv(\"../experiments_collins.csv\")"
   ]
  },
  {
   "cell_type": "code",
   "execution_count": 121,
   "id": "known-greensboro",
   "metadata": {
    "scrolled": true
   },
   "outputs": [
    {
     "data": {
      "text/html": [
       "<div>\n",
       "<style scoped>\n",
       "    .dataframe tbody tr th:only-of-type {\n",
       "        vertical-align: middle;\n",
       "    }\n",
       "\n",
       "    .dataframe tbody tr th {\n",
       "        vertical-align: top;\n",
       "    }\n",
       "\n",
       "    .dataframe thead th {\n",
       "        text-align: right;\n",
       "    }\n",
       "</style>\n",
       "<table border=\"1\" class=\"dataframe\">\n",
       "  <thead>\n",
       "    <tr style=\"text-align: right;\">\n",
       "      <th></th>\n",
       "      <th>script</th>\n",
       "      <th>cores</th>\n",
       "      <th>dataset</th>\n",
       "      <th>k</th>\n",
       "      <th>time</th>\n",
       "    </tr>\n",
       "  </thead>\n",
       "  <tbody>\n",
       "    <tr>\n",
       "      <th>0</th>\n",
       "      <td>src/graphframe_bs.py</td>\n",
       "      <td>1</td>\n",
       "      <td>collins</td>\n",
       "      <td>10</td>\n",
       "      <td>30.588037</td>\n",
       "    </tr>\n",
       "    <tr>\n",
       "      <th>1</th>\n",
       "      <td>src/graphframe_bs.py</td>\n",
       "      <td>1</td>\n",
       "      <td>collins</td>\n",
       "      <td>100</td>\n",
       "      <td>31.380233</td>\n",
       "    </tr>\n",
       "    <tr>\n",
       "      <th>2</th>\n",
       "      <td>src/graphframe_bs.py</td>\n",
       "      <td>1</td>\n",
       "      <td>collins</td>\n",
       "      <td>1000</td>\n",
       "      <td>29.276919</td>\n",
       "    </tr>\n",
       "    <tr>\n",
       "      <th>3</th>\n",
       "      <td>src/graphframe_bs.py</td>\n",
       "      <td>2</td>\n",
       "      <td>collins</td>\n",
       "      <td>10</td>\n",
       "      <td>24.484285</td>\n",
       "    </tr>\n",
       "    <tr>\n",
       "      <th>4</th>\n",
       "      <td>src/graphframe_bs.py</td>\n",
       "      <td>2</td>\n",
       "      <td>collins</td>\n",
       "      <td>100</td>\n",
       "      <td>22.833561</td>\n",
       "    </tr>\n",
       "  </tbody>\n",
       "</table>\n",
       "</div>"
      ],
      "text/plain": [
       "                 script  cores  dataset     k       time\n",
       "0  src/graphframe_bs.py      1  collins    10  30.588037\n",
       "1  src/graphframe_bs.py      1  collins   100  31.380233\n",
       "2  src/graphframe_bs.py      1  collins  1000  29.276919\n",
       "3  src/graphframe_bs.py      2  collins    10  24.484285\n",
       "4  src/graphframe_bs.py      2  collins   100  22.833561"
      ]
     },
     "execution_count": 121,
     "metadata": {},
     "output_type": "execute_result"
    }
   ],
   "source": [
    "experiments_df.head()"
   ]
  },
  {
   "cell_type": "code",
   "execution_count": 128,
   "id": "instrumental-mandate",
   "metadata": {},
   "outputs": [
    {
     "data": {
      "application/vnd.plotly.v1+json": {
       "config": {
        "plotlyServerURL": "https://plot.ly"
       },
       "data": [
        {
         "hovertemplate": "script=src/graphframe_bs.py<br>cores=1<br>k=%{x}<br>time=%{y}<extra></extra>",
         "legendgroup": "src/graphframe_bs.py",
         "marker": {
          "color": "#636efa",
          "symbol": "circle"
         },
         "mode": "markers",
         "name": "src/graphframe_bs.py",
         "orientation": "v",
         "showlegend": true,
         "type": "scatter",
         "x": [
          10,
          100,
          1000
         ],
         "xaxis": "x",
         "y": [
          30.58803701400757,
          31.38023281097412,
          29.2769193649292
         ],
         "yaxis": "y"
        },
        {
         "hovertemplate": "script=src/graphframe_bs.py<br>cores=2<br>k=%{x}<br>time=%{y}<extra></extra>",
         "legendgroup": "src/graphframe_bs.py",
         "marker": {
          "color": "#636efa",
          "symbol": "circle"
         },
         "mode": "markers",
         "name": "src/graphframe_bs.py",
         "orientation": "v",
         "showlegend": false,
         "type": "scatter",
         "x": [
          10,
          100,
          1000
         ],
         "xaxis": "x2",
         "y": [
          24.48428463935852,
          22.833560705184937,
          19.599233150482178
         ],
         "yaxis": "y2"
        },
        {
         "hovertemplate": "script=src/graphframe_bs.py<br>cores=8<br>k=%{x}<br>time=%{y}<extra></extra>",
         "legendgroup": "src/graphframe_bs.py",
         "marker": {
          "color": "#636efa",
          "symbol": "circle"
         },
         "mode": "markers",
         "name": "src/graphframe_bs.py",
         "orientation": "v",
         "showlegend": false,
         "type": "scatter",
         "x": [
          10,
          100,
          1000
         ],
         "xaxis": "x3",
         "y": [
          18.67221188545227,
          18.90887260437012,
          18.51396489143372
         ],
         "yaxis": "y3"
        },
        {
         "hovertemplate": "script=src/rdd_bs.py<br>cores=1<br>k=%{x}<br>time=%{y}<extra></extra>",
         "legendgroup": "src/rdd_bs.py",
         "marker": {
          "color": "#EF553B",
          "symbol": "circle"
         },
         "mode": "markers",
         "name": "src/rdd_bs.py",
         "orientation": "v",
         "showlegend": true,
         "type": "scatter",
         "x": [
          10,
          100,
          1000
         ],
         "xaxis": "x",
         "y": [
          9.219404935836792,
          8.947774410247803,
          9.352253675460815
         ],
         "yaxis": "y"
        },
        {
         "hovertemplate": "script=src/rdd_bs.py<br>cores=2<br>k=%{x}<br>time=%{y}<extra></extra>",
         "legendgroup": "src/rdd_bs.py",
         "marker": {
          "color": "#EF553B",
          "symbol": "circle"
         },
         "mode": "markers",
         "name": "src/rdd_bs.py",
         "orientation": "v",
         "showlegend": false,
         "type": "scatter",
         "x": [
          10,
          100,
          1000
         ],
         "xaxis": "x2",
         "y": [
          9.313251495361328,
          9.166396856307983,
          9.044026851654053
         ],
         "yaxis": "y2"
        },
        {
         "hovertemplate": "script=src/rdd_bs.py<br>cores=8<br>k=%{x}<br>time=%{y}<extra></extra>",
         "legendgroup": "src/rdd_bs.py",
         "marker": {
          "color": "#EF553B",
          "symbol": "circle"
         },
         "mode": "markers",
         "name": "src/rdd_bs.py",
         "orientation": "v",
         "showlegend": false,
         "type": "scatter",
         "x": [
          10,
          100,
          1000
         ],
         "xaxis": "x3",
         "y": [
          9.171149730682371,
          9.086631774902344,
          9.210607528686523
         ],
         "yaxis": "y3"
        },
        {
         "hovertemplate": "script=src/rdd_fast.py<br>cores=1<br>k=%{x}<br>time=%{y}<extra></extra>",
         "legendgroup": "src/rdd_fast.py",
         "marker": {
          "color": "#00cc96",
          "symbol": "circle"
         },
         "mode": "markers",
         "name": "src/rdd_fast.py",
         "orientation": "v",
         "showlegend": true,
         "type": "scatter",
         "x": [
          10,
          100,
          1000
         ],
         "xaxis": "x",
         "y": [
          4.090131998062134,
          4.0312323570251465,
          4.045019626617432
         ],
         "yaxis": "y"
        },
        {
         "hovertemplate": "script=src/rdd_fast.py<br>cores=2<br>k=%{x}<br>time=%{y}<extra></extra>",
         "legendgroup": "src/rdd_fast.py",
         "marker": {
          "color": "#00cc96",
          "symbol": "circle"
         },
         "mode": "markers",
         "name": "src/rdd_fast.py",
         "orientation": "v",
         "showlegend": false,
         "type": "scatter",
         "x": [
          10,
          100,
          1000
         ],
         "xaxis": "x2",
         "y": [
          4.059403419494629,
          3.798642158508301,
          4.034178256988525
         ],
         "yaxis": "y2"
        },
        {
         "hovertemplate": "script=src/rdd_fast.py<br>cores=8<br>k=%{x}<br>time=%{y}<extra></extra>",
         "legendgroup": "src/rdd_fast.py",
         "marker": {
          "color": "#00cc96",
          "symbol": "circle"
         },
         "mode": "markers",
         "name": "src/rdd_fast.py",
         "orientation": "v",
         "showlegend": false,
         "type": "scatter",
         "x": [
          10,
          100,
          1000
         ],
         "xaxis": "x3",
         "y": [
          3.867384910583496,
          4.296428680419922,
          4.024558782577515
         ],
         "yaxis": "y3"
        }
       ],
       "layout": {
        "annotations": [
         {
          "font": {},
          "showarrow": false,
          "text": "cores=1",
          "x": 0.15999999999999998,
          "xanchor": "center",
          "xref": "paper",
          "y": 1,
          "yanchor": "bottom",
          "yref": "paper"
         },
         {
          "font": {},
          "showarrow": false,
          "text": "cores=2",
          "x": 0.49999999999999994,
          "xanchor": "center",
          "xref": "paper",
          "y": 1,
          "yanchor": "bottom",
          "yref": "paper"
         },
         {
          "font": {},
          "showarrow": false,
          "text": "cores=8",
          "x": 0.8399999999999999,
          "xanchor": "center",
          "xref": "paper",
          "y": 1,
          "yanchor": "bottom",
          "yref": "paper"
         }
        ],
        "legend": {
         "title": {
          "text": "script"
         },
         "tracegroupgap": 0
        },
        "margin": {
         "t": 60
        },
        "template": {
         "data": {
          "bar": [
           {
            "error_x": {
             "color": "#2a3f5f"
            },
            "error_y": {
             "color": "#2a3f5f"
            },
            "marker": {
             "line": {
              "color": "#E5ECF6",
              "width": 0.5
             }
            },
            "type": "bar"
           }
          ],
          "barpolar": [
           {
            "marker": {
             "line": {
              "color": "#E5ECF6",
              "width": 0.5
             }
            },
            "type": "barpolar"
           }
          ],
          "carpet": [
           {
            "aaxis": {
             "endlinecolor": "#2a3f5f",
             "gridcolor": "white",
             "linecolor": "white",
             "minorgridcolor": "white",
             "startlinecolor": "#2a3f5f"
            },
            "baxis": {
             "endlinecolor": "#2a3f5f",
             "gridcolor": "white",
             "linecolor": "white",
             "minorgridcolor": "white",
             "startlinecolor": "#2a3f5f"
            },
            "type": "carpet"
           }
          ],
          "choropleth": [
           {
            "colorbar": {
             "outlinewidth": 0,
             "ticks": ""
            },
            "type": "choropleth"
           }
          ],
          "contour": [
           {
            "colorbar": {
             "outlinewidth": 0,
             "ticks": ""
            },
            "colorscale": [
             [
              0,
              "#0d0887"
             ],
             [
              0.1111111111111111,
              "#46039f"
             ],
             [
              0.2222222222222222,
              "#7201a8"
             ],
             [
              0.3333333333333333,
              "#9c179e"
             ],
             [
              0.4444444444444444,
              "#bd3786"
             ],
             [
              0.5555555555555556,
              "#d8576b"
             ],
             [
              0.6666666666666666,
              "#ed7953"
             ],
             [
              0.7777777777777778,
              "#fb9f3a"
             ],
             [
              0.8888888888888888,
              "#fdca26"
             ],
             [
              1,
              "#f0f921"
             ]
            ],
            "type": "contour"
           }
          ],
          "contourcarpet": [
           {
            "colorbar": {
             "outlinewidth": 0,
             "ticks": ""
            },
            "type": "contourcarpet"
           }
          ],
          "heatmap": [
           {
            "colorbar": {
             "outlinewidth": 0,
             "ticks": ""
            },
            "colorscale": [
             [
              0,
              "#0d0887"
             ],
             [
              0.1111111111111111,
              "#46039f"
             ],
             [
              0.2222222222222222,
              "#7201a8"
             ],
             [
              0.3333333333333333,
              "#9c179e"
             ],
             [
              0.4444444444444444,
              "#bd3786"
             ],
             [
              0.5555555555555556,
              "#d8576b"
             ],
             [
              0.6666666666666666,
              "#ed7953"
             ],
             [
              0.7777777777777778,
              "#fb9f3a"
             ],
             [
              0.8888888888888888,
              "#fdca26"
             ],
             [
              1,
              "#f0f921"
             ]
            ],
            "type": "heatmap"
           }
          ],
          "heatmapgl": [
           {
            "colorbar": {
             "outlinewidth": 0,
             "ticks": ""
            },
            "colorscale": [
             [
              0,
              "#0d0887"
             ],
             [
              0.1111111111111111,
              "#46039f"
             ],
             [
              0.2222222222222222,
              "#7201a8"
             ],
             [
              0.3333333333333333,
              "#9c179e"
             ],
             [
              0.4444444444444444,
              "#bd3786"
             ],
             [
              0.5555555555555556,
              "#d8576b"
             ],
             [
              0.6666666666666666,
              "#ed7953"
             ],
             [
              0.7777777777777778,
              "#fb9f3a"
             ],
             [
              0.8888888888888888,
              "#fdca26"
             ],
             [
              1,
              "#f0f921"
             ]
            ],
            "type": "heatmapgl"
           }
          ],
          "histogram": [
           {
            "marker": {
             "colorbar": {
              "outlinewidth": 0,
              "ticks": ""
             }
            },
            "type": "histogram"
           }
          ],
          "histogram2d": [
           {
            "colorbar": {
             "outlinewidth": 0,
             "ticks": ""
            },
            "colorscale": [
             [
              0,
              "#0d0887"
             ],
             [
              0.1111111111111111,
              "#46039f"
             ],
             [
              0.2222222222222222,
              "#7201a8"
             ],
             [
              0.3333333333333333,
              "#9c179e"
             ],
             [
              0.4444444444444444,
              "#bd3786"
             ],
             [
              0.5555555555555556,
              "#d8576b"
             ],
             [
              0.6666666666666666,
              "#ed7953"
             ],
             [
              0.7777777777777778,
              "#fb9f3a"
             ],
             [
              0.8888888888888888,
              "#fdca26"
             ],
             [
              1,
              "#f0f921"
             ]
            ],
            "type": "histogram2d"
           }
          ],
          "histogram2dcontour": [
           {
            "colorbar": {
             "outlinewidth": 0,
             "ticks": ""
            },
            "colorscale": [
             [
              0,
              "#0d0887"
             ],
             [
              0.1111111111111111,
              "#46039f"
             ],
             [
              0.2222222222222222,
              "#7201a8"
             ],
             [
              0.3333333333333333,
              "#9c179e"
             ],
             [
              0.4444444444444444,
              "#bd3786"
             ],
             [
              0.5555555555555556,
              "#d8576b"
             ],
             [
              0.6666666666666666,
              "#ed7953"
             ],
             [
              0.7777777777777778,
              "#fb9f3a"
             ],
             [
              0.8888888888888888,
              "#fdca26"
             ],
             [
              1,
              "#f0f921"
             ]
            ],
            "type": "histogram2dcontour"
           }
          ],
          "mesh3d": [
           {
            "colorbar": {
             "outlinewidth": 0,
             "ticks": ""
            },
            "type": "mesh3d"
           }
          ],
          "parcoords": [
           {
            "line": {
             "colorbar": {
              "outlinewidth": 0,
              "ticks": ""
             }
            },
            "type": "parcoords"
           }
          ],
          "pie": [
           {
            "automargin": true,
            "type": "pie"
           }
          ],
          "scatter": [
           {
            "marker": {
             "colorbar": {
              "outlinewidth": 0,
              "ticks": ""
             }
            },
            "type": "scatter"
           }
          ],
          "scatter3d": [
           {
            "line": {
             "colorbar": {
              "outlinewidth": 0,
              "ticks": ""
             }
            },
            "marker": {
             "colorbar": {
              "outlinewidth": 0,
              "ticks": ""
             }
            },
            "type": "scatter3d"
           }
          ],
          "scattercarpet": [
           {
            "marker": {
             "colorbar": {
              "outlinewidth": 0,
              "ticks": ""
             }
            },
            "type": "scattercarpet"
           }
          ],
          "scattergeo": [
           {
            "marker": {
             "colorbar": {
              "outlinewidth": 0,
              "ticks": ""
             }
            },
            "type": "scattergeo"
           }
          ],
          "scattergl": [
           {
            "marker": {
             "colorbar": {
              "outlinewidth": 0,
              "ticks": ""
             }
            },
            "type": "scattergl"
           }
          ],
          "scattermapbox": [
           {
            "marker": {
             "colorbar": {
              "outlinewidth": 0,
              "ticks": ""
             }
            },
            "type": "scattermapbox"
           }
          ],
          "scatterpolar": [
           {
            "marker": {
             "colorbar": {
              "outlinewidth": 0,
              "ticks": ""
             }
            },
            "type": "scatterpolar"
           }
          ],
          "scatterpolargl": [
           {
            "marker": {
             "colorbar": {
              "outlinewidth": 0,
              "ticks": ""
             }
            },
            "type": "scatterpolargl"
           }
          ],
          "scatterternary": [
           {
            "marker": {
             "colorbar": {
              "outlinewidth": 0,
              "ticks": ""
             }
            },
            "type": "scatterternary"
           }
          ],
          "surface": [
           {
            "colorbar": {
             "outlinewidth": 0,
             "ticks": ""
            },
            "colorscale": [
             [
              0,
              "#0d0887"
             ],
             [
              0.1111111111111111,
              "#46039f"
             ],
             [
              0.2222222222222222,
              "#7201a8"
             ],
             [
              0.3333333333333333,
              "#9c179e"
             ],
             [
              0.4444444444444444,
              "#bd3786"
             ],
             [
              0.5555555555555556,
              "#d8576b"
             ],
             [
              0.6666666666666666,
              "#ed7953"
             ],
             [
              0.7777777777777778,
              "#fb9f3a"
             ],
             [
              0.8888888888888888,
              "#fdca26"
             ],
             [
              1,
              "#f0f921"
             ]
            ],
            "type": "surface"
           }
          ],
          "table": [
           {
            "cells": {
             "fill": {
              "color": "#EBF0F8"
             },
             "line": {
              "color": "white"
             }
            },
            "header": {
             "fill": {
              "color": "#C8D4E3"
             },
             "line": {
              "color": "white"
             }
            },
            "type": "table"
           }
          ]
         },
         "layout": {
          "annotationdefaults": {
           "arrowcolor": "#2a3f5f",
           "arrowhead": 0,
           "arrowwidth": 1
          },
          "coloraxis": {
           "colorbar": {
            "outlinewidth": 0,
            "ticks": ""
           }
          },
          "colorscale": {
           "diverging": [
            [
             0,
             "#8e0152"
            ],
            [
             0.1,
             "#c51b7d"
            ],
            [
             0.2,
             "#de77ae"
            ],
            [
             0.3,
             "#f1b6da"
            ],
            [
             0.4,
             "#fde0ef"
            ],
            [
             0.5,
             "#f7f7f7"
            ],
            [
             0.6,
             "#e6f5d0"
            ],
            [
             0.7,
             "#b8e186"
            ],
            [
             0.8,
             "#7fbc41"
            ],
            [
             0.9,
             "#4d9221"
            ],
            [
             1,
             "#276419"
            ]
           ],
           "sequential": [
            [
             0,
             "#0d0887"
            ],
            [
             0.1111111111111111,
             "#46039f"
            ],
            [
             0.2222222222222222,
             "#7201a8"
            ],
            [
             0.3333333333333333,
             "#9c179e"
            ],
            [
             0.4444444444444444,
             "#bd3786"
            ],
            [
             0.5555555555555556,
             "#d8576b"
            ],
            [
             0.6666666666666666,
             "#ed7953"
            ],
            [
             0.7777777777777778,
             "#fb9f3a"
            ],
            [
             0.8888888888888888,
             "#fdca26"
            ],
            [
             1,
             "#f0f921"
            ]
           ],
           "sequentialminus": [
            [
             0,
             "#0d0887"
            ],
            [
             0.1111111111111111,
             "#46039f"
            ],
            [
             0.2222222222222222,
             "#7201a8"
            ],
            [
             0.3333333333333333,
             "#9c179e"
            ],
            [
             0.4444444444444444,
             "#bd3786"
            ],
            [
             0.5555555555555556,
             "#d8576b"
            ],
            [
             0.6666666666666666,
             "#ed7953"
            ],
            [
             0.7777777777777778,
             "#fb9f3a"
            ],
            [
             0.8888888888888888,
             "#fdca26"
            ],
            [
             1,
             "#f0f921"
            ]
           ]
          },
          "colorway": [
           "#636efa",
           "#EF553B",
           "#00cc96",
           "#ab63fa",
           "#FFA15A",
           "#19d3f3",
           "#FF6692",
           "#B6E880",
           "#FF97FF",
           "#FECB52"
          ],
          "font": {
           "color": "#2a3f5f"
          },
          "geo": {
           "bgcolor": "white",
           "lakecolor": "white",
           "landcolor": "#E5ECF6",
           "showlakes": true,
           "showland": true,
           "subunitcolor": "white"
          },
          "hoverlabel": {
           "align": "left"
          },
          "hovermode": "closest",
          "mapbox": {
           "style": "light"
          },
          "paper_bgcolor": "white",
          "plot_bgcolor": "#E5ECF6",
          "polar": {
           "angularaxis": {
            "gridcolor": "white",
            "linecolor": "white",
            "ticks": ""
           },
           "bgcolor": "#E5ECF6",
           "radialaxis": {
            "gridcolor": "white",
            "linecolor": "white",
            "ticks": ""
           }
          },
          "scene": {
           "xaxis": {
            "backgroundcolor": "#E5ECF6",
            "gridcolor": "white",
            "gridwidth": 2,
            "linecolor": "white",
            "showbackground": true,
            "ticks": "",
            "zerolinecolor": "white"
           },
           "yaxis": {
            "backgroundcolor": "#E5ECF6",
            "gridcolor": "white",
            "gridwidth": 2,
            "linecolor": "white",
            "showbackground": true,
            "ticks": "",
            "zerolinecolor": "white"
           },
           "zaxis": {
            "backgroundcolor": "#E5ECF6",
            "gridcolor": "white",
            "gridwidth": 2,
            "linecolor": "white",
            "showbackground": true,
            "ticks": "",
            "zerolinecolor": "white"
           }
          },
          "shapedefaults": {
           "line": {
            "color": "#2a3f5f"
           }
          },
          "ternary": {
           "aaxis": {
            "gridcolor": "white",
            "linecolor": "white",
            "ticks": ""
           },
           "baxis": {
            "gridcolor": "white",
            "linecolor": "white",
            "ticks": ""
           },
           "bgcolor": "#E5ECF6",
           "caxis": {
            "gridcolor": "white",
            "linecolor": "white",
            "ticks": ""
           }
          },
          "title": {
           "x": 0.05
          },
          "xaxis": {
           "automargin": true,
           "gridcolor": "white",
           "linecolor": "white",
           "ticks": "",
           "title": {
            "standoff": 15
           },
           "zerolinecolor": "white",
           "zerolinewidth": 2
          },
          "yaxis": {
           "automargin": true,
           "gridcolor": "white",
           "linecolor": "white",
           "ticks": "",
           "title": {
            "standoff": 15
           },
           "zerolinecolor": "white",
           "zerolinewidth": 2
          }
         }
        },
        "title": {
         "text": "Effect of 'number of cores' x 'k' x 'algorithm' in Time for the collins dataset"
        },
        "xaxis": {
         "anchor": "y",
         "domain": [
          0,
          0.31999999999999995
         ],
         "title": {
          "text": "k"
         },
         "type": "log"
        },
        "xaxis2": {
         "anchor": "y2",
         "domain": [
          0.33999999999999997,
          0.6599999999999999
         ],
         "matches": "x",
         "title": {
          "text": "k"
         },
         "type": "log"
        },
        "xaxis3": {
         "anchor": "y3",
         "domain": [
          0.6799999999999999,
          0.9999999999999999
         ],
         "matches": "x",
         "title": {
          "text": "k"
         },
         "type": "log"
        },
        "yaxis": {
         "anchor": "x",
         "domain": [
          0,
          1
         ],
         "title": {
          "text": "time"
         }
        },
        "yaxis2": {
         "anchor": "x2",
         "domain": [
          0,
          1
         ],
         "matches": "y",
         "showticklabels": false
        },
        "yaxis3": {
         "anchor": "x3",
         "domain": [
          0,
          1
         ],
         "matches": "y",
         "showticklabels": false
        }
       }
      },
      "text/html": [
       "<div>                            <div id=\"7d3e6359-8479-43d2-9bf3-e945f0a61f7c\" class=\"plotly-graph-div\" style=\"height:525px; width:100%;\"></div>            <script type=\"text/javascript\">                require([\"plotly\"], function(Plotly) {                    window.PLOTLYENV=window.PLOTLYENV || {};                                    if (document.getElementById(\"7d3e6359-8479-43d2-9bf3-e945f0a61f7c\")) {                    Plotly.newPlot(                        \"7d3e6359-8479-43d2-9bf3-e945f0a61f7c\",                        [{\"hovertemplate\": \"script=src/graphframe_bs.py<br>cores=1<br>k=%{x}<br>time=%{y}<extra></extra>\", \"legendgroup\": \"src/graphframe_bs.py\", \"marker\": {\"color\": \"#636efa\", \"symbol\": \"circle\"}, \"mode\": \"markers\", \"name\": \"src/graphframe_bs.py\", \"orientation\": \"v\", \"showlegend\": true, \"type\": \"scatter\", \"x\": [10, 100, 1000], \"xaxis\": \"x\", \"y\": [30.58803701400757, 31.38023281097412, 29.2769193649292], \"yaxis\": \"y\"}, {\"hovertemplate\": \"script=src/graphframe_bs.py<br>cores=2<br>k=%{x}<br>time=%{y}<extra></extra>\", \"legendgroup\": \"src/graphframe_bs.py\", \"marker\": {\"color\": \"#636efa\", \"symbol\": \"circle\"}, \"mode\": \"markers\", \"name\": \"src/graphframe_bs.py\", \"orientation\": \"v\", \"showlegend\": false, \"type\": \"scatter\", \"x\": [10, 100, 1000], \"xaxis\": \"x2\", \"y\": [24.48428463935852, 22.833560705184937, 19.599233150482178], \"yaxis\": \"y2\"}, {\"hovertemplate\": \"script=src/graphframe_bs.py<br>cores=8<br>k=%{x}<br>time=%{y}<extra></extra>\", \"legendgroup\": \"src/graphframe_bs.py\", \"marker\": {\"color\": \"#636efa\", \"symbol\": \"circle\"}, \"mode\": \"markers\", \"name\": \"src/graphframe_bs.py\", \"orientation\": \"v\", \"showlegend\": false, \"type\": \"scatter\", \"x\": [10, 100, 1000], \"xaxis\": \"x3\", \"y\": [18.67221188545227, 18.90887260437012, 18.51396489143372], \"yaxis\": \"y3\"}, {\"hovertemplate\": \"script=src/rdd_bs.py<br>cores=1<br>k=%{x}<br>time=%{y}<extra></extra>\", \"legendgroup\": \"src/rdd_bs.py\", \"marker\": {\"color\": \"#EF553B\", \"symbol\": \"circle\"}, \"mode\": \"markers\", \"name\": \"src/rdd_bs.py\", \"orientation\": \"v\", \"showlegend\": true, \"type\": \"scatter\", \"x\": [10, 100, 1000], \"xaxis\": \"x\", \"y\": [9.219404935836792, 8.947774410247803, 9.352253675460815], \"yaxis\": \"y\"}, {\"hovertemplate\": \"script=src/rdd_bs.py<br>cores=2<br>k=%{x}<br>time=%{y}<extra></extra>\", \"legendgroup\": \"src/rdd_bs.py\", \"marker\": {\"color\": \"#EF553B\", \"symbol\": \"circle\"}, \"mode\": \"markers\", \"name\": \"src/rdd_bs.py\", \"orientation\": \"v\", \"showlegend\": false, \"type\": \"scatter\", \"x\": [10, 100, 1000], \"xaxis\": \"x2\", \"y\": [9.313251495361328, 9.166396856307983, 9.044026851654053], \"yaxis\": \"y2\"}, {\"hovertemplate\": \"script=src/rdd_bs.py<br>cores=8<br>k=%{x}<br>time=%{y}<extra></extra>\", \"legendgroup\": \"src/rdd_bs.py\", \"marker\": {\"color\": \"#EF553B\", \"symbol\": \"circle\"}, \"mode\": \"markers\", \"name\": \"src/rdd_bs.py\", \"orientation\": \"v\", \"showlegend\": false, \"type\": \"scatter\", \"x\": [10, 100, 1000], \"xaxis\": \"x3\", \"y\": [9.171149730682371, 9.086631774902344, 9.210607528686523], \"yaxis\": \"y3\"}, {\"hovertemplate\": \"script=src/rdd_fast.py<br>cores=1<br>k=%{x}<br>time=%{y}<extra></extra>\", \"legendgroup\": \"src/rdd_fast.py\", \"marker\": {\"color\": \"#00cc96\", \"symbol\": \"circle\"}, \"mode\": \"markers\", \"name\": \"src/rdd_fast.py\", \"orientation\": \"v\", \"showlegend\": true, \"type\": \"scatter\", \"x\": [10, 100, 1000], \"xaxis\": \"x\", \"y\": [4.090131998062134, 4.0312323570251465, 4.045019626617432], \"yaxis\": \"y\"}, {\"hovertemplate\": \"script=src/rdd_fast.py<br>cores=2<br>k=%{x}<br>time=%{y}<extra></extra>\", \"legendgroup\": \"src/rdd_fast.py\", \"marker\": {\"color\": \"#00cc96\", \"symbol\": \"circle\"}, \"mode\": \"markers\", \"name\": \"src/rdd_fast.py\", \"orientation\": \"v\", \"showlegend\": false, \"type\": \"scatter\", \"x\": [10, 100, 1000], \"xaxis\": \"x2\", \"y\": [4.059403419494629, 3.798642158508301, 4.034178256988525], \"yaxis\": \"y2\"}, {\"hovertemplate\": \"script=src/rdd_fast.py<br>cores=8<br>k=%{x}<br>time=%{y}<extra></extra>\", \"legendgroup\": \"src/rdd_fast.py\", \"marker\": {\"color\": \"#00cc96\", \"symbol\": \"circle\"}, \"mode\": \"markers\", \"name\": \"src/rdd_fast.py\", \"orientation\": \"v\", \"showlegend\": false, \"type\": \"scatter\", \"x\": [10, 100, 1000], \"xaxis\": \"x3\", \"y\": [3.867384910583496, 4.296428680419922, 4.024558782577515], \"yaxis\": \"y3\"}],                        {\"annotations\": [{\"font\": {}, \"showarrow\": false, \"text\": \"cores=1\", \"x\": 0.15999999999999998, \"xanchor\": \"center\", \"xref\": \"paper\", \"y\": 1.0, \"yanchor\": \"bottom\", \"yref\": \"paper\"}, {\"font\": {}, \"showarrow\": false, \"text\": \"cores=2\", \"x\": 0.49999999999999994, \"xanchor\": \"center\", \"xref\": \"paper\", \"y\": 1.0, \"yanchor\": \"bottom\", \"yref\": \"paper\"}, {\"font\": {}, \"showarrow\": false, \"text\": \"cores=8\", \"x\": 0.8399999999999999, \"xanchor\": \"center\", \"xref\": \"paper\", \"y\": 1.0, \"yanchor\": \"bottom\", \"yref\": \"paper\"}], \"legend\": {\"title\": {\"text\": \"script\"}, \"tracegroupgap\": 0}, \"margin\": {\"t\": 60}, \"template\": {\"data\": {\"bar\": [{\"error_x\": {\"color\": \"#2a3f5f\"}, \"error_y\": {\"color\": \"#2a3f5f\"}, \"marker\": {\"line\": {\"color\": \"#E5ECF6\", \"width\": 0.5}}, \"type\": \"bar\"}], \"barpolar\": [{\"marker\": {\"line\": {\"color\": \"#E5ECF6\", \"width\": 0.5}}, \"type\": \"barpolar\"}], \"carpet\": [{\"aaxis\": {\"endlinecolor\": \"#2a3f5f\", \"gridcolor\": \"white\", \"linecolor\": \"white\", \"minorgridcolor\": \"white\", \"startlinecolor\": \"#2a3f5f\"}, \"baxis\": {\"endlinecolor\": \"#2a3f5f\", \"gridcolor\": \"white\", \"linecolor\": \"white\", \"minorgridcolor\": \"white\", \"startlinecolor\": \"#2a3f5f\"}, \"type\": \"carpet\"}], \"choropleth\": [{\"colorbar\": {\"outlinewidth\": 0, \"ticks\": \"\"}, \"type\": \"choropleth\"}], \"contour\": [{\"colorbar\": {\"outlinewidth\": 0, \"ticks\": \"\"}, \"colorscale\": [[0.0, \"#0d0887\"], [0.1111111111111111, \"#46039f\"], [0.2222222222222222, \"#7201a8\"], [0.3333333333333333, \"#9c179e\"], [0.4444444444444444, \"#bd3786\"], [0.5555555555555556, \"#d8576b\"], [0.6666666666666666, \"#ed7953\"], [0.7777777777777778, \"#fb9f3a\"], [0.8888888888888888, \"#fdca26\"], [1.0, \"#f0f921\"]], \"type\": \"contour\"}], \"contourcarpet\": [{\"colorbar\": {\"outlinewidth\": 0, \"ticks\": \"\"}, \"type\": \"contourcarpet\"}], \"heatmap\": [{\"colorbar\": {\"outlinewidth\": 0, \"ticks\": \"\"}, \"colorscale\": [[0.0, \"#0d0887\"], [0.1111111111111111, \"#46039f\"], [0.2222222222222222, \"#7201a8\"], [0.3333333333333333, \"#9c179e\"], [0.4444444444444444, \"#bd3786\"], [0.5555555555555556, \"#d8576b\"], [0.6666666666666666, \"#ed7953\"], [0.7777777777777778, \"#fb9f3a\"], [0.8888888888888888, \"#fdca26\"], [1.0, \"#f0f921\"]], \"type\": \"heatmap\"}], \"heatmapgl\": [{\"colorbar\": {\"outlinewidth\": 0, \"ticks\": \"\"}, \"colorscale\": [[0.0, \"#0d0887\"], [0.1111111111111111, \"#46039f\"], [0.2222222222222222, \"#7201a8\"], [0.3333333333333333, \"#9c179e\"], [0.4444444444444444, \"#bd3786\"], [0.5555555555555556, \"#d8576b\"], [0.6666666666666666, \"#ed7953\"], [0.7777777777777778, \"#fb9f3a\"], [0.8888888888888888, \"#fdca26\"], [1.0, \"#f0f921\"]], \"type\": \"heatmapgl\"}], \"histogram\": [{\"marker\": {\"colorbar\": {\"outlinewidth\": 0, \"ticks\": \"\"}}, \"type\": \"histogram\"}], \"histogram2d\": [{\"colorbar\": {\"outlinewidth\": 0, \"ticks\": \"\"}, \"colorscale\": [[0.0, \"#0d0887\"], [0.1111111111111111, \"#46039f\"], [0.2222222222222222, \"#7201a8\"], [0.3333333333333333, \"#9c179e\"], [0.4444444444444444, \"#bd3786\"], [0.5555555555555556, \"#d8576b\"], [0.6666666666666666, \"#ed7953\"], [0.7777777777777778, \"#fb9f3a\"], [0.8888888888888888, \"#fdca26\"], [1.0, \"#f0f921\"]], \"type\": \"histogram2d\"}], \"histogram2dcontour\": [{\"colorbar\": {\"outlinewidth\": 0, \"ticks\": \"\"}, \"colorscale\": [[0.0, \"#0d0887\"], [0.1111111111111111, \"#46039f\"], [0.2222222222222222, \"#7201a8\"], [0.3333333333333333, \"#9c179e\"], [0.4444444444444444, \"#bd3786\"], [0.5555555555555556, \"#d8576b\"], [0.6666666666666666, \"#ed7953\"], [0.7777777777777778, \"#fb9f3a\"], [0.8888888888888888, \"#fdca26\"], [1.0, \"#f0f921\"]], \"type\": \"histogram2dcontour\"}], \"mesh3d\": [{\"colorbar\": {\"outlinewidth\": 0, \"ticks\": \"\"}, \"type\": \"mesh3d\"}], \"parcoords\": [{\"line\": {\"colorbar\": {\"outlinewidth\": 0, \"ticks\": \"\"}}, \"type\": \"parcoords\"}], \"pie\": [{\"automargin\": true, \"type\": \"pie\"}], \"scatter\": [{\"marker\": {\"colorbar\": {\"outlinewidth\": 0, \"ticks\": \"\"}}, \"type\": \"scatter\"}], \"scatter3d\": [{\"line\": {\"colorbar\": {\"outlinewidth\": 0, \"ticks\": \"\"}}, \"marker\": {\"colorbar\": {\"outlinewidth\": 0, \"ticks\": \"\"}}, \"type\": \"scatter3d\"}], \"scattercarpet\": [{\"marker\": {\"colorbar\": {\"outlinewidth\": 0, \"ticks\": \"\"}}, \"type\": \"scattercarpet\"}], \"scattergeo\": [{\"marker\": {\"colorbar\": {\"outlinewidth\": 0, \"ticks\": \"\"}}, \"type\": \"scattergeo\"}], \"scattergl\": [{\"marker\": {\"colorbar\": {\"outlinewidth\": 0, \"ticks\": \"\"}}, \"type\": \"scattergl\"}], \"scattermapbox\": [{\"marker\": {\"colorbar\": {\"outlinewidth\": 0, \"ticks\": \"\"}}, \"type\": \"scattermapbox\"}], \"scatterpolar\": [{\"marker\": {\"colorbar\": {\"outlinewidth\": 0, \"ticks\": \"\"}}, \"type\": \"scatterpolar\"}], \"scatterpolargl\": [{\"marker\": {\"colorbar\": {\"outlinewidth\": 0, \"ticks\": \"\"}}, \"type\": \"scatterpolargl\"}], \"scatterternary\": [{\"marker\": {\"colorbar\": {\"outlinewidth\": 0, \"ticks\": \"\"}}, \"type\": \"scatterternary\"}], \"surface\": [{\"colorbar\": {\"outlinewidth\": 0, \"ticks\": \"\"}, \"colorscale\": [[0.0, \"#0d0887\"], [0.1111111111111111, \"#46039f\"], [0.2222222222222222, \"#7201a8\"], [0.3333333333333333, \"#9c179e\"], [0.4444444444444444, \"#bd3786\"], [0.5555555555555556, \"#d8576b\"], [0.6666666666666666, \"#ed7953\"], [0.7777777777777778, \"#fb9f3a\"], [0.8888888888888888, \"#fdca26\"], [1.0, \"#f0f921\"]], \"type\": \"surface\"}], \"table\": [{\"cells\": {\"fill\": {\"color\": \"#EBF0F8\"}, \"line\": {\"color\": \"white\"}}, \"header\": {\"fill\": {\"color\": \"#C8D4E3\"}, \"line\": {\"color\": \"white\"}}, \"type\": \"table\"}]}, \"layout\": {\"annotationdefaults\": {\"arrowcolor\": \"#2a3f5f\", \"arrowhead\": 0, \"arrowwidth\": 1}, \"coloraxis\": {\"colorbar\": {\"outlinewidth\": 0, \"ticks\": \"\"}}, \"colorscale\": {\"diverging\": [[0, \"#8e0152\"], [0.1, \"#c51b7d\"], [0.2, \"#de77ae\"], [0.3, \"#f1b6da\"], [0.4, \"#fde0ef\"], [0.5, \"#f7f7f7\"], [0.6, \"#e6f5d0\"], [0.7, \"#b8e186\"], [0.8, \"#7fbc41\"], [0.9, \"#4d9221\"], [1, \"#276419\"]], \"sequential\": [[0.0, \"#0d0887\"], [0.1111111111111111, \"#46039f\"], [0.2222222222222222, \"#7201a8\"], [0.3333333333333333, \"#9c179e\"], [0.4444444444444444, \"#bd3786\"], [0.5555555555555556, \"#d8576b\"], [0.6666666666666666, \"#ed7953\"], [0.7777777777777778, \"#fb9f3a\"], [0.8888888888888888, \"#fdca26\"], [1.0, \"#f0f921\"]], \"sequentialminus\": [[0.0, \"#0d0887\"], [0.1111111111111111, \"#46039f\"], [0.2222222222222222, \"#7201a8\"], [0.3333333333333333, \"#9c179e\"], [0.4444444444444444, \"#bd3786\"], [0.5555555555555556, \"#d8576b\"], [0.6666666666666666, \"#ed7953\"], [0.7777777777777778, \"#fb9f3a\"], [0.8888888888888888, \"#fdca26\"], [1.0, \"#f0f921\"]]}, \"colorway\": [\"#636efa\", \"#EF553B\", \"#00cc96\", \"#ab63fa\", \"#FFA15A\", \"#19d3f3\", \"#FF6692\", \"#B6E880\", \"#FF97FF\", \"#FECB52\"], \"font\": {\"color\": \"#2a3f5f\"}, \"geo\": {\"bgcolor\": \"white\", \"lakecolor\": \"white\", \"landcolor\": \"#E5ECF6\", \"showlakes\": true, \"showland\": true, \"subunitcolor\": \"white\"}, \"hoverlabel\": {\"align\": \"left\"}, \"hovermode\": \"closest\", \"mapbox\": {\"style\": \"light\"}, \"paper_bgcolor\": \"white\", \"plot_bgcolor\": \"#E5ECF6\", \"polar\": {\"angularaxis\": {\"gridcolor\": \"white\", \"linecolor\": \"white\", \"ticks\": \"\"}, \"bgcolor\": \"#E5ECF6\", \"radialaxis\": {\"gridcolor\": \"white\", \"linecolor\": \"white\", \"ticks\": \"\"}}, \"scene\": {\"xaxis\": {\"backgroundcolor\": \"#E5ECF6\", \"gridcolor\": \"white\", \"gridwidth\": 2, \"linecolor\": \"white\", \"showbackground\": true, \"ticks\": \"\", \"zerolinecolor\": \"white\"}, \"yaxis\": {\"backgroundcolor\": \"#E5ECF6\", \"gridcolor\": \"white\", \"gridwidth\": 2, \"linecolor\": \"white\", \"showbackground\": true, \"ticks\": \"\", \"zerolinecolor\": \"white\"}, \"zaxis\": {\"backgroundcolor\": \"#E5ECF6\", \"gridcolor\": \"white\", \"gridwidth\": 2, \"linecolor\": \"white\", \"showbackground\": true, \"ticks\": \"\", \"zerolinecolor\": \"white\"}}, \"shapedefaults\": {\"line\": {\"color\": \"#2a3f5f\"}}, \"ternary\": {\"aaxis\": {\"gridcolor\": \"white\", \"linecolor\": \"white\", \"ticks\": \"\"}, \"baxis\": {\"gridcolor\": \"white\", \"linecolor\": \"white\", \"ticks\": \"\"}, \"bgcolor\": \"#E5ECF6\", \"caxis\": {\"gridcolor\": \"white\", \"linecolor\": \"white\", \"ticks\": \"\"}}, \"title\": {\"x\": 0.05}, \"xaxis\": {\"automargin\": true, \"gridcolor\": \"white\", \"linecolor\": \"white\", \"ticks\": \"\", \"title\": {\"standoff\": 15}, \"zerolinecolor\": \"white\", \"zerolinewidth\": 2}, \"yaxis\": {\"automargin\": true, \"gridcolor\": \"white\", \"linecolor\": \"white\", \"ticks\": \"\", \"title\": {\"standoff\": 15}, \"zerolinecolor\": \"white\", \"zerolinewidth\": 2}}}, \"title\": {\"text\": \"Effect of 'number of cores' x 'k' x 'algorithm' in Time for the collins dataset\"}, \"xaxis\": {\"anchor\": \"y\", \"domain\": [0.0, 0.31999999999999995], \"title\": {\"text\": \"k\"}, \"type\": \"log\"}, \"xaxis2\": {\"anchor\": \"y2\", \"domain\": [0.33999999999999997, 0.6599999999999999], \"matches\": \"x\", \"title\": {\"text\": \"k\"}, \"type\": \"log\"}, \"xaxis3\": {\"anchor\": \"y3\", \"domain\": [0.6799999999999999, 0.9999999999999999], \"matches\": \"x\", \"title\": {\"text\": \"k\"}, \"type\": \"log\"}, \"yaxis\": {\"anchor\": \"x\", \"domain\": [0.0, 1.0], \"title\": {\"text\": \"time\"}}, \"yaxis2\": {\"anchor\": \"x2\", \"domain\": [0.0, 1.0], \"matches\": \"y\", \"showticklabels\": false}, \"yaxis3\": {\"anchor\": \"x3\", \"domain\": [0.0, 1.0], \"matches\": \"y\", \"showticklabels\": false}},                        {\"responsive\": true}                    ).then(function(){\n",
       "                            \n",
       "var gd = document.getElementById('7d3e6359-8479-43d2-9bf3-e945f0a61f7c');\n",
       "var x = new MutationObserver(function (mutations, observer) {{\n",
       "        var display = window.getComputedStyle(gd).display;\n",
       "        if (!display || display === 'none') {{\n",
       "            console.log([gd, 'removed!']);\n",
       "            Plotly.purge(gd);\n",
       "            observer.disconnect();\n",
       "        }}\n",
       "}});\n",
       "\n",
       "// Listen for the removal of the full notebook cells\n",
       "var notebookContainer = gd.closest('#notebook-container');\n",
       "if (notebookContainer) {{\n",
       "    x.observe(notebookContainer, {childList: true});\n",
       "}}\n",
       "\n",
       "// Listen for the clearing of the current output cell\n",
       "var outputEl = gd.closest('.output');\n",
       "if (outputEl) {{\n",
       "    x.observe(outputEl, {childList: true});\n",
       "}}\n",
       "\n",
       "                        })                };                });            </script>        </div>"
      ]
     },
     "metadata": {},
     "output_type": "display_data"
    }
   ],
   "source": [
    "fig = px.scatter(experiments_df,\n",
    "                 x=\"k\",\n",
    "                 y=\"time\",\n",
    "                 log_x=True,\n",
    "                 color=\"script\",\n",
    "                 facet_col=\"cores\")\n",
    "\n",
    "fig.update_layout(\n",
    "    title=f\"Effect of 'number of cores' x 'k' x 'algorithm' in Time for the collins dataset\",\n",
    ")\n",
    "    \n",
    "fig.show()"
   ]
  }
 ],
 "metadata": {
  "kernelspec": {
   "display_name": "Python 3",
   "language": "python",
   "name": "python3"
  },
  "language_info": {
   "codemirror_mode": {
    "name": "ipython",
    "version": 3
   },
   "file_extension": ".py",
   "mimetype": "text/x-python",
   "name": "python",
   "nbconvert_exporter": "python",
   "pygments_lexer": "ipython3",
   "version": "3.7.9"
  },
  "toc": {
   "base_numbering": 1,
   "nav_menu": {},
   "number_sections": true,
   "sideBar": true,
   "skip_h1_title": false,
   "title_cell": "Table of Contents",
   "title_sidebar": "Contents",
   "toc_cell": false,
   "toc_position": {},
   "toc_section_display": true,
   "toc_window_display": true
  }
 },
 "nbformat": 4,
 "nbformat_minor": 5
}
